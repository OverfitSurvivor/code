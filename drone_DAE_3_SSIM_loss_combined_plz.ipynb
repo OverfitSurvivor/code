{
  "cells": [
    {
      "cell_type": "markdown",
      "metadata": {
        "id": "view-in-github",
        "colab_type": "text"
      },
      "source": [
        "<a href=\"https://colab.research.google.com/github/OverfitSurvivor/code/blob/main/drone_DAE_3_SSIM_loss_combined_plz.ipynb\" target=\"_parent\"><img src=\"https://colab.research.google.com/assets/colab-badge.svg\" alt=\"Open In Colab\"/></a>"
      ]
    },
    {
      "cell_type": "code",
      "execution_count": null,
      "metadata": {
        "colab": {
          "base_uri": "https://localhost:8080/"
        },
        "id": "FaVeakiafwSP",
        "outputId": "cc2a10bf-3604-4871-fea2-f23a70e04266"
      },
      "outputs": [
        {
          "output_type": "stream",
          "name": "stdout",
          "text": [
            "압축 해제 완료: /content/ICSV31AIChallengeDataset\n"
          ]
        }
      ],
      "source": [
        "import os\n",
        "import zipfile\n",
        "\n",
        "zip_path = \"/content/drive/MyDrive/ICSV31AIChallengeDataset.zip\"  # 업로드한 ZIP 파일 경로\n",
        "extract_path = \"/content/ICSV31AIChallengeDataset\"  # 압축을 풀 폴더 경로\n",
        "\n",
        "# 폴더가 없으면 생성\n",
        "os.makedirs(extract_path, exist_ok=True)\n",
        "\n",
        "# 압축 해제\n",
        "with zipfile.ZipFile(zip_path, \"r\") as zip_ref:\n",
        "    zip_ref.extractall(extract_path)\n",
        "\n",
        "print(\"압축 해제 완료:\", extract_path)"
      ]
    },
    {
      "cell_type": "code",
      "source": [
        "from google.colab import drive\n",
        "drive.mount('/content/drive')"
      ],
      "metadata": {
        "colab": {
          "base_uri": "https://localhost:8080/"
        },
        "id": "D0A5zWRFi_QR",
        "outputId": "01868a11-45e7-4534-89c3-e546b3a97671"
      },
      "execution_count": null,
      "outputs": [
        {
          "output_type": "stream",
          "name": "stdout",
          "text": [
            "Mounted at /content/drive\n"
          ]
        }
      ]
    },
    {
      "cell_type": "markdown",
      "metadata": {
        "id": "fE-K2Pl0PbbQ"
      },
      "source": [
        "## 모듈 불러오기"
      ]
    },
    {
      "cell_type": "code",
      "execution_count": null,
      "metadata": {
        "id": "AcxPt6b6AAZy"
      },
      "outputs": [],
      "source": [
        "import torch\n",
        "import torch.nn as nn\n",
        "import torch.nn.functional as F\n",
        "import argparse, os\n",
        "from tqdm import tqdm\n",
        "from sklearn.metrics import precision_recall_curve, auc\n",
        "import numpy as np\n",
        "import matplotlib.pyplot as plt\n",
        "from pytorch_msssim import ssim\n",
        "import pandas as pd\n",
        "import torchaudio\n",
        "from torch.utils.data import Dataset, DataLoader\n",
        "from typing import List, Tuple"
      ]
    },
    {
      "cell_type": "markdown",
      "metadata": {
        "id": "421dhcInPX1n"
      },
      "source": [
        "## 라벨링 및 데이터셋 로더\n",
        "+ global scaling STFT 적용"
      ]
    },
    {
      "cell_type": "code",
      "source": [
        "#######################\n",
        "# 1. Utils\n",
        "#######################\n",
        "def read_csv(file_path: str) -> List:\n",
        "    with open(file_path, \"r\") as f:\n",
        "        reader = csv.reader(f)\n",
        "        return list(reader)\n",
        "\n",
        "def save_csv(save_data: List[Any], save_file_path: str) -> None:\n",
        "    with open(save_file_path, \"w\", newline=\"\") as f:\n",
        "        writer = csv.writer(f, lineterminator=\"\\n\")\n",
        "        writer.writerows(save_data)\n",
        "\n",
        "def get_anomaly_label(file_path: str) -> int:\n",
        "    file_name = os.path.basename(file_path)\n",
        "    train_mode = file_name.split(\"_\")[0]\n",
        "    if train_mode == \"test\":\n",
        "        return -1\n",
        "    elif \"normal\" in file_name:\n",
        "        return 0\n",
        "    else:\n",
        "        return 1\n",
        "\n",
        "def get_drone_label(file_path: str) -> int:\n",
        "    file_name = os.path.basename(file_path)\n",
        "    drone_mode = file_name.split(\"_\")[1]\n",
        "    if drone_mode == \"A\":\n",
        "        return 0\n",
        "    elif drone_mode == \"B\":\n",
        "        return 1\n",
        "    elif drone_mode == \"C\":\n",
        "        return 2\n",
        "    else:\n",
        "        return -1\n",
        "\n",
        "def get_direction_label(file_path: str) -> int:\n",
        "    file_name = os.path.basename(file_path)\n",
        "    direction_mode = file_name.split(\"_\")[2]\n",
        "    if direction_mode == \"Back\":\n",
        "        return 0\n",
        "    elif direction_mode == \"Front\":\n",
        "        return 1\n",
        "    elif direction_mode == \"Left\":\n",
        "        return 2\n",
        "    elif direction_mode == \"Right\":\n",
        "        return 3\n",
        "    elif direction_mode == \"Clockwise\":\n",
        "        return 4\n",
        "    elif direction_mode == \"CounterClockwise\":\n",
        "        return 5\n",
        "    else:\n",
        "        return -1"
      ],
      "metadata": {
        "id": "bHs-4FinYIFu"
      },
      "execution_count": null,
      "outputs": []
    },
    {
      "cell_type": "code",
      "execution_count": null,
      "metadata": {
        "id": "MAatqFKi_-BY"
      },
      "outputs": [],
      "source": [
        "#######################\n",
        "# 2. Feature Extraction & Augmentation\n",
        "#######################\n",
        "# 계산된 전역 평균과 표준편차\n",
        "GLOBAL_MEAN =  -6.191081653188225\n",
        "GLOBAL_STD = 12.042716979980469\n",
        "\n",
        "def wav_to_log_stft(\n",
        "    wav_path: str,\n",
        "    sr: int,\n",
        "    n_fft: int,\n",
        "    win_length: int,\n",
        "    hop_length: int,\n",
        "    power: float,\n",
        ") -> torch.Tensor:\n",
        "    \"\"\"\n",
        "    WAV 파일을 STFT 기반 로그 스펙트럼으로 변환.\n",
        "    - torchaudio.transforms.Spectrogram로 STFT 계산\n",
        "    - AmplitudeToDB로 로그 변환 후 global standard scaling 적용 **\n",
        "    \"\"\"\n",
        "    stft_transform = torchaudio.transforms.Spectrogram(\n",
        "        n_fft=n_fft,\n",
        "        win_length=win_length,\n",
        "        hop_length=hop_length,\n",
        "        power=power\n",
        "    )\n",
        "    wav_data, _ = torchaudio.load(wav_path)\n",
        "    spec = stft_transform(wav_data)\n",
        "    amp_to_db = torchaudio.transforms.AmplitudeToDB()\n",
        "    log_spec = amp_to_db(spec)\n",
        "\n",
        "    # 전체 데이터셋의 평균과 표준편차로 정규화 적용\n",
        "    log_spec = (log_spec - GLOBAL_MEAN) / (GLOBAL_STD + 1e-9)\n",
        "    return log_spec\n",
        "\n",
        "\n",
        "def augment_spec(spec: torch.Tensor) -> torch.Tensor:\n",
        "    max_shift = int(spec.shape[-1] * 0.1)\n",
        "    shift = torch.randint(-max_shift, max_shift + 1, (1,)).item()\n",
        "    spec = torch.roll(spec, shifts=shift, dims=-1)\n",
        "    time_mask_param = max(1, int(spec.shape[-1] * 0.05))\n",
        "    time_mask = torchaudio.transforms.TimeMasking(time_mask_param=time_mask_param)\n",
        "    spec = time_mask(spec)\n",
        "    freq_mask_param = max(1, int(spec.shape[-2] * 0.05))\n",
        "    freq_mask = torchaudio.transforms.FrequencyMasking(freq_mask_param=freq_mask_param)\n",
        "    spec = freq_mask(spec)\n",
        "    return spec\n",
        "\n",
        "#######################\n",
        "# 3. Dataset\n",
        "#######################\n",
        "class BaselineDataLoader(Dataset):\n",
        "    def __init__(\n",
        "        self,\n",
        "        file_list: List[str],\n",
        "        sr: int,\n",
        "        n_fft: int,\n",
        "        win_length: int,\n",
        "        hop_length: int,\n",
        "        power: float,\n",
        "        augment: bool = False\n",
        "    ) -> None:\n",
        "        self.file_list = file_list\n",
        "        self.sr = sr\n",
        "        self.n_fft = n_fft\n",
        "        self.win_length = win_length\n",
        "        self.hop_length = hop_length\n",
        "        self.power = power\n",
        "        self.augment = augment\n",
        "\n",
        "    def __len__(self) -> int:\n",
        "        return len(self.file_list)\n",
        "\n",
        "    def __getitem__(self, idx: int) -> Tuple[torch.Tensor, int, int, int]:\n",
        "        wav_path = self.file_list[idx]\n",
        "        spec = wav_to_log_stft(wav_path, self.sr, self.n_fft, self.win_length, self.hop_length, self.power)\n",
        "        if self.augment:\n",
        "            spec = augment_spec(spec)\n",
        "        anomaly_label = get_anomaly_label(wav_path)\n",
        "        drone_label = get_drone_label(wav_path)\n",
        "        direction_label = get_direction_label(wav_path)\n",
        "        return spec, anomaly_label, drone_label, direction_label\n",
        "\n",
        "from typing import Tuple, List\n",
        "from torch.utils.data import DataLoader\n",
        "\n",
        "#############################\n",
        "# DataLoader 관련 함수들\n",
        "#############################\n",
        "\n",
        "def get_train_loader(args, pin_memory: bool = False, num_workers: int = 0) -> DataLoader:\n",
        "    file_list = sorted(os.listdir(args.train_dir))\n",
        "    file_list = [os.path.join(args.train_dir, f) for f in file_list if f.endswith('.wav')]\n",
        "    dataset = BaselineDataLoader(file_list, sr=args.sr, n_fft=args.n_fft,\n",
        "                                 win_length=args.win_length, hop_length=args.hop_length,\n",
        "                                 power=args.power, augment=True)\n",
        "    return DataLoader(dataset, batch_size=args.batch_size, shuffle=True, num_workers=num_workers, pin_memory=pin_memory)\n",
        "\n",
        "def get_eval_loader(args, pin_memory: bool = False, num_workers: int = 0) -> Tuple[DataLoader, List[str]]:\n",
        "    file_list = sorted(os.listdir(args.eval_dir))\n",
        "    file_list = [os.path.join(args.eval_dir, f) for f in file_list if f.endswith('.wav')]\n",
        "    dataset = BaselineDataLoader(file_list, sr=args.sr, n_fft=args.n_fft,\n",
        "                                 win_length=args.win_length, hop_length=args.hop_length,\n",
        "                                 power=args.power, augment=False)\n",
        "    loader = DataLoader(dataset, batch_size=1, shuffle=False, num_workers=num_workers, pin_memory=pin_memory)\n",
        "    return loader, file_list"
      ]
    },
    {
      "cell_type": "markdown",
      "metadata": {
        "id": "u1wtKbxZPpTI"
      },
      "source": [
        "## 모델 학습 및 평가"
      ]
    },
    {
      "cell_type": "code",
      "source": [
        "!pip install pytorch-msssim"
      ],
      "metadata": {
        "colab": {
          "base_uri": "https://localhost:8080/"
        },
        "id": "nRxoDW1xD44V",
        "outputId": "191765da-0a9c-4365-9324-a30f46718a71"
      },
      "execution_count": null,
      "outputs": [
        {
          "output_type": "stream",
          "name": "stdout",
          "text": [
            "Collecting pytorch-msssim\n",
            "  Downloading pytorch_msssim-1.0.0-py3-none-any.whl.metadata (8.0 kB)\n",
            "Requirement already satisfied: torch in /usr/local/lib/python3.11/dist-packages (from pytorch-msssim) (2.6.0+cu124)\n",
            "Requirement already satisfied: filelock in /usr/local/lib/python3.11/dist-packages (from torch->pytorch-msssim) (3.18.0)\n",
            "Requirement already satisfied: typing-extensions>=4.10.0 in /usr/local/lib/python3.11/dist-packages (from torch->pytorch-msssim) (4.12.2)\n",
            "Requirement already satisfied: networkx in /usr/local/lib/python3.11/dist-packages (from torch->pytorch-msssim) (3.4.2)\n",
            "Requirement already satisfied: jinja2 in /usr/local/lib/python3.11/dist-packages (from torch->pytorch-msssim) (3.1.6)\n",
            "Requirement already satisfied: fsspec in /usr/local/lib/python3.11/dist-packages (from torch->pytorch-msssim) (2025.3.0)\n",
            "Collecting nvidia-cuda-nvrtc-cu12==12.4.127 (from torch->pytorch-msssim)\n",
            "  Downloading nvidia_cuda_nvrtc_cu12-12.4.127-py3-none-manylinux2014_x86_64.whl.metadata (1.5 kB)\n",
            "Collecting nvidia-cuda-runtime-cu12==12.4.127 (from torch->pytorch-msssim)\n",
            "  Downloading nvidia_cuda_runtime_cu12-12.4.127-py3-none-manylinux2014_x86_64.whl.metadata (1.5 kB)\n",
            "Collecting nvidia-cuda-cupti-cu12==12.4.127 (from torch->pytorch-msssim)\n",
            "  Downloading nvidia_cuda_cupti_cu12-12.4.127-py3-none-manylinux2014_x86_64.whl.metadata (1.6 kB)\n",
            "Collecting nvidia-cudnn-cu12==9.1.0.70 (from torch->pytorch-msssim)\n",
            "  Downloading nvidia_cudnn_cu12-9.1.0.70-py3-none-manylinux2014_x86_64.whl.metadata (1.6 kB)\n",
            "Collecting nvidia-cublas-cu12==12.4.5.8 (from torch->pytorch-msssim)\n",
            "  Downloading nvidia_cublas_cu12-12.4.5.8-py3-none-manylinux2014_x86_64.whl.metadata (1.5 kB)\n",
            "Collecting nvidia-cufft-cu12==11.2.1.3 (from torch->pytorch-msssim)\n",
            "  Downloading nvidia_cufft_cu12-11.2.1.3-py3-none-manylinux2014_x86_64.whl.metadata (1.5 kB)\n",
            "Collecting nvidia-curand-cu12==10.3.5.147 (from torch->pytorch-msssim)\n",
            "  Downloading nvidia_curand_cu12-10.3.5.147-py3-none-manylinux2014_x86_64.whl.metadata (1.5 kB)\n",
            "Collecting nvidia-cusolver-cu12==11.6.1.9 (from torch->pytorch-msssim)\n",
            "  Downloading nvidia_cusolver_cu12-11.6.1.9-py3-none-manylinux2014_x86_64.whl.metadata (1.6 kB)\n",
            "Collecting nvidia-cusparse-cu12==12.3.1.170 (from torch->pytorch-msssim)\n",
            "  Downloading nvidia_cusparse_cu12-12.3.1.170-py3-none-manylinux2014_x86_64.whl.metadata (1.6 kB)\n",
            "Requirement already satisfied: nvidia-cusparselt-cu12==0.6.2 in /usr/local/lib/python3.11/dist-packages (from torch->pytorch-msssim) (0.6.2)\n",
            "Requirement already satisfied: nvidia-nccl-cu12==2.21.5 in /usr/local/lib/python3.11/dist-packages (from torch->pytorch-msssim) (2.21.5)\n",
            "Requirement already satisfied: nvidia-nvtx-cu12==12.4.127 in /usr/local/lib/python3.11/dist-packages (from torch->pytorch-msssim) (12.4.127)\n",
            "Collecting nvidia-nvjitlink-cu12==12.4.127 (from torch->pytorch-msssim)\n",
            "  Downloading nvidia_nvjitlink_cu12-12.4.127-py3-none-manylinux2014_x86_64.whl.metadata (1.5 kB)\n",
            "Requirement already satisfied: triton==3.2.0 in /usr/local/lib/python3.11/dist-packages (from torch->pytorch-msssim) (3.2.0)\n",
            "Requirement already satisfied: sympy==1.13.1 in /usr/local/lib/python3.11/dist-packages (from torch->pytorch-msssim) (1.13.1)\n",
            "Requirement already satisfied: mpmath<1.4,>=1.1.0 in /usr/local/lib/python3.11/dist-packages (from sympy==1.13.1->torch->pytorch-msssim) (1.3.0)\n",
            "Requirement already satisfied: MarkupSafe>=2.0 in /usr/local/lib/python3.11/dist-packages (from jinja2->torch->pytorch-msssim) (3.0.2)\n",
            "Downloading pytorch_msssim-1.0.0-py3-none-any.whl (7.7 kB)\n",
            "Downloading nvidia_cublas_cu12-12.4.5.8-py3-none-manylinux2014_x86_64.whl (363.4 MB)\n",
            "\u001b[2K   \u001b[90m━━━━━━━━━━━━━━━━━━━━━━━━━━━━━━━━━━━━━━━━\u001b[0m \u001b[32m363.4/363.4 MB\u001b[0m \u001b[31m3.0 MB/s\u001b[0m eta \u001b[36m0:00:00\u001b[0m\n",
            "\u001b[?25hDownloading nvidia_cuda_cupti_cu12-12.4.127-py3-none-manylinux2014_x86_64.whl (13.8 MB)\n",
            "\u001b[2K   \u001b[90m━━━━━━━━━━━━━━━━━━━━━━━━━━━━━━━━━━━━━━━━\u001b[0m \u001b[32m13.8/13.8 MB\u001b[0m \u001b[31m108.3 MB/s\u001b[0m eta \u001b[36m0:00:00\u001b[0m\n",
            "\u001b[?25hDownloading nvidia_cuda_nvrtc_cu12-12.4.127-py3-none-manylinux2014_x86_64.whl (24.6 MB)\n",
            "\u001b[2K   \u001b[90m━━━━━━━━━━━━━━━━━━━━━━━━━━━━━━━━━━━━━━━━\u001b[0m \u001b[32m24.6/24.6 MB\u001b[0m \u001b[31m82.5 MB/s\u001b[0m eta \u001b[36m0:00:00\u001b[0m\n",
            "\u001b[?25hDownloading nvidia_cuda_runtime_cu12-12.4.127-py3-none-manylinux2014_x86_64.whl (883 kB)\n",
            "\u001b[2K   \u001b[90m━━━━━━━━━━━━━━━━━━━━━━━━━━━━━━━━━━━━━━━━\u001b[0m \u001b[32m883.7/883.7 kB\u001b[0m \u001b[31m56.3 MB/s\u001b[0m eta \u001b[36m0:00:00\u001b[0m\n",
            "\u001b[?25hDownloading nvidia_cudnn_cu12-9.1.0.70-py3-none-manylinux2014_x86_64.whl (664.8 MB)\n",
            "\u001b[2K   \u001b[90m━━━━━━━━━━━━━━━━━━━━━━━━━━━━━━━━━━━━━━━━\u001b[0m \u001b[32m664.8/664.8 MB\u001b[0m \u001b[31m2.1 MB/s\u001b[0m eta \u001b[36m0:00:00\u001b[0m\n",
            "\u001b[?25hDownloading nvidia_cufft_cu12-11.2.1.3-py3-none-manylinux2014_x86_64.whl (211.5 MB)\n",
            "\u001b[2K   \u001b[90m━━━━━━━━━━━━━━━━━━━━━━━━━━━━━━━━━━━━━━━━\u001b[0m \u001b[32m211.5/211.5 MB\u001b[0m \u001b[31m6.0 MB/s\u001b[0m eta \u001b[36m0:00:00\u001b[0m\n",
            "\u001b[?25hDownloading nvidia_curand_cu12-10.3.5.147-py3-none-manylinux2014_x86_64.whl (56.3 MB)\n",
            "\u001b[2K   \u001b[90m━━━━━━━━━━━━━━━━━━━━━━━━━━━━━━━━━━━━━━━━\u001b[0m \u001b[32m56.3/56.3 MB\u001b[0m \u001b[31m39.1 MB/s\u001b[0m eta \u001b[36m0:00:00\u001b[0m\n",
            "\u001b[?25hDownloading nvidia_cusolver_cu12-11.6.1.9-py3-none-manylinux2014_x86_64.whl (127.9 MB)\n",
            "\u001b[2K   \u001b[90m━━━━━━━━━━━━━━━━━━━━━━━━━━━━━━━━━━━━━━━━\u001b[0m \u001b[32m127.9/127.9 MB\u001b[0m \u001b[31m6.1 MB/s\u001b[0m eta \u001b[36m0:00:00\u001b[0m\n",
            "\u001b[?25hDownloading nvidia_cusparse_cu12-12.3.1.170-py3-none-manylinux2014_x86_64.whl (207.5 MB)\n",
            "\u001b[2K   \u001b[90m━━━━━━━━━━━━━━━━━━━━━━━━━━━━━━━━━━━━━━━━\u001b[0m \u001b[32m207.5/207.5 MB\u001b[0m \u001b[31m4.7 MB/s\u001b[0m eta \u001b[36m0:00:00\u001b[0m\n",
            "\u001b[?25hDownloading nvidia_nvjitlink_cu12-12.4.127-py3-none-manylinux2014_x86_64.whl (21.1 MB)\n",
            "\u001b[2K   \u001b[90m━━━━━━━━━━━━━━━━━━━━━━━━━━━━━━━━━━━━━━━━\u001b[0m \u001b[32m21.1/21.1 MB\u001b[0m \u001b[31m87.8 MB/s\u001b[0m eta \u001b[36m0:00:00\u001b[0m\n",
            "\u001b[?25hInstalling collected packages: nvidia-nvjitlink-cu12, nvidia-curand-cu12, nvidia-cufft-cu12, nvidia-cuda-runtime-cu12, nvidia-cuda-nvrtc-cu12, nvidia-cuda-cupti-cu12, nvidia-cublas-cu12, nvidia-cusparse-cu12, nvidia-cudnn-cu12, nvidia-cusolver-cu12, pytorch-msssim\n",
            "  Attempting uninstall: nvidia-nvjitlink-cu12\n",
            "    Found existing installation: nvidia-nvjitlink-cu12 12.5.82\n",
            "    Uninstalling nvidia-nvjitlink-cu12-12.5.82:\n",
            "      Successfully uninstalled nvidia-nvjitlink-cu12-12.5.82\n",
            "  Attempting uninstall: nvidia-curand-cu12\n",
            "    Found existing installation: nvidia-curand-cu12 10.3.6.82\n",
            "    Uninstalling nvidia-curand-cu12-10.3.6.82:\n",
            "      Successfully uninstalled nvidia-curand-cu12-10.3.6.82\n",
            "  Attempting uninstall: nvidia-cufft-cu12\n",
            "    Found existing installation: nvidia-cufft-cu12 11.2.3.61\n",
            "    Uninstalling nvidia-cufft-cu12-11.2.3.61:\n",
            "      Successfully uninstalled nvidia-cufft-cu12-11.2.3.61\n",
            "  Attempting uninstall: nvidia-cuda-runtime-cu12\n",
            "    Found existing installation: nvidia-cuda-runtime-cu12 12.5.82\n",
            "    Uninstalling nvidia-cuda-runtime-cu12-12.5.82:\n",
            "      Successfully uninstalled nvidia-cuda-runtime-cu12-12.5.82\n",
            "  Attempting uninstall: nvidia-cuda-nvrtc-cu12\n",
            "    Found existing installation: nvidia-cuda-nvrtc-cu12 12.5.82\n",
            "    Uninstalling nvidia-cuda-nvrtc-cu12-12.5.82:\n",
            "      Successfully uninstalled nvidia-cuda-nvrtc-cu12-12.5.82\n",
            "  Attempting uninstall: nvidia-cuda-cupti-cu12\n",
            "    Found existing installation: nvidia-cuda-cupti-cu12 12.5.82\n",
            "    Uninstalling nvidia-cuda-cupti-cu12-12.5.82:\n",
            "      Successfully uninstalled nvidia-cuda-cupti-cu12-12.5.82\n",
            "  Attempting uninstall: nvidia-cublas-cu12\n",
            "    Found existing installation: nvidia-cublas-cu12 12.5.3.2\n",
            "    Uninstalling nvidia-cublas-cu12-12.5.3.2:\n",
            "      Successfully uninstalled nvidia-cublas-cu12-12.5.3.2\n",
            "  Attempting uninstall: nvidia-cusparse-cu12\n",
            "    Found existing installation: nvidia-cusparse-cu12 12.5.1.3\n",
            "    Uninstalling nvidia-cusparse-cu12-12.5.1.3:\n",
            "      Successfully uninstalled nvidia-cusparse-cu12-12.5.1.3\n",
            "  Attempting uninstall: nvidia-cudnn-cu12\n",
            "    Found existing installation: nvidia-cudnn-cu12 9.3.0.75\n",
            "    Uninstalling nvidia-cudnn-cu12-9.3.0.75:\n",
            "      Successfully uninstalled nvidia-cudnn-cu12-9.3.0.75\n",
            "  Attempting uninstall: nvidia-cusolver-cu12\n",
            "    Found existing installation: nvidia-cusolver-cu12 11.6.3.83\n",
            "    Uninstalling nvidia-cusolver-cu12-11.6.3.83:\n",
            "      Successfully uninstalled nvidia-cusolver-cu12-11.6.3.83\n",
            "Successfully installed nvidia-cublas-cu12-12.4.5.8 nvidia-cuda-cupti-cu12-12.4.127 nvidia-cuda-nvrtc-cu12-12.4.127 nvidia-cuda-runtime-cu12-12.4.127 nvidia-cudnn-cu12-9.1.0.70 nvidia-cufft-cu12-11.2.1.3 nvidia-curand-cu12-10.3.5.147 nvidia-cusolver-cu12-11.6.1.9 nvidia-cusparse-cu12-12.3.1.170 nvidia-nvjitlink-cu12-12.4.127 pytorch-msssim-1.0.0\n"
          ]
        }
      ]
    },
    {
      "cell_type": "code",
      "source": [
        "import torch\n",
        "import torch.nn as nn\n",
        "import torch.nn.functional as F\n",
        "import argparse, os\n",
        "from tqdm import tqdm\n",
        "from sklearn import metrics\n",
        "import numpy as np\n",
        "import matplotlib.pyplot as plt\n",
        "# pip install pytorch-msssim\n",
        "from pytorch_msssim import ssim\n",
        "\n",
        "#############################\n",
        "# SSIM Loss Implementation\n",
        "#############################\n",
        "class SSIMLoss(nn.Module):\n",
        "    def __init__(self, window_size=11, size_average=True, data_range=1.0, K=(0.01, 0.03)):\n",
        "        \"\"\"\n",
        "        SSIMLoss는 pytorch_msssim의 ssim 함수를 이용하여,\n",
        "        두 이미지 간의 구조적 유사성을 평가합니다.\n",
        "        \"\"\"\n",
        "        super(SSIMLoss, self).__init__()\n",
        "        self.window_size = window_size\n",
        "        self.size_average = size_average\n",
        "        self.data_range = data_range\n",
        "        self.K = K\n",
        "\n",
        "    def forward(self, img1, img2):\n",
        "        # ssim 값은 1에 가까울수록 유사하므로, loss는 1 - ssim으로 정의\n",
        "        return 1 - ssim(img1, img2, data_range=self.data_range, win_size=self.window_size, size_average=self.size_average, K=self.K)\n",
        "\n",
        "#############################\n",
        "# Combined Loss (SSIM + L1)\n",
        "#############################\n",
        "class CombinedLoss(nn.Module):\n",
        "    def __init__(self, window_size=11, size_average=True, ssim_weight=0.8, l1_weight=0.2):\n",
        "        \"\"\"\n",
        "        SSIM과 L1 손실을 결합합니다.\n",
        "          - window_size: SSIM 계산 시 윈도우 크기\n",
        "          - size_average: 손실 산출 시 평균 사용 여부\n",
        "          - ssim_weight: SSIM 손실의 가중치\n",
        "          - l1_weight: L1 손실의 가중치\n",
        "        \"\"\"\n",
        "        super(CombinedLoss, self).__init__()\n",
        "        self.ssim_loss = SSIMLoss(window_size, size_average)\n",
        "        self.ssim_weight = ssim_weight\n",
        "        self.l1_weight = l1_weight\n",
        "\n",
        "    def forward(self, img1, img2):\n",
        "        loss_ssim = self.ssim_loss(img1, img2)\n",
        "        loss_l1 = F.l1_loss(img1, img2)\n",
        "        return self.ssim_weight * loss_ssim + self.l1_weight * loss_l1\n",
        "\n",
        "#############################\n",
        "# Utility: 크기 맞춤 함수\n",
        "#############################\n",
        "def match_size(source: torch.Tensor, target: torch.Tensor) -> torch.Tensor:\n",
        "    src_h, src_w = source.size(2), source.size(3)\n",
        "    tgt_h, tgt_w = target.size(2), target.size(3)\n",
        "    if src_h > tgt_h or src_w > tgt_w:\n",
        "        start_h = (src_h - tgt_h) // 2\n",
        "        start_w = (src_w - tgt_w) // 2\n",
        "        source = source[:, :, start_h:start_h+tgt_h, start_w:start_w+tgt_w]\n",
        "    elif src_h < tgt_h or src_w < tgt_w:\n",
        "        diff_h = tgt_h - src_h\n",
        "        diff_w = tgt_w - src_w\n",
        "        source = F.pad(source, (diff_w // 2, diff_w - diff_w // 2,\n",
        "                                diff_h // 2, diff_h - diff_h // 2))\n",
        "    return source\n",
        "\n",
        "#############################\n",
        "# Model Architecture (DAE)\n",
        "#############################\n",
        "class ResidualBlock(nn.Module):\n",
        "    def __init__(self, in_channels, out_channels, stride=1, dropout=0.03):\n",
        "        super(ResidualBlock, self).__init__()\n",
        "        self.conv1 = nn.Conv2d(in_channels, out_channels, kernel_size=3, stride=stride, padding=1)\n",
        "        self.bn1 = nn.BatchNorm2d(out_channels)\n",
        "        self.relu = nn.LeakyReLU(0.2, inplace=True)\n",
        "        self.dropout = nn.Dropout(dropout) if dropout > 0 else nn.Identity()\n",
        "        self.conv2 = nn.Conv2d(out_channels, out_channels, kernel_size=3, stride=1, padding=1)\n",
        "        self.bn2 = nn.BatchNorm2d(out_channels)\n",
        "        if stride != 1 or in_channels != out_channels:\n",
        "            self.downsample = nn.Sequential(\n",
        "                nn.Conv2d(in_channels, out_channels, kernel_size=1, stride=stride),\n",
        "                nn.BatchNorm2d(out_channels)\n",
        "            )\n",
        "        else:\n",
        "            self.downsample = nn.Identity()\n",
        "\n",
        "    def forward(self, x):\n",
        "        identity = self.downsample(x)\n",
        "        out = self.conv1(x)\n",
        "        out = self.bn1(out)\n",
        "        out = self.relu(out)\n",
        "        out = self.dropout(out)\n",
        "        out = self.conv2(out)\n",
        "        out = self.bn2(out)\n",
        "        out += identity\n",
        "        out = self.relu(out)\n",
        "        return out\n",
        "\n",
        "class EncoderBlock(nn.Module):\n",
        "    def __init__(self, in_channels, out_channels, dropout=0.03):\n",
        "        super(EncoderBlock, self).__init__()\n",
        "        self.resblock = ResidualBlock(in_channels, out_channels, stride=2, dropout=dropout)\n",
        "\n",
        "    def forward(self, x):\n",
        "        return self.resblock(x)\n",
        "\n",
        "class DecoderBlock(nn.Module):\n",
        "    def __init__(self, in_channels, out_channels, dropout=0.03):\n",
        "        super(DecoderBlock, self).__init__()\n",
        "        self.deconv = nn.ConvTranspose2d(in_channels, out_channels, kernel_size=3,\n",
        "                                         stride=2, padding=1, output_padding=1)\n",
        "        self.bn = nn.BatchNorm2d(out_channels)\n",
        "        self.relu = nn.LeakyReLU(0.2, inplace=True)\n",
        "        self.dropout = nn.Dropout(dropout) if dropout > 0 else nn.Identity()\n",
        "        self.resblock = ResidualBlock(out_channels * 2, out_channels, stride=1, dropout=dropout)\n",
        "\n",
        "    def forward(self, x, skip):\n",
        "        x = self.deconv(x)\n",
        "        x = self.bn(x)\n",
        "        x = self.relu(x)\n",
        "        x = self.dropout(x)\n",
        "        skip = match_size(skip, x)\n",
        "        x = torch.cat([x, skip], dim=1)\n",
        "        x = self.resblock(x)\n",
        "        return x\n",
        "\n",
        "class DenoisingAutoencoder(nn.Module):\n",
        "    def __init__(self, input_channels=1, dropout=0.03):\n",
        "        super(DenoisingAutoencoder, self).__init__()\n",
        "        self.enc1 = EncoderBlock(input_channels, 32, dropout)\n",
        "        self.enc2 = EncoderBlock(32, 64, dropout)\n",
        "        self.enc3 = EncoderBlock(64, 128, dropout)\n",
        "        self.enc4 = EncoderBlock(128, 256, dropout)\n",
        "        self.enc5 = EncoderBlock(256, 512, dropout)\n",
        "        self.dec5 = DecoderBlock(512, 256, dropout)\n",
        "        self.dec4 = DecoderBlock(256, 128, dropout)\n",
        "        self.dec3 = DecoderBlock(128, 64, dropout)\n",
        "        self.dec2 = DecoderBlock(64, 32, dropout)\n",
        "        self.dec1 = nn.ConvTranspose2d(32, input_channels, kernel_size=3, stride=2,\n",
        "                                       padding=1, output_padding=1)\n",
        "\n",
        "    def forward(self, x):\n",
        "        e1 = self.enc1(x)   # (B, 32, H/2, W/2)\n",
        "        e2 = self.enc2(e1)  # (B, 64, H/4, W/4)\n",
        "        e3 = self.enc3(e2)  # (B, 128, H/8, W/8)\n",
        "        e4 = self.enc4(e3)  # (B, 256, H/16, W/16)\n",
        "        e5 = self.enc5(e4)  # (B, 512, H/32, W/32)\n",
        "        d5 = self.dec5(e5, e4)\n",
        "        d4 = self.dec4(d5, e3)\n",
        "        d3 = self.dec3(d4, e2)\n",
        "        d2 = self.dec2(d3, e1)\n",
        "        d1 = self.dec1(d2)\n",
        "        d1 = F.interpolate(d1, size=x.shape[2:], mode=\"bilinear\", align_corners=False)\n",
        "        return d1\n",
        "\n",
        "def DAEModel(dropout) -> nn.Module:\n",
        "    return DenoisingAutoencoder(input_channels=1, dropout=dropout)\n",
        "\n",
        "#############################\n",
        "# Train & Evaluate 관련 함수들\n",
        "#############################\n",
        "def get_args() -> argparse.Namespace:\n",
        "    param = {\n",
        "        \"train_dir\": \"/content/ICSV31AIChallengeDataset/train\",\n",
        "        \"eval_dir\": \"/content/ICSV31AIChallengeDataset/eval\",\n",
        "        \"result_dir\": \"/content/drive/MyDrive\",\n",
        "        \"model_dir\": \"/content/drive/MyDrive\",\n",
        "        \"model_path\": \"model_dae_combined_plz.pth\",\n",
        "        \"epochs\": 200,\n",
        "        \"batch_size\": 32,\n",
        "        \"lr\": 0.001,\n",
        "        \"gpu\": 0,\n",
        "        \"n_workers\": 1,\n",
        "        \"early_stopping_patience\": 20,\n",
        "        \"noise_factor\": 0.2,\n",
        "        \"dropout\": 0.05,\n",
        "        # 누락된 속성 추가\n",
        "        \"sr\": 16000,  # 샘플링 레이트\n",
        "        \"n_fft\": 2048, # FFT 크기\n",
        "        \"win_length\": 512, # 윈도우 길이\n",
        "        \"hop_length\": 256, # 홉 길이\n",
        "        \"power\": 2.0 # STFT 계산에 사용할 power 값\n",
        "    }\n",
        "    parser = argparse.ArgumentParser()\n",
        "    for key, value in param.items():\n",
        "        parser.add_argument(f\"--{key.replace('_','-')}\", default=value, type=type(value))\n",
        "    args, unknown = parser.parse_known_args()\n",
        "    return args\n",
        "\n",
        "def set_seed(seed: int) -> None:\n",
        "    torch.manual_seed(seed)\n",
        "    torch.cuda.manual_seed(seed)\n",
        "    torch.cuda.manual_seed_all(seed)\n",
        "    np.random.seed(seed)\n",
        "    torch.backends.cudnn.deterministic = True\n",
        "    torch.backends.cudnn.benchmark = False\n",
        "\n",
        "def train_and_evaluate(args: argparse.Namespace) -> None:\n",
        "    print(\"Training started...\")\n",
        "    os.makedirs(args.result_dir, exist_ok=True)\n",
        "    os.makedirs(args.model_dir, exist_ok=True)\n",
        "    device = torch.device(\"cuda\" if torch.cuda.is_available() else \"cpu\")\n",
        "    print(\"Using device:\", device)\n",
        "\n",
        "    set_seed(2025)\n",
        "\n",
        "    # 단, 재현성이 중요하다면 benchmark 옵션을 끄는 것을 고려하세요.\n",
        "    if device.type == \"cuda\":\n",
        "        torch.backends.cudnn.benchmark = True\n",
        "\n",
        "    model = DAEModel(args.dropout).to(device)\n",
        "\n",
        "    try:\n",
        "        from torchsummary import summary\n",
        "        summary(model, input_size=(1, 256, 256))\n",
        "    except ImportError:\n",
        "        print(model)\n",
        "\n",
        "    # 데이터 로더 함수들은 외부에 구현되어 있다고 가정합니다.\n",
        "    train_loader = get_train_loader(args, pin_memory=True, num_workers=args.n_workers)\n",
        "    val_loader, _ = get_eval_loader(args, pin_memory=True, num_workers=args.n_workers)\n",
        "\n",
        "    optimizer = torch.optim.AdamW(model.parameters(), lr=args.lr, weight_decay=1e-4)\n",
        "    scheduler = torch.optim.lr_scheduler.CosineAnnealingLR(optimizer, T_max=args.epochs)\n",
        "\n",
        "    # CombinedLoss를 손실 함수로 사용 (SSIM + L1)\n",
        "    criterion = CombinedLoss(window_size=11, size_average=True, ssim_weight=0.8, l1_weight=0.2)\n",
        "\n",
        "    train_losses = []\n",
        "    val_losses = []\n",
        "    scaler = torch.cuda.amp.GradScaler()\n",
        "\n",
        "    best_val_loss = float('inf')\n",
        "    patience_counter = 0\n",
        "\n",
        "    for epoch in range(1, args.epochs+1):\n",
        "        model.train()\n",
        "        total_loss = 0.0\n",
        "        count = 0\n",
        "        p_bar = tqdm(train_loader, total=len(train_loader), desc=f\"Epoch {epoch}/{args.epochs}\", ncols=100)\n",
        "        for data in p_bar:\n",
        "            spec = data[0].to(device)\n",
        "            noisy_spec = spec + args.noise_factor * torch.randn_like(spec)\n",
        "            optimizer.zero_grad()\n",
        "            with torch.cuda.amp.autocast():\n",
        "                decoded = model(noisy_spec)\n",
        "                loss = criterion(decoded, spec)\n",
        "            scaler.scale(loss).backward()\n",
        "            scaler.step(optimizer)\n",
        "            scaler.update()\n",
        "            total_loss += loss.item()\n",
        "            count += 1\n",
        "            p_bar.set_description(f\"Epoch {epoch}, Loss: {loss.item():.4f}\")\n",
        "        avg_train_loss = total_loss / count\n",
        "        train_losses.append(avg_train_loss)\n",
        "        print(f\"Epoch {epoch} average train loss: {avg_train_loss:.4f}\")\n",
        "\n",
        "        model.eval()\n",
        "        total_val_loss = 0.0\n",
        "        val_count = 0\n",
        "        with torch.no_grad():\n",
        "            for val_data in val_loader:\n",
        "                spec, anomaly_label, _, _ = val_data\n",
        "                spec = spec.to(device)\n",
        "                decoded = model(spec)\n",
        "                loss = criterion(decoded, spec)\n",
        "                total_val_loss += loss.item()\n",
        "                val_count += 1\n",
        "        avg_val_loss = total_val_loss / val_count\n",
        "        val_losses.append(avg_val_loss)\n",
        "        print(f\"Epoch {epoch} average val loss: {avg_val_loss:.4f}\")\n",
        "\n",
        "        if avg_val_loss < best_val_loss:\n",
        "            best_val_loss = avg_val_loss\n",
        "            patience_counter = 0\n",
        "            checkpoint_path = os.path.join(args.model_dir, args.model_path)\n",
        "            torch.save(model.state_dict(), checkpoint_path)\n",
        "            print(f\"Epoch {epoch}: Model improved. Saved checkpoint to {checkpoint_path}\")\n",
        "        else:\n",
        "            patience_counter += 1\n",
        "            if patience_counter >= args.early_stopping_patience:\n",
        "                print(\"Early stopping triggered.\")\n",
        "                break\n",
        "\n",
        "        scheduler.step()\n",
        "\n",
        "    # 학습 곡선 그리기 및 저장\n",
        "    epochs_range = range(1, len(train_losses)+1)\n",
        "    plt.figure(figsize=(10,6))\n",
        "    plt.plot(epochs_range, train_losses, label='Train Loss')\n",
        "    plt.plot(epochs_range, val_losses, label='Validation Loss')\n",
        "    plt.xlabel('Epoch')\n",
        "    plt.ylabel('Combined Loss (SSIM + L1)')\n",
        "    plt.title('Learning Curve')\n",
        "    plt.legend()\n",
        "    plt.grid(True)\n",
        "    curve_path = os.path.join(args.result_dir, \"learning_curve.png\")\n",
        "    plt.savefig(curve_path)\n",
        "    plt.show()\n",
        "    print(f\"Learning curve saved to {curve_path}\")\n",
        "\n",
        "    # 최종 평가: 각 샘플별 손실을 기반으로 anomaly score 계산\n",
        "    y_true = []\n",
        "    y_pred = []\n",
        "    model.eval()\n",
        "    with torch.no_grad():\n",
        "        for val_data in val_loader:\n",
        "            spec, anomaly_label, _, _ = val_data\n",
        "            spec = spec.to(device)\n",
        "            decoded = model(spec)\n",
        "            loss = criterion(decoded, spec)\n",
        "            y_pred.append(loss.item())\n",
        "            # anomaly_label이 텐서일 경우 scalar 값으로 변환\n",
        "            y_true.append(anomaly_label.item() if anomaly_label.dim() == 0 else anomaly_label.cpu().numpy()[0])\n",
        "    y_true = np.array(y_true)\n",
        "    y_pred = np.array(y_pred)\n",
        "\n",
        "    pr_auc = metrics.average_precision_score(y_true, y_pred)\n",
        "    print(f\"Evaluation AUC: {pr_auc:.4f}\")\n",
        "\n",
        "    # 결과 저장 (파일 이름 등은 필요에 따라 추가하세요)\n",
        "    import pandas as pd\n",
        "    results = []  # 테스트 결과 저장 리스트 (필요시 수정)\n",
        "    df_results = pd.DataFrame(results, columns=[\"File Name\", \"Anomaly Label\", \"Loss\"])\n",
        "    csv_file_path = os.path.join(args.result_dir, \"test_results_combined_plz.csv\")\n",
        "    df_results.to_csv(csv_file_path, index=False)\n",
        "    print(f\"Test results saved to {csv_file_path}\")"
      ],
      "metadata": {
        "id": "Y-9ilGdRReul"
      },
      "execution_count": 49,
      "outputs": []
    },
    {
      "cell_type": "code",
      "execution_count": 50,
      "metadata": {
        "colab": {
          "base_uri": "https://localhost:8080/",
          "height": 1000
        },
        "id": "05P3jl9997xr",
        "outputId": "d3cb3c00-1233-462e-fd2d-f0e2258c1230"
      },
      "outputs": [
        {
          "output_type": "stream",
          "name": "stderr",
          "text": [
            "<ipython-input-49-a15c29a4060a>:234: FutureWarning: `torch.cuda.amp.GradScaler(args...)` is deprecated. Please use `torch.amp.GradScaler('cuda', args...)` instead.\n",
            "  scaler = torch.cuda.amp.GradScaler()\n"
          ]
        },
        {
          "output_type": "stream",
          "name": "stdout",
          "text": [
            "Training started...\n",
            "Using device: cuda\n",
            "----------------------------------------------------------------\n",
            "        Layer (type)               Output Shape         Param #\n",
            "================================================================\n",
            "            Conv2d-1         [-1, 32, 128, 128]              64\n",
            "       BatchNorm2d-2         [-1, 32, 128, 128]              64\n",
            "            Conv2d-3         [-1, 32, 128, 128]             320\n",
            "       BatchNorm2d-4         [-1, 32, 128, 128]              64\n",
            "         LeakyReLU-5         [-1, 32, 128, 128]               0\n",
            "           Dropout-6         [-1, 32, 128, 128]               0\n",
            "            Conv2d-7         [-1, 32, 128, 128]           9,248\n",
            "       BatchNorm2d-8         [-1, 32, 128, 128]              64\n",
            "         LeakyReLU-9         [-1, 32, 128, 128]               0\n",
            "    ResidualBlock-10         [-1, 32, 128, 128]               0\n",
            "     EncoderBlock-11         [-1, 32, 128, 128]               0\n",
            "           Conv2d-12           [-1, 64, 64, 64]           2,112\n",
            "      BatchNorm2d-13           [-1, 64, 64, 64]             128\n",
            "           Conv2d-14           [-1, 64, 64, 64]          18,496\n",
            "      BatchNorm2d-15           [-1, 64, 64, 64]             128\n",
            "        LeakyReLU-16           [-1, 64, 64, 64]               0\n",
            "          Dropout-17           [-1, 64, 64, 64]               0\n",
            "           Conv2d-18           [-1, 64, 64, 64]          36,928\n",
            "      BatchNorm2d-19           [-1, 64, 64, 64]             128\n",
            "        LeakyReLU-20           [-1, 64, 64, 64]               0\n",
            "    ResidualBlock-21           [-1, 64, 64, 64]               0\n",
            "     EncoderBlock-22           [-1, 64, 64, 64]               0\n",
            "           Conv2d-23          [-1, 128, 32, 32]           8,320\n",
            "      BatchNorm2d-24          [-1, 128, 32, 32]             256\n",
            "           Conv2d-25          [-1, 128, 32, 32]          73,856\n",
            "      BatchNorm2d-26          [-1, 128, 32, 32]             256\n",
            "        LeakyReLU-27          [-1, 128, 32, 32]               0\n",
            "          Dropout-28          [-1, 128, 32, 32]               0\n",
            "           Conv2d-29          [-1, 128, 32, 32]         147,584\n",
            "      BatchNorm2d-30          [-1, 128, 32, 32]             256\n",
            "        LeakyReLU-31          [-1, 128, 32, 32]               0\n",
            "    ResidualBlock-32          [-1, 128, 32, 32]               0\n",
            "     EncoderBlock-33          [-1, 128, 32, 32]               0\n",
            "           Conv2d-34          [-1, 256, 16, 16]          33,024\n",
            "      BatchNorm2d-35          [-1, 256, 16, 16]             512\n",
            "           Conv2d-36          [-1, 256, 16, 16]         295,168\n",
            "      BatchNorm2d-37          [-1, 256, 16, 16]             512\n",
            "        LeakyReLU-38          [-1, 256, 16, 16]               0\n",
            "          Dropout-39          [-1, 256, 16, 16]               0\n",
            "           Conv2d-40          [-1, 256, 16, 16]         590,080\n",
            "      BatchNorm2d-41          [-1, 256, 16, 16]             512\n",
            "        LeakyReLU-42          [-1, 256, 16, 16]               0\n",
            "    ResidualBlock-43          [-1, 256, 16, 16]               0\n",
            "     EncoderBlock-44          [-1, 256, 16, 16]               0\n",
            "           Conv2d-45            [-1, 512, 8, 8]         131,584\n",
            "      BatchNorm2d-46            [-1, 512, 8, 8]           1,024\n",
            "           Conv2d-47            [-1, 512, 8, 8]       1,180,160\n",
            "      BatchNorm2d-48            [-1, 512, 8, 8]           1,024\n",
            "        LeakyReLU-49            [-1, 512, 8, 8]               0\n",
            "          Dropout-50            [-1, 512, 8, 8]               0\n",
            "           Conv2d-51            [-1, 512, 8, 8]       2,359,808\n",
            "      BatchNorm2d-52            [-1, 512, 8, 8]           1,024\n",
            "        LeakyReLU-53            [-1, 512, 8, 8]               0\n",
            "    ResidualBlock-54            [-1, 512, 8, 8]               0\n",
            "     EncoderBlock-55            [-1, 512, 8, 8]               0\n",
            "  ConvTranspose2d-56          [-1, 256, 16, 16]       1,179,904\n",
            "      BatchNorm2d-57          [-1, 256, 16, 16]             512\n",
            "        LeakyReLU-58          [-1, 256, 16, 16]               0\n",
            "          Dropout-59          [-1, 256, 16, 16]               0\n",
            "           Conv2d-60          [-1, 256, 16, 16]         131,328\n",
            "      BatchNorm2d-61          [-1, 256, 16, 16]             512\n",
            "           Conv2d-62          [-1, 256, 16, 16]       1,179,904\n",
            "      BatchNorm2d-63          [-1, 256, 16, 16]             512\n",
            "        LeakyReLU-64          [-1, 256, 16, 16]               0\n",
            "          Dropout-65          [-1, 256, 16, 16]               0\n",
            "           Conv2d-66          [-1, 256, 16, 16]         590,080\n",
            "      BatchNorm2d-67          [-1, 256, 16, 16]             512\n",
            "        LeakyReLU-68          [-1, 256, 16, 16]               0\n",
            "    ResidualBlock-69          [-1, 256, 16, 16]               0\n",
            "     DecoderBlock-70          [-1, 256, 16, 16]               0\n",
            "  ConvTranspose2d-71          [-1, 128, 32, 32]         295,040\n",
            "      BatchNorm2d-72          [-1, 128, 32, 32]             256\n",
            "        LeakyReLU-73          [-1, 128, 32, 32]               0\n",
            "          Dropout-74          [-1, 128, 32, 32]               0\n",
            "           Conv2d-75          [-1, 128, 32, 32]          32,896\n",
            "      BatchNorm2d-76          [-1, 128, 32, 32]             256\n",
            "           Conv2d-77          [-1, 128, 32, 32]         295,040\n",
            "      BatchNorm2d-78          [-1, 128, 32, 32]             256\n",
            "        LeakyReLU-79          [-1, 128, 32, 32]               0\n",
            "          Dropout-80          [-1, 128, 32, 32]               0\n",
            "           Conv2d-81          [-1, 128, 32, 32]         147,584\n",
            "      BatchNorm2d-82          [-1, 128, 32, 32]             256\n",
            "        LeakyReLU-83          [-1, 128, 32, 32]               0\n",
            "    ResidualBlock-84          [-1, 128, 32, 32]               0\n",
            "     DecoderBlock-85          [-1, 128, 32, 32]               0\n",
            "  ConvTranspose2d-86           [-1, 64, 64, 64]          73,792\n",
            "      BatchNorm2d-87           [-1, 64, 64, 64]             128\n",
            "        LeakyReLU-88           [-1, 64, 64, 64]               0\n",
            "          Dropout-89           [-1, 64, 64, 64]               0\n",
            "           Conv2d-90           [-1, 64, 64, 64]           8,256\n",
            "      BatchNorm2d-91           [-1, 64, 64, 64]             128\n",
            "           Conv2d-92           [-1, 64, 64, 64]          73,792\n",
            "      BatchNorm2d-93           [-1, 64, 64, 64]             128\n",
            "        LeakyReLU-94           [-1, 64, 64, 64]               0\n",
            "          Dropout-95           [-1, 64, 64, 64]               0\n",
            "           Conv2d-96           [-1, 64, 64, 64]          36,928\n",
            "      BatchNorm2d-97           [-1, 64, 64, 64]             128\n",
            "        LeakyReLU-98           [-1, 64, 64, 64]               0\n",
            "    ResidualBlock-99           [-1, 64, 64, 64]               0\n",
            "    DecoderBlock-100           [-1, 64, 64, 64]               0\n",
            " ConvTranspose2d-101         [-1, 32, 128, 128]          18,464\n",
            "     BatchNorm2d-102         [-1, 32, 128, 128]              64\n",
            "       LeakyReLU-103         [-1, 32, 128, 128]               0\n",
            "         Dropout-104         [-1, 32, 128, 128]               0\n",
            "          Conv2d-105         [-1, 32, 128, 128]           2,080\n",
            "     BatchNorm2d-106         [-1, 32, 128, 128]              64\n",
            "          Conv2d-107         [-1, 32, 128, 128]          18,464\n",
            "     BatchNorm2d-108         [-1, 32, 128, 128]              64\n",
            "       LeakyReLU-109         [-1, 32, 128, 128]               0\n",
            "         Dropout-110         [-1, 32, 128, 128]               0\n",
            "          Conv2d-111         [-1, 32, 128, 128]           9,248\n",
            "     BatchNorm2d-112         [-1, 32, 128, 128]              64\n",
            "       LeakyReLU-113         [-1, 32, 128, 128]               0\n",
            "   ResidualBlock-114         [-1, 32, 128, 128]               0\n",
            "    DecoderBlock-115         [-1, 32, 128, 128]               0\n",
            " ConvTranspose2d-116          [-1, 1, 256, 256]             289\n",
            "================================================================\n",
            "Total params: 8,989,633\n",
            "Trainable params: 8,989,633\n",
            "Non-trainable params: 0\n",
            "----------------------------------------------------------------\n",
            "Input size (MB): 0.25\n",
            "Forward/backward pass size (MB): 198.25\n",
            "Params size (MB): 34.29\n",
            "Estimated Total Size (MB): 232.79\n",
            "----------------------------------------------------------------\n"
          ]
        },
        {
          "output_type": "stream",
          "name": "stderr",
          "text": [
            "\rEpoch 1/200:   0%|                                                          | 0/169 [00:00<?, ?it/s]<ipython-input-49-a15c29a4060a>:248: FutureWarning: `torch.cuda.amp.autocast(args...)` is deprecated. Please use `torch.amp.autocast('cuda', args...)` instead.\n",
            "  with torch.cuda.amp.autocast():\n",
            "Epoch 1, Loss: 0.5664: 100%|██████████████████████████████████████| 169/169 [00:47<00:00,  3.54it/s]"
          ]
        },
        {
          "output_type": "stream",
          "name": "stdout",
          "text": [
            "Epoch 1 average train loss: 0.6759\n"
          ]
        },
        {
          "output_type": "stream",
          "name": "stderr",
          "text": [
            "\n"
          ]
        },
        {
          "output_type": "stream",
          "name": "stdout",
          "text": [
            "Epoch 1 average val loss: 0.5112\n",
            "Epoch 1: Model improved. Saved checkpoint to /content/drive/MyDrive/model_dae_combined_plz.pth\n"
          ]
        },
        {
          "output_type": "stream",
          "name": "stderr",
          "text": [
            "Epoch 2, Loss: 0.4447: 100%|██████████████████████████████████████| 169/169 [00:47<00:00,  3.53it/s]"
          ]
        },
        {
          "output_type": "stream",
          "name": "stdout",
          "text": [
            "Epoch 2 average train loss: 0.4824\n"
          ]
        },
        {
          "output_type": "stream",
          "name": "stderr",
          "text": [
            "\n"
          ]
        },
        {
          "output_type": "stream",
          "name": "stdout",
          "text": [
            "Epoch 2 average val loss: 0.4331\n",
            "Epoch 2: Model improved. Saved checkpoint to /content/drive/MyDrive/model_dae_combined_plz.pth\n"
          ]
        },
        {
          "output_type": "stream",
          "name": "stderr",
          "text": [
            "Epoch 3, Loss: 0.4252: 100%|██████████████████████████████████████| 169/169 [00:48<00:00,  3.52it/s]"
          ]
        },
        {
          "output_type": "stream",
          "name": "stdout",
          "text": [
            "Epoch 3 average train loss: 0.4101\n"
          ]
        },
        {
          "output_type": "stream",
          "name": "stderr",
          "text": [
            "\n"
          ]
        },
        {
          "output_type": "stream",
          "name": "stdout",
          "text": [
            "Epoch 3 average val loss: 0.3481\n",
            "Epoch 3: Model improved. Saved checkpoint to /content/drive/MyDrive/model_dae_combined_plz.pth\n"
          ]
        },
        {
          "output_type": "stream",
          "name": "stderr",
          "text": [
            "Epoch 4, Loss: 0.3760: 100%|██████████████████████████████████████| 169/169 [00:47<00:00,  3.53it/s]"
          ]
        },
        {
          "output_type": "stream",
          "name": "stdout",
          "text": [
            "Epoch 4 average train loss: 0.3779\n"
          ]
        },
        {
          "output_type": "stream",
          "name": "stderr",
          "text": [
            "\n"
          ]
        },
        {
          "output_type": "stream",
          "name": "stdout",
          "text": [
            "Epoch 4 average val loss: 0.3368\n",
            "Epoch 4: Model improved. Saved checkpoint to /content/drive/MyDrive/model_dae_combined_plz.pth\n"
          ]
        },
        {
          "output_type": "stream",
          "name": "stderr",
          "text": [
            "Epoch 5, Loss: 0.3919: 100%|██████████████████████████████████████| 169/169 [00:47<00:00,  3.53it/s]"
          ]
        },
        {
          "output_type": "stream",
          "name": "stdout",
          "text": [
            "Epoch 5 average train loss: 0.3608\n"
          ]
        },
        {
          "output_type": "stream",
          "name": "stderr",
          "text": [
            "\n"
          ]
        },
        {
          "output_type": "stream",
          "name": "stdout",
          "text": [
            "Epoch 5 average val loss: 0.3149\n",
            "Epoch 5: Model improved. Saved checkpoint to /content/drive/MyDrive/model_dae_combined_plz.pth\n"
          ]
        },
        {
          "output_type": "stream",
          "name": "stderr",
          "text": [
            "Epoch 6, Loss: 0.3425: 100%|██████████████████████████████████████| 169/169 [00:47<00:00,  3.53it/s]"
          ]
        },
        {
          "output_type": "stream",
          "name": "stdout",
          "text": [
            "Epoch 6 average train loss: 0.3459\n"
          ]
        },
        {
          "output_type": "stream",
          "name": "stderr",
          "text": [
            "\n"
          ]
        },
        {
          "output_type": "stream",
          "name": "stdout",
          "text": [
            "Epoch 6 average val loss: 0.3011\n",
            "Epoch 6: Model improved. Saved checkpoint to /content/drive/MyDrive/model_dae_combined_plz.pth\n"
          ]
        },
        {
          "output_type": "stream",
          "name": "stderr",
          "text": [
            "Epoch 7, Loss: 0.3333: 100%|██████████████████████████████████████| 169/169 [00:47<00:00,  3.52it/s]"
          ]
        },
        {
          "output_type": "stream",
          "name": "stdout",
          "text": [
            "Epoch 7 average train loss: 0.3332\n"
          ]
        },
        {
          "output_type": "stream",
          "name": "stderr",
          "text": [
            "\n"
          ]
        },
        {
          "output_type": "stream",
          "name": "stdout",
          "text": [
            "Epoch 7 average val loss: 0.2892\n",
            "Epoch 7: Model improved. Saved checkpoint to /content/drive/MyDrive/model_dae_combined_plz.pth\n"
          ]
        },
        {
          "output_type": "stream",
          "name": "stderr",
          "text": [
            "Epoch 8, Loss: 0.3142: 100%|██████████████████████████████████████| 169/169 [00:47<00:00,  3.53it/s]"
          ]
        },
        {
          "output_type": "stream",
          "name": "stdout",
          "text": [
            "Epoch 8 average train loss: 0.3263\n"
          ]
        },
        {
          "output_type": "stream",
          "name": "stderr",
          "text": [
            "\n"
          ]
        },
        {
          "output_type": "stream",
          "name": "stdout",
          "text": [
            "Epoch 8 average val loss: 0.3031\n"
          ]
        },
        {
          "output_type": "stream",
          "name": "stderr",
          "text": [
            "Epoch 9, Loss: 0.3090: 100%|██████████████████████████████████████| 169/169 [00:47<00:00,  3.53it/s]"
          ]
        },
        {
          "output_type": "stream",
          "name": "stdout",
          "text": [
            "Epoch 9 average train loss: 0.3149\n"
          ]
        },
        {
          "output_type": "stream",
          "name": "stderr",
          "text": [
            "\n"
          ]
        },
        {
          "output_type": "stream",
          "name": "stdout",
          "text": [
            "Epoch 9 average val loss: 0.2626\n",
            "Epoch 9: Model improved. Saved checkpoint to /content/drive/MyDrive/model_dae_combined_plz.pth\n"
          ]
        },
        {
          "output_type": "stream",
          "name": "stderr",
          "text": [
            "Epoch 10, Loss: 0.3644: 100%|█████████████████████████████████████| 169/169 [00:47<00:00,  3.53it/s]"
          ]
        },
        {
          "output_type": "stream",
          "name": "stdout",
          "text": [
            "Epoch 10 average train loss: 0.3156\n"
          ]
        },
        {
          "output_type": "stream",
          "name": "stderr",
          "text": [
            "\n"
          ]
        },
        {
          "output_type": "stream",
          "name": "stdout",
          "text": [
            "Epoch 10 average val loss: 0.2821\n"
          ]
        },
        {
          "output_type": "stream",
          "name": "stderr",
          "text": [
            "Epoch 11, Loss: 0.3107: 100%|█████████████████████████████████████| 169/169 [00:47<00:00,  3.53it/s]"
          ]
        },
        {
          "output_type": "stream",
          "name": "stdout",
          "text": [
            "Epoch 11 average train loss: 0.3048\n"
          ]
        },
        {
          "output_type": "stream",
          "name": "stderr",
          "text": [
            "\n"
          ]
        },
        {
          "output_type": "stream",
          "name": "stdout",
          "text": [
            "Epoch 11 average val loss: 0.2477\n",
            "Epoch 11: Model improved. Saved checkpoint to /content/drive/MyDrive/model_dae_combined_plz.pth\n"
          ]
        },
        {
          "output_type": "stream",
          "name": "stderr",
          "text": [
            "Epoch 12, Loss: 0.2989: 100%|█████████████████████████████████████| 169/169 [00:47<00:00,  3.53it/s]"
          ]
        },
        {
          "output_type": "stream",
          "name": "stdout",
          "text": [
            "Epoch 12 average train loss: 0.3000\n"
          ]
        },
        {
          "output_type": "stream",
          "name": "stderr",
          "text": [
            "\n"
          ]
        },
        {
          "output_type": "stream",
          "name": "stdout",
          "text": [
            "Epoch 12 average val loss: 0.2955\n"
          ]
        },
        {
          "output_type": "stream",
          "name": "stderr",
          "text": [
            "Epoch 13, Loss: 0.2912: 100%|█████████████████████████████████████| 169/169 [00:47<00:00,  3.53it/s]"
          ]
        },
        {
          "output_type": "stream",
          "name": "stdout",
          "text": [
            "Epoch 13 average train loss: 0.2959\n"
          ]
        },
        {
          "output_type": "stream",
          "name": "stderr",
          "text": [
            "\n"
          ]
        },
        {
          "output_type": "stream",
          "name": "stdout",
          "text": [
            "Epoch 13 average val loss: 0.2531\n"
          ]
        },
        {
          "output_type": "stream",
          "name": "stderr",
          "text": [
            "Epoch 14, Loss: 0.2995: 100%|█████████████████████████████████████| 169/169 [00:47<00:00,  3.53it/s]"
          ]
        },
        {
          "output_type": "stream",
          "name": "stdout",
          "text": [
            "Epoch 14 average train loss: 0.2922\n"
          ]
        },
        {
          "output_type": "stream",
          "name": "stderr",
          "text": [
            "\n"
          ]
        },
        {
          "output_type": "stream",
          "name": "stdout",
          "text": [
            "Epoch 14 average val loss: 0.2386\n",
            "Epoch 14: Model improved. Saved checkpoint to /content/drive/MyDrive/model_dae_combined_plz.pth\n"
          ]
        },
        {
          "output_type": "stream",
          "name": "stderr",
          "text": [
            "Epoch 15, Loss: 0.3329: 100%|█████████████████████████████████████| 169/169 [00:47<00:00,  3.53it/s]"
          ]
        },
        {
          "output_type": "stream",
          "name": "stdout",
          "text": [
            "Epoch 15 average train loss: 0.2805\n"
          ]
        },
        {
          "output_type": "stream",
          "name": "stderr",
          "text": [
            "\n"
          ]
        },
        {
          "output_type": "stream",
          "name": "stdout",
          "text": [
            "Epoch 15 average val loss: 0.2411\n"
          ]
        },
        {
          "output_type": "stream",
          "name": "stderr",
          "text": [
            "Epoch 16, Loss: 0.3012: 100%|█████████████████████████████████████| 169/169 [00:47<00:00,  3.52it/s]"
          ]
        },
        {
          "output_type": "stream",
          "name": "stdout",
          "text": [
            "Epoch 16 average train loss: 0.2841\n"
          ]
        },
        {
          "output_type": "stream",
          "name": "stderr",
          "text": [
            "\n"
          ]
        },
        {
          "output_type": "stream",
          "name": "stdout",
          "text": [
            "Epoch 16 average val loss: 0.2497\n"
          ]
        },
        {
          "output_type": "stream",
          "name": "stderr",
          "text": [
            "Epoch 17, Loss: 0.2467: 100%|█████████████████████████████████████| 169/169 [00:47<00:00,  3.53it/s]"
          ]
        },
        {
          "output_type": "stream",
          "name": "stdout",
          "text": [
            "Epoch 17 average train loss: 0.2799\n"
          ]
        },
        {
          "output_type": "stream",
          "name": "stderr",
          "text": [
            "\n"
          ]
        },
        {
          "output_type": "stream",
          "name": "stdout",
          "text": [
            "Epoch 17 average val loss: 0.2442\n"
          ]
        },
        {
          "output_type": "stream",
          "name": "stderr",
          "text": [
            "Epoch 18, Loss: 0.2346: 100%|█████████████████████████████████████| 169/169 [00:47<00:00,  3.53it/s]"
          ]
        },
        {
          "output_type": "stream",
          "name": "stdout",
          "text": [
            "Epoch 18 average train loss: 0.2658\n"
          ]
        },
        {
          "output_type": "stream",
          "name": "stderr",
          "text": [
            "\n"
          ]
        },
        {
          "output_type": "stream",
          "name": "stdout",
          "text": [
            "Epoch 18 average val loss: 0.2212\n",
            "Epoch 18: Model improved. Saved checkpoint to /content/drive/MyDrive/model_dae_combined_plz.pth\n"
          ]
        },
        {
          "output_type": "stream",
          "name": "stderr",
          "text": [
            "Epoch 19, Loss: 0.2890: 100%|█████████████████████████████████████| 169/169 [00:47<00:00,  3.53it/s]"
          ]
        },
        {
          "output_type": "stream",
          "name": "stdout",
          "text": [
            "Epoch 19 average train loss: 0.2699\n"
          ]
        },
        {
          "output_type": "stream",
          "name": "stderr",
          "text": [
            "\n"
          ]
        },
        {
          "output_type": "stream",
          "name": "stdout",
          "text": [
            "Epoch 19 average val loss: 0.2493\n"
          ]
        },
        {
          "output_type": "stream",
          "name": "stderr",
          "text": [
            "Epoch 20, Loss: 0.2478: 100%|█████████████████████████████████████| 169/169 [00:47<00:00,  3.53it/s]"
          ]
        },
        {
          "output_type": "stream",
          "name": "stdout",
          "text": [
            "Epoch 20 average train loss: 0.2712\n"
          ]
        },
        {
          "output_type": "stream",
          "name": "stderr",
          "text": [
            "\n"
          ]
        },
        {
          "output_type": "stream",
          "name": "stdout",
          "text": [
            "Epoch 20 average val loss: 0.2326\n"
          ]
        },
        {
          "output_type": "stream",
          "name": "stderr",
          "text": [
            "Epoch 21, Loss: 0.2372: 100%|█████████████████████████████████████| 169/169 [00:47<00:00,  3.54it/s]"
          ]
        },
        {
          "output_type": "stream",
          "name": "stdout",
          "text": [
            "Epoch 21 average train loss: 0.2639\n"
          ]
        },
        {
          "output_type": "stream",
          "name": "stderr",
          "text": [
            "\n"
          ]
        },
        {
          "output_type": "stream",
          "name": "stdout",
          "text": [
            "Epoch 21 average val loss: 0.2271\n"
          ]
        },
        {
          "output_type": "stream",
          "name": "stderr",
          "text": [
            "Epoch 22, Loss: 0.2725: 100%|█████████████████████████████████████| 169/169 [00:47<00:00,  3.53it/s]"
          ]
        },
        {
          "output_type": "stream",
          "name": "stdout",
          "text": [
            "Epoch 22 average train loss: 0.2647\n"
          ]
        },
        {
          "output_type": "stream",
          "name": "stderr",
          "text": [
            "\n"
          ]
        },
        {
          "output_type": "stream",
          "name": "stdout",
          "text": [
            "Epoch 22 average val loss: 0.2158\n",
            "Epoch 22: Model improved. Saved checkpoint to /content/drive/MyDrive/model_dae_combined_plz.pth\n"
          ]
        },
        {
          "output_type": "stream",
          "name": "stderr",
          "text": [
            "Epoch 23, Loss: 0.2476: 100%|█████████████████████████████████████| 169/169 [00:47<00:00,  3.54it/s]"
          ]
        },
        {
          "output_type": "stream",
          "name": "stdout",
          "text": [
            "Epoch 23 average train loss: 0.2647\n"
          ]
        },
        {
          "output_type": "stream",
          "name": "stderr",
          "text": [
            "\n"
          ]
        },
        {
          "output_type": "stream",
          "name": "stdout",
          "text": [
            "Epoch 23 average val loss: 0.2159\n"
          ]
        },
        {
          "output_type": "stream",
          "name": "stderr",
          "text": [
            "Epoch 24, Loss: 0.3513: 100%|█████████████████████████████████████| 169/169 [00:47<00:00,  3.53it/s]"
          ]
        },
        {
          "output_type": "stream",
          "name": "stdout",
          "text": [
            "Epoch 24 average train loss: 0.2622\n"
          ]
        },
        {
          "output_type": "stream",
          "name": "stderr",
          "text": [
            "\n"
          ]
        },
        {
          "output_type": "stream",
          "name": "stdout",
          "text": [
            "Epoch 24 average val loss: 0.2656\n"
          ]
        },
        {
          "output_type": "stream",
          "name": "stderr",
          "text": [
            "Epoch 25, Loss: 0.2316: 100%|█████████████████████████████████████| 169/169 [00:47<00:00,  3.53it/s]"
          ]
        },
        {
          "output_type": "stream",
          "name": "stdout",
          "text": [
            "Epoch 25 average train loss: 0.2573\n"
          ]
        },
        {
          "output_type": "stream",
          "name": "stderr",
          "text": [
            "\n"
          ]
        },
        {
          "output_type": "stream",
          "name": "stdout",
          "text": [
            "Epoch 25 average val loss: 0.2218\n"
          ]
        },
        {
          "output_type": "stream",
          "name": "stderr",
          "text": [
            "Epoch 26, Loss: 0.2281: 100%|█████████████████████████████████████| 169/169 [00:47<00:00,  3.53it/s]"
          ]
        },
        {
          "output_type": "stream",
          "name": "stdout",
          "text": [
            "Epoch 26 average train loss: 0.2569\n"
          ]
        },
        {
          "output_type": "stream",
          "name": "stderr",
          "text": [
            "\n"
          ]
        },
        {
          "output_type": "stream",
          "name": "stdout",
          "text": [
            "Epoch 26 average val loss: 0.2140\n",
            "Epoch 26: Model improved. Saved checkpoint to /content/drive/MyDrive/model_dae_combined_plz.pth\n"
          ]
        },
        {
          "output_type": "stream",
          "name": "stderr",
          "text": [
            "Epoch 27, Loss: 0.2777: 100%|█████████████████████████████████████| 169/169 [00:47<00:00,  3.54it/s]"
          ]
        },
        {
          "output_type": "stream",
          "name": "stdout",
          "text": [
            "Epoch 27 average train loss: 0.2463\n"
          ]
        },
        {
          "output_type": "stream",
          "name": "stderr",
          "text": [
            "\n"
          ]
        },
        {
          "output_type": "stream",
          "name": "stdout",
          "text": [
            "Epoch 27 average val loss: 0.2231\n"
          ]
        },
        {
          "output_type": "stream",
          "name": "stderr",
          "text": [
            "Epoch 28, Loss: 0.2957: 100%|█████████████████████████████████████| 169/169 [00:47<00:00,  3.53it/s]"
          ]
        },
        {
          "output_type": "stream",
          "name": "stdout",
          "text": [
            "Epoch 28 average train loss: 0.2411\n"
          ]
        },
        {
          "output_type": "stream",
          "name": "stderr",
          "text": [
            "\n"
          ]
        },
        {
          "output_type": "stream",
          "name": "stdout",
          "text": [
            "Epoch 28 average val loss: 0.2033\n",
            "Epoch 28: Model improved. Saved checkpoint to /content/drive/MyDrive/model_dae_combined_plz.pth\n"
          ]
        },
        {
          "output_type": "stream",
          "name": "stderr",
          "text": [
            "Epoch 29, Loss: 0.2309: 100%|█████████████████████████████████████| 169/169 [00:47<00:00,  3.54it/s]"
          ]
        },
        {
          "output_type": "stream",
          "name": "stdout",
          "text": [
            "Epoch 29 average train loss: 0.2390\n"
          ]
        },
        {
          "output_type": "stream",
          "name": "stderr",
          "text": [
            "\n"
          ]
        },
        {
          "output_type": "stream",
          "name": "stdout",
          "text": [
            "Epoch 29 average val loss: 0.2043\n"
          ]
        },
        {
          "output_type": "stream",
          "name": "stderr",
          "text": [
            "Epoch 30, Loss: 0.2328: 100%|█████████████████████████████████████| 169/169 [00:47<00:00,  3.54it/s]"
          ]
        },
        {
          "output_type": "stream",
          "name": "stdout",
          "text": [
            "Epoch 30 average train loss: 0.2411\n"
          ]
        },
        {
          "output_type": "stream",
          "name": "stderr",
          "text": [
            "\n"
          ]
        },
        {
          "output_type": "stream",
          "name": "stdout",
          "text": [
            "Epoch 30 average val loss: 0.2063\n"
          ]
        },
        {
          "output_type": "stream",
          "name": "stderr",
          "text": [
            "Epoch 31, Loss: 0.2175: 100%|█████████████████████████████████████| 169/169 [00:47<00:00,  3.54it/s]"
          ]
        },
        {
          "output_type": "stream",
          "name": "stdout",
          "text": [
            "Epoch 31 average train loss: 0.2374\n"
          ]
        },
        {
          "output_type": "stream",
          "name": "stderr",
          "text": [
            "\n"
          ]
        },
        {
          "output_type": "stream",
          "name": "stdout",
          "text": [
            "Epoch 31 average val loss: 0.1944\n",
            "Epoch 31: Model improved. Saved checkpoint to /content/drive/MyDrive/model_dae_combined_plz.pth\n"
          ]
        },
        {
          "output_type": "stream",
          "name": "stderr",
          "text": [
            "Epoch 32, Loss: 0.2157: 100%|█████████████████████████████████████| 169/169 [00:47<00:00,  3.54it/s]"
          ]
        },
        {
          "output_type": "stream",
          "name": "stdout",
          "text": [
            "Epoch 32 average train loss: 0.2323\n"
          ]
        },
        {
          "output_type": "stream",
          "name": "stderr",
          "text": [
            "\n"
          ]
        },
        {
          "output_type": "stream",
          "name": "stdout",
          "text": [
            "Epoch 32 average val loss: 0.2166\n"
          ]
        },
        {
          "output_type": "stream",
          "name": "stderr",
          "text": [
            "Epoch 33, Loss: 0.2062: 100%|█████████████████████████████████████| 169/169 [00:47<00:00,  3.54it/s]"
          ]
        },
        {
          "output_type": "stream",
          "name": "stdout",
          "text": [
            "Epoch 33 average train loss: 0.2342\n"
          ]
        },
        {
          "output_type": "stream",
          "name": "stderr",
          "text": [
            "\n"
          ]
        },
        {
          "output_type": "stream",
          "name": "stdout",
          "text": [
            "Epoch 33 average val loss: 0.1981\n"
          ]
        },
        {
          "output_type": "stream",
          "name": "stderr",
          "text": [
            "Epoch 34, Loss: 0.2053: 100%|█████████████████████████████████████| 169/169 [00:47<00:00,  3.54it/s]"
          ]
        },
        {
          "output_type": "stream",
          "name": "stdout",
          "text": [
            "Epoch 34 average train loss: 0.2321\n"
          ]
        },
        {
          "output_type": "stream",
          "name": "stderr",
          "text": [
            "\n"
          ]
        },
        {
          "output_type": "stream",
          "name": "stdout",
          "text": [
            "Epoch 34 average val loss: 0.2079\n"
          ]
        },
        {
          "output_type": "stream",
          "name": "stderr",
          "text": [
            "Epoch 35, Loss: 0.2167: 100%|█████████████████████████████████████| 169/169 [00:47<00:00,  3.54it/s]"
          ]
        },
        {
          "output_type": "stream",
          "name": "stdout",
          "text": [
            "Epoch 35 average train loss: 0.2302\n"
          ]
        },
        {
          "output_type": "stream",
          "name": "stderr",
          "text": [
            "\n"
          ]
        },
        {
          "output_type": "stream",
          "name": "stdout",
          "text": [
            "Epoch 35 average val loss: 0.1996\n"
          ]
        },
        {
          "output_type": "stream",
          "name": "stderr",
          "text": [
            "Epoch 36, Loss: 0.2273: 100%|█████████████████████████████████████| 169/169 [00:47<00:00,  3.54it/s]"
          ]
        },
        {
          "output_type": "stream",
          "name": "stdout",
          "text": [
            "Epoch 36 average train loss: 0.2327\n"
          ]
        },
        {
          "output_type": "stream",
          "name": "stderr",
          "text": [
            "\n"
          ]
        },
        {
          "output_type": "stream",
          "name": "stdout",
          "text": [
            "Epoch 36 average val loss: 0.2186\n"
          ]
        },
        {
          "output_type": "stream",
          "name": "stderr",
          "text": [
            "Epoch 37, Loss: 0.2731: 100%|█████████████████████████████████████| 169/169 [00:47<00:00,  3.54it/s]"
          ]
        },
        {
          "output_type": "stream",
          "name": "stdout",
          "text": [
            "Epoch 37 average train loss: 0.2269\n"
          ]
        },
        {
          "output_type": "stream",
          "name": "stderr",
          "text": [
            "\n"
          ]
        },
        {
          "output_type": "stream",
          "name": "stdout",
          "text": [
            "Epoch 37 average val loss: 0.1917\n",
            "Epoch 37: Model improved. Saved checkpoint to /content/drive/MyDrive/model_dae_combined_plz.pth\n"
          ]
        },
        {
          "output_type": "stream",
          "name": "stderr",
          "text": [
            "Epoch 38, Loss: 0.2066: 100%|█████████████████████████████████████| 169/169 [00:47<00:00,  3.54it/s]"
          ]
        },
        {
          "output_type": "stream",
          "name": "stdout",
          "text": [
            "Epoch 38 average train loss: 0.2282\n"
          ]
        },
        {
          "output_type": "stream",
          "name": "stderr",
          "text": [
            "\n"
          ]
        },
        {
          "output_type": "stream",
          "name": "stdout",
          "text": [
            "Epoch 38 average val loss: 0.1881\n",
            "Epoch 38: Model improved. Saved checkpoint to /content/drive/MyDrive/model_dae_combined_plz.pth\n"
          ]
        },
        {
          "output_type": "stream",
          "name": "stderr",
          "text": [
            "Epoch 39, Loss: 0.2106: 100%|█████████████████████████████████████| 169/169 [00:47<00:00,  3.54it/s]"
          ]
        },
        {
          "output_type": "stream",
          "name": "stdout",
          "text": [
            "Epoch 39 average train loss: 0.2222\n"
          ]
        },
        {
          "output_type": "stream",
          "name": "stderr",
          "text": [
            "\n"
          ]
        },
        {
          "output_type": "stream",
          "name": "stdout",
          "text": [
            "Epoch 39 average val loss: 0.1922\n"
          ]
        },
        {
          "output_type": "stream",
          "name": "stderr",
          "text": [
            "Epoch 40, Loss: 0.1992: 100%|█████████████████████████████████████| 169/169 [00:47<00:00,  3.54it/s]"
          ]
        },
        {
          "output_type": "stream",
          "name": "stdout",
          "text": [
            "Epoch 40 average train loss: 0.2177\n"
          ]
        },
        {
          "output_type": "stream",
          "name": "stderr",
          "text": [
            "\n"
          ]
        },
        {
          "output_type": "stream",
          "name": "stdout",
          "text": [
            "Epoch 40 average val loss: 0.1829\n",
            "Epoch 40: Model improved. Saved checkpoint to /content/drive/MyDrive/model_dae_combined_plz.pth\n"
          ]
        },
        {
          "output_type": "stream",
          "name": "stderr",
          "text": [
            "Epoch 41, Loss: 0.2297: 100%|█████████████████████████████████████| 169/169 [00:47<00:00,  3.54it/s]"
          ]
        },
        {
          "output_type": "stream",
          "name": "stdout",
          "text": [
            "Epoch 41 average train loss: 0.2216\n"
          ]
        },
        {
          "output_type": "stream",
          "name": "stderr",
          "text": [
            "\n"
          ]
        },
        {
          "output_type": "stream",
          "name": "stdout",
          "text": [
            "Epoch 41 average val loss: 0.1920\n"
          ]
        },
        {
          "output_type": "stream",
          "name": "stderr",
          "text": [
            "Epoch 42, Loss: 0.1898: 100%|█████████████████████████████████████| 169/169 [00:47<00:00,  3.54it/s]"
          ]
        },
        {
          "output_type": "stream",
          "name": "stdout",
          "text": [
            "Epoch 42 average train loss: 0.2184\n"
          ]
        },
        {
          "output_type": "stream",
          "name": "stderr",
          "text": [
            "\n"
          ]
        },
        {
          "output_type": "stream",
          "name": "stdout",
          "text": [
            "Epoch 42 average val loss: 0.1863\n"
          ]
        },
        {
          "output_type": "stream",
          "name": "stderr",
          "text": [
            "Epoch 43, Loss: 0.2110: 100%|█████████████████████████████████████| 169/169 [00:47<00:00,  3.54it/s]"
          ]
        },
        {
          "output_type": "stream",
          "name": "stdout",
          "text": [
            "Epoch 43 average train loss: 0.2205\n"
          ]
        },
        {
          "output_type": "stream",
          "name": "stderr",
          "text": [
            "\n"
          ]
        },
        {
          "output_type": "stream",
          "name": "stdout",
          "text": [
            "Epoch 43 average val loss: 0.1823\n",
            "Epoch 43: Model improved. Saved checkpoint to /content/drive/MyDrive/model_dae_combined_plz.pth\n"
          ]
        },
        {
          "output_type": "stream",
          "name": "stderr",
          "text": [
            "Epoch 44, Loss: 0.2247: 100%|█████████████████████████████████████| 169/169 [00:47<00:00,  3.54it/s]"
          ]
        },
        {
          "output_type": "stream",
          "name": "stdout",
          "text": [
            "Epoch 44 average train loss: 0.2136\n"
          ]
        },
        {
          "output_type": "stream",
          "name": "stderr",
          "text": [
            "\n"
          ]
        },
        {
          "output_type": "stream",
          "name": "stdout",
          "text": [
            "Epoch 44 average val loss: 0.1908\n"
          ]
        },
        {
          "output_type": "stream",
          "name": "stderr",
          "text": [
            "Epoch 45, Loss: 0.2076: 100%|█████████████████████████████████████| 169/169 [00:47<00:00,  3.54it/s]"
          ]
        },
        {
          "output_type": "stream",
          "name": "stdout",
          "text": [
            "Epoch 45 average train loss: 0.2152\n"
          ]
        },
        {
          "output_type": "stream",
          "name": "stderr",
          "text": [
            "\n"
          ]
        },
        {
          "output_type": "stream",
          "name": "stdout",
          "text": [
            "Epoch 45 average val loss: 0.1868\n"
          ]
        },
        {
          "output_type": "stream",
          "name": "stderr",
          "text": [
            "Epoch 46, Loss: 0.2206: 100%|█████████████████████████████████████| 169/169 [00:47<00:00,  3.54it/s]"
          ]
        },
        {
          "output_type": "stream",
          "name": "stdout",
          "text": [
            "Epoch 46 average train loss: 0.2153\n"
          ]
        },
        {
          "output_type": "stream",
          "name": "stderr",
          "text": [
            "\n"
          ]
        },
        {
          "output_type": "stream",
          "name": "stdout",
          "text": [
            "Epoch 46 average val loss: 0.1772\n",
            "Epoch 46: Model improved. Saved checkpoint to /content/drive/MyDrive/model_dae_combined_plz.pth\n"
          ]
        },
        {
          "output_type": "stream",
          "name": "stderr",
          "text": [
            "Epoch 47, Loss: 0.1928: 100%|█████████████████████████████████████| 169/169 [00:47<00:00,  3.54it/s]"
          ]
        },
        {
          "output_type": "stream",
          "name": "stdout",
          "text": [
            "Epoch 47 average train loss: 0.2123\n"
          ]
        },
        {
          "output_type": "stream",
          "name": "stderr",
          "text": [
            "\n"
          ]
        },
        {
          "output_type": "stream",
          "name": "stdout",
          "text": [
            "Epoch 47 average val loss: 0.1827\n"
          ]
        },
        {
          "output_type": "stream",
          "name": "stderr",
          "text": [
            "Epoch 48, Loss: 0.1944: 100%|█████████████████████████████████████| 169/169 [00:47<00:00,  3.54it/s]"
          ]
        },
        {
          "output_type": "stream",
          "name": "stdout",
          "text": [
            "Epoch 48 average train loss: 0.2104\n"
          ]
        },
        {
          "output_type": "stream",
          "name": "stderr",
          "text": [
            "\n"
          ]
        },
        {
          "output_type": "stream",
          "name": "stdout",
          "text": [
            "Epoch 48 average val loss: 0.1786\n"
          ]
        },
        {
          "output_type": "stream",
          "name": "stderr",
          "text": [
            "Epoch 49, Loss: 0.2762: 100%|█████████████████████████████████████| 169/169 [00:47<00:00,  3.54it/s]"
          ]
        },
        {
          "output_type": "stream",
          "name": "stdout",
          "text": [
            "Epoch 49 average train loss: 0.2109\n"
          ]
        },
        {
          "output_type": "stream",
          "name": "stderr",
          "text": [
            "\n"
          ]
        },
        {
          "output_type": "stream",
          "name": "stdout",
          "text": [
            "Epoch 49 average val loss: 0.1856\n"
          ]
        },
        {
          "output_type": "stream",
          "name": "stderr",
          "text": [
            "Epoch 50, Loss: 0.1969: 100%|█████████████████████████████████████| 169/169 [00:47<00:00,  3.54it/s]"
          ]
        },
        {
          "output_type": "stream",
          "name": "stdout",
          "text": [
            "Epoch 50 average train loss: 0.2098\n"
          ]
        },
        {
          "output_type": "stream",
          "name": "stderr",
          "text": [
            "\n"
          ]
        },
        {
          "output_type": "stream",
          "name": "stdout",
          "text": [
            "Epoch 50 average val loss: 0.1936\n"
          ]
        },
        {
          "output_type": "stream",
          "name": "stderr",
          "text": [
            "Epoch 51, Loss: 0.3694: 100%|█████████████████████████████████████| 169/169 [00:47<00:00,  3.54it/s]"
          ]
        },
        {
          "output_type": "stream",
          "name": "stdout",
          "text": [
            "Epoch 51 average train loss: 0.2131\n"
          ]
        },
        {
          "output_type": "stream",
          "name": "stderr",
          "text": [
            "\n"
          ]
        },
        {
          "output_type": "stream",
          "name": "stdout",
          "text": [
            "Epoch 51 average val loss: 0.2062\n"
          ]
        },
        {
          "output_type": "stream",
          "name": "stderr",
          "text": [
            "Epoch 52, Loss: 0.1949: 100%|█████████████████████████████████████| 169/169 [00:47<00:00,  3.54it/s]"
          ]
        },
        {
          "output_type": "stream",
          "name": "stdout",
          "text": [
            "Epoch 52 average train loss: 0.2100\n"
          ]
        },
        {
          "output_type": "stream",
          "name": "stderr",
          "text": [
            "\n"
          ]
        },
        {
          "output_type": "stream",
          "name": "stdout",
          "text": [
            "Epoch 52 average val loss: 0.1860\n"
          ]
        },
        {
          "output_type": "stream",
          "name": "stderr",
          "text": [
            "Epoch 53, Loss: 0.2988: 100%|█████████████████████████████████████| 169/169 [00:47<00:00,  3.54it/s]"
          ]
        },
        {
          "output_type": "stream",
          "name": "stdout",
          "text": [
            "Epoch 53 average train loss: 0.2119\n"
          ]
        },
        {
          "output_type": "stream",
          "name": "stderr",
          "text": [
            "\n"
          ]
        },
        {
          "output_type": "stream",
          "name": "stdout",
          "text": [
            "Epoch 53 average val loss: 0.1955\n"
          ]
        },
        {
          "output_type": "stream",
          "name": "stderr",
          "text": [
            "Epoch 54, Loss: 0.1869: 100%|█████████████████████████████████████| 169/169 [00:47<00:00,  3.54it/s]"
          ]
        },
        {
          "output_type": "stream",
          "name": "stdout",
          "text": [
            "Epoch 54 average train loss: 0.2082\n"
          ]
        },
        {
          "output_type": "stream",
          "name": "stderr",
          "text": [
            "\n"
          ]
        },
        {
          "output_type": "stream",
          "name": "stdout",
          "text": [
            "Epoch 54 average val loss: 0.1755\n",
            "Epoch 54: Model improved. Saved checkpoint to /content/drive/MyDrive/model_dae_combined_plz.pth\n"
          ]
        },
        {
          "output_type": "stream",
          "name": "stderr",
          "text": [
            "Epoch 55, Loss: 0.1873: 100%|█████████████████████████████████████| 169/169 [00:47<00:00,  3.54it/s]"
          ]
        },
        {
          "output_type": "stream",
          "name": "stdout",
          "text": [
            "Epoch 55 average train loss: 0.2078\n"
          ]
        },
        {
          "output_type": "stream",
          "name": "stderr",
          "text": [
            "\n"
          ]
        },
        {
          "output_type": "stream",
          "name": "stdout",
          "text": [
            "Epoch 55 average val loss: 0.1784\n"
          ]
        },
        {
          "output_type": "stream",
          "name": "stderr",
          "text": [
            "Epoch 56, Loss: 0.1803: 100%|█████████████████████████████████████| 169/169 [00:47<00:00,  3.54it/s]"
          ]
        },
        {
          "output_type": "stream",
          "name": "stdout",
          "text": [
            "Epoch 56 average train loss: 0.2087\n"
          ]
        },
        {
          "output_type": "stream",
          "name": "stderr",
          "text": [
            "\n"
          ]
        },
        {
          "output_type": "stream",
          "name": "stdout",
          "text": [
            "Epoch 56 average val loss: 0.1745\n",
            "Epoch 56: Model improved. Saved checkpoint to /content/drive/MyDrive/model_dae_combined_plz.pth\n"
          ]
        },
        {
          "output_type": "stream",
          "name": "stderr",
          "text": [
            "Epoch 57, Loss: 0.1779: 100%|█████████████████████████████████████| 169/169 [00:47<00:00,  3.55it/s]"
          ]
        },
        {
          "output_type": "stream",
          "name": "stdout",
          "text": [
            "Epoch 57 average train loss: 0.2014\n"
          ]
        },
        {
          "output_type": "stream",
          "name": "stderr",
          "text": [
            "\n"
          ]
        },
        {
          "output_type": "stream",
          "name": "stdout",
          "text": [
            "Epoch 57 average val loss: 0.1666\n",
            "Epoch 57: Model improved. Saved checkpoint to /content/drive/MyDrive/model_dae_combined_plz.pth\n"
          ]
        },
        {
          "output_type": "stream",
          "name": "stderr",
          "text": [
            "Epoch 58, Loss: 0.2509: 100%|█████████████████████████████████████| 169/169 [00:47<00:00,  3.55it/s]"
          ]
        },
        {
          "output_type": "stream",
          "name": "stdout",
          "text": [
            "Epoch 58 average train loss: 0.2066\n"
          ]
        },
        {
          "output_type": "stream",
          "name": "stderr",
          "text": [
            "\n"
          ]
        },
        {
          "output_type": "stream",
          "name": "stdout",
          "text": [
            "Epoch 58 average val loss: 0.1739\n"
          ]
        },
        {
          "output_type": "stream",
          "name": "stderr",
          "text": [
            "Epoch 59, Loss: 0.1773: 100%|█████████████████████████████████████| 169/169 [00:47<00:00,  3.55it/s]"
          ]
        },
        {
          "output_type": "stream",
          "name": "stdout",
          "text": [
            "Epoch 59 average train loss: 0.2057\n"
          ]
        },
        {
          "output_type": "stream",
          "name": "stderr",
          "text": [
            "\n"
          ]
        },
        {
          "output_type": "stream",
          "name": "stdout",
          "text": [
            "Epoch 59 average val loss: 0.1779\n"
          ]
        },
        {
          "output_type": "stream",
          "name": "stderr",
          "text": [
            "Epoch 60, Loss: 0.1839: 100%|█████████████████████████████████████| 169/169 [00:47<00:00,  3.55it/s]"
          ]
        },
        {
          "output_type": "stream",
          "name": "stdout",
          "text": [
            "Epoch 60 average train loss: 0.2143\n"
          ]
        },
        {
          "output_type": "stream",
          "name": "stderr",
          "text": [
            "\n"
          ]
        },
        {
          "output_type": "stream",
          "name": "stdout",
          "text": [
            "Epoch 60 average val loss: 0.1807\n"
          ]
        },
        {
          "output_type": "stream",
          "name": "stderr",
          "text": [
            "Epoch 61, Loss: 0.2394: 100%|█████████████████████████████████████| 169/169 [00:47<00:00,  3.55it/s]"
          ]
        },
        {
          "output_type": "stream",
          "name": "stdout",
          "text": [
            "Epoch 61 average train loss: 0.1967\n"
          ]
        },
        {
          "output_type": "stream",
          "name": "stderr",
          "text": [
            "\n"
          ]
        },
        {
          "output_type": "stream",
          "name": "stdout",
          "text": [
            "Epoch 61 average val loss: 0.1683\n"
          ]
        },
        {
          "output_type": "stream",
          "name": "stderr",
          "text": [
            "Epoch 62, Loss: 0.2017: 100%|█████████████████████████████████████| 169/169 [00:47<00:00,  3.55it/s]"
          ]
        },
        {
          "output_type": "stream",
          "name": "stdout",
          "text": [
            "Epoch 62 average train loss: 0.2010\n"
          ]
        },
        {
          "output_type": "stream",
          "name": "stderr",
          "text": [
            "\n"
          ]
        },
        {
          "output_type": "stream",
          "name": "stdout",
          "text": [
            "Epoch 62 average val loss: 0.1738\n"
          ]
        },
        {
          "output_type": "stream",
          "name": "stderr",
          "text": [
            "Epoch 63, Loss: 0.2294: 100%|█████████████████████████████████████| 169/169 [00:47<00:00,  3.55it/s]"
          ]
        },
        {
          "output_type": "stream",
          "name": "stdout",
          "text": [
            "Epoch 63 average train loss: 0.2047\n"
          ]
        },
        {
          "output_type": "stream",
          "name": "stderr",
          "text": [
            "\n"
          ]
        },
        {
          "output_type": "stream",
          "name": "stdout",
          "text": [
            "Epoch 63 average val loss: 0.2090\n"
          ]
        },
        {
          "output_type": "stream",
          "name": "stderr",
          "text": [
            "Epoch 64, Loss: 0.1969: 100%|█████████████████████████████████████| 169/169 [00:47<00:00,  3.55it/s]"
          ]
        },
        {
          "output_type": "stream",
          "name": "stdout",
          "text": [
            "Epoch 64 average train loss: 0.2108\n"
          ]
        },
        {
          "output_type": "stream",
          "name": "stderr",
          "text": [
            "\n"
          ]
        },
        {
          "output_type": "stream",
          "name": "stdout",
          "text": [
            "Epoch 64 average val loss: 0.1824\n"
          ]
        },
        {
          "output_type": "stream",
          "name": "stderr",
          "text": [
            "Epoch 65, Loss: 0.1826: 100%|█████████████████████████████████████| 169/169 [00:47<00:00,  3.55it/s]"
          ]
        },
        {
          "output_type": "stream",
          "name": "stdout",
          "text": [
            "Epoch 65 average train loss: 0.2000\n"
          ]
        },
        {
          "output_type": "stream",
          "name": "stderr",
          "text": [
            "\n"
          ]
        },
        {
          "output_type": "stream",
          "name": "stdout",
          "text": [
            "Epoch 65 average val loss: 0.1745\n"
          ]
        },
        {
          "output_type": "stream",
          "name": "stderr",
          "text": [
            "Epoch 66, Loss: 0.3080: 100%|█████████████████████████████████████| 169/169 [00:47<00:00,  3.55it/s]"
          ]
        },
        {
          "output_type": "stream",
          "name": "stdout",
          "text": [
            "Epoch 66 average train loss: 0.2020\n"
          ]
        },
        {
          "output_type": "stream",
          "name": "stderr",
          "text": [
            "\n"
          ]
        },
        {
          "output_type": "stream",
          "name": "stdout",
          "text": [
            "Epoch 66 average val loss: 0.1691\n"
          ]
        },
        {
          "output_type": "stream",
          "name": "stderr",
          "text": [
            "Epoch 67, Loss: 0.2821: 100%|█████████████████████████████████████| 169/169 [00:47<00:00,  3.55it/s]"
          ]
        },
        {
          "output_type": "stream",
          "name": "stdout",
          "text": [
            "Epoch 67 average train loss: 0.2011\n"
          ]
        },
        {
          "output_type": "stream",
          "name": "stderr",
          "text": [
            "\n"
          ]
        },
        {
          "output_type": "stream",
          "name": "stdout",
          "text": [
            "Epoch 67 average val loss: 0.1912\n"
          ]
        },
        {
          "output_type": "stream",
          "name": "stderr",
          "text": [
            "Epoch 68, Loss: 0.1901: 100%|█████████████████████████████████████| 169/169 [00:47<00:00,  3.55it/s]"
          ]
        },
        {
          "output_type": "stream",
          "name": "stdout",
          "text": [
            "Epoch 68 average train loss: 0.1986\n"
          ]
        },
        {
          "output_type": "stream",
          "name": "stderr",
          "text": [
            "\n"
          ]
        },
        {
          "output_type": "stream",
          "name": "stdout",
          "text": [
            "Epoch 68 average val loss: 0.1629\n",
            "Epoch 68: Model improved. Saved checkpoint to /content/drive/MyDrive/model_dae_combined_plz.pth\n"
          ]
        },
        {
          "output_type": "stream",
          "name": "stderr",
          "text": [
            "Epoch 69, Loss: 0.2653: 100%|█████████████████████████████████████| 169/169 [00:47<00:00,  3.55it/s]"
          ]
        },
        {
          "output_type": "stream",
          "name": "stdout",
          "text": [
            "Epoch 69 average train loss: 0.1961\n"
          ]
        },
        {
          "output_type": "stream",
          "name": "stderr",
          "text": [
            "\n"
          ]
        },
        {
          "output_type": "stream",
          "name": "stdout",
          "text": [
            "Epoch 69 average val loss: 0.1670\n"
          ]
        },
        {
          "output_type": "stream",
          "name": "stderr",
          "text": [
            "Epoch 70, Loss: 0.1926: 100%|█████████████████████████████████████| 169/169 [00:47<00:00,  3.55it/s]"
          ]
        },
        {
          "output_type": "stream",
          "name": "stdout",
          "text": [
            "Epoch 70 average train loss: 0.1974\n"
          ]
        },
        {
          "output_type": "stream",
          "name": "stderr",
          "text": [
            "\n"
          ]
        },
        {
          "output_type": "stream",
          "name": "stdout",
          "text": [
            "Epoch 70 average val loss: 0.1642\n"
          ]
        },
        {
          "output_type": "stream",
          "name": "stderr",
          "text": [
            "Epoch 71, Loss: 0.1944: 100%|█████████████████████████████████████| 169/169 [00:47<00:00,  3.54it/s]"
          ]
        },
        {
          "output_type": "stream",
          "name": "stdout",
          "text": [
            "Epoch 71 average train loss: 0.1942\n"
          ]
        },
        {
          "output_type": "stream",
          "name": "stderr",
          "text": [
            "\n"
          ]
        },
        {
          "output_type": "stream",
          "name": "stdout",
          "text": [
            "Epoch 71 average val loss: 0.1664\n"
          ]
        },
        {
          "output_type": "stream",
          "name": "stderr",
          "text": [
            "Epoch 72, Loss: 0.2757: 100%|█████████████████████████████████████| 169/169 [00:47<00:00,  3.55it/s]"
          ]
        },
        {
          "output_type": "stream",
          "name": "stdout",
          "text": [
            "Epoch 72 average train loss: 0.1938\n"
          ]
        },
        {
          "output_type": "stream",
          "name": "stderr",
          "text": [
            "\n"
          ]
        },
        {
          "output_type": "stream",
          "name": "stdout",
          "text": [
            "Epoch 72 average val loss: 0.1708\n"
          ]
        },
        {
          "output_type": "stream",
          "name": "stderr",
          "text": [
            "Epoch 73, Loss: 0.1793: 100%|█████████████████████████████████████| 169/169 [00:47<00:00,  3.55it/s]"
          ]
        },
        {
          "output_type": "stream",
          "name": "stdout",
          "text": [
            "Epoch 73 average train loss: 0.1877\n"
          ]
        },
        {
          "output_type": "stream",
          "name": "stderr",
          "text": [
            "\n"
          ]
        },
        {
          "output_type": "stream",
          "name": "stdout",
          "text": [
            "Epoch 73 average val loss: 0.1688\n"
          ]
        },
        {
          "output_type": "stream",
          "name": "stderr",
          "text": [
            "Epoch 74, Loss: 0.1852: 100%|█████████████████████████████████████| 169/169 [00:47<00:00,  3.55it/s]"
          ]
        },
        {
          "output_type": "stream",
          "name": "stdout",
          "text": [
            "Epoch 74 average train loss: 0.1985\n"
          ]
        },
        {
          "output_type": "stream",
          "name": "stderr",
          "text": [
            "\n"
          ]
        },
        {
          "output_type": "stream",
          "name": "stdout",
          "text": [
            "Epoch 74 average val loss: 0.1855\n"
          ]
        },
        {
          "output_type": "stream",
          "name": "stderr",
          "text": [
            "Epoch 75, Loss: 0.1748: 100%|█████████████████████████████████████| 169/169 [00:47<00:00,  3.55it/s]"
          ]
        },
        {
          "output_type": "stream",
          "name": "stdout",
          "text": [
            "Epoch 75 average train loss: 0.1900\n"
          ]
        },
        {
          "output_type": "stream",
          "name": "stderr",
          "text": [
            "\n"
          ]
        },
        {
          "output_type": "stream",
          "name": "stdout",
          "text": [
            "Epoch 75 average val loss: 0.1669\n"
          ]
        },
        {
          "output_type": "stream",
          "name": "stderr",
          "text": [
            "Epoch 76, Loss: 0.2238: 100%|█████████████████████████████████████| 169/169 [00:47<00:00,  3.55it/s]"
          ]
        },
        {
          "output_type": "stream",
          "name": "stdout",
          "text": [
            "Epoch 76 average train loss: 0.1911\n"
          ]
        },
        {
          "output_type": "stream",
          "name": "stderr",
          "text": [
            "\n"
          ]
        },
        {
          "output_type": "stream",
          "name": "stdout",
          "text": [
            "Epoch 76 average val loss: 0.1588\n",
            "Epoch 76: Model improved. Saved checkpoint to /content/drive/MyDrive/model_dae_combined_plz.pth\n"
          ]
        },
        {
          "output_type": "stream",
          "name": "stderr",
          "text": [
            "Epoch 77, Loss: 0.1754: 100%|█████████████████████████████████████| 169/169 [00:47<00:00,  3.54it/s]"
          ]
        },
        {
          "output_type": "stream",
          "name": "stdout",
          "text": [
            "Epoch 77 average train loss: 0.1925\n"
          ]
        },
        {
          "output_type": "stream",
          "name": "stderr",
          "text": [
            "\n"
          ]
        },
        {
          "output_type": "stream",
          "name": "stdout",
          "text": [
            "Epoch 77 average val loss: 0.1638\n"
          ]
        },
        {
          "output_type": "stream",
          "name": "stderr",
          "text": [
            "Epoch 78, Loss: 0.1973: 100%|█████████████████████████████████████| 169/169 [00:47<00:00,  3.55it/s]"
          ]
        },
        {
          "output_type": "stream",
          "name": "stdout",
          "text": [
            "Epoch 78 average train loss: 0.1897\n"
          ]
        },
        {
          "output_type": "stream",
          "name": "stderr",
          "text": [
            "\n"
          ]
        },
        {
          "output_type": "stream",
          "name": "stdout",
          "text": [
            "Epoch 78 average val loss: 0.1577\n",
            "Epoch 78: Model improved. Saved checkpoint to /content/drive/MyDrive/model_dae_combined_plz.pth\n"
          ]
        },
        {
          "output_type": "stream",
          "name": "stderr",
          "text": [
            "Epoch 79, Loss: 0.2582: 100%|█████████████████████████████████████| 169/169 [00:47<00:00,  3.55it/s]"
          ]
        },
        {
          "output_type": "stream",
          "name": "stdout",
          "text": [
            "Epoch 79 average train loss: 0.1902\n"
          ]
        },
        {
          "output_type": "stream",
          "name": "stderr",
          "text": [
            "\n"
          ]
        },
        {
          "output_type": "stream",
          "name": "stdout",
          "text": [
            "Epoch 79 average val loss: 0.1625\n"
          ]
        },
        {
          "output_type": "stream",
          "name": "stderr",
          "text": [
            "Epoch 80, Loss: 0.1940: 100%|█████████████████████████████████████| 169/169 [00:47<00:00,  3.55it/s]"
          ]
        },
        {
          "output_type": "stream",
          "name": "stdout",
          "text": [
            "Epoch 80 average train loss: 0.1856\n"
          ]
        },
        {
          "output_type": "stream",
          "name": "stderr",
          "text": [
            "\n"
          ]
        },
        {
          "output_type": "stream",
          "name": "stdout",
          "text": [
            "Epoch 80 average val loss: 0.1682\n"
          ]
        },
        {
          "output_type": "stream",
          "name": "stderr",
          "text": [
            "Epoch 81, Loss: 0.1624: 100%|█████████████████████████████████████| 169/169 [00:47<00:00,  3.54it/s]"
          ]
        },
        {
          "output_type": "stream",
          "name": "stdout",
          "text": [
            "Epoch 81 average train loss: 0.1902\n"
          ]
        },
        {
          "output_type": "stream",
          "name": "stderr",
          "text": [
            "\n"
          ]
        },
        {
          "output_type": "stream",
          "name": "stdout",
          "text": [
            "Epoch 81 average val loss: 0.1560\n",
            "Epoch 81: Model improved. Saved checkpoint to /content/drive/MyDrive/model_dae_combined_plz.pth\n"
          ]
        },
        {
          "output_type": "stream",
          "name": "stderr",
          "text": [
            "Epoch 82, Loss: 0.1878: 100%|█████████████████████████████████████| 169/169 [00:47<00:00,  3.54it/s]"
          ]
        },
        {
          "output_type": "stream",
          "name": "stdout",
          "text": [
            "Epoch 82 average train loss: 0.1879\n"
          ]
        },
        {
          "output_type": "stream",
          "name": "stderr",
          "text": [
            "\n"
          ]
        },
        {
          "output_type": "stream",
          "name": "stdout",
          "text": [
            "Epoch 82 average val loss: 0.1626\n"
          ]
        },
        {
          "output_type": "stream",
          "name": "stderr",
          "text": [
            "Epoch 83, Loss: 0.1860: 100%|█████████████████████████████████████| 169/169 [00:47<00:00,  3.54it/s]"
          ]
        },
        {
          "output_type": "stream",
          "name": "stdout",
          "text": [
            "Epoch 83 average train loss: 0.1931\n"
          ]
        },
        {
          "output_type": "stream",
          "name": "stderr",
          "text": [
            "\n"
          ]
        },
        {
          "output_type": "stream",
          "name": "stdout",
          "text": [
            "Epoch 83 average val loss: 0.1637\n"
          ]
        },
        {
          "output_type": "stream",
          "name": "stderr",
          "text": [
            "Epoch 84, Loss: 0.1599: 100%|█████████████████████████████████████| 169/169 [00:47<00:00,  3.54it/s]"
          ]
        },
        {
          "output_type": "stream",
          "name": "stdout",
          "text": [
            "Epoch 84 average train loss: 0.1869\n"
          ]
        },
        {
          "output_type": "stream",
          "name": "stderr",
          "text": [
            "\n"
          ]
        },
        {
          "output_type": "stream",
          "name": "stdout",
          "text": [
            "Epoch 84 average val loss: 0.1599\n"
          ]
        },
        {
          "output_type": "stream",
          "name": "stderr",
          "text": [
            "Epoch 85, Loss: 0.2109: 100%|█████████████████████████████████████| 169/169 [00:47<00:00,  3.54it/s]"
          ]
        },
        {
          "output_type": "stream",
          "name": "stdout",
          "text": [
            "Epoch 85 average train loss: 0.1852\n"
          ]
        },
        {
          "output_type": "stream",
          "name": "stderr",
          "text": [
            "\n"
          ]
        },
        {
          "output_type": "stream",
          "name": "stdout",
          "text": [
            "Epoch 85 average val loss: 0.1568\n"
          ]
        },
        {
          "output_type": "stream",
          "name": "stderr",
          "text": [
            "Epoch 86, Loss: 0.1877: 100%|█████████████████████████████████████| 169/169 [00:47<00:00,  3.54it/s]"
          ]
        },
        {
          "output_type": "stream",
          "name": "stdout",
          "text": [
            "Epoch 86 average train loss: 0.1871\n"
          ]
        },
        {
          "output_type": "stream",
          "name": "stderr",
          "text": [
            "\n"
          ]
        },
        {
          "output_type": "stream",
          "name": "stdout",
          "text": [
            "Epoch 86 average val loss: 0.1582\n"
          ]
        },
        {
          "output_type": "stream",
          "name": "stderr",
          "text": [
            "Epoch 87, Loss: 0.2304: 100%|█████████████████████████████████████| 169/169 [00:47<00:00,  3.55it/s]"
          ]
        },
        {
          "output_type": "stream",
          "name": "stdout",
          "text": [
            "Epoch 87 average train loss: 0.1852\n"
          ]
        },
        {
          "output_type": "stream",
          "name": "stderr",
          "text": [
            "\n"
          ]
        },
        {
          "output_type": "stream",
          "name": "stdout",
          "text": [
            "Epoch 87 average val loss: 0.1590\n"
          ]
        },
        {
          "output_type": "stream",
          "name": "stderr",
          "text": [
            "Epoch 88, Loss: 0.1618: 100%|█████████████████████████████████████| 169/169 [00:47<00:00,  3.54it/s]"
          ]
        },
        {
          "output_type": "stream",
          "name": "stdout",
          "text": [
            "Epoch 88 average train loss: 0.1820\n"
          ]
        },
        {
          "output_type": "stream",
          "name": "stderr",
          "text": [
            "\n"
          ]
        },
        {
          "output_type": "stream",
          "name": "stdout",
          "text": [
            "Epoch 88 average val loss: 0.1595\n"
          ]
        },
        {
          "output_type": "stream",
          "name": "stderr",
          "text": [
            "Epoch 89, Loss: 0.1793: 100%|█████████████████████████████████████| 169/169 [00:47<00:00,  3.54it/s]"
          ]
        },
        {
          "output_type": "stream",
          "name": "stdout",
          "text": [
            "Epoch 89 average train loss: 0.1787\n"
          ]
        },
        {
          "output_type": "stream",
          "name": "stderr",
          "text": [
            "\n"
          ]
        },
        {
          "output_type": "stream",
          "name": "stdout",
          "text": [
            "Epoch 89 average val loss: 0.1715\n"
          ]
        },
        {
          "output_type": "stream",
          "name": "stderr",
          "text": [
            "Epoch 90, Loss: 0.1864: 100%|█████████████████████████████████████| 169/169 [00:47<00:00,  3.54it/s]"
          ]
        },
        {
          "output_type": "stream",
          "name": "stdout",
          "text": [
            "Epoch 90 average train loss: 0.1773\n"
          ]
        },
        {
          "output_type": "stream",
          "name": "stderr",
          "text": [
            "\n"
          ]
        },
        {
          "output_type": "stream",
          "name": "stdout",
          "text": [
            "Epoch 90 average val loss: 0.1584\n"
          ]
        },
        {
          "output_type": "stream",
          "name": "stderr",
          "text": [
            "Epoch 91, Loss: 0.1633: 100%|█████████████████████████████████████| 169/169 [00:47<00:00,  3.54it/s]"
          ]
        },
        {
          "output_type": "stream",
          "name": "stdout",
          "text": [
            "Epoch 91 average train loss: 0.1711\n"
          ]
        },
        {
          "output_type": "stream",
          "name": "stderr",
          "text": [
            "\n"
          ]
        },
        {
          "output_type": "stream",
          "name": "stdout",
          "text": [
            "Epoch 91 average val loss: 0.1518\n",
            "Epoch 91: Model improved. Saved checkpoint to /content/drive/MyDrive/model_dae_combined_plz.pth\n"
          ]
        },
        {
          "output_type": "stream",
          "name": "stderr",
          "text": [
            "Epoch 92, Loss: 0.1570: 100%|█████████████████████████████████████| 169/169 [00:47<00:00,  3.54it/s]"
          ]
        },
        {
          "output_type": "stream",
          "name": "stdout",
          "text": [
            "Epoch 92 average train loss: 0.1703\n"
          ]
        },
        {
          "output_type": "stream",
          "name": "stderr",
          "text": [
            "\n"
          ]
        },
        {
          "output_type": "stream",
          "name": "stdout",
          "text": [
            "Epoch 92 average val loss: 0.1517\n",
            "Epoch 92: Model improved. Saved checkpoint to /content/drive/MyDrive/model_dae_combined_plz.pth\n"
          ]
        },
        {
          "output_type": "stream",
          "name": "stderr",
          "text": [
            "Epoch 93, Loss: 0.1722: 100%|█████████████████████████████████████| 169/169 [00:47<00:00,  3.55it/s]"
          ]
        },
        {
          "output_type": "stream",
          "name": "stdout",
          "text": [
            "Epoch 93 average train loss: 0.1714\n"
          ]
        },
        {
          "output_type": "stream",
          "name": "stderr",
          "text": [
            "\n"
          ]
        },
        {
          "output_type": "stream",
          "name": "stdout",
          "text": [
            "Epoch 93 average val loss: 0.1511\n",
            "Epoch 93: Model improved. Saved checkpoint to /content/drive/MyDrive/model_dae_combined_plz.pth\n"
          ]
        },
        {
          "output_type": "stream",
          "name": "stderr",
          "text": [
            "Epoch 94, Loss: 0.1660: 100%|█████████████████████████████████████| 169/169 [00:47<00:00,  3.55it/s]"
          ]
        },
        {
          "output_type": "stream",
          "name": "stdout",
          "text": [
            "Epoch 94 average train loss: 0.1678\n"
          ]
        },
        {
          "output_type": "stream",
          "name": "stderr",
          "text": [
            "\n"
          ]
        },
        {
          "output_type": "stream",
          "name": "stdout",
          "text": [
            "Epoch 94 average val loss: 0.1579\n"
          ]
        },
        {
          "output_type": "stream",
          "name": "stderr",
          "text": [
            "Epoch 95, Loss: 0.1628: 100%|█████████████████████████████████████| 169/169 [00:47<00:00,  3.55it/s]"
          ]
        },
        {
          "output_type": "stream",
          "name": "stdout",
          "text": [
            "Epoch 95 average train loss: 0.1633\n"
          ]
        },
        {
          "output_type": "stream",
          "name": "stderr",
          "text": [
            "\n"
          ]
        },
        {
          "output_type": "stream",
          "name": "stdout",
          "text": [
            "Epoch 95 average val loss: 0.1573\n"
          ]
        },
        {
          "output_type": "stream",
          "name": "stderr",
          "text": [
            "Epoch 96, Loss: 0.1947: 100%|█████████████████████████████████████| 169/169 [00:47<00:00,  3.55it/s]"
          ]
        },
        {
          "output_type": "stream",
          "name": "stdout",
          "text": [
            "Epoch 96 average train loss: 0.1633\n"
          ]
        },
        {
          "output_type": "stream",
          "name": "stderr",
          "text": [
            "\n"
          ]
        },
        {
          "output_type": "stream",
          "name": "stdout",
          "text": [
            "Epoch 96 average val loss: 0.1575\n"
          ]
        },
        {
          "output_type": "stream",
          "name": "stderr",
          "text": [
            "Epoch 97, Loss: 0.1537: 100%|█████████████████████████████████████| 169/169 [00:47<00:00,  3.55it/s]"
          ]
        },
        {
          "output_type": "stream",
          "name": "stdout",
          "text": [
            "Epoch 97 average train loss: 0.1608\n"
          ]
        },
        {
          "output_type": "stream",
          "name": "stderr",
          "text": [
            "\n"
          ]
        },
        {
          "output_type": "stream",
          "name": "stdout",
          "text": [
            "Epoch 97 average val loss: 0.1597\n"
          ]
        },
        {
          "output_type": "stream",
          "name": "stderr",
          "text": [
            "Epoch 98, Loss: 0.1604: 100%|█████████████████████████████████████| 169/169 [00:47<00:00,  3.55it/s]"
          ]
        },
        {
          "output_type": "stream",
          "name": "stdout",
          "text": [
            "Epoch 98 average train loss: 0.1589\n"
          ]
        },
        {
          "output_type": "stream",
          "name": "stderr",
          "text": [
            "\n"
          ]
        },
        {
          "output_type": "stream",
          "name": "stdout",
          "text": [
            "Epoch 98 average val loss: 0.1578\n"
          ]
        },
        {
          "output_type": "stream",
          "name": "stderr",
          "text": [
            "Epoch 99, Loss: 0.1647: 100%|█████████████████████████████████████| 169/169 [00:47<00:00,  3.55it/s]"
          ]
        },
        {
          "output_type": "stream",
          "name": "stdout",
          "text": [
            "Epoch 99 average train loss: 0.1589\n"
          ]
        },
        {
          "output_type": "stream",
          "name": "stderr",
          "text": [
            "\n"
          ]
        },
        {
          "output_type": "stream",
          "name": "stdout",
          "text": [
            "Epoch 99 average val loss: 0.1619\n"
          ]
        },
        {
          "output_type": "stream",
          "name": "stderr",
          "text": [
            "Epoch 100, Loss: 0.1503: 100%|████████████████████████████████████| 169/169 [00:47<00:00,  3.55it/s]"
          ]
        },
        {
          "output_type": "stream",
          "name": "stdout",
          "text": [
            "Epoch 100 average train loss: 0.1594\n"
          ]
        },
        {
          "output_type": "stream",
          "name": "stderr",
          "text": [
            "\n"
          ]
        },
        {
          "output_type": "stream",
          "name": "stdout",
          "text": [
            "Epoch 100 average val loss: 0.1496\n",
            "Epoch 100: Model improved. Saved checkpoint to /content/drive/MyDrive/model_dae_combined_plz.pth\n"
          ]
        },
        {
          "output_type": "stream",
          "name": "stderr",
          "text": [
            "Epoch 101, Loss: 0.1528: 100%|████████████████████████████████████| 169/169 [00:47<00:00,  3.56it/s]"
          ]
        },
        {
          "output_type": "stream",
          "name": "stdout",
          "text": [
            "Epoch 101 average train loss: 0.1596\n"
          ]
        },
        {
          "output_type": "stream",
          "name": "stderr",
          "text": [
            "\n"
          ]
        },
        {
          "output_type": "stream",
          "name": "stdout",
          "text": [
            "Epoch 101 average val loss: 0.1595\n"
          ]
        },
        {
          "output_type": "stream",
          "name": "stderr",
          "text": [
            "Epoch 102, Loss: 0.1624: 100%|████████████████████████████████████| 169/169 [00:47<00:00,  3.55it/s]"
          ]
        },
        {
          "output_type": "stream",
          "name": "stdout",
          "text": [
            "Epoch 102 average train loss: 0.1588\n"
          ]
        },
        {
          "output_type": "stream",
          "name": "stderr",
          "text": [
            "\n"
          ]
        },
        {
          "output_type": "stream",
          "name": "stdout",
          "text": [
            "Epoch 102 average val loss: 0.1498\n"
          ]
        },
        {
          "output_type": "stream",
          "name": "stderr",
          "text": [
            "Epoch 103, Loss: 0.1708: 100%|████████████████████████████████████| 169/169 [00:47<00:00,  3.56it/s]"
          ]
        },
        {
          "output_type": "stream",
          "name": "stdout",
          "text": [
            "Epoch 103 average train loss: 0.1576\n"
          ]
        },
        {
          "output_type": "stream",
          "name": "stderr",
          "text": [
            "\n"
          ]
        },
        {
          "output_type": "stream",
          "name": "stdout",
          "text": [
            "Epoch 103 average val loss: 0.1562\n"
          ]
        },
        {
          "output_type": "stream",
          "name": "stderr",
          "text": [
            "Epoch 104, Loss: 0.1603: 100%|████████████████████████████████████| 169/169 [00:47<00:00,  3.56it/s]"
          ]
        },
        {
          "output_type": "stream",
          "name": "stdout",
          "text": [
            "Epoch 104 average train loss: 0.1595\n"
          ]
        },
        {
          "output_type": "stream",
          "name": "stderr",
          "text": [
            "\n"
          ]
        },
        {
          "output_type": "stream",
          "name": "stdout",
          "text": [
            "Epoch 104 average val loss: 0.1624\n"
          ]
        },
        {
          "output_type": "stream",
          "name": "stderr",
          "text": [
            "Epoch 105, Loss: 0.1569: 100%|████████████████████████████████████| 169/169 [00:47<00:00,  3.55it/s]"
          ]
        },
        {
          "output_type": "stream",
          "name": "stdout",
          "text": [
            "Epoch 105 average train loss: 0.1576\n"
          ]
        },
        {
          "output_type": "stream",
          "name": "stderr",
          "text": [
            "\n"
          ]
        },
        {
          "output_type": "stream",
          "name": "stdout",
          "text": [
            "Epoch 105 average val loss: 0.1535\n"
          ]
        },
        {
          "output_type": "stream",
          "name": "stderr",
          "text": [
            "Epoch 106, Loss: 0.1555: 100%|████████████████████████████████████| 169/169 [00:47<00:00,  3.56it/s]"
          ]
        },
        {
          "output_type": "stream",
          "name": "stdout",
          "text": [
            "Epoch 106 average train loss: 0.1558\n"
          ]
        },
        {
          "output_type": "stream",
          "name": "stderr",
          "text": [
            "\n"
          ]
        },
        {
          "output_type": "stream",
          "name": "stdout",
          "text": [
            "Epoch 106 average val loss: 0.1488\n",
            "Epoch 106: Model improved. Saved checkpoint to /content/drive/MyDrive/model_dae_combined_plz.pth\n"
          ]
        },
        {
          "output_type": "stream",
          "name": "stderr",
          "text": [
            "Epoch 107, Loss: 0.1503: 100%|████████████████████████████████████| 169/169 [00:47<00:00,  3.56it/s]"
          ]
        },
        {
          "output_type": "stream",
          "name": "stdout",
          "text": [
            "Epoch 107 average train loss: 0.1571\n"
          ]
        },
        {
          "output_type": "stream",
          "name": "stderr",
          "text": [
            "\n"
          ]
        },
        {
          "output_type": "stream",
          "name": "stdout",
          "text": [
            "Epoch 107 average val loss: 0.1495\n"
          ]
        },
        {
          "output_type": "stream",
          "name": "stderr",
          "text": [
            "Epoch 108, Loss: 0.1610: 100%|████████████████████████████████████| 169/169 [00:47<00:00,  3.56it/s]"
          ]
        },
        {
          "output_type": "stream",
          "name": "stdout",
          "text": [
            "Epoch 108 average train loss: 0.1556\n"
          ]
        },
        {
          "output_type": "stream",
          "name": "stderr",
          "text": [
            "\n"
          ]
        },
        {
          "output_type": "stream",
          "name": "stdout",
          "text": [
            "Epoch 108 average val loss: 0.1490\n"
          ]
        },
        {
          "output_type": "stream",
          "name": "stderr",
          "text": [
            "Epoch 109, Loss: 0.1554: 100%|████████████████████████████████████| 169/169 [00:47<00:00,  3.56it/s]"
          ]
        },
        {
          "output_type": "stream",
          "name": "stdout",
          "text": [
            "Epoch 109 average train loss: 0.1538\n"
          ]
        },
        {
          "output_type": "stream",
          "name": "stderr",
          "text": [
            "\n"
          ]
        },
        {
          "output_type": "stream",
          "name": "stdout",
          "text": [
            "Epoch 109 average val loss: 0.1476\n",
            "Epoch 109: Model improved. Saved checkpoint to /content/drive/MyDrive/model_dae_combined_plz.pth\n"
          ]
        },
        {
          "output_type": "stream",
          "name": "stderr",
          "text": [
            "Epoch 110, Loss: 0.1553: 100%|████████████████████████████████████| 169/169 [00:47<00:00,  3.56it/s]"
          ]
        },
        {
          "output_type": "stream",
          "name": "stdout",
          "text": [
            "Epoch 110 average train loss: 0.1536\n"
          ]
        },
        {
          "output_type": "stream",
          "name": "stderr",
          "text": [
            "\n"
          ]
        },
        {
          "output_type": "stream",
          "name": "stdout",
          "text": [
            "Epoch 110 average val loss: 0.1552\n"
          ]
        },
        {
          "output_type": "stream",
          "name": "stderr",
          "text": [
            "Epoch 111, Loss: 0.1513: 100%|████████████████████████████████████| 169/169 [00:47<00:00,  3.56it/s]"
          ]
        },
        {
          "output_type": "stream",
          "name": "stdout",
          "text": [
            "Epoch 111 average train loss: 0.1535\n"
          ]
        },
        {
          "output_type": "stream",
          "name": "stderr",
          "text": [
            "\n"
          ]
        },
        {
          "output_type": "stream",
          "name": "stdout",
          "text": [
            "Epoch 111 average val loss: 0.1465\n",
            "Epoch 111: Model improved. Saved checkpoint to /content/drive/MyDrive/model_dae_combined_plz.pth\n"
          ]
        },
        {
          "output_type": "stream",
          "name": "stderr",
          "text": [
            "Epoch 112, Loss: 0.1530: 100%|████████████████████████████████████| 169/169 [00:47<00:00,  3.56it/s]"
          ]
        },
        {
          "output_type": "stream",
          "name": "stdout",
          "text": [
            "Epoch 112 average train loss: 0.1540\n"
          ]
        },
        {
          "output_type": "stream",
          "name": "stderr",
          "text": [
            "\n"
          ]
        },
        {
          "output_type": "stream",
          "name": "stdout",
          "text": [
            "Epoch 112 average val loss: 0.1448\n",
            "Epoch 112: Model improved. Saved checkpoint to /content/drive/MyDrive/model_dae_combined_plz.pth\n"
          ]
        },
        {
          "output_type": "stream",
          "name": "stderr",
          "text": [
            "Epoch 113, Loss: 0.1495: 100%|████████████████████████████████████| 169/169 [00:47<00:00,  3.56it/s]"
          ]
        },
        {
          "output_type": "stream",
          "name": "stdout",
          "text": [
            "Epoch 113 average train loss: 0.1521\n"
          ]
        },
        {
          "output_type": "stream",
          "name": "stderr",
          "text": [
            "\n"
          ]
        },
        {
          "output_type": "stream",
          "name": "stdout",
          "text": [
            "Epoch 113 average val loss: 0.1474\n"
          ]
        },
        {
          "output_type": "stream",
          "name": "stderr",
          "text": [
            "Epoch 114, Loss: 0.1510: 100%|████████████████████████████████████| 169/169 [00:47<00:00,  3.56it/s]"
          ]
        },
        {
          "output_type": "stream",
          "name": "stdout",
          "text": [
            "Epoch 114 average train loss: 0.1529\n"
          ]
        },
        {
          "output_type": "stream",
          "name": "stderr",
          "text": [
            "\n"
          ]
        },
        {
          "output_type": "stream",
          "name": "stdout",
          "text": [
            "Epoch 114 average val loss: 0.1490\n"
          ]
        },
        {
          "output_type": "stream",
          "name": "stderr",
          "text": [
            "Epoch 115, Loss: 0.1579: 100%|████████████████████████████████████| 169/169 [00:47<00:00,  3.56it/s]"
          ]
        },
        {
          "output_type": "stream",
          "name": "stdout",
          "text": [
            "Epoch 115 average train loss: 0.1542\n"
          ]
        },
        {
          "output_type": "stream",
          "name": "stderr",
          "text": [
            "\n"
          ]
        },
        {
          "output_type": "stream",
          "name": "stdout",
          "text": [
            "Epoch 115 average val loss: 0.1526\n"
          ]
        },
        {
          "output_type": "stream",
          "name": "stderr",
          "text": [
            "Epoch 116, Loss: 0.1498: 100%|████████████████████████████████████| 169/169 [00:47<00:00,  3.56it/s]"
          ]
        },
        {
          "output_type": "stream",
          "name": "stdout",
          "text": [
            "Epoch 116 average train loss: 0.1536\n"
          ]
        },
        {
          "output_type": "stream",
          "name": "stderr",
          "text": [
            "\n"
          ]
        },
        {
          "output_type": "stream",
          "name": "stdout",
          "text": [
            "Epoch 116 average val loss: 0.1479\n"
          ]
        },
        {
          "output_type": "stream",
          "name": "stderr",
          "text": [
            "Epoch 117, Loss: 0.1735: 100%|████████████████████████████████████| 169/169 [00:47<00:00,  3.56it/s]"
          ]
        },
        {
          "output_type": "stream",
          "name": "stdout",
          "text": [
            "Epoch 117 average train loss: 0.1523\n"
          ]
        },
        {
          "output_type": "stream",
          "name": "stderr",
          "text": [
            "\n"
          ]
        },
        {
          "output_type": "stream",
          "name": "stdout",
          "text": [
            "Epoch 117 average val loss: 0.1743\n"
          ]
        },
        {
          "output_type": "stream",
          "name": "stderr",
          "text": [
            "Epoch 118, Loss: 0.1581: 100%|████████████████████████████████████| 169/169 [00:47<00:00,  3.55it/s]"
          ]
        },
        {
          "output_type": "stream",
          "name": "stdout",
          "text": [
            "Epoch 118 average train loss: 0.1538\n"
          ]
        },
        {
          "output_type": "stream",
          "name": "stderr",
          "text": [
            "\n"
          ]
        },
        {
          "output_type": "stream",
          "name": "stdout",
          "text": [
            "Epoch 118 average val loss: 0.1473\n"
          ]
        },
        {
          "output_type": "stream",
          "name": "stderr",
          "text": [
            "Epoch 119, Loss: 0.1505: 100%|████████████████████████████████████| 169/169 [00:47<00:00,  3.56it/s]"
          ]
        },
        {
          "output_type": "stream",
          "name": "stdout",
          "text": [
            "Epoch 119 average train loss: 0.1517\n"
          ]
        },
        {
          "output_type": "stream",
          "name": "stderr",
          "text": [
            "\n"
          ]
        },
        {
          "output_type": "stream",
          "name": "stdout",
          "text": [
            "Epoch 119 average val loss: 0.1517\n"
          ]
        },
        {
          "output_type": "stream",
          "name": "stderr",
          "text": [
            "Epoch 120, Loss: 0.1455: 100%|████████████████████████████████████| 169/169 [00:47<00:00,  3.55it/s]"
          ]
        },
        {
          "output_type": "stream",
          "name": "stdout",
          "text": [
            "Epoch 120 average train loss: 0.1497\n"
          ]
        },
        {
          "output_type": "stream",
          "name": "stderr",
          "text": [
            "\n"
          ]
        },
        {
          "output_type": "stream",
          "name": "stdout",
          "text": [
            "Epoch 120 average val loss: 0.1439\n",
            "Epoch 120: Model improved. Saved checkpoint to /content/drive/MyDrive/model_dae_combined_plz.pth\n"
          ]
        },
        {
          "output_type": "stream",
          "name": "stderr",
          "text": [
            "Epoch 121, Loss: 0.1548: 100%|████████████████████████████████████| 169/169 [00:47<00:00,  3.56it/s]"
          ]
        },
        {
          "output_type": "stream",
          "name": "stdout",
          "text": [
            "Epoch 121 average train loss: 0.1500\n"
          ]
        },
        {
          "output_type": "stream",
          "name": "stderr",
          "text": [
            "\n"
          ]
        },
        {
          "output_type": "stream",
          "name": "stdout",
          "text": [
            "Epoch 121 average val loss: 0.1479\n"
          ]
        },
        {
          "output_type": "stream",
          "name": "stderr",
          "text": [
            "Epoch 122, Loss: 0.1547: 100%|████████████████████████████████████| 169/169 [00:47<00:00,  3.55it/s]"
          ]
        },
        {
          "output_type": "stream",
          "name": "stdout",
          "text": [
            "Epoch 122 average train loss: 0.1496\n"
          ]
        },
        {
          "output_type": "stream",
          "name": "stderr",
          "text": [
            "\n"
          ]
        },
        {
          "output_type": "stream",
          "name": "stdout",
          "text": [
            "Epoch 122 average val loss: 0.1459\n"
          ]
        },
        {
          "output_type": "stream",
          "name": "stderr",
          "text": [
            "Epoch 123, Loss: 0.1616: 100%|████████████████████████████████████| 169/169 [00:47<00:00,  3.56it/s]"
          ]
        },
        {
          "output_type": "stream",
          "name": "stdout",
          "text": [
            "Epoch 123 average train loss: 0.1530\n"
          ]
        },
        {
          "output_type": "stream",
          "name": "stderr",
          "text": [
            "\n"
          ]
        },
        {
          "output_type": "stream",
          "name": "stdout",
          "text": [
            "Epoch 123 average val loss: 0.1502\n"
          ]
        },
        {
          "output_type": "stream",
          "name": "stderr",
          "text": [
            "Epoch 124, Loss: 0.1582: 100%|████████████████████████████████████| 169/169 [00:47<00:00,  3.56it/s]"
          ]
        },
        {
          "output_type": "stream",
          "name": "stdout",
          "text": [
            "Epoch 124 average train loss: 0.1501\n"
          ]
        },
        {
          "output_type": "stream",
          "name": "stderr",
          "text": [
            "\n"
          ]
        },
        {
          "output_type": "stream",
          "name": "stdout",
          "text": [
            "Epoch 124 average val loss: 0.1498\n"
          ]
        },
        {
          "output_type": "stream",
          "name": "stderr",
          "text": [
            "Epoch 125, Loss: 0.1490: 100%|████████████████████████████████████| 169/169 [00:47<00:00,  3.56it/s]"
          ]
        },
        {
          "output_type": "stream",
          "name": "stdout",
          "text": [
            "Epoch 125 average train loss: 0.1492\n"
          ]
        },
        {
          "output_type": "stream",
          "name": "stderr",
          "text": [
            "\n"
          ]
        },
        {
          "output_type": "stream",
          "name": "stdout",
          "text": [
            "Epoch 125 average val loss: 0.1434\n",
            "Epoch 125: Model improved. Saved checkpoint to /content/drive/MyDrive/model_dae_combined_plz.pth\n"
          ]
        },
        {
          "output_type": "stream",
          "name": "stderr",
          "text": [
            "Epoch 126, Loss: 0.1432: 100%|████████████████████████████████████| 169/169 [00:47<00:00,  3.56it/s]"
          ]
        },
        {
          "output_type": "stream",
          "name": "stdout",
          "text": [
            "Epoch 126 average train loss: 0.1484\n"
          ]
        },
        {
          "output_type": "stream",
          "name": "stderr",
          "text": [
            "\n"
          ]
        },
        {
          "output_type": "stream",
          "name": "stdout",
          "text": [
            "Epoch 126 average val loss: 0.1440\n"
          ]
        },
        {
          "output_type": "stream",
          "name": "stderr",
          "text": [
            "Epoch 127, Loss: 0.1443: 100%|████████████████████████████████████| 169/169 [00:47<00:00,  3.56it/s]"
          ]
        },
        {
          "output_type": "stream",
          "name": "stdout",
          "text": [
            "Epoch 127 average train loss: 0.1479\n"
          ]
        },
        {
          "output_type": "stream",
          "name": "stderr",
          "text": [
            "\n"
          ]
        },
        {
          "output_type": "stream",
          "name": "stdout",
          "text": [
            "Epoch 127 average val loss: 0.1421\n",
            "Epoch 127: Model improved. Saved checkpoint to /content/drive/MyDrive/model_dae_combined_plz.pth\n"
          ]
        },
        {
          "output_type": "stream",
          "name": "stderr",
          "text": [
            "Epoch 128, Loss: 0.1433: 100%|████████████████████████████████████| 169/169 [00:47<00:00,  3.55it/s]"
          ]
        },
        {
          "output_type": "stream",
          "name": "stdout",
          "text": [
            "Epoch 128 average train loss: 0.1587\n"
          ]
        },
        {
          "output_type": "stream",
          "name": "stderr",
          "text": [
            "\n"
          ]
        },
        {
          "output_type": "stream",
          "name": "stdout",
          "text": [
            "Epoch 128 average val loss: 0.1443\n"
          ]
        },
        {
          "output_type": "stream",
          "name": "stderr",
          "text": [
            "Epoch 129, Loss: 0.1455: 100%|████████████████████████████████████| 169/169 [00:47<00:00,  3.56it/s]"
          ]
        },
        {
          "output_type": "stream",
          "name": "stdout",
          "text": [
            "Epoch 129 average train loss: 0.1491\n"
          ]
        },
        {
          "output_type": "stream",
          "name": "stderr",
          "text": [
            "\n"
          ]
        },
        {
          "output_type": "stream",
          "name": "stdout",
          "text": [
            "Epoch 129 average val loss: 0.1456\n"
          ]
        },
        {
          "output_type": "stream",
          "name": "stderr",
          "text": [
            "Epoch 130, Loss: 0.1490: 100%|████████████████████████████████████| 169/169 [00:47<00:00,  3.55it/s]"
          ]
        },
        {
          "output_type": "stream",
          "name": "stdout",
          "text": [
            "Epoch 130 average train loss: 0.1476\n"
          ]
        },
        {
          "output_type": "stream",
          "name": "stderr",
          "text": [
            "\n"
          ]
        },
        {
          "output_type": "stream",
          "name": "stdout",
          "text": [
            "Epoch 130 average val loss: 0.1431\n"
          ]
        },
        {
          "output_type": "stream",
          "name": "stderr",
          "text": [
            "Epoch 131, Loss: 0.1478: 100%|████████████████████████████████████| 169/169 [00:47<00:00,  3.55it/s]"
          ]
        },
        {
          "output_type": "stream",
          "name": "stdout",
          "text": [
            "Epoch 131 average train loss: 0.1486\n"
          ]
        },
        {
          "output_type": "stream",
          "name": "stderr",
          "text": [
            "\n"
          ]
        },
        {
          "output_type": "stream",
          "name": "stdout",
          "text": [
            "Epoch 131 average val loss: 0.1436\n"
          ]
        },
        {
          "output_type": "stream",
          "name": "stderr",
          "text": [
            "Epoch 132, Loss: 0.1474: 100%|████████████████████████████████████| 169/169 [00:47<00:00,  3.55it/s]"
          ]
        },
        {
          "output_type": "stream",
          "name": "stdout",
          "text": [
            "Epoch 132 average train loss: 0.1478\n"
          ]
        },
        {
          "output_type": "stream",
          "name": "stderr",
          "text": [
            "\n"
          ]
        },
        {
          "output_type": "stream",
          "name": "stdout",
          "text": [
            "Epoch 132 average val loss: 0.1426\n"
          ]
        },
        {
          "output_type": "stream",
          "name": "stderr",
          "text": [
            "Epoch 133, Loss: 0.1579: 100%|████████████████████████████████████| 169/169 [00:47<00:00,  3.55it/s]"
          ]
        },
        {
          "output_type": "stream",
          "name": "stdout",
          "text": [
            "Epoch 133 average train loss: 0.1476\n"
          ]
        },
        {
          "output_type": "stream",
          "name": "stderr",
          "text": [
            "\n"
          ]
        },
        {
          "output_type": "stream",
          "name": "stdout",
          "text": [
            "Epoch 133 average val loss: 0.1418\n",
            "Epoch 133: Model improved. Saved checkpoint to /content/drive/MyDrive/model_dae_combined_plz.pth\n"
          ]
        },
        {
          "output_type": "stream",
          "name": "stderr",
          "text": [
            "Epoch 134, Loss: 0.1492: 100%|████████████████████████████████████| 169/169 [00:47<00:00,  3.55it/s]"
          ]
        },
        {
          "output_type": "stream",
          "name": "stdout",
          "text": [
            "Epoch 134 average train loss: 0.1475\n"
          ]
        },
        {
          "output_type": "stream",
          "name": "stderr",
          "text": [
            "\n"
          ]
        },
        {
          "output_type": "stream",
          "name": "stdout",
          "text": [
            "Epoch 134 average val loss: 0.1418\n"
          ]
        },
        {
          "output_type": "stream",
          "name": "stderr",
          "text": [
            "Epoch 135, Loss: 0.1514: 100%|████████████████████████████████████| 169/169 [00:47<00:00,  3.55it/s]"
          ]
        },
        {
          "output_type": "stream",
          "name": "stdout",
          "text": [
            "Epoch 135 average train loss: 0.1479\n"
          ]
        },
        {
          "output_type": "stream",
          "name": "stderr",
          "text": [
            "\n"
          ]
        },
        {
          "output_type": "stream",
          "name": "stdout",
          "text": [
            "Epoch 135 average val loss: 0.1434\n"
          ]
        },
        {
          "output_type": "stream",
          "name": "stderr",
          "text": [
            "Epoch 136, Loss: 0.1516: 100%|████████████████████████████████████| 169/169 [00:47<00:00,  3.55it/s]"
          ]
        },
        {
          "output_type": "stream",
          "name": "stdout",
          "text": [
            "Epoch 136 average train loss: 0.1480\n"
          ]
        },
        {
          "output_type": "stream",
          "name": "stderr",
          "text": [
            "\n"
          ]
        },
        {
          "output_type": "stream",
          "name": "stdout",
          "text": [
            "Epoch 136 average val loss: 0.1418\n",
            "Epoch 136: Model improved. Saved checkpoint to /content/drive/MyDrive/model_dae_combined_plz.pth\n"
          ]
        },
        {
          "output_type": "stream",
          "name": "stderr",
          "text": [
            "Epoch 137, Loss: 0.1448: 100%|████████████████████████████████████| 169/169 [00:47<00:00,  3.55it/s]"
          ]
        },
        {
          "output_type": "stream",
          "name": "stdout",
          "text": [
            "Epoch 137 average train loss: 0.1461\n"
          ]
        },
        {
          "output_type": "stream",
          "name": "stderr",
          "text": [
            "\n"
          ]
        },
        {
          "output_type": "stream",
          "name": "stdout",
          "text": [
            "Epoch 137 average val loss: 0.1416\n",
            "Epoch 137: Model improved. Saved checkpoint to /content/drive/MyDrive/model_dae_combined_plz.pth\n"
          ]
        },
        {
          "output_type": "stream",
          "name": "stderr",
          "text": [
            "Epoch 138, Loss: 0.1533: 100%|████████████████████████████████████| 169/169 [00:47<00:00,  3.55it/s]"
          ]
        },
        {
          "output_type": "stream",
          "name": "stdout",
          "text": [
            "Epoch 138 average train loss: 0.1478\n"
          ]
        },
        {
          "output_type": "stream",
          "name": "stderr",
          "text": [
            "\n"
          ]
        },
        {
          "output_type": "stream",
          "name": "stdout",
          "text": [
            "Epoch 138 average val loss: 0.1414\n",
            "Epoch 138: Model improved. Saved checkpoint to /content/drive/MyDrive/model_dae_combined_plz.pth\n"
          ]
        },
        {
          "output_type": "stream",
          "name": "stderr",
          "text": [
            "Epoch 139, Loss: 0.1507: 100%|████████████████████████████████████| 169/169 [00:47<00:00,  3.55it/s]"
          ]
        },
        {
          "output_type": "stream",
          "name": "stdout",
          "text": [
            "Epoch 139 average train loss: 0.1503\n"
          ]
        },
        {
          "output_type": "stream",
          "name": "stderr",
          "text": [
            "\n"
          ]
        },
        {
          "output_type": "stream",
          "name": "stdout",
          "text": [
            "Epoch 139 average val loss: 0.1515\n"
          ]
        },
        {
          "output_type": "stream",
          "name": "stderr",
          "text": [
            "Epoch 140, Loss: 0.1434: 100%|████████████████████████████████████| 169/169 [00:47<00:00,  3.55it/s]"
          ]
        },
        {
          "output_type": "stream",
          "name": "stdout",
          "text": [
            "Epoch 140 average train loss: 0.1473\n"
          ]
        },
        {
          "output_type": "stream",
          "name": "stderr",
          "text": [
            "\n"
          ]
        },
        {
          "output_type": "stream",
          "name": "stdout",
          "text": [
            "Epoch 140 average val loss: 0.1462\n"
          ]
        },
        {
          "output_type": "stream",
          "name": "stderr",
          "text": [
            "Epoch 141, Loss: 0.1511: 100%|████████████████████████████████████| 169/169 [00:47<00:00,  3.54it/s]"
          ]
        },
        {
          "output_type": "stream",
          "name": "stdout",
          "text": [
            "Epoch 141 average train loss: 0.1465\n"
          ]
        },
        {
          "output_type": "stream",
          "name": "stderr",
          "text": [
            "\n"
          ]
        },
        {
          "output_type": "stream",
          "name": "stdout",
          "text": [
            "Epoch 141 average val loss: 0.1425\n"
          ]
        },
        {
          "output_type": "stream",
          "name": "stderr",
          "text": [
            "Epoch 142, Loss: 0.1427: 100%|████████████████████████████████████| 169/169 [00:47<00:00,  3.54it/s]"
          ]
        },
        {
          "output_type": "stream",
          "name": "stdout",
          "text": [
            "Epoch 142 average train loss: 0.1462\n"
          ]
        },
        {
          "output_type": "stream",
          "name": "stderr",
          "text": [
            "\n"
          ]
        },
        {
          "output_type": "stream",
          "name": "stdout",
          "text": [
            "Epoch 142 average val loss: 0.1405\n",
            "Epoch 142: Model improved. Saved checkpoint to /content/drive/MyDrive/model_dae_combined_plz.pth\n"
          ]
        },
        {
          "output_type": "stream",
          "name": "stderr",
          "text": [
            "Epoch 143, Loss: 0.1434: 100%|████████████████████████████████████| 169/169 [00:47<00:00,  3.55it/s]"
          ]
        },
        {
          "output_type": "stream",
          "name": "stdout",
          "text": [
            "Epoch 143 average train loss: 0.1456\n"
          ]
        },
        {
          "output_type": "stream",
          "name": "stderr",
          "text": [
            "\n"
          ]
        },
        {
          "output_type": "stream",
          "name": "stdout",
          "text": [
            "Epoch 143 average val loss: 0.1415\n"
          ]
        },
        {
          "output_type": "stream",
          "name": "stderr",
          "text": [
            "Epoch 144, Loss: 0.1464: 100%|████████████████████████████████████| 169/169 [00:47<00:00,  3.55it/s]"
          ]
        },
        {
          "output_type": "stream",
          "name": "stdout",
          "text": [
            "Epoch 144 average train loss: 0.1463\n"
          ]
        },
        {
          "output_type": "stream",
          "name": "stderr",
          "text": [
            "\n"
          ]
        },
        {
          "output_type": "stream",
          "name": "stdout",
          "text": [
            "Epoch 144 average val loss: 0.1401\n",
            "Epoch 144: Model improved. Saved checkpoint to /content/drive/MyDrive/model_dae_combined_plz.pth\n"
          ]
        },
        {
          "output_type": "stream",
          "name": "stderr",
          "text": [
            "Epoch 145, Loss: 0.1425: 100%|████████████████████████████████████| 169/169 [00:47<00:00,  3.55it/s]"
          ]
        },
        {
          "output_type": "stream",
          "name": "stdout",
          "text": [
            "Epoch 145 average train loss: 0.1447\n"
          ]
        },
        {
          "output_type": "stream",
          "name": "stderr",
          "text": [
            "\n"
          ]
        },
        {
          "output_type": "stream",
          "name": "stdout",
          "text": [
            "Epoch 145 average val loss: 0.1406\n"
          ]
        },
        {
          "output_type": "stream",
          "name": "stderr",
          "text": [
            "Epoch 146, Loss: 0.1390: 100%|████████████████████████████████████| 169/169 [00:47<00:00,  3.54it/s]"
          ]
        },
        {
          "output_type": "stream",
          "name": "stdout",
          "text": [
            "Epoch 146 average train loss: 0.1445\n"
          ]
        },
        {
          "output_type": "stream",
          "name": "stderr",
          "text": [
            "\n"
          ]
        },
        {
          "output_type": "stream",
          "name": "stdout",
          "text": [
            "Epoch 146 average val loss: 0.1391\n",
            "Epoch 146: Model improved. Saved checkpoint to /content/drive/MyDrive/model_dae_combined_plz.pth\n"
          ]
        },
        {
          "output_type": "stream",
          "name": "stderr",
          "text": [
            "Epoch 147, Loss: 0.1466: 100%|████████████████████████████████████| 169/169 [00:47<00:00,  3.54it/s]"
          ]
        },
        {
          "output_type": "stream",
          "name": "stdout",
          "text": [
            "Epoch 147 average train loss: 0.1459\n"
          ]
        },
        {
          "output_type": "stream",
          "name": "stderr",
          "text": [
            "\n"
          ]
        },
        {
          "output_type": "stream",
          "name": "stdout",
          "text": [
            "Epoch 147 average val loss: 0.1395\n"
          ]
        },
        {
          "output_type": "stream",
          "name": "stderr",
          "text": [
            "Epoch 148, Loss: 0.1371: 100%|████████████████████████████████████| 169/169 [00:47<00:00,  3.55it/s]"
          ]
        },
        {
          "output_type": "stream",
          "name": "stdout",
          "text": [
            "Epoch 148 average train loss: 0.1449\n"
          ]
        },
        {
          "output_type": "stream",
          "name": "stderr",
          "text": [
            "\n"
          ]
        },
        {
          "output_type": "stream",
          "name": "stdout",
          "text": [
            "Epoch 148 average val loss: 0.1401\n"
          ]
        },
        {
          "output_type": "stream",
          "name": "stderr",
          "text": [
            "Epoch 149, Loss: 0.1402: 100%|████████████████████████████████████| 169/169 [00:47<00:00,  3.54it/s]"
          ]
        },
        {
          "output_type": "stream",
          "name": "stdout",
          "text": [
            "Epoch 149 average train loss: 0.1452\n"
          ]
        },
        {
          "output_type": "stream",
          "name": "stderr",
          "text": [
            "\n"
          ]
        },
        {
          "output_type": "stream",
          "name": "stdout",
          "text": [
            "Epoch 149 average val loss: 0.1401\n"
          ]
        },
        {
          "output_type": "stream",
          "name": "stderr",
          "text": [
            "Epoch 150, Loss: 0.1428: 100%|████████████████████████████████████| 169/169 [00:47<00:00,  3.55it/s]"
          ]
        },
        {
          "output_type": "stream",
          "name": "stdout",
          "text": [
            "Epoch 150 average train loss: 0.1446\n"
          ]
        },
        {
          "output_type": "stream",
          "name": "stderr",
          "text": [
            "\n"
          ]
        },
        {
          "output_type": "stream",
          "name": "stdout",
          "text": [
            "Epoch 150 average val loss: 0.1380\n",
            "Epoch 150: Model improved. Saved checkpoint to /content/drive/MyDrive/model_dae_combined_plz.pth\n"
          ]
        },
        {
          "output_type": "stream",
          "name": "stderr",
          "text": [
            "Epoch 151, Loss: 0.1466: 100%|████████████████████████████████████| 169/169 [00:47<00:00,  3.55it/s]"
          ]
        },
        {
          "output_type": "stream",
          "name": "stdout",
          "text": [
            "Epoch 151 average train loss: 0.1446\n"
          ]
        },
        {
          "output_type": "stream",
          "name": "stderr",
          "text": [
            "\n"
          ]
        },
        {
          "output_type": "stream",
          "name": "stdout",
          "text": [
            "Epoch 151 average val loss: 0.1390\n"
          ]
        },
        {
          "output_type": "stream",
          "name": "stderr",
          "text": [
            "Epoch 152, Loss: 0.1592: 100%|████████████████████████████████████| 169/169 [00:47<00:00,  3.55it/s]"
          ]
        },
        {
          "output_type": "stream",
          "name": "stdout",
          "text": [
            "Epoch 152 average train loss: 0.1446\n"
          ]
        },
        {
          "output_type": "stream",
          "name": "stderr",
          "text": [
            "\n"
          ]
        },
        {
          "output_type": "stream",
          "name": "stdout",
          "text": [
            "Epoch 152 average val loss: 0.1402\n"
          ]
        },
        {
          "output_type": "stream",
          "name": "stderr",
          "text": [
            "Epoch 153, Loss: 0.1531: 100%|████████████████████████████████████| 169/169 [00:47<00:00,  3.55it/s]"
          ]
        },
        {
          "output_type": "stream",
          "name": "stdout",
          "text": [
            "Epoch 153 average train loss: 0.1442\n"
          ]
        },
        {
          "output_type": "stream",
          "name": "stderr",
          "text": [
            "\n"
          ]
        },
        {
          "output_type": "stream",
          "name": "stdout",
          "text": [
            "Epoch 153 average val loss: 0.1393\n"
          ]
        },
        {
          "output_type": "stream",
          "name": "stderr",
          "text": [
            "Epoch 154, Loss: 0.1418: 100%|████████████████████████████████████| 169/169 [00:47<00:00,  3.56it/s]"
          ]
        },
        {
          "output_type": "stream",
          "name": "stdout",
          "text": [
            "Epoch 154 average train loss: 0.1444\n"
          ]
        },
        {
          "output_type": "stream",
          "name": "stderr",
          "text": [
            "\n"
          ]
        },
        {
          "output_type": "stream",
          "name": "stdout",
          "text": [
            "Epoch 154 average val loss: 0.1405\n"
          ]
        },
        {
          "output_type": "stream",
          "name": "stderr",
          "text": [
            "Epoch 155, Loss: 0.1474: 100%|████████████████████████████████████| 169/169 [00:47<00:00,  3.56it/s]"
          ]
        },
        {
          "output_type": "stream",
          "name": "stdout",
          "text": [
            "Epoch 155 average train loss: 0.1441\n"
          ]
        },
        {
          "output_type": "stream",
          "name": "stderr",
          "text": [
            "\n"
          ]
        },
        {
          "output_type": "stream",
          "name": "stdout",
          "text": [
            "Epoch 155 average val loss: 0.1399\n"
          ]
        },
        {
          "output_type": "stream",
          "name": "stderr",
          "text": [
            "Epoch 156, Loss: 0.1510: 100%|████████████████████████████████████| 169/169 [00:47<00:00,  3.56it/s]"
          ]
        },
        {
          "output_type": "stream",
          "name": "stdout",
          "text": [
            "Epoch 156 average train loss: 0.1479\n"
          ]
        },
        {
          "output_type": "stream",
          "name": "stderr",
          "text": [
            "\n"
          ]
        },
        {
          "output_type": "stream",
          "name": "stdout",
          "text": [
            "Epoch 156 average val loss: 0.1443\n"
          ]
        },
        {
          "output_type": "stream",
          "name": "stderr",
          "text": [
            "Epoch 157, Loss: 0.1437: 100%|████████████████████████████████████| 169/169 [00:47<00:00,  3.56it/s]"
          ]
        },
        {
          "output_type": "stream",
          "name": "stdout",
          "text": [
            "Epoch 157 average train loss: 0.1454\n"
          ]
        },
        {
          "output_type": "stream",
          "name": "stderr",
          "text": [
            "\n"
          ]
        },
        {
          "output_type": "stream",
          "name": "stdout",
          "text": [
            "Epoch 157 average val loss: 0.1410\n"
          ]
        },
        {
          "output_type": "stream",
          "name": "stderr",
          "text": [
            "Epoch 158, Loss: 0.1593: 100%|████████████████████████████████████| 169/169 [00:47<00:00,  3.56it/s]"
          ]
        },
        {
          "output_type": "stream",
          "name": "stdout",
          "text": [
            "Epoch 158 average train loss: 0.1445\n"
          ]
        },
        {
          "output_type": "stream",
          "name": "stderr",
          "text": [
            "\n"
          ]
        },
        {
          "output_type": "stream",
          "name": "stdout",
          "text": [
            "Epoch 158 average val loss: 0.1522\n"
          ]
        },
        {
          "output_type": "stream",
          "name": "stderr",
          "text": [
            "Epoch 159, Loss: 0.1406: 100%|████████████████████████████████████| 169/169 [00:47<00:00,  3.56it/s]"
          ]
        },
        {
          "output_type": "stream",
          "name": "stdout",
          "text": [
            "Epoch 159 average train loss: 0.1455\n"
          ]
        },
        {
          "output_type": "stream",
          "name": "stderr",
          "text": [
            "\n"
          ]
        },
        {
          "output_type": "stream",
          "name": "stdout",
          "text": [
            "Epoch 159 average val loss: 0.1408\n"
          ]
        },
        {
          "output_type": "stream",
          "name": "stderr",
          "text": [
            "Epoch 160, Loss: 0.1427: 100%|████████████████████████████████████| 169/169 [00:47<00:00,  3.56it/s]"
          ]
        },
        {
          "output_type": "stream",
          "name": "stdout",
          "text": [
            "Epoch 160 average train loss: 0.1441\n"
          ]
        },
        {
          "output_type": "stream",
          "name": "stderr",
          "text": [
            "\n"
          ]
        },
        {
          "output_type": "stream",
          "name": "stdout",
          "text": [
            "Epoch 160 average val loss: 0.1385\n"
          ]
        },
        {
          "output_type": "stream",
          "name": "stderr",
          "text": [
            "Epoch 161, Loss: 0.1389: 100%|████████████████████████████████████| 169/169 [00:47<00:00,  3.56it/s]"
          ]
        },
        {
          "output_type": "stream",
          "name": "stdout",
          "text": [
            "Epoch 161 average train loss: 0.1432\n"
          ]
        },
        {
          "output_type": "stream",
          "name": "stderr",
          "text": [
            "\n"
          ]
        },
        {
          "output_type": "stream",
          "name": "stdout",
          "text": [
            "Epoch 161 average val loss: 0.1378\n",
            "Epoch 161: Model improved. Saved checkpoint to /content/drive/MyDrive/model_dae_combined_plz.pth\n"
          ]
        },
        {
          "output_type": "stream",
          "name": "stderr",
          "text": [
            "Epoch 162, Loss: 0.1391: 100%|████████████████████████████████████| 169/169 [00:47<00:00,  3.56it/s]"
          ]
        },
        {
          "output_type": "stream",
          "name": "stdout",
          "text": [
            "Epoch 162 average train loss: 0.1434\n"
          ]
        },
        {
          "output_type": "stream",
          "name": "stderr",
          "text": [
            "\n"
          ]
        },
        {
          "output_type": "stream",
          "name": "stdout",
          "text": [
            "Epoch 162 average val loss: 0.1382\n"
          ]
        },
        {
          "output_type": "stream",
          "name": "stderr",
          "text": [
            "Epoch 163, Loss: 0.1438: 100%|████████████████████████████████████| 169/169 [00:47<00:00,  3.56it/s]"
          ]
        },
        {
          "output_type": "stream",
          "name": "stdout",
          "text": [
            "Epoch 163 average train loss: 0.1431\n"
          ]
        },
        {
          "output_type": "stream",
          "name": "stderr",
          "text": [
            "\n"
          ]
        },
        {
          "output_type": "stream",
          "name": "stdout",
          "text": [
            "Epoch 163 average val loss: 0.1383\n"
          ]
        },
        {
          "output_type": "stream",
          "name": "stderr",
          "text": [
            "Epoch 164, Loss: 0.1435: 100%|████████████████████████████████████| 169/169 [00:47<00:00,  3.56it/s]"
          ]
        },
        {
          "output_type": "stream",
          "name": "stdout",
          "text": [
            "Epoch 164 average train loss: 0.1433\n"
          ]
        },
        {
          "output_type": "stream",
          "name": "stderr",
          "text": [
            "\n"
          ]
        },
        {
          "output_type": "stream",
          "name": "stdout",
          "text": [
            "Epoch 164 average val loss: 0.1394\n"
          ]
        },
        {
          "output_type": "stream",
          "name": "stderr",
          "text": [
            "Epoch 165, Loss: 0.1385: 100%|████████████████████████████████████| 169/169 [00:47<00:00,  3.56it/s]"
          ]
        },
        {
          "output_type": "stream",
          "name": "stdout",
          "text": [
            "Epoch 165 average train loss: 0.1429\n"
          ]
        },
        {
          "output_type": "stream",
          "name": "stderr",
          "text": [
            "\n"
          ]
        },
        {
          "output_type": "stream",
          "name": "stdout",
          "text": [
            "Epoch 165 average val loss: 0.1387\n"
          ]
        },
        {
          "output_type": "stream",
          "name": "stderr",
          "text": [
            "Epoch 166, Loss: 0.1472: 100%|████████████████████████████████████| 169/169 [00:47<00:00,  3.55it/s]"
          ]
        },
        {
          "output_type": "stream",
          "name": "stdout",
          "text": [
            "Epoch 166 average train loss: 0.1433\n"
          ]
        },
        {
          "output_type": "stream",
          "name": "stderr",
          "text": [
            "\n"
          ]
        },
        {
          "output_type": "stream",
          "name": "stdout",
          "text": [
            "Epoch 166 average val loss: 0.1386\n"
          ]
        },
        {
          "output_type": "stream",
          "name": "stderr",
          "text": [
            "Epoch 167, Loss: 0.1424: 100%|████████████████████████████████████| 169/169 [00:47<00:00,  3.55it/s]"
          ]
        },
        {
          "output_type": "stream",
          "name": "stdout",
          "text": [
            "Epoch 167 average train loss: 0.1430\n"
          ]
        },
        {
          "output_type": "stream",
          "name": "stderr",
          "text": [
            "\n"
          ]
        },
        {
          "output_type": "stream",
          "name": "stdout",
          "text": [
            "Epoch 167 average val loss: 0.1386\n"
          ]
        },
        {
          "output_type": "stream",
          "name": "stderr",
          "text": [
            "Epoch 168, Loss: 0.1393: 100%|████████████████████████████████████| 169/169 [00:47<00:00,  3.56it/s]"
          ]
        },
        {
          "output_type": "stream",
          "name": "stdout",
          "text": [
            "Epoch 168 average train loss: 0.1431\n"
          ]
        },
        {
          "output_type": "stream",
          "name": "stderr",
          "text": [
            "\n"
          ]
        },
        {
          "output_type": "stream",
          "name": "stdout",
          "text": [
            "Epoch 168 average val loss: 0.1372\n",
            "Epoch 168: Model improved. Saved checkpoint to /content/drive/MyDrive/model_dae_combined_plz.pth\n"
          ]
        },
        {
          "output_type": "stream",
          "name": "stderr",
          "text": [
            "Epoch 169, Loss: 0.1441: 100%|████████████████████████████████████| 169/169 [00:47<00:00,  3.55it/s]"
          ]
        },
        {
          "output_type": "stream",
          "name": "stdout",
          "text": [
            "Epoch 169 average train loss: 0.1430\n"
          ]
        },
        {
          "output_type": "stream",
          "name": "stderr",
          "text": [
            "\n"
          ]
        },
        {
          "output_type": "stream",
          "name": "stdout",
          "text": [
            "Epoch 169 average val loss: 0.1383\n"
          ]
        },
        {
          "output_type": "stream",
          "name": "stderr",
          "text": [
            "Epoch 170, Loss: 0.1426: 100%|████████████████████████████████████| 169/169 [00:47<00:00,  3.56it/s]"
          ]
        },
        {
          "output_type": "stream",
          "name": "stdout",
          "text": [
            "Epoch 170 average train loss: 0.1430\n"
          ]
        },
        {
          "output_type": "stream",
          "name": "stderr",
          "text": [
            "\n"
          ]
        },
        {
          "output_type": "stream",
          "name": "stdout",
          "text": [
            "Epoch 170 average val loss: 0.1379\n"
          ]
        },
        {
          "output_type": "stream",
          "name": "stderr",
          "text": [
            "Epoch 171, Loss: 0.1438: 100%|████████████████████████████████████| 169/169 [00:47<00:00,  3.56it/s]"
          ]
        },
        {
          "output_type": "stream",
          "name": "stdout",
          "text": [
            "Epoch 171 average train loss: 0.1425\n"
          ]
        },
        {
          "output_type": "stream",
          "name": "stderr",
          "text": [
            "\n"
          ]
        },
        {
          "output_type": "stream",
          "name": "stdout",
          "text": [
            "Epoch 171 average val loss: 0.1381\n"
          ]
        },
        {
          "output_type": "stream",
          "name": "stderr",
          "text": [
            "Epoch 172, Loss: 0.1463: 100%|████████████████████████████████████| 169/169 [00:47<00:00,  3.55it/s]"
          ]
        },
        {
          "output_type": "stream",
          "name": "stdout",
          "text": [
            "Epoch 172 average train loss: 0.1426\n"
          ]
        },
        {
          "output_type": "stream",
          "name": "stderr",
          "text": [
            "\n"
          ]
        },
        {
          "output_type": "stream",
          "name": "stdout",
          "text": [
            "Epoch 172 average val loss: 0.1380\n"
          ]
        },
        {
          "output_type": "stream",
          "name": "stderr",
          "text": [
            "Epoch 173, Loss: 0.1489: 100%|████████████████████████████████████| 169/169 [00:47<00:00,  3.56it/s]"
          ]
        },
        {
          "output_type": "stream",
          "name": "stdout",
          "text": [
            "Epoch 173 average train loss: 0.1431\n"
          ]
        },
        {
          "output_type": "stream",
          "name": "stderr",
          "text": [
            "\n"
          ]
        },
        {
          "output_type": "stream",
          "name": "stdout",
          "text": [
            "Epoch 173 average val loss: 0.1365\n",
            "Epoch 173: Model improved. Saved checkpoint to /content/drive/MyDrive/model_dae_combined_plz.pth\n"
          ]
        },
        {
          "output_type": "stream",
          "name": "stderr",
          "text": [
            "Epoch 174, Loss: 0.1410: 100%|████████████████████████████████████| 169/169 [00:47<00:00,  3.55it/s]"
          ]
        },
        {
          "output_type": "stream",
          "name": "stdout",
          "text": [
            "Epoch 174 average train loss: 0.1429\n"
          ]
        },
        {
          "output_type": "stream",
          "name": "stderr",
          "text": [
            "\n"
          ]
        },
        {
          "output_type": "stream",
          "name": "stdout",
          "text": [
            "Epoch 174 average val loss: 0.1376\n"
          ]
        },
        {
          "output_type": "stream",
          "name": "stderr",
          "text": [
            "Epoch 175, Loss: 0.1453: 100%|████████████████████████████████████| 169/169 [00:47<00:00,  3.56it/s]"
          ]
        },
        {
          "output_type": "stream",
          "name": "stdout",
          "text": [
            "Epoch 175 average train loss: 0.1429\n"
          ]
        },
        {
          "output_type": "stream",
          "name": "stderr",
          "text": [
            "\n"
          ]
        },
        {
          "output_type": "stream",
          "name": "stdout",
          "text": [
            "Epoch 175 average val loss: 0.1370\n"
          ]
        },
        {
          "output_type": "stream",
          "name": "stderr",
          "text": [
            "Epoch 176, Loss: 0.1479: 100%|████████████████████████████████████| 169/169 [00:47<00:00,  3.56it/s]"
          ]
        },
        {
          "output_type": "stream",
          "name": "stdout",
          "text": [
            "Epoch 176 average train loss: 0.1426\n"
          ]
        },
        {
          "output_type": "stream",
          "name": "stderr",
          "text": [
            "\n"
          ]
        },
        {
          "output_type": "stream",
          "name": "stdout",
          "text": [
            "Epoch 176 average val loss: 0.1367\n"
          ]
        },
        {
          "output_type": "stream",
          "name": "stderr",
          "text": [
            "Epoch 177, Loss: 0.1464: 100%|████████████████████████████████████| 169/169 [00:47<00:00,  3.56it/s]"
          ]
        },
        {
          "output_type": "stream",
          "name": "stdout",
          "text": [
            "Epoch 177 average train loss: 0.1425\n"
          ]
        },
        {
          "output_type": "stream",
          "name": "stderr",
          "text": [
            "\n"
          ]
        },
        {
          "output_type": "stream",
          "name": "stdout",
          "text": [
            "Epoch 177 average val loss: 0.1371\n"
          ]
        },
        {
          "output_type": "stream",
          "name": "stderr",
          "text": [
            "Epoch 178, Loss: 0.1431: 100%|████████████████████████████████████| 169/169 [00:47<00:00,  3.55it/s]"
          ]
        },
        {
          "output_type": "stream",
          "name": "stdout",
          "text": [
            "Epoch 178 average train loss: 0.1423\n"
          ]
        },
        {
          "output_type": "stream",
          "name": "stderr",
          "text": [
            "\n"
          ]
        },
        {
          "output_type": "stream",
          "name": "stdout",
          "text": [
            "Epoch 178 average val loss: 0.1371\n"
          ]
        },
        {
          "output_type": "stream",
          "name": "stderr",
          "text": [
            "Epoch 179, Loss: 0.1492: 100%|████████████████████████████████████| 169/169 [00:47<00:00,  3.55it/s]"
          ]
        },
        {
          "output_type": "stream",
          "name": "stdout",
          "text": [
            "Epoch 179 average train loss: 0.1423\n"
          ]
        },
        {
          "output_type": "stream",
          "name": "stderr",
          "text": [
            "\n"
          ]
        },
        {
          "output_type": "stream",
          "name": "stdout",
          "text": [
            "Epoch 179 average val loss: 0.1371\n"
          ]
        },
        {
          "output_type": "stream",
          "name": "stderr",
          "text": [
            "Epoch 180, Loss: 0.1426: 100%|████████████████████████████████████| 169/169 [00:47<00:00,  3.55it/s]"
          ]
        },
        {
          "output_type": "stream",
          "name": "stdout",
          "text": [
            "Epoch 180 average train loss: 0.1421\n"
          ]
        },
        {
          "output_type": "stream",
          "name": "stderr",
          "text": [
            "\n"
          ]
        },
        {
          "output_type": "stream",
          "name": "stdout",
          "text": [
            "Epoch 180 average val loss: 0.1370\n"
          ]
        },
        {
          "output_type": "stream",
          "name": "stderr",
          "text": [
            "Epoch 181, Loss: 0.1412: 100%|████████████████████████████████████| 169/169 [00:47<00:00,  3.55it/s]"
          ]
        },
        {
          "output_type": "stream",
          "name": "stdout",
          "text": [
            "Epoch 181 average train loss: 0.1423\n"
          ]
        },
        {
          "output_type": "stream",
          "name": "stderr",
          "text": [
            "\n"
          ]
        },
        {
          "output_type": "stream",
          "name": "stdout",
          "text": [
            "Epoch 181 average val loss: 0.1377\n"
          ]
        },
        {
          "output_type": "stream",
          "name": "stderr",
          "text": [
            "Epoch 182, Loss: 0.1439: 100%|████████████████████████████████████| 169/169 [00:47<00:00,  3.56it/s]"
          ]
        },
        {
          "output_type": "stream",
          "name": "stdout",
          "text": [
            "Epoch 182 average train loss: 0.1423\n"
          ]
        },
        {
          "output_type": "stream",
          "name": "stderr",
          "text": [
            "\n"
          ]
        },
        {
          "output_type": "stream",
          "name": "stdout",
          "text": [
            "Epoch 182 average val loss: 0.1370\n"
          ]
        },
        {
          "output_type": "stream",
          "name": "stderr",
          "text": [
            "Epoch 183, Loss: 0.1522: 100%|████████████████████████████████████| 169/169 [00:47<00:00,  3.55it/s]"
          ]
        },
        {
          "output_type": "stream",
          "name": "stdout",
          "text": [
            "Epoch 183 average train loss: 0.1423\n"
          ]
        },
        {
          "output_type": "stream",
          "name": "stderr",
          "text": [
            "\n"
          ]
        },
        {
          "output_type": "stream",
          "name": "stdout",
          "text": [
            "Epoch 183 average val loss: 0.1376\n"
          ]
        },
        {
          "output_type": "stream",
          "name": "stderr",
          "text": [
            "Epoch 184, Loss: 0.1417: 100%|████████████████████████████████████| 169/169 [00:47<00:00,  3.56it/s]"
          ]
        },
        {
          "output_type": "stream",
          "name": "stdout",
          "text": [
            "Epoch 184 average train loss: 0.1419\n"
          ]
        },
        {
          "output_type": "stream",
          "name": "stderr",
          "text": [
            "\n"
          ]
        },
        {
          "output_type": "stream",
          "name": "stdout",
          "text": [
            "Epoch 184 average val loss: 0.1368\n"
          ]
        },
        {
          "output_type": "stream",
          "name": "stderr",
          "text": [
            "Epoch 185, Loss: 0.1444: 100%|████████████████████████████████████| 169/169 [00:47<00:00,  3.55it/s]"
          ]
        },
        {
          "output_type": "stream",
          "name": "stdout",
          "text": [
            "Epoch 185 average train loss: 0.1420\n"
          ]
        },
        {
          "output_type": "stream",
          "name": "stderr",
          "text": [
            "\n"
          ]
        },
        {
          "output_type": "stream",
          "name": "stdout",
          "text": [
            "Epoch 185 average val loss: 0.1376\n"
          ]
        },
        {
          "output_type": "stream",
          "name": "stderr",
          "text": [
            "Epoch 186, Loss: 0.1428: 100%|████████████████████████████████████| 169/169 [00:47<00:00,  3.56it/s]"
          ]
        },
        {
          "output_type": "stream",
          "name": "stdout",
          "text": [
            "Epoch 186 average train loss: 0.1421\n"
          ]
        },
        {
          "output_type": "stream",
          "name": "stderr",
          "text": [
            "\n"
          ]
        },
        {
          "output_type": "stream",
          "name": "stdout",
          "text": [
            "Epoch 186 average val loss: 0.1372\n"
          ]
        },
        {
          "output_type": "stream",
          "name": "stderr",
          "text": [
            "Epoch 187, Loss: 0.1447: 100%|████████████████████████████████████| 169/169 [00:47<00:00,  3.56it/s]"
          ]
        },
        {
          "output_type": "stream",
          "name": "stdout",
          "text": [
            "Epoch 187 average train loss: 0.1422\n"
          ]
        },
        {
          "output_type": "stream",
          "name": "stderr",
          "text": [
            "\n"
          ]
        },
        {
          "output_type": "stream",
          "name": "stdout",
          "text": [
            "Epoch 187 average val loss: 0.1366\n"
          ]
        },
        {
          "output_type": "stream",
          "name": "stderr",
          "text": [
            "Epoch 188, Loss: 0.1395: 100%|████████████████████████████████████| 169/169 [00:47<00:00,  3.56it/s]"
          ]
        },
        {
          "output_type": "stream",
          "name": "stdout",
          "text": [
            "Epoch 188 average train loss: 0.1420\n"
          ]
        },
        {
          "output_type": "stream",
          "name": "stderr",
          "text": [
            "\n"
          ]
        },
        {
          "output_type": "stream",
          "name": "stdout",
          "text": [
            "Epoch 188 average val loss: 0.1373\n"
          ]
        },
        {
          "output_type": "stream",
          "name": "stderr",
          "text": [
            "Epoch 189, Loss: 0.1447: 100%|████████████████████████████████████| 169/169 [00:47<00:00,  3.57it/s]"
          ]
        },
        {
          "output_type": "stream",
          "name": "stdout",
          "text": [
            "Epoch 189 average train loss: 0.1420\n"
          ]
        },
        {
          "output_type": "stream",
          "name": "stderr",
          "text": [
            "\n"
          ]
        },
        {
          "output_type": "stream",
          "name": "stdout",
          "text": [
            "Epoch 189 average val loss: 0.1372\n"
          ]
        },
        {
          "output_type": "stream",
          "name": "stderr",
          "text": [
            "Epoch 190, Loss: 0.1398: 100%|████████████████████████████████████| 169/169 [00:47<00:00,  3.57it/s]"
          ]
        },
        {
          "output_type": "stream",
          "name": "stdout",
          "text": [
            "Epoch 190 average train loss: 0.1420\n"
          ]
        },
        {
          "output_type": "stream",
          "name": "stderr",
          "text": [
            "\n"
          ]
        },
        {
          "output_type": "stream",
          "name": "stdout",
          "text": [
            "Epoch 190 average val loss: 0.1366\n"
          ]
        },
        {
          "output_type": "stream",
          "name": "stderr",
          "text": [
            "Epoch 191, Loss: 0.1468: 100%|████████████████████████████████████| 169/169 [00:47<00:00,  3.57it/s]"
          ]
        },
        {
          "output_type": "stream",
          "name": "stdout",
          "text": [
            "Epoch 191 average train loss: 0.1419\n"
          ]
        },
        {
          "output_type": "stream",
          "name": "stderr",
          "text": [
            "\n"
          ]
        },
        {
          "output_type": "stream",
          "name": "stdout",
          "text": [
            "Epoch 191 average val loss: 0.1373\n"
          ]
        },
        {
          "output_type": "stream",
          "name": "stderr",
          "text": [
            "Epoch 192, Loss: 0.1387: 100%|████████████████████████████████████| 169/169 [00:47<00:00,  3.57it/s]"
          ]
        },
        {
          "output_type": "stream",
          "name": "stdout",
          "text": [
            "Epoch 192 average train loss: 0.1416\n"
          ]
        },
        {
          "output_type": "stream",
          "name": "stderr",
          "text": [
            "\n"
          ]
        },
        {
          "output_type": "stream",
          "name": "stdout",
          "text": [
            "Epoch 192 average val loss: 0.1370\n"
          ]
        },
        {
          "output_type": "stream",
          "name": "stderr",
          "text": [
            "Epoch 193, Loss: 0.1368: 100%|████████████████████████████████████| 169/169 [00:47<00:00,  3.57it/s]"
          ]
        },
        {
          "output_type": "stream",
          "name": "stdout",
          "text": [
            "Epoch 193 average train loss: 0.1420\n"
          ]
        },
        {
          "output_type": "stream",
          "name": "stderr",
          "text": [
            "\n"
          ]
        },
        {
          "output_type": "stream",
          "name": "stdout",
          "text": [
            "Epoch 193 average val loss: 0.1364\n",
            "Epoch 193: Model improved. Saved checkpoint to /content/drive/MyDrive/model_dae_combined_plz.pth\n"
          ]
        },
        {
          "output_type": "stream",
          "name": "stderr",
          "text": [
            "Epoch 194, Loss: 0.1379: 100%|████████████████████████████████████| 169/169 [00:47<00:00,  3.57it/s]"
          ]
        },
        {
          "output_type": "stream",
          "name": "stdout",
          "text": [
            "Epoch 194 average train loss: 0.1421\n"
          ]
        },
        {
          "output_type": "stream",
          "name": "stderr",
          "text": [
            "\n"
          ]
        },
        {
          "output_type": "stream",
          "name": "stdout",
          "text": [
            "Epoch 194 average val loss: 0.1368\n"
          ]
        },
        {
          "output_type": "stream",
          "name": "stderr",
          "text": [
            "Epoch 195, Loss: 0.1494: 100%|████████████████████████████████████| 169/169 [00:47<00:00,  3.57it/s]"
          ]
        },
        {
          "output_type": "stream",
          "name": "stdout",
          "text": [
            "Epoch 195 average train loss: 0.1419\n"
          ]
        },
        {
          "output_type": "stream",
          "name": "stderr",
          "text": [
            "\n"
          ]
        },
        {
          "output_type": "stream",
          "name": "stdout",
          "text": [
            "Epoch 195 average val loss: 0.1376\n"
          ]
        },
        {
          "output_type": "stream",
          "name": "stderr",
          "text": [
            "Epoch 196, Loss: 0.1397: 100%|████████████████████████████████████| 169/169 [00:47<00:00,  3.57it/s]"
          ]
        },
        {
          "output_type": "stream",
          "name": "stdout",
          "text": [
            "Epoch 196 average train loss: 0.1419\n"
          ]
        },
        {
          "output_type": "stream",
          "name": "stderr",
          "text": [
            "\n"
          ]
        },
        {
          "output_type": "stream",
          "name": "stdout",
          "text": [
            "Epoch 196 average val loss: 0.1370\n"
          ]
        },
        {
          "output_type": "stream",
          "name": "stderr",
          "text": [
            "Epoch 197, Loss: 0.1462: 100%|████████████████████████████████████| 169/169 [00:47<00:00,  3.57it/s]"
          ]
        },
        {
          "output_type": "stream",
          "name": "stdout",
          "text": [
            "Epoch 197 average train loss: 0.1420\n"
          ]
        },
        {
          "output_type": "stream",
          "name": "stderr",
          "text": [
            "\n"
          ]
        },
        {
          "output_type": "stream",
          "name": "stdout",
          "text": [
            "Epoch 197 average val loss: 0.1369\n"
          ]
        },
        {
          "output_type": "stream",
          "name": "stderr",
          "text": [
            "Epoch 198, Loss: 0.1508: 100%|████████████████████████████████████| 169/169 [00:47<00:00,  3.57it/s]"
          ]
        },
        {
          "output_type": "stream",
          "name": "stdout",
          "text": [
            "Epoch 198 average train loss: 0.1420\n"
          ]
        },
        {
          "output_type": "stream",
          "name": "stderr",
          "text": [
            "\n"
          ]
        },
        {
          "output_type": "stream",
          "name": "stdout",
          "text": [
            "Epoch 198 average val loss: 0.1377\n"
          ]
        },
        {
          "output_type": "stream",
          "name": "stderr",
          "text": [
            "Epoch 199, Loss: 0.1477: 100%|████████████████████████████████████| 169/169 [00:47<00:00,  3.57it/s]"
          ]
        },
        {
          "output_type": "stream",
          "name": "stdout",
          "text": [
            "Epoch 199 average train loss: 0.1417\n"
          ]
        },
        {
          "output_type": "stream",
          "name": "stderr",
          "text": [
            "\n"
          ]
        },
        {
          "output_type": "stream",
          "name": "stdout",
          "text": [
            "Epoch 199 average val loss: 0.1363\n",
            "Epoch 199: Model improved. Saved checkpoint to /content/drive/MyDrive/model_dae_combined_plz.pth\n"
          ]
        },
        {
          "output_type": "stream",
          "name": "stderr",
          "text": [
            "Epoch 200, Loss: 0.1415: 100%|████████████████████████████████████| 169/169 [00:47<00:00,  3.57it/s]"
          ]
        },
        {
          "output_type": "stream",
          "name": "stdout",
          "text": [
            "Epoch 200 average train loss: 0.1419\n"
          ]
        },
        {
          "output_type": "stream",
          "name": "stderr",
          "text": [
            "\n"
          ]
        },
        {
          "output_type": "stream",
          "name": "stdout",
          "text": [
            "Epoch 200 average val loss: 0.1369\n"
          ]
        },
        {
          "output_type": "display_data",
          "data": {
            "text/plain": [
              "<Figure size 1000x600 with 1 Axes>"
            ],
            "image/png": "[encoded data removed]"
          },
          "metadata": {}
        },
        {
          "output_type": "stream",
          "name": "stdout",
          "text": [
            "Learning curve saved to /content/drive/MyDrive/learning_curve.png\n",
            "Evaluation AUC: 0.8493\n",
            "Test results saved to /content/drive/MyDrive/test_results_combined_plz.csv\n"
          ]
        }
      ],
      "source": [
        " if __name__ == \"__main__\":\n",
        "    args = get_args()\n",
        "    os.environ[\"CUDA_VISIBLE_DEVICES\"] = str(args.gpu)\n",
        "    set_seed(2025)\n",
        "    train_and_evaluate(args)"
      ]
    },
    {
      "cell_type": "markdown",
      "source": [
        "## 평가만 하는 코드"
      ],
      "metadata": {
        "id": "AudvgCZhmcnu"
      }
    },
    {
      "cell_type": "code",
      "source": [
        "import os\n",
        "import torch\n",
        "import torch.nn as nn\n",
        "import torch.nn.functional as F\n",
        "import argparse\n",
        "from tqdm import tqdm\n",
        "import numpy as np\n",
        "import matplotlib.pyplot as plt\n",
        "from pytorch_msssim import ssim\n",
        "import pandas as pd\n",
        "from sklearn.metrics import precision_recall_curve, auc\n",
        "\n",
        "#############################\n",
        "# SSIM Loss Implementation\n",
        "#############################\n",
        "class SSIMLoss(nn.Module):\n",
        "    def __init__(self, window_size=11, size_average=True, data_range=1.0, K=(0.01, 0.03)):\n",
        "        \"\"\"\n",
        "        SSIMLoss는 pytorch_msssim의 ssim 함수를 이용하여,\n",
        "        두 이미지 간의 구조적 유사성을 평가합니다.\n",
        "        \"\"\"\n",
        "        super(SSIMLoss, self).__init__()\n",
        "        self.window_size = window_size\n",
        "        self.size_average = size_average\n",
        "        self.data_range = data_range\n",
        "        self.K = K\n",
        "\n",
        "    def forward(self, img1, img2):\n",
        "        # ssim 값이 1에 가까울수록 유사하므로, loss는 1 - ssim으로 정의\n",
        "        return 1 - ssim(img1, img2, data_range=self.data_range,\n",
        "                        win_size=self.window_size, size_average=self.size_average, K=self.K)\n",
        "\n",
        "#############################\n",
        "# Combined Loss (SSIM + L1)\n",
        "#############################\n",
        "class CombinedLoss(nn.Module):\n",
        "    def __init__(self, window_size=11, size_average=True, ssim_weight=0.8, l1_weight=0.2):\n",
        "        \"\"\"\n",
        "        SSIM과 L1 손실을 결합합니다.\n",
        "          - window_size: SSIM 계산 시 윈도우 크기\n",
        "          - size_average: 손실 산출 시 평균 사용 여부\n",
        "          - ssim_weight: SSIM 손실의 가중치\n",
        "          - l1_weight: L1 손실의 가중치\n",
        "        \"\"\"\n",
        "        super(CombinedLoss, self).__init__()\n",
        "        self.ssim_loss = SSIMLoss(window_size, size_average)\n",
        "        self.ssim_weight = ssim_weight\n",
        "        self.l1_weight = l1_weight\n",
        "\n",
        "    def forward(self, img1, img2):\n",
        "        loss_ssim = self.ssim_loss(img1, img2)\n",
        "        loss_l1 = F.l1_loss(img1, img2)\n",
        "        return self.ssim_weight * loss_ssim + self.l1_weight * loss_l1\n",
        "\n",
        "#############################\n",
        "# Utility: 크기 맞춤 함수\n",
        "#############################\n",
        "def match_size(source: torch.Tensor, target: torch.Tensor) -> torch.Tensor:\n",
        "    src_h, src_w = source.size(2), source.size(3)\n",
        "    tgt_h, tgt_w = target.size(2), target.size(3)\n",
        "    if src_h > tgt_h or src_w > tgt_w:\n",
        "        start_h = (src_h - tgt_h) // 2\n",
        "        start_w = (src_w - tgt_w) // 2\n",
        "        source = source[:, :, start_h:start_h+tgt_h, start_w:start_w+tgt_w]\n",
        "    elif src_h < tgt_h or src_w < tgt_w:\n",
        "        diff_h = tgt_h - src_h\n",
        "        diff_w = tgt_w - src_w\n",
        "        source = F.pad(source, (diff_w // 2, diff_w - diff_w // 2,\n",
        "                                diff_h // 2, diff_h - diff_h // 2))\n",
        "    return source\n",
        "\n",
        "#############################\n",
        "# Model Architecture (DAE)\n",
        "#############################\n",
        "class ResidualBlock(nn.Module):\n",
        "    def __init__(self, in_channels, out_channels, stride=1, dropout=0.03):\n",
        "        super(ResidualBlock, self).__init__()\n",
        "        self.conv1 = nn.Conv2d(in_channels, out_channels, kernel_size=3, stride=stride, padding=1)\n",
        "        self.bn1 = nn.BatchNorm2d(out_channels)\n",
        "        self.relu = nn.LeakyReLU(0.2, inplace=True)\n",
        "        self.dropout = nn.Dropout(dropout) if dropout > 0 else nn.Identity()\n",
        "        self.conv2 = nn.Conv2d(out_channels, out_channels, kernel_size=3, stride=1, padding=1)\n",
        "        self.bn2 = nn.BatchNorm2d(out_channels)\n",
        "        if stride != 1 or in_channels != out_channels:\n",
        "            self.downsample = nn.Sequential(\n",
        "                nn.Conv2d(in_channels, out_channels, kernel_size=1, stride=stride),\n",
        "                nn.BatchNorm2d(out_channels)\n",
        "            )\n",
        "        else:\n",
        "            self.downsample = nn.Identity()\n",
        "\n",
        "    def forward(self, x):\n",
        "        identity = self.downsample(x)\n",
        "        out = self.conv1(x)\n",
        "        out = self.bn1(out)\n",
        "        out = self.relu(out)\n",
        "        out = self.dropout(out)\n",
        "        out = self.conv2(out)\n",
        "        out = self.bn2(out)\n",
        "        out += identity\n",
        "        out = self.relu(out)\n",
        "        return out\n",
        "\n",
        "class EncoderBlock(nn.Module):\n",
        "    def __init__(self, in_channels, out_channels, dropout=0.03):\n",
        "        super(EncoderBlock, self).__init__()\n",
        "        self.resblock = ResidualBlock(in_channels, out_channels, stride=2, dropout=dropout)\n",
        "\n",
        "    def forward(self, x):\n",
        "        return self.resblock(x)\n",
        "\n",
        "class DecoderBlock(nn.Module):\n",
        "    def __init__(self, in_channels, out_channels, dropout=0.03):\n",
        "        super(DecoderBlock, self).__init__()\n",
        "        self.deconv = nn.ConvTranspose2d(in_channels, out_channels, kernel_size=3,\n",
        "                                         stride=2, padding=1, output_padding=1)\n",
        "        self.bn = nn.BatchNorm2d(out_channels)\n",
        "        self.relu = nn.LeakyReLU(0.2, inplace=True)\n",
        "        self.dropout = nn.Dropout(dropout) if dropout > 0 else nn.Identity()\n",
        "        self.resblock = ResidualBlock(out_channels * 2, out_channels, stride=1, dropout=dropout)\n",
        "\n",
        "    def forward(self, x, skip):\n",
        "        x = self.deconv(x)\n",
        "        x = self.bn(x)\n",
        "        x = self.relu(x)\n",
        "        x = self.dropout(x)\n",
        "        skip = match_size(skip, x)\n",
        "        x = torch.cat([x, skip], dim=1)\n",
        "        x = self.resblock(x)\n",
        "        return x\n",
        "\n",
        "class DenoisingAutoencoder(nn.Module):\n",
        "    def __init__(self, input_channels=1, dropout=0.03):\n",
        "        super(DenoisingAutoencoder, self).__init__()\n",
        "        self.enc1 = EncoderBlock(input_channels, 32, dropout)\n",
        "        self.enc2 = EncoderBlock(32, 64, dropout)\n",
        "        self.enc3 = EncoderBlock(64, 128, dropout)\n",
        "        self.enc4 = EncoderBlock(128, 256, dropout)\n",
        "        self.enc5 = EncoderBlock(256, 512, dropout)\n",
        "        self.dec5 = DecoderBlock(512, 256, dropout)\n",
        "        self.dec4 = DecoderBlock(256, 128, dropout)\n",
        "        self.dec3 = DecoderBlock(128, 64, dropout)\n",
        "        self.dec2 = DecoderBlock(64, 32, dropout)\n",
        "        self.dec1 = nn.ConvTranspose2d(32, input_channels, kernel_size=3, stride=2,\n",
        "                                       padding=1, output_padding=1)\n",
        "\n",
        "    def forward(self, x):\n",
        "        e1 = self.enc1(x)   # (B, 32, H/2, W/2)\n",
        "        e2 = self.enc2(e1)  # (B, 64, H/4, W/4)\n",
        "        e3 = self.enc3(e2)  # (B, 128, H/8, W/8)\n",
        "        e4 = self.enc4(e3)  # (B, 256, H/16, W/16)\n",
        "        e5 = self.enc5(e4)  # (B, 512, H/32, W/32)\n",
        "        d5 = self.dec5(e5, e4)\n",
        "        d4 = self.dec4(d5, e3)\n",
        "        d3 = self.dec3(d4, e2)\n",
        "        d2 = self.dec2(d3, e1)\n",
        "        d1 = self.dec1(d2)\n",
        "        d1 = F.interpolate(d1, size=x.shape[2:], mode=\"bilinear\", align_corners=False)\n",
        "        return d1\n",
        "\n",
        "def DAEModel(dropout) -> nn.Module:\n",
        "    return DenoisingAutoencoder(input_channels=1, dropout=dropout)\n",
        "\n",
        "#############################\n",
        "# Evaluation Dataset 및 Loader\n",
        "#############################\n",
        "from torch.utils.data import Dataset, DataLoader\n",
        "from typing import List, Tuple\n",
        "\n",
        "class EvalDataset(Dataset):\n",
        "    def __init__(self, file_list: List[str]):\n",
        "        self.file_list = file_list\n",
        "\n",
        "    def __len__(self):\n",
        "        return len(self.file_list)\n",
        "\n",
        "    def __getitem__(self, idx) -> Tuple[torch.Tensor, int]:\n",
        "        wav_path = self.file_list[idx]\n",
        "        spec = self.wav_to_log_stft(\n",
        "            wav_path, sr=16000, n_fft=2048, win_length=512, hop_length=256, power=2.0\n",
        "        )\n",
        "        # \"anomaly\"가 파일명에 포함되어 있으면 라벨 1, 아니면 0\n",
        "        anomaly_label = 1 if \"anomaly\" in wav_path.lower() else 0\n",
        "        return spec, anomaly_label\n",
        "\n",
        "    @staticmethod\n",
        "    def wav_to_log_stft(wav_path: str, sr: int, n_fft: int, win_length: int, hop_length: int, power: float) -> torch.Tensor:\n",
        "        stft_transform = torchaudio.transforms.Spectrogram(\n",
        "            n_fft=n_fft, win_length=win_length, hop_length=hop_length, power=power\n",
        "        )\n",
        "        wav_data, _ = torchaudio.load(wav_path)\n",
        "        spec = stft_transform(wav_data)\n",
        "        amp_to_db = torchaudio.transforms.AmplitudeToDB()\n",
        "        log_spec = amp_to_db(spec)\n",
        "        log_spec = (log_spec - log_spec.mean()) / (log_spec.std() + 1e-9)\n",
        "        return log_spec\n",
        "\n",
        "def get_eval_loader(args, pin_memory: bool = False, num_workers: int = 0) -> Tuple[DataLoader, List[str]]:\n",
        "    file_list = sorted(os.listdir(args.eval_dir))\n",
        "    file_list = [os.path.join(args.eval_dir, f) for f in file_list if f.endswith('.wav')]\n",
        "    dataset = EvalDataset(file_list)\n",
        "    loader = DataLoader(dataset, batch_size=1, shuffle=False, num_workers=num_workers, pin_memory=pin_memory)\n",
        "    return loader, file_list\n",
        "\n",
        "#############################\n",
        "# Argument 설정\n",
        "#############################\n",
        "def get_args() -> argparse.Namespace:\n",
        "    param = {\n",
        "        \"eval_dir\": \"/content/ICSV31AIChallengeDataset/eval\",\n",
        "        \"result_dir\": \"/content/drive/MyDrive\",\n",
        "        \"model_dir\": \"/content/drive/MyDrive\",\n",
        "        \"model_path\": \"model_dae_combined_best.pth\",\n",
        "        \"n_workers\": 1,\n",
        "        \"dropout\": 0.05\n",
        "    }\n",
        "    parser = argparse.ArgumentParser()\n",
        "    for key, value in param.items():\n",
        "        parser.add_argument(f\"--{key.replace('_','-')}\", default=value, type=type(value))\n",
        "    args, unknown = parser.parse_known_args()\n",
        "    return args\n",
        "\n",
        "#############################\n",
        "# 평가 함수 (모델 평가 및 CSV 저장, 평가만 수행)\n",
        "#############################\n",
        "def evaluate_model(args: argparse.Namespace) -> None:\n",
        "    device = torch.device(\"cuda\" if torch.cuda.is_available() else \"cpu\")\n",
        "    print(f\"Using device: {device}\")\n",
        "\n",
        "    # 모델 불러오기 (저장된 checkpoint만 불러와 평가)\n",
        "    model = DAEModel(args.dropout).to(device)\n",
        "    checkpoint_path = os.path.join(args.model_dir, args.model_path)\n",
        "    model.load_state_dict(torch.load(checkpoint_path, map_location=device))\n",
        "    model.eval()\n",
        "    print(f\"모델 가중치 로드 완료 from {checkpoint_path}\")\n",
        "\n",
        "    # 평가 데이터 로드\n",
        "    eval_loader, file_list = get_eval_loader(args, pin_memory=True, num_workers=args.n_workers)\n",
        "    criterion = CombinedLoss(window_size=11, size_average=True, ssim_weight=0.8, l1_weight=0.2)\n",
        "\n",
        "    results = []\n",
        "    y_true = []\n",
        "    y_pred = []\n",
        "\n",
        "    print(\"평가 진행 중...\")\n",
        "    with torch.no_grad():\n",
        "        for idx, data in enumerate(eval_loader):\n",
        "            spec, anomaly_label = data  # 두 개의 값만 언패킹\n",
        "            spec = spec.to(device)\n",
        "            decoded = model(spec)\n",
        "            loss = criterion(decoded, spec).item()\n",
        "            label = anomaly_label.item()  # 스칼라로 변환\n",
        "\n",
        "            file_name = file_list[idx] if idx < len(file_list) else f\"unknown_{idx}\"\n",
        "            results.append([file_name, label, loss])\n",
        "            y_true.append(label)\n",
        "            y_pred.append(loss)\n",
        "\n",
        "    # PR-AUC 계산\n",
        "    precision, recall, _ = precision_recall_curve(y_true, y_pred)\n",
        "    pr_auc_score = auc(recall, precision)\n",
        "    print(f\"Evaluation AUC: {pr_auc_score * 100:.2f}%\")\n",
        "\n",
        "    # CSV 파일로 평가 결과 저장\n",
        "    os.makedirs(args.result_dir, exist_ok=True)\n",
        "    csv_file_path = os.path.join(args.result_dir, \"evaluation_results.csv\")\n",
        "    df_results = pd.DataFrame(results, columns=[\"File Name\", \"Anomaly Label\", \"Loss\"])\n",
        "    df_results.to_csv(csv_file_path, index=False)\n",
        "    print(f\"평가 결과가 CSV 파일로 저장되었습니다: {csv_file_path}\")\n",
        "\n",
        "#############################\n",
        "# 메인 함수 (평가만 수행)\n",
        "#############################\n",
        "def main():\n",
        "    args = get_args()\n",
        "    evaluate_model(args)\n",
        "\n",
        "if __name__ == \"__main__\":\n",
        "    main()"
      ],
      "metadata": {
        "colab": {
          "base_uri": "https://localhost:8080/"
        },
        "id": "S7QX7pJGmG8P",
        "outputId": "26b2cb3e-8075-4767-b4d8-3cc76d0f0c64"
      },
      "execution_count": null,
      "outputs": [
        {
          "output_type": "stream",
          "name": "stdout",
          "text": [
            "Using device: cuda\n",
            "모델 가중치 로드 완료 from /content/drive/MyDrive/model_dae_combined_best.pth\n",
            "평가 진행 중...\n",
            "Evaluation PR-AUC: 76.92%\n",
            "평가 결과가 CSV 파일로 저장되었습니다: /content/drive/MyDrive/evaluation_results.csv\n"
          ]
        }
      ]
    },
    {
      "cell_type": "markdown",
      "metadata": {
        "id": "gA8-fOjQPRUV"
      },
      "source": [
        "## 평가 데이터 바꿔서 모델 가중치 불러오기"
      ]
    },
    {
      "cell_type": "code",
      "execution_count": null,
      "metadata": {
        "id": "RHAscWQSkqFy"
      },
      "outputs": [],
      "source": [
        "import os\n",
        "import torch\n",
        "import torch.nn as nn\n",
        "from torch.utils.data import DataLoader, Dataset\n",
        "from sklearn.metrics import roc_auc_score, average_precision_score, precision_recall_fscore_support, confusion_matrix, roc_curve\n",
        "import torchaudio\n",
        "from scipy.optimize import brentq\n",
        "from scipy.interpolate import interp1d\n",
        "\n",
        "# 디바이스 설정\n",
        "device = torch.device(\"cuda\" if torch.cuda.is_available() else \"cpu\")\n",
        "\n",
        "# 평가 데이터 경로 설정\n",
        "eval_dir = \"path\"\n",
        "\n",
        "# 모델 생성 및 가중치 불러오기\n",
        "model = DAEModel(dropout=dropout).to(device)\n",
        "\n",
        "checkpoint_path = \"/content/drive/MyDrive/model_dae_combined.pth\"\n",
        "model.load_state_dict(torch.load(checkpoint_path, map_location=device), strict=False)\n",
        "model.eval()\n",
        "print(\"모델 가중치 로드 완료\")\n",
        "\n",
        "#######################\n",
        "# 데이터 로드 함수\n",
        "#######################\n",
        "def get_eval_loader(eval_dir: str) -> tuple:\n",
        "    \"\"\" 평가 데이터 로드 (오디오 파일만 포함) \"\"\"\n",
        "    file_list = sorted(os.listdir(eval_dir))\n",
        "    file_list = [os.path.join(eval_dir, f) for f in file_list if f.endswith(\".wav\")]\n",
        "\n",
        "    if not file_list:\n",
        "        raise ValueError(f\"{eval_dir}에 유효한 .wav 파일이 없습니다.\")\n",
        "\n",
        "    dataset = EvalDataset(file_list)\n",
        "    return DataLoader(dataset, batch_size=1, shuffle=False, num_workers=0), file_list\n",
        "\n",
        "#######################\n",
        "# Dataset 클래스 (STFT 변환 포함)\n",
        "#######################\n",
        "class EvalDataset(Dataset):\n",
        "    def __init__(self, file_list):\n",
        "        self.file_list = file_list\n",
        "\n",
        "    def __len__(self):\n",
        "        return len(self.file_list)\n",
        "\n",
        "    def __getitem__(self, idx):\n",
        "        wav_path = self.file_list[idx]\n",
        "        spec = self.wav_to_log_stft(wav_path, sr=16000, n_fft=2048, win_length=512, hop_length=256, power=2.0)\n",
        "\n",
        "        # 정답 라벨 추출 (파일명 기반)\n",
        "        anomaly_label = 1 if \"anomaly\" in wav_path else 0\n",
        "\n",
        "        return spec, anomaly_label\n",
        "\n",
        "    @staticmethod\n",
        "    def wav_to_log_stft(wav_path: str, sr: int, n_fft: int, win_length: int, hop_length: int, power: float) -> torch.Tensor:\n",
        "        \"\"\" 오디오 파일을 로그 STFT 변환 \"\"\"\n",
        "        stft_transform = torchaudio.transforms.Spectrogram(\n",
        "            n_fft=n_fft, win_length=win_length, hop_length=hop_length, power=power\n",
        "        )\n",
        "        wav_data, _ = torchaudio.load(wav_path)\n",
        "        spec = stft_transform(wav_data)\n",
        "        amp_to_db = torchaudio.transforms.AmplitudeToDB()\n",
        "        log_spec = amp_to_db(spec)\n",
        "        log_spec = (log_spec - log_spec.mean()) / (log_spec.std() + 1e-9)  # 정규화\n",
        "        return log_spec\n",
        "\n",
        "#######################\n",
        "# 평가 데이터 로드\n",
        "#######################\n",
        "eval_loader, file_list = get_eval_loader(eval_dir)\n",
        "\n",
        "# 손실 함수 설정\n",
        "criterion = nn.MSELoss()\n",
        "\n",
        "# AUC 계산을 위한 리스트 초기화\n",
        "y_true, y_pred = [], []\n",
        "\n",
        "print(\"새로운 평가 데이터셋을 사용하여 AUC 계산 중...\")\n",
        "with torch.no_grad():\n",
        "    for idx, data in enumerate(eval_loader):\n",
        "        spec = data[0].to(device)  # 입력 데이터 (로그 STFT)\n",
        "        anomaly_label = data[1]  # 정답 라벨 (정상=0, 이상=1)\n",
        "\n",
        "        decoded = model(spec)\n",
        "        loss = criterion(decoded, spec)  # MSE 기반 이상 탐지 점수\n",
        "\n",
        "        y_true.append(anomaly_label.item())  # 정상: 0, 이상: 1\n",
        "        y_pred.append(loss.item())\n",
        "\n",
        "#######################\n",
        "# 평가 지표 계산\n",
        "#######################\n",
        "eval_loader, file_list = get_eval_loader(eval_dir)\n",
        "\n",
        "# 손실 함수 설정\n",
        "criterion = nn.MSELoss()\n",
        "\n",
        "# AUC 계산을 위한 리스트 초기화\n",
        "y_true, y_pred = [], []\n",
        "with torch.no_grad():\n",
        "    for idx, data in enumerate(eval_loader):\n",
        "        spec = data[0].to(device)  # 입력 데이터 (로그 STFT)\n",
        "        anomaly_label = data[1]  # 정답 라벨 (정상=0, 이상=1)\n",
        "\n",
        "        decoded = model(spec)\n",
        "        loss = criterion(decoded, spec)  # MSE 기반 이상 탐지 점수\n",
        "\n",
        "        y_true.append(anomaly_label.item())  # 정상: 0, 이상: 1\n",
        "        y_pred.append(loss.item())\n",
        "\n",
        "# AUC 점수 계산\n",
        "auc_score = roc_auc_score(y_true, y_pred)\n",
        "print(f\"평가 데이터 ({eval_dir})에서 AUC Score: {auc_score:.4f}\")\n"
      ]
    }
  ],
  "metadata": {
    "colab": {
      "provenance": [],
      "machine_shape": "hm",
      "gpuType": "T4",
      "include_colab_link": true
    },
    "kernelspec": {
      "display_name": "Python 3",
      "name": "python3"
    },
    "language_info": {
      "name": "python"
    },
    "accelerator": "GPU"
  },
  "nbformat": 4,
  "nbformat_minor": 0
}