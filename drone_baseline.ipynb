{
  "cells": [
    {
      "cell_type": "markdown",
      "metadata": {
        "id": "view-in-github",
        "colab_type": "text"
      },
      "source": [
        "<a href=\"https://colab.research.google.com/github/OverfitSurvivor/code/blob/main/drone_baseline.ipynb\" target=\"_parent\"><img src=\"https://colab.research.google.com/assets/colab-badge.svg\" alt=\"Open In Colab\"/></a>"
      ]
    },
    {
      "cell_type": "code",
      "execution_count": 2,
      "metadata": {
        "colab": {
          "base_uri": "https://localhost:8080/"
        },
        "id": "FaVeakiafwSP",
        "outputId": "6c9250d7-b213-466e-ebfa-c04bc0c2275b"
      },
      "outputs": [
        {
          "output_type": "stream",
          "name": "stdout",
          "text": [
            "압축 해제 완료: /content/ICSV31AIChallengeDataset\n"
          ]
        }
      ],
      "source": [
        "import os\n",
        "import zipfile\n",
        "\n",
        "zip_path = \"/content/drive/MyDrive/ICSV31AIChallengeDataset.zip\"  # 업로드한 ZIP 파일 경로\n",
        "extract_path = \"/content/ICSV31AIChallengeDataset\"  # 압축을 풀 폴더 경로\n",
        "\n",
        "# 폴더가 없으면 생성\n",
        "os.makedirs(extract_path, exist_ok=True)\n",
        "\n",
        "# 압축 해제\n",
        "with zipfile.ZipFile(zip_path, \"r\") as zip_ref:\n",
        "    zip_ref.extractall(extract_path)\n",
        "\n",
        "print(\"압축 해제 완료:\", extract_path)"
      ]
    },
    {
      "cell_type": "code",
      "source": [
        "import csv\n",
        "import argparse\n",
        "import os\n",
        "from typing import Any, List, Tuple\n",
        "\n",
        "import torch\n",
        "import torchaudio\n",
        "from torch.utils.data import DataLoader, Dataset\n",
        "import torch.nn as nn\n",
        "import yaml\n",
        "from tqdm import tqdm\n",
        "import sklearn.metrics as metrics\n",
        "import matplotlib.pyplot as plt  # 손실 시각화를 위한 import\n",
        "\n",
        "#######################\n",
        "# 1. Utils\n",
        "#######################\n",
        "def read_csv(file_path: str) -> List:\n",
        "    with open(file_path, \"r\") as f:\n",
        "        reader = csv.reader(f)\n",
        "        return list(reader)\n",
        "\n",
        "def save_csv(save_data: List[Any], save_file_path: str) -> None:\n",
        "    with open(save_file_path, \"w\", newline=\"\") as f:\n",
        "        writer = csv.writer(f, lineterminator=\"\\n\")\n",
        "        writer.writerows(save_data)\n",
        "\n",
        "def get_anomaly_label(file_path: str) -> int:\n",
        "    \"\"\"파일명에 따라 이상 여부(Anomaly)를 반환\"\"\"\n",
        "    file_name = file_path.split(\"/\")[-1]\n",
        "    train_mode = file_name.split(\"_\")[0]\n",
        "    if train_mode == \"test\":\n",
        "        return -1\n",
        "    elif \"normal\" in file_name:\n",
        "        return 0\n",
        "    else:\n",
        "        return 1\n",
        "\n",
        "def get_drone_label(file_path: str) -> int:\n",
        "    \"\"\"파일명에 따라 드론 라벨을 반환\"\"\"\n",
        "    file_name = file_path.split(\"/\")[-1]\n",
        "    drone_mode = file_name.split(\"_\")[1]\n",
        "    if drone_mode == \"A\":\n",
        "        return 0\n",
        "    elif drone_mode == \"B\":\n",
        "        return 1\n",
        "    elif drone_mode == \"C\":\n",
        "        return 2\n",
        "    else:\n",
        "        return -1\n",
        "\n",
        "def get_direction_label(file_path: str) -> int:\n",
        "    \"\"\"파일명에 따라 방향 라벨을 반환\"\"\"\n",
        "    file_name = file_path.split(\"/\")[-1]\n",
        "    direction_mode = file_name.split(\"_\")[2]\n",
        "    if direction_mode == \"Back\":\n",
        "        return 0\n",
        "    elif direction_mode == \"Front\":\n",
        "        return 1\n",
        "    elif direction_mode == \"Left\":\n",
        "        return 2\n",
        "    elif direction_mode == \"Right\":\n",
        "        return 3\n",
        "    elif direction_mode == \"Clockwise\":\n",
        "        return 4\n",
        "    elif direction_mode == \"CounterClockwise\":\n",
        "        return 5\n",
        "    else:\n",
        "        return -1\n",
        "\n",
        "#######################\n",
        "# 2. Dataset\n",
        "#######################\n",
        "def wav_to_log_mel(\n",
        "    wav_path: str,\n",
        "    sr: int,\n",
        "    n_fft: int,\n",
        "    win_length: int,\n",
        "    hop_length: int,\n",
        "    n_mels: int,\n",
        "    power: float,\n",
        ") -> torch.Tensor:\n",
        "    mel_transform = torchaudio.transforms.MelSpectrogram(\n",
        "        sample_rate=sr,\n",
        "        n_fft=n_fft,\n",
        "        win_length=win_length,\n",
        "        hop_length=hop_length,\n",
        "        n_mels=n_mels,\n",
        "        power=power,\n",
        "    )\n",
        "    wav_data, _ = torchaudio.load(wav_path)\n",
        "    amp_to_db = torchaudio.transforms.AmplitudeToDB()\n",
        "    mel_spec = mel_transform(wav_data)\n",
        "    log_mel_spec = amp_to_db(mel_spec)\n",
        "    return log_mel_spec\n",
        "\n",
        "def get_train_loader(args: argparse.Namespace) -> DataLoader:\n",
        "    train_dir = args.train_dir\n",
        "    sr = args.sr\n",
        "    n_fft = args.n_fft\n",
        "    win_length = args.win_length\n",
        "    hop_length = args.hop_length\n",
        "    n_mels = args.n_mels\n",
        "    power = args.power\n",
        "\n",
        "    file_list = os.listdir(train_dir)\n",
        "    file_list.sort()\n",
        "    file_list = [os.path.join(train_dir, file) for file in file_list]\n",
        "    train_dataloader = BaselineDataLoader(file_list, sr, n_fft, win_length, hop_length, n_mels, power)\n",
        "\n",
        "    train_loader = DataLoader(\n",
        "        train_dataloader,\n",
        "        batch_size=args.batch_size,\n",
        "        shuffle=True,\n",
        "        num_workers=args.n_workers,  # Colab에서는 보통 2 worker 정도 권장합니다.\n",
        "    )\n",
        "    return train_loader\n",
        "\n",
        "def get_eval_loader(args: argparse.Namespace) -> Tuple[DataLoader, List[str]]:\n",
        "    eval_dir = args.eval_dir\n",
        "    sr = args.sr\n",
        "    n_fft = args.n_fft\n",
        "    win_length = args.win_length\n",
        "    hop_length = args.hop_length\n",
        "    n_mels = args.n_mels\n",
        "    power = args.power\n",
        "\n",
        "    file_list = os.listdir(eval_dir)\n",
        "    file_list.sort()\n",
        "    file_list = [os.path.join(eval_dir, file) for file in file_list]\n",
        "    eval_dataloader = BaselineDataLoader(file_list, sr, n_fft, win_length, hop_length, n_mels, power)\n",
        "\n",
        "    eval_loader = DataLoader(\n",
        "        eval_dataloader, batch_size=1, shuffle=False, num_workers=0\n",
        "    )\n",
        "    return eval_loader, file_list\n",
        "\n",
        "def get_test_loader(args: argparse.Namespace) -> Tuple[DataLoader, List[str]]:\n",
        "    test_dir = args.test_dir\n",
        "    sr = args.sr\n",
        "    n_fft = args.n_fft\n",
        "    win_length = args.win_length\n",
        "    hop_length = args.hop_length\n",
        "    n_mels = args.n_mels\n",
        "    power = args.power\n",
        "\n",
        "    file_list = os.listdir(test_dir)\n",
        "    file_list.sort()\n",
        "    file_list = [os.path.join(test_dir, file) for file in file_list]\n",
        "    test_dataloader = BaselineDataLoader(file_list, sr, n_fft, win_length, hop_length, n_mels, power)\n",
        "\n",
        "    test_loader = DataLoader(\n",
        "        test_dataloader, batch_size=1, shuffle=False, num_workers=0\n",
        "    )\n",
        "    return test_loader, file_list\n",
        "\n",
        "class BaselineDataLoader(Dataset):\n",
        "    def __init__(\n",
        "        self,\n",
        "        file_list: List[str],\n",
        "        sr: int,\n",
        "        n_fft: int,\n",
        "        win_length: int,\n",
        "        hop_length: int,\n",
        "        n_mels: int,\n",
        "        power: float,\n",
        "    ) -> None:\n",
        "        self.file_list = file_list\n",
        "        self.sr = sr\n",
        "        self.n_fft = n_fft\n",
        "        self.win_length = win_length\n",
        "        self.hop_length = hop_length\n",
        "        self.n_mels = n_mels\n",
        "        self.power = power\n",
        "\n",
        "    def __len__(self) -> int:\n",
        "        return len(self.file_list)\n",
        "\n",
        "    def __getitem__(self, idx: int) -> Tuple[torch.Tensor, int, int, int]:\n",
        "        wav_path = self.file_list[idx]\n",
        "        log_mel_spec = wav_to_log_mel(\n",
        "            wav_path,\n",
        "            self.sr,\n",
        "            self.n_fft,\n",
        "            self.win_length,\n",
        "            self.hop_length,\n",
        "            self.n_mels,\n",
        "            self.power,\n",
        "        )\n",
        "        anomaly_label = get_anomaly_label(wav_path)\n",
        "        drone_label = get_drone_label(wav_path)\n",
        "        direction_label = get_direction_label(wav_path)\n",
        "        return log_mel_spec, anomaly_label, drone_label, direction_label\n",
        "\n",
        "#######################\n",
        "# 3. Model\n",
        "#######################\n",
        "class CausalConv1d(nn.Module):\n",
        "    def __init__(self, in_channels: int, out_channels: int, kernel_size: int, dilation: int, groups: int) -> None:\n",
        "        super(CausalConv1d, self).__init__()\n",
        "        self.pad = (kernel_size - 1) * dilation\n",
        "        self.conv1 = nn.Conv1d(\n",
        "            in_channels, out_channels, kernel_size, padding=self.pad, dilation=dilation, groups=groups,\n",
        "        )\n",
        "\n",
        "    def forward(self, x: torch.Tensor) -> torch.Tensor:\n",
        "        x = self.conv1(x)\n",
        "        x = x[..., : -self.pad]\n",
        "        return x\n",
        "\n",
        "class WaveNetResidualBlock(nn.Module):\n",
        "    def __init__(self, n_channel: int, n_mul: int, frames: int, kernel_size: int, dilation_rate: int, n_groups: int) -> None:\n",
        "        super(WaveNetResidualBlock, self).__init__()\n",
        "        self.sigmoid_conv = nn.Sequential(\n",
        "            nn.LayerNorm([n_channel * n_mul, frames]),\n",
        "            CausalConv1d(n_channel * n_mul, n_channel * n_mul, kernel_size, dilation_rate, n_groups),\n",
        "            nn.Sigmoid(),\n",
        "        )\n",
        "        self.tanh_conv = nn.Sequential(\n",
        "            nn.LayerNorm([n_channel * n_mul, frames]),\n",
        "            CausalConv1d(n_channel * n_mul, n_channel * n_mul, kernel_size, dilation_rate, n_groups),\n",
        "            nn.Tanh(),\n",
        "        )\n",
        "        self.skip_connection = nn.Sequential(\n",
        "            nn.LayerNorm([n_channel * n_mul, frames]),\n",
        "            nn.Conv1d(n_channel * n_mul, n_channel, (1,), groups=n_groups),\n",
        "        )\n",
        "        self.residual = nn.Sequential(\n",
        "            nn.LayerNorm([n_channel * n_mul, frames]),\n",
        "            nn.Conv1d(n_channel * n_mul, n_channel * n_mul, (1,), groups=n_groups),\n",
        "        )\n",
        "\n",
        "    def forward(self, x: torch.Tensor) -> Tuple[torch.Tensor, torch.Tensor]:\n",
        "        sigmoid_conv = self.sigmoid_conv(x)\n",
        "        tanh_conv = self.tanh_conv(x)\n",
        "        mul = torch.mul(sigmoid_conv, tanh_conv)\n",
        "        skip = self.skip_connection(mul)\n",
        "        residual = self.residual(mul)\n",
        "        return skip, residual + x\n",
        "\n",
        "class WaveNet(nn.Module):\n",
        "    def __init__(self, n_blocks: int, n_channel: int, n_mul: int, frames: int, kernel_size: int, n_groups: int) -> None:\n",
        "        super(WaveNet, self).__init__()\n",
        "        self.n_blocks = n_blocks\n",
        "        self.kernel_size = kernel_size\n",
        "        self.feature_layer = nn.Sequential(\n",
        "            nn.LayerNorm([n_channel, frames]),\n",
        "            nn.Conv1d(n_channel, n_channel * n_mul, (1,), groups=n_groups),\n",
        "        )\n",
        "        self.blocks = nn.ModuleList(\n",
        "            [WaveNetResidualBlock(n_channel, n_mul, frames, kernel_size, 2**i, n_groups) for i in range(n_blocks)]\n",
        "        )\n",
        "        self.skip_connection = nn.Sequential(\n",
        "            nn.ReLU(),\n",
        "            nn.LayerNorm([n_channel, frames]),\n",
        "            nn.Conv1d(n_channel, n_channel, (1,), groups=n_groups),\n",
        "            nn.ReLU(),\n",
        "            nn.LayerNorm([n_channel, frames]),\n",
        "            nn.Conv1d(n_channel, n_channel, (1,), groups=n_groups),\n",
        "        )\n",
        "\n",
        "    def get_receptive_field(self) -> int:\n",
        "        rf = 1\n",
        "        for _ in range(self.n_blocks):\n",
        "            rf = rf * 2 + self.kernel_size - 2\n",
        "        return rf\n",
        "\n",
        "    def forward(self, x: torch.Tensor) -> torch.Tensor:\n",
        "        B, C, F, T = x.shape\n",
        "        x = torch.reshape(x, (B, C * F, T))\n",
        "        x = self.feature_layer(x)\n",
        "        skips = []\n",
        "        for block in self.blocks:\n",
        "            skip, x = block(x)\n",
        "            skips.append(skip)\n",
        "        skips = torch.stack(skips).sum(0)\n",
        "        output = self.skip_connection(skips)\n",
        "        output = output.reshape(B, C, F, T)\n",
        "        return output[..., self.get_receptive_field() - 1 : -1]\n",
        "\n",
        "def WaveNetModel() -> nn.Module:\n",
        "    n_blocks = 3\n",
        "    n_channel = 128\n",
        "    n_mul = 4\n",
        "    frames = 63\n",
        "    kernel_size = 3\n",
        "    n_groups = 1\n",
        "    return WaveNet(n_blocks, n_channel, n_mul, frames, kernel_size, n_groups)\n",
        "\n",
        "#######################\n",
        "# 4. Train, Evaluate & Test (Sequential)\n",
        "#######################\n",
        "def get_args() -> argparse.Namespace:\n",
        "    # 파라미터를 코드 내에서 직접 정의 (mode 인자는 제거)\n",
        "    param = {\n",
        "        \"train_dir\": \"/content/ICSV31AIChallengeDataset/train\",\n",
        "        \"eval_dir\": \"/content/ICSV31AIChallengeDataset/eval\",\n",
        "        \"test_dir\": \"/content/ICSV31AIChallengeDataset/test\",\n",
        "        \"result_dir\": \"/content/drive/MyDrive\",      # 수정된 경로\n",
        "        \"model_dir\": \"/content/drive/MyDrive\",         # 수정된 경로\n",
        "        \"model_path\": \"model.pth\",\n",
        "        \"epochs\": 100,\n",
        "        \"batch_size\": 64,\n",
        "        \"lr\": 0.001,\n",
        "        \"gpu\": 0,          # Colab에서는 GPU id 0 사용\n",
        "        \"n_workers\": 2,    # Colab 권장 worker 수\n",
        "        \"sr\": 16000,\n",
        "        \"n_fft\": 1024,\n",
        "        \"win_length\": 1024,\n",
        "        \"hop_length\": 512,\n",
        "        \"n_mels\": 128,\n",
        "        \"power\": 2.0\n",
        "    }\n",
        "\n",
        "    parser = argparse.ArgumentParser()\n",
        "    parser.add_argument(\"--train-dir\", default=param[\"train_dir\"], type=str)\n",
        "    parser.add_argument(\"--eval-dir\", default=param[\"eval_dir\"], type=str)\n",
        "    parser.add_argument(\"--test-dir\", default=param[\"test_dir\"], type=str)\n",
        "    parser.add_argument(\"--result-dir\", default=param[\"result_dir\"], type=str)\n",
        "    parser.add_argument(\"--model-dir\", default=param[\"model_dir\"], type=str)\n",
        "    parser.add_argument(\"--model-path\", default=param[\"model_path\"], type=str)\n",
        "    parser.add_argument(\"--epochs\", default=param[\"epochs\"], type=int)\n",
        "    parser.add_argument(\"--batch-size\", default=param[\"batch_size\"], type=int)\n",
        "    parser.add_argument(\"--lr\", default=param[\"lr\"], type=float)\n",
        "    parser.add_argument(\"--gpu\", default=param[\"gpu\"], type=int)\n",
        "    parser.add_argument(\"--n-workers\", default=param[\"n_workers\"], type=int)\n",
        "    parser.add_argument(\"--sr\", default=param[\"sr\"], type=int)\n",
        "    parser.add_argument(\"--n-fft\", default=param[\"n_fft\"], type=int)\n",
        "    parser.add_argument(\"--win-length\", default=param[\"win_length\"], type=int)\n",
        "    parser.add_argument(\"--hop-length\", default=param[\"hop_length\"], type=int)\n",
        "    parser.add_argument(\"--n-mels\", default=param[\"n_mels\"], type=int)\n",
        "    parser.add_argument(\"--power\", default=param[\"power\"], type=float)\n",
        "\n",
        "    args, unknown = parser.parse_known_args()\n",
        "    return args\n",
        "\n",
        "def set_seed(seed: int) -> None:\n",
        "    torch.manual_seed(seed)\n",
        "    torch.cuda.manual_seed(seed)\n",
        "    torch.cuda.manual_seed_all(seed)\n",
        "\n",
        "def train_and_evaluate(args: argparse.Namespace) -> None:\n",
        "    \"\"\"학습과 평가를 순차적으로 진행하며, 에폭별 손실을 시각화합니다.\"\"\"\n",
        "    print(\"Training started...\")\n",
        "    os.makedirs(args.result_dir, exist_ok=True)\n",
        "    os.makedirs(args.model_dir, exist_ok=True)\n",
        "\n",
        "    device = torch.device(\"cuda\" if torch.cuda.is_available() else \"cpu\")\n",
        "    print(\"Using device:\", device)\n",
        "\n",
        "    model = WaveNetModel().to(device)\n",
        "    dataloader = get_train_loader(args)\n",
        "    optimizer = torch.optim.Adam(model.parameters(), lr=args.lr)\n",
        "    criterion = torch.nn.MSELoss()\n",
        "\n",
        "    epoch_losses = []\n",
        "    for epoch in range(args.epochs):\n",
        "        model.train()\n",
        "        total_loss = 0.0\n",
        "        count = 0\n",
        "        p_bar = tqdm(dataloader, total=len(dataloader), desc=f\"Epoch {epoch+1}/{args.epochs}\", ncols=100)\n",
        "        for data in p_bar:\n",
        "            log_mel = data[0].to(device)\n",
        "            recon_log_mel = model(log_mel)\n",
        "            loss = criterion(recon_log_mel, log_mel[..., model.get_receptive_field():])\n",
        "            optimizer.zero_grad()\n",
        "            loss.backward()\n",
        "            optimizer.step()\n",
        "            total_loss += loss.item()\n",
        "            count += 1\n",
        "            p_bar.set_description(f\"Epoch {epoch+1}, Loss: {loss.item():.4f}\")\n",
        "        avg_loss = total_loss / count\n",
        "        epoch_losses.append(avg_loss)\n",
        "        print(f\"Epoch {epoch+1} average loss: {avg_loss:.4f}\")\n",
        "\n",
        "    save_model(model, os.path.join(args.model_dir, args.model_path))\n",
        "    print(\"Training completed.\")\n",
        "\n",
        "    # 손실 시각화\n",
        "    plt.figure(figsize=(8, 5))\n",
        "    plt.plot(range(1, args.epochs+1), epoch_losses, marker='o')\n",
        "    plt.xlabel(\"Epoch\")\n",
        "    plt.ylabel(\"Loss\")\n",
        "    plt.title(\"Training Loss per Epoch\")\n",
        "    plt.grid(True)\n",
        "    plt.show()\n",
        "\n",
        "    # 평가 진행\n",
        "    print(\"Evaluation started...\")\n",
        "    model.load_state_dict(torch.load(os.path.join(args.model_dir, args.model_path), map_location=device, weights_only=True))\n",
        "    model.eval()\n",
        "    eval_loader, file_list = get_eval_loader(args)\n",
        "    y_true, y_pred = [], []\n",
        "    for idx, data in enumerate(eval_loader):\n",
        "        log_mel = data[0].to(device)\n",
        "        anomaly_label = data[1]\n",
        "        recon_log_mel = model(log_mel)\n",
        "        loss = criterion(recon_log_mel, log_mel[..., model.get_receptive_field():])\n",
        "        y_true.append(1 if anomaly_label.item() > 0 else 0)\n",
        "        y_pred.append(loss.item())\n",
        "    auc = metrics.roc_auc_score(y_true, y_pred)\n",
        "    print(\"Evaluation AUC:\", auc)\n",
        "\n",
        "def test_model(args: argparse.Namespace) -> None:\n",
        "    \"\"\"테스트 데이터를 이용해 모델을 평가하고, 결과를 CSV로 저장합니다.\"\"\"\n",
        "    print(\"Test started...\")\n",
        "    device = torch.device(\"cuda\" if torch.cuda.is_available() else \"cpu\")\n",
        "    model = WaveNetModel().to(device)\n",
        "    model_path = os.path.join(args.model_dir, args.model_path)\n",
        "    model.load_state_dict(torch.load(model_path, map_location=device))\n",
        "    dataloader, file_list = get_test_loader(args)\n",
        "    criterion = torch.nn.MSELoss()\n",
        "    model.eval()\n",
        "    score_list = [[\"File\", \"Score\"]]\n",
        "    for idx, data in enumerate(dataloader):\n",
        "        log_mel = data[0].to(device)\n",
        "        recon_log_mel = model(log_mel)\n",
        "        loss = criterion(recon_log_mel, log_mel[..., model.get_receptive_field():])\n",
        "        file_name = os.path.splitext(file_list[idx].split(\"/\")[-1])[0]\n",
        "        score_list.append([file_name, loss.item()])\n",
        "    save_csv(score_list, os.path.join(args.result_dir, \"test_score.csv\"))\n",
        "    print(\"Test completed.\")\n",
        "\n",
        "def save_model(model: nn.Module, save_path: str) -> None:\n",
        "    \"\"\"모델을 지정된 경로에 저장\"\"\"\n",
        "    torch.save(model.state_dict(), save_path)\n",
        "\n",
        "\n",
        "#######################\n",
        "# Main (Sequential Execution)\n",
        "#######################\n",
        "if __name__ == \"__main__\":\n",
        "\n",
        "    args = get_args()\n",
        "    os.environ[\"CUDA_VISIBLE_DEVICES\"] = str(args.gpu)\n",
        "    set_seed(2025)\n",
        "\n",
        "    # 학습 및 평가 진행\n",
        "    train_and_evaluate(args)\n",
        "    # 테스트 진행 (원한다면)\n",
        "    test_model(args)\n"
      ],
      "metadata": {
        "colab": {
          "base_uri": "https://localhost:8080/",
          "height": 1000
        },
        "id": "_9BYRm4mmYr0",
        "outputId": "dcfeee71-e3d8-4445-8ce5-7ae1215a16ed"
      },
      "execution_count": 4,
      "outputs": [
        {
          "output_type": "stream",
          "name": "stdout",
          "text": [
            "Training started...\n",
            "Using device: cuda\n"
          ]
        },
        {
          "output_type": "stream",
          "name": "stderr",
          "text": [
            "Epoch 1, Loss: 44.9972: 100%|███████████████████████████████████████| 85/85 [00:14<00:00,  6.01it/s]\n"
          ]
        },
        {
          "output_type": "stream",
          "name": "stdout",
          "text": [
            "Epoch 1 average loss: 84.6992\n"
          ]
        },
        {
          "output_type": "stream",
          "name": "stderr",
          "text": [
            "Epoch 2, Loss: 26.5928: 100%|███████████████████████████████████████| 85/85 [00:14<00:00,  6.05it/s]\n"
          ]
        },
        {
          "output_type": "stream",
          "name": "stdout",
          "text": [
            "Epoch 2 average loss: 36.0214\n"
          ]
        },
        {
          "output_type": "stream",
          "name": "stderr",
          "text": [
            "Epoch 3, Loss: 22.7042: 100%|███████████████████████████████████████| 85/85 [00:13<00:00,  6.08it/s]\n"
          ]
        },
        {
          "output_type": "stream",
          "name": "stdout",
          "text": [
            "Epoch 3 average loss: 27.1060\n"
          ]
        },
        {
          "output_type": "stream",
          "name": "stderr",
          "text": [
            "Epoch 4, Loss: 21.4892: 100%|███████████████████████████████████████| 85/85 [00:13<00:00,  6.08it/s]\n"
          ]
        },
        {
          "output_type": "stream",
          "name": "stdout",
          "text": [
            "Epoch 4 average loss: 22.7947\n"
          ]
        },
        {
          "output_type": "stream",
          "name": "stderr",
          "text": [
            "Epoch 5, Loss: 18.9016: 100%|███████████████████████████████████████| 85/85 [00:13<00:00,  6.09it/s]\n"
          ]
        },
        {
          "output_type": "stream",
          "name": "stdout",
          "text": [
            "Epoch 5 average loss: 19.8324\n"
          ]
        },
        {
          "output_type": "stream",
          "name": "stderr",
          "text": [
            "Epoch 6, Loss: 16.2925: 100%|███████████████████████████████████████| 85/85 [00:13<00:00,  6.11it/s]\n"
          ]
        },
        {
          "output_type": "stream",
          "name": "stdout",
          "text": [
            "Epoch 6 average loss: 18.6661\n"
          ]
        },
        {
          "output_type": "stream",
          "name": "stderr",
          "text": [
            "Epoch 7, Loss: 16.1600: 100%|███████████████████████████████████████| 85/85 [00:14<00:00,  5.98it/s]\n"
          ]
        },
        {
          "output_type": "stream",
          "name": "stdout",
          "text": [
            "Epoch 7 average loss: 17.4932\n"
          ]
        },
        {
          "output_type": "stream",
          "name": "stderr",
          "text": [
            "Epoch 8, Loss: 15.3142: 100%|███████████████████████████████████████| 85/85 [00:14<00:00,  6.00it/s]\n"
          ]
        },
        {
          "output_type": "stream",
          "name": "stdout",
          "text": [
            "Epoch 8 average loss: 16.6267\n"
          ]
        },
        {
          "output_type": "stream",
          "name": "stderr",
          "text": [
            "Epoch 9, Loss: 18.0661: 100%|███████████████████████████████████████| 85/85 [00:14<00:00,  5.98it/s]\n"
          ]
        },
        {
          "output_type": "stream",
          "name": "stdout",
          "text": [
            "Epoch 9 average loss: 15.9080\n"
          ]
        },
        {
          "output_type": "stream",
          "name": "stderr",
          "text": [
            "Epoch 10, Loss: 15.9376: 100%|██████████████████████████████████████| 85/85 [00:14<00:00,  5.88it/s]\n"
          ]
        },
        {
          "output_type": "stream",
          "name": "stdout",
          "text": [
            "Epoch 10 average loss: 15.3536\n"
          ]
        },
        {
          "output_type": "stream",
          "name": "stderr",
          "text": [
            "Epoch 11, Loss: 13.9501: 100%|██████████████████████████████████████| 85/85 [00:14<00:00,  6.00it/s]\n"
          ]
        },
        {
          "output_type": "stream",
          "name": "stdout",
          "text": [
            "Epoch 11 average loss: 14.6803\n"
          ]
        },
        {
          "output_type": "stream",
          "name": "stderr",
          "text": [
            "Epoch 12, Loss: 15.1832: 100%|██████████████████████████████████████| 85/85 [00:14<00:00,  5.99it/s]\n"
          ]
        },
        {
          "output_type": "stream",
          "name": "stdout",
          "text": [
            "Epoch 12 average loss: 14.3915\n"
          ]
        },
        {
          "output_type": "stream",
          "name": "stderr",
          "text": [
            "Epoch 13, Loss: 13.8587: 100%|██████████████████████████████████████| 85/85 [00:14<00:00,  5.97it/s]\n"
          ]
        },
        {
          "output_type": "stream",
          "name": "stdout",
          "text": [
            "Epoch 13 average loss: 14.0916\n"
          ]
        },
        {
          "output_type": "stream",
          "name": "stderr",
          "text": [
            "Epoch 14, Loss: 14.0243: 100%|██████████████████████████████████████| 85/85 [00:14<00:00,  6.02it/s]\n"
          ]
        },
        {
          "output_type": "stream",
          "name": "stdout",
          "text": [
            "Epoch 14 average loss: 13.7517\n"
          ]
        },
        {
          "output_type": "stream",
          "name": "stderr",
          "text": [
            "Epoch 15, Loss: 12.9776: 100%|██████████████████████████████████████| 85/85 [00:14<00:00,  6.04it/s]\n"
          ]
        },
        {
          "output_type": "stream",
          "name": "stdout",
          "text": [
            "Epoch 15 average loss: 13.3798\n"
          ]
        },
        {
          "output_type": "stream",
          "name": "stderr",
          "text": [
            "Epoch 16, Loss: 13.9853: 100%|██████████████████████████████████████| 85/85 [00:14<00:00,  6.06it/s]\n"
          ]
        },
        {
          "output_type": "stream",
          "name": "stdout",
          "text": [
            "Epoch 16 average loss: 13.1200\n"
          ]
        },
        {
          "output_type": "stream",
          "name": "stderr",
          "text": [
            "Epoch 17, Loss: 13.1062: 100%|██████████████████████████████████████| 85/85 [00:13<00:00,  6.17it/s]\n"
          ]
        },
        {
          "output_type": "stream",
          "name": "stdout",
          "text": [
            "Epoch 17 average loss: 12.9205\n"
          ]
        },
        {
          "output_type": "stream",
          "name": "stderr",
          "text": [
            "Epoch 18, Loss: 12.5518: 100%|██████████████████████████████████████| 85/85 [00:13<00:00,  6.12it/s]\n"
          ]
        },
        {
          "output_type": "stream",
          "name": "stdout",
          "text": [
            "Epoch 18 average loss: 12.6670\n"
          ]
        },
        {
          "output_type": "stream",
          "name": "stderr",
          "text": [
            "Epoch 19, Loss: 12.3287: 100%|██████████████████████████████████████| 85/85 [00:14<00:00,  5.99it/s]\n"
          ]
        },
        {
          "output_type": "stream",
          "name": "stdout",
          "text": [
            "Epoch 19 average loss: 12.5090\n"
          ]
        },
        {
          "output_type": "stream",
          "name": "stderr",
          "text": [
            "Epoch 20, Loss: 12.3650: 100%|██████████████████████████████████████| 85/85 [00:14<00:00,  5.94it/s]\n"
          ]
        },
        {
          "output_type": "stream",
          "name": "stdout",
          "text": [
            "Epoch 20 average loss: 12.3604\n"
          ]
        },
        {
          "output_type": "stream",
          "name": "stderr",
          "text": [
            "Epoch 21, Loss: 11.9462: 100%|██████████████████████████████████████| 85/85 [00:14<00:00,  5.97it/s]\n"
          ]
        },
        {
          "output_type": "stream",
          "name": "stdout",
          "text": [
            "Epoch 21 average loss: 12.1161\n"
          ]
        },
        {
          "output_type": "stream",
          "name": "stderr",
          "text": [
            "Epoch 22, Loss: 12.5033: 100%|██████████████████████████████████████| 85/85 [00:14<00:00,  6.00it/s]\n"
          ]
        },
        {
          "output_type": "stream",
          "name": "stdout",
          "text": [
            "Epoch 22 average loss: 12.0293\n"
          ]
        },
        {
          "output_type": "stream",
          "name": "stderr",
          "text": [
            "Epoch 23, Loss: 11.7353: 100%|██████████████████████████████████████| 85/85 [00:13<00:00,  6.15it/s]\n"
          ]
        },
        {
          "output_type": "stream",
          "name": "stdout",
          "text": [
            "Epoch 23 average loss: 11.9174\n"
          ]
        },
        {
          "output_type": "stream",
          "name": "stderr",
          "text": [
            "Epoch 24, Loss: 11.8095: 100%|██████████████████████████████████████| 85/85 [00:14<00:00,  5.95it/s]\n"
          ]
        },
        {
          "output_type": "stream",
          "name": "stdout",
          "text": [
            "Epoch 24 average loss: 11.7554\n"
          ]
        },
        {
          "output_type": "stream",
          "name": "stderr",
          "text": [
            "Epoch 25, Loss: 11.6537: 100%|██████████████████████████████████████| 85/85 [00:14<00:00,  5.99it/s]\n"
          ]
        },
        {
          "output_type": "stream",
          "name": "stdout",
          "text": [
            "Epoch 25 average loss: 11.6610\n"
          ]
        },
        {
          "output_type": "stream",
          "name": "stderr",
          "text": [
            "Epoch 26, Loss: 11.7617: 100%|██████████████████████████████████████| 85/85 [00:14<00:00,  5.95it/s]\n"
          ]
        },
        {
          "output_type": "stream",
          "name": "stdout",
          "text": [
            "Epoch 26 average loss: 11.5878\n"
          ]
        },
        {
          "output_type": "stream",
          "name": "stderr",
          "text": [
            "Epoch 27, Loss: 11.6336: 100%|██████████████████████████████████████| 85/85 [00:13<00:00,  6.10it/s]\n"
          ]
        },
        {
          "output_type": "stream",
          "name": "stdout",
          "text": [
            "Epoch 27 average loss: 11.4462\n"
          ]
        },
        {
          "output_type": "stream",
          "name": "stderr",
          "text": [
            "Epoch 28, Loss: 11.7145: 100%|██████████████████████████████████████| 85/85 [00:14<00:00,  6.02it/s]\n"
          ]
        },
        {
          "output_type": "stream",
          "name": "stdout",
          "text": [
            "Epoch 28 average loss: 11.3134\n"
          ]
        },
        {
          "output_type": "stream",
          "name": "stderr",
          "text": [
            "Epoch 29, Loss: 11.5778: 100%|██████████████████████████████████████| 85/85 [00:13<00:00,  6.09it/s]\n"
          ]
        },
        {
          "output_type": "stream",
          "name": "stdout",
          "text": [
            "Epoch 29 average loss: 11.1579\n"
          ]
        },
        {
          "output_type": "stream",
          "name": "stderr",
          "text": [
            "Epoch 30, Loss: 11.1501: 100%|██████████████████████████████████████| 85/85 [00:13<00:00,  6.11it/s]\n"
          ]
        },
        {
          "output_type": "stream",
          "name": "stdout",
          "text": [
            "Epoch 30 average loss: 11.0380\n"
          ]
        },
        {
          "output_type": "stream",
          "name": "stderr",
          "text": [
            "Epoch 31, Loss: 10.8662: 100%|██████████████████████████████████████| 85/85 [00:13<00:00,  6.12it/s]\n"
          ]
        },
        {
          "output_type": "stream",
          "name": "stdout",
          "text": [
            "Epoch 31 average loss: 10.9922\n"
          ]
        },
        {
          "output_type": "stream",
          "name": "stderr",
          "text": [
            "Epoch 32, Loss: 11.9596: 100%|██████████████████████████████████████| 85/85 [00:13<00:00,  6.12it/s]\n"
          ]
        },
        {
          "output_type": "stream",
          "name": "stdout",
          "text": [
            "Epoch 32 average loss: 10.9496\n"
          ]
        },
        {
          "output_type": "stream",
          "name": "stderr",
          "text": [
            "Epoch 33, Loss: 11.2806: 100%|██████████████████████████████████████| 85/85 [00:13<00:00,  6.11it/s]\n"
          ]
        },
        {
          "output_type": "stream",
          "name": "stdout",
          "text": [
            "Epoch 33 average loss: 10.8819\n"
          ]
        },
        {
          "output_type": "stream",
          "name": "stderr",
          "text": [
            "Epoch 34, Loss: 11.2909: 100%|██████████████████████████████████████| 85/85 [00:13<00:00,  6.21it/s]\n"
          ]
        },
        {
          "output_type": "stream",
          "name": "stdout",
          "text": [
            "Epoch 34 average loss: 10.8865\n"
          ]
        },
        {
          "output_type": "stream",
          "name": "stderr",
          "text": [
            "Epoch 35, Loss: 10.6909: 100%|██████████████████████████████████████| 85/85 [00:13<00:00,  6.16it/s]\n"
          ]
        },
        {
          "output_type": "stream",
          "name": "stdout",
          "text": [
            "Epoch 35 average loss: 10.8375\n"
          ]
        },
        {
          "output_type": "stream",
          "name": "stderr",
          "text": [
            "Epoch 36, Loss: 10.4371: 100%|██████████████████████████████████████| 85/85 [00:13<00:00,  6.15it/s]\n"
          ]
        },
        {
          "output_type": "stream",
          "name": "stdout",
          "text": [
            "Epoch 36 average loss: 10.7416\n"
          ]
        },
        {
          "output_type": "stream",
          "name": "stderr",
          "text": [
            "Epoch 37, Loss: 10.8498: 100%|██████████████████████████████████████| 85/85 [00:13<00:00,  6.08it/s]\n"
          ]
        },
        {
          "output_type": "stream",
          "name": "stdout",
          "text": [
            "Epoch 37 average loss: 10.6371\n"
          ]
        },
        {
          "output_type": "stream",
          "name": "stderr",
          "text": [
            "Epoch 38, Loss: 10.4068: 100%|██████████████████████████████████████| 85/85 [00:13<00:00,  6.17it/s]\n"
          ]
        },
        {
          "output_type": "stream",
          "name": "stdout",
          "text": [
            "Epoch 38 average loss: 10.4973\n"
          ]
        },
        {
          "output_type": "stream",
          "name": "stderr",
          "text": [
            "Epoch 39, Loss: 10.0108: 100%|██████████████████████████████████████| 85/85 [00:14<00:00,  6.06it/s]\n"
          ]
        },
        {
          "output_type": "stream",
          "name": "stdout",
          "text": [
            "Epoch 39 average loss: 10.4306\n"
          ]
        },
        {
          "output_type": "stream",
          "name": "stderr",
          "text": [
            "Epoch 40, Loss: 10.5873: 100%|██████████████████████████████████████| 85/85 [00:13<00:00,  6.15it/s]\n"
          ]
        },
        {
          "output_type": "stream",
          "name": "stdout",
          "text": [
            "Epoch 40 average loss: 10.3313\n"
          ]
        },
        {
          "output_type": "stream",
          "name": "stderr",
          "text": [
            "Epoch 41, Loss: 10.6082: 100%|██████████████████████████████████████| 85/85 [00:14<00:00,  6.06it/s]\n"
          ]
        },
        {
          "output_type": "stream",
          "name": "stdout",
          "text": [
            "Epoch 41 average loss: 10.2753\n"
          ]
        },
        {
          "output_type": "stream",
          "name": "stderr",
          "text": [
            "Epoch 42, Loss: 10.0907: 100%|██████████████████████████████████████| 85/85 [00:13<00:00,  6.09it/s]\n"
          ]
        },
        {
          "output_type": "stream",
          "name": "stdout",
          "text": [
            "Epoch 42 average loss: 10.1705\n"
          ]
        },
        {
          "output_type": "stream",
          "name": "stderr",
          "text": [
            "Epoch 43, Loss: 10.0701: 100%|██████████████████████████████████████| 85/85 [00:13<00:00,  6.10it/s]\n"
          ]
        },
        {
          "output_type": "stream",
          "name": "stdout",
          "text": [
            "Epoch 43 average loss: 10.0536\n"
          ]
        },
        {
          "output_type": "stream",
          "name": "stderr",
          "text": [
            "Epoch 44, Loss: 10.2414: 100%|██████████████████████████████████████| 85/85 [00:13<00:00,  6.24it/s]\n"
          ]
        },
        {
          "output_type": "stream",
          "name": "stdout",
          "text": [
            "Epoch 44 average loss: 10.0730\n"
          ]
        },
        {
          "output_type": "stream",
          "name": "stderr",
          "text": [
            "Epoch 45, Loss: 10.3243: 100%|██████████████████████████████████████| 85/85 [00:13<00:00,  6.23it/s]\n"
          ]
        },
        {
          "output_type": "stream",
          "name": "stdout",
          "text": [
            "Epoch 45 average loss: 9.9589\n"
          ]
        },
        {
          "output_type": "stream",
          "name": "stderr",
          "text": [
            "Epoch 46, Loss: 9.5130: 100%|███████████████████████████████████████| 85/85 [00:13<00:00,  6.18it/s]\n"
          ]
        },
        {
          "output_type": "stream",
          "name": "stdout",
          "text": [
            "Epoch 46 average loss: 9.8730\n"
          ]
        },
        {
          "output_type": "stream",
          "name": "stderr",
          "text": [
            "Epoch 47, Loss: 9.7974: 100%|███████████████████████████████████████| 85/85 [00:13<00:00,  6.08it/s]\n"
          ]
        },
        {
          "output_type": "stream",
          "name": "stdout",
          "text": [
            "Epoch 47 average loss: 9.7598\n"
          ]
        },
        {
          "output_type": "stream",
          "name": "stderr",
          "text": [
            "Epoch 48, Loss: 9.3489: 100%|███████████████████████████████████████| 85/85 [00:14<00:00,  6.05it/s]\n"
          ]
        },
        {
          "output_type": "stream",
          "name": "stdout",
          "text": [
            "Epoch 48 average loss: 9.6434\n"
          ]
        },
        {
          "output_type": "stream",
          "name": "stderr",
          "text": [
            "Epoch 49, Loss: 9.5197: 100%|███████████████████████████████████████| 85/85 [00:14<00:00,  6.03it/s]\n"
          ]
        },
        {
          "output_type": "stream",
          "name": "stdout",
          "text": [
            "Epoch 49 average loss: 9.5552\n"
          ]
        },
        {
          "output_type": "stream",
          "name": "stderr",
          "text": [
            "Epoch 50, Loss: 10.1599: 100%|██████████████████████████████████████| 85/85 [00:14<00:00,  5.88it/s]\n"
          ]
        },
        {
          "output_type": "stream",
          "name": "stdout",
          "text": [
            "Epoch 50 average loss: 9.5265\n"
          ]
        },
        {
          "output_type": "stream",
          "name": "stderr",
          "text": [
            "Epoch 51, Loss: 9.4801: 100%|███████████████████████████████████████| 85/85 [00:13<00:00,  6.12it/s]\n"
          ]
        },
        {
          "output_type": "stream",
          "name": "stdout",
          "text": [
            "Epoch 51 average loss: 9.4847\n"
          ]
        },
        {
          "output_type": "stream",
          "name": "stderr",
          "text": [
            "Epoch 52, Loss: 9.0431: 100%|███████████████████████████████████████| 85/85 [00:14<00:00,  6.03it/s]\n"
          ]
        },
        {
          "output_type": "stream",
          "name": "stdout",
          "text": [
            "Epoch 52 average loss: 9.3854\n"
          ]
        },
        {
          "output_type": "stream",
          "name": "stderr",
          "text": [
            "Epoch 53, Loss: 9.1664: 100%|███████████████████████████████████████| 85/85 [00:13<00:00,  6.15it/s]\n"
          ]
        },
        {
          "output_type": "stream",
          "name": "stdout",
          "text": [
            "Epoch 53 average loss: 9.2915\n"
          ]
        },
        {
          "output_type": "stream",
          "name": "stderr",
          "text": [
            "Epoch 54, Loss: 9.2607: 100%|███████████████████████████████████████| 85/85 [00:14<00:00,  5.98it/s]\n"
          ]
        },
        {
          "output_type": "stream",
          "name": "stdout",
          "text": [
            "Epoch 54 average loss: 9.2007\n"
          ]
        },
        {
          "output_type": "stream",
          "name": "stderr",
          "text": [
            "Epoch 55, Loss: 9.3464: 100%|███████████████████████████████████████| 85/85 [00:13<00:00,  6.11it/s]\n"
          ]
        },
        {
          "output_type": "stream",
          "name": "stdout",
          "text": [
            "Epoch 55 average loss: 9.2241\n"
          ]
        },
        {
          "output_type": "stream",
          "name": "stderr",
          "text": [
            "Epoch 56, Loss: 9.1091: 100%|███████████████████████████████████████| 85/85 [00:13<00:00,  6.17it/s]\n"
          ]
        },
        {
          "output_type": "stream",
          "name": "stdout",
          "text": [
            "Epoch 56 average loss: 9.1660\n"
          ]
        },
        {
          "output_type": "stream",
          "name": "stderr",
          "text": [
            "Epoch 57, Loss: 9.0292: 100%|███████████████████████████████████████| 85/85 [00:13<00:00,  6.12it/s]\n"
          ]
        },
        {
          "output_type": "stream",
          "name": "stdout",
          "text": [
            "Epoch 57 average loss: 9.0875\n"
          ]
        },
        {
          "output_type": "stream",
          "name": "stderr",
          "text": [
            "Epoch 58, Loss: 8.9166: 100%|███████████████████████████████████████| 85/85 [00:13<00:00,  6.14it/s]\n"
          ]
        },
        {
          "output_type": "stream",
          "name": "stdout",
          "text": [
            "Epoch 58 average loss: 8.9920\n"
          ]
        },
        {
          "output_type": "stream",
          "name": "stderr",
          "text": [
            "Epoch 59, Loss: 8.7626: 100%|███████████████████████████████████████| 85/85 [00:14<00:00,  6.01it/s]\n"
          ]
        },
        {
          "output_type": "stream",
          "name": "stdout",
          "text": [
            "Epoch 59 average loss: 8.8896\n"
          ]
        },
        {
          "output_type": "stream",
          "name": "stderr",
          "text": [
            "Epoch 60, Loss: 8.8602: 100%|███████████████████████████████████████| 85/85 [00:14<00:00,  6.02it/s]\n"
          ]
        },
        {
          "output_type": "stream",
          "name": "stdout",
          "text": [
            "Epoch 60 average loss: 8.7609\n"
          ]
        },
        {
          "output_type": "stream",
          "name": "stderr",
          "text": [
            "Epoch 61, Loss: 8.7924: 100%|███████████████████████████████████████| 85/85 [00:14<00:00,  6.05it/s]\n"
          ]
        },
        {
          "output_type": "stream",
          "name": "stdout",
          "text": [
            "Epoch 61 average loss: 8.6802\n"
          ]
        },
        {
          "output_type": "stream",
          "name": "stderr",
          "text": [
            "Epoch 62, Loss: 8.5643: 100%|███████████████████████████████████████| 85/85 [00:14<00:00,  6.01it/s]\n"
          ]
        },
        {
          "output_type": "stream",
          "name": "stdout",
          "text": [
            "Epoch 62 average loss: 8.6192\n"
          ]
        },
        {
          "output_type": "stream",
          "name": "stderr",
          "text": [
            "Epoch 63, Loss: 8.6913: 100%|███████████████████████████████████████| 85/85 [00:14<00:00,  5.97it/s]\n"
          ]
        },
        {
          "output_type": "stream",
          "name": "stdout",
          "text": [
            "Epoch 63 average loss: 8.5803\n"
          ]
        },
        {
          "output_type": "stream",
          "name": "stderr",
          "text": [
            "Epoch 64, Loss: 8.3910: 100%|███████████████████████████████████████| 85/85 [00:13<00:00,  6.11it/s]\n"
          ]
        },
        {
          "output_type": "stream",
          "name": "stdout",
          "text": [
            "Epoch 64 average loss: 8.5209\n"
          ]
        },
        {
          "output_type": "stream",
          "name": "stderr",
          "text": [
            "Epoch 65, Loss: 8.8407: 100%|███████████████████████████████████████| 85/85 [00:14<00:00,  6.06it/s]\n"
          ]
        },
        {
          "output_type": "stream",
          "name": "stdout",
          "text": [
            "Epoch 65 average loss: 8.4523\n"
          ]
        },
        {
          "output_type": "stream",
          "name": "stderr",
          "text": [
            "Epoch 66, Loss: 8.3517: 100%|███████████████████████████████████████| 85/85 [00:14<00:00,  6.05it/s]\n"
          ]
        },
        {
          "output_type": "stream",
          "name": "stdout",
          "text": [
            "Epoch 66 average loss: 8.3974\n"
          ]
        },
        {
          "output_type": "stream",
          "name": "stderr",
          "text": [
            "Epoch 67, Loss: 8.4630: 100%|███████████████████████████████████████| 85/85 [00:14<00:00,  5.98it/s]\n"
          ]
        },
        {
          "output_type": "stream",
          "name": "stdout",
          "text": [
            "Epoch 67 average loss: 8.3638\n"
          ]
        },
        {
          "output_type": "stream",
          "name": "stderr",
          "text": [
            "Epoch 68, Loss: 8.2597: 100%|███████████████████████████████████████| 85/85 [00:13<00:00,  6.10it/s]\n"
          ]
        },
        {
          "output_type": "stream",
          "name": "stdout",
          "text": [
            "Epoch 68 average loss: 8.3918\n"
          ]
        },
        {
          "output_type": "stream",
          "name": "stderr",
          "text": [
            "Epoch 69, Loss: 8.5670: 100%|███████████████████████████████████████| 85/85 [00:14<00:00,  5.94it/s]\n"
          ]
        },
        {
          "output_type": "stream",
          "name": "stdout",
          "text": [
            "Epoch 69 average loss: 8.2717\n"
          ]
        },
        {
          "output_type": "stream",
          "name": "stderr",
          "text": [
            "Epoch 70, Loss: 8.3120: 100%|███████████████████████████████████████| 85/85 [00:14<00:00,  6.06it/s]\n"
          ]
        },
        {
          "output_type": "stream",
          "name": "stdout",
          "text": [
            "Epoch 70 average loss: 8.1799\n"
          ]
        },
        {
          "output_type": "stream",
          "name": "stderr",
          "text": [
            "Epoch 71, Loss: 8.1086: 100%|███████████████████████████████████████| 85/85 [00:14<00:00,  6.06it/s]\n"
          ]
        },
        {
          "output_type": "stream",
          "name": "stdout",
          "text": [
            "Epoch 71 average loss: 8.1524\n"
          ]
        },
        {
          "output_type": "stream",
          "name": "stderr",
          "text": [
            "Epoch 72, Loss: 8.4292: 100%|███████████████████████████████████████| 85/85 [00:13<00:00,  6.07it/s]\n"
          ]
        },
        {
          "output_type": "stream",
          "name": "stdout",
          "text": [
            "Epoch 72 average loss: 8.0815\n"
          ]
        },
        {
          "output_type": "stream",
          "name": "stderr",
          "text": [
            "Epoch 73, Loss: 7.9513: 100%|███████████████████████████████████████| 85/85 [00:14<00:00,  6.05it/s]\n"
          ]
        },
        {
          "output_type": "stream",
          "name": "stdout",
          "text": [
            "Epoch 73 average loss: 8.0469\n"
          ]
        },
        {
          "output_type": "stream",
          "name": "stderr",
          "text": [
            "Epoch 74, Loss: 7.8839: 100%|███████████████████████████████████████| 85/85 [00:14<00:00,  6.07it/s]\n"
          ]
        },
        {
          "output_type": "stream",
          "name": "stdout",
          "text": [
            "Epoch 74 average loss: 7.9431\n"
          ]
        },
        {
          "output_type": "stream",
          "name": "stderr",
          "text": [
            "Epoch 75, Loss: 7.9143: 100%|███████████████████████████████████████| 85/85 [00:13<00:00,  6.08it/s]\n"
          ]
        },
        {
          "output_type": "stream",
          "name": "stdout",
          "text": [
            "Epoch 75 average loss: 7.8838\n"
          ]
        },
        {
          "output_type": "stream",
          "name": "stderr",
          "text": [
            "Epoch 76, Loss: 8.0516: 100%|███████████████████████████████████████| 85/85 [00:14<00:00,  5.99it/s]\n"
          ]
        },
        {
          "output_type": "stream",
          "name": "stdout",
          "text": [
            "Epoch 76 average loss: 7.8148\n"
          ]
        },
        {
          "output_type": "stream",
          "name": "stderr",
          "text": [
            "Epoch 77, Loss: 7.7300: 100%|███████████████████████████████████████| 85/85 [00:14<00:00,  6.01it/s]\n"
          ]
        },
        {
          "output_type": "stream",
          "name": "stdout",
          "text": [
            "Epoch 77 average loss: 7.7693\n"
          ]
        },
        {
          "output_type": "stream",
          "name": "stderr",
          "text": [
            "Epoch 78, Loss: 7.7139: 100%|███████████████████████████████████████| 85/85 [00:14<00:00,  5.98it/s]\n"
          ]
        },
        {
          "output_type": "stream",
          "name": "stdout",
          "text": [
            "Epoch 78 average loss: 7.7636\n"
          ]
        },
        {
          "output_type": "stream",
          "name": "stderr",
          "text": [
            "Epoch 79, Loss: 7.8542: 100%|███████████████████████████████████████| 85/85 [00:13<00:00,  6.08it/s]\n"
          ]
        },
        {
          "output_type": "stream",
          "name": "stdout",
          "text": [
            "Epoch 79 average loss: 7.7361\n"
          ]
        },
        {
          "output_type": "stream",
          "name": "stderr",
          "text": [
            "Epoch 80, Loss: 7.7597: 100%|███████████████████████████████████████| 85/85 [00:14<00:00,  6.02it/s]\n"
          ]
        },
        {
          "output_type": "stream",
          "name": "stdout",
          "text": [
            "Epoch 80 average loss: 7.7078\n"
          ]
        },
        {
          "output_type": "stream",
          "name": "stderr",
          "text": [
            "Epoch 81, Loss: 7.5615: 100%|███████████████████████████████████████| 85/85 [00:14<00:00,  6.07it/s]\n"
          ]
        },
        {
          "output_type": "stream",
          "name": "stdout",
          "text": [
            "Epoch 81 average loss: 7.6320\n"
          ]
        },
        {
          "output_type": "stream",
          "name": "stderr",
          "text": [
            "Epoch 82, Loss: 7.4963: 100%|███████████████████████████████████████| 85/85 [00:14<00:00,  6.05it/s]\n"
          ]
        },
        {
          "output_type": "stream",
          "name": "stdout",
          "text": [
            "Epoch 82 average loss: 7.5677\n"
          ]
        },
        {
          "output_type": "stream",
          "name": "stderr",
          "text": [
            "Epoch 83, Loss: 7.5910: 100%|███████████████████████████████████████| 85/85 [00:14<00:00,  6.04it/s]\n"
          ]
        },
        {
          "output_type": "stream",
          "name": "stdout",
          "text": [
            "Epoch 83 average loss: 7.5444\n"
          ]
        },
        {
          "output_type": "stream",
          "name": "stderr",
          "text": [
            "Epoch 84, Loss: 7.4700: 100%|███████████████████████████████████████| 85/85 [00:14<00:00,  5.98it/s]\n"
          ]
        },
        {
          "output_type": "stream",
          "name": "stdout",
          "text": [
            "Epoch 84 average loss: 7.4798\n"
          ]
        },
        {
          "output_type": "stream",
          "name": "stderr",
          "text": [
            "Epoch 85, Loss: 7.3527: 100%|███████████████████████████████████████| 85/85 [00:13<00:00,  6.08it/s]\n"
          ]
        },
        {
          "output_type": "stream",
          "name": "stdout",
          "text": [
            "Epoch 85 average loss: 7.4501\n"
          ]
        },
        {
          "output_type": "stream",
          "name": "stderr",
          "text": [
            "Epoch 86, Loss: 7.6713: 100%|███████████████████████████████████████| 85/85 [00:13<00:00,  6.14it/s]\n"
          ]
        },
        {
          "output_type": "stream",
          "name": "stdout",
          "text": [
            "Epoch 86 average loss: 7.4112\n"
          ]
        },
        {
          "output_type": "stream",
          "name": "stderr",
          "text": [
            "Epoch 87, Loss: 7.5784: 100%|███████████████████████████████████████| 85/85 [00:13<00:00,  6.09it/s]\n"
          ]
        },
        {
          "output_type": "stream",
          "name": "stdout",
          "text": [
            "Epoch 87 average loss: 7.3503\n"
          ]
        },
        {
          "output_type": "stream",
          "name": "stderr",
          "text": [
            "Epoch 88, Loss: 7.3848: 100%|███████████████████████████████████████| 85/85 [00:13<00:00,  6.10it/s]\n"
          ]
        },
        {
          "output_type": "stream",
          "name": "stdout",
          "text": [
            "Epoch 88 average loss: 7.3838\n"
          ]
        },
        {
          "output_type": "stream",
          "name": "stderr",
          "text": [
            "Epoch 89, Loss: 7.3309: 100%|███████████████████████████████████████| 85/85 [00:14<00:00,  6.07it/s]\n"
          ]
        },
        {
          "output_type": "stream",
          "name": "stdout",
          "text": [
            "Epoch 89 average loss: 7.3412\n"
          ]
        },
        {
          "output_type": "stream",
          "name": "stderr",
          "text": [
            "Epoch 90, Loss: 7.1639: 100%|███████████████████████████████████████| 85/85 [00:14<00:00,  6.03it/s]\n"
          ]
        },
        {
          "output_type": "stream",
          "name": "stdout",
          "text": [
            "Epoch 90 average loss: 7.3349\n"
          ]
        },
        {
          "output_type": "stream",
          "name": "stderr",
          "text": [
            "Epoch 91, Loss: 7.1437: 100%|███████████████████████████████████████| 85/85 [00:14<00:00,  5.96it/s]\n"
          ]
        },
        {
          "output_type": "stream",
          "name": "stdout",
          "text": [
            "Epoch 91 average loss: 7.2308\n"
          ]
        },
        {
          "output_type": "stream",
          "name": "stderr",
          "text": [
            "Epoch 92, Loss: 7.2510: 100%|███████████████████████████████████████| 85/85 [00:14<00:00,  5.97it/s]\n"
          ]
        },
        {
          "output_type": "stream",
          "name": "stdout",
          "text": [
            "Epoch 92 average loss: 7.1374\n"
          ]
        },
        {
          "output_type": "stream",
          "name": "stderr",
          "text": [
            "Epoch 93, Loss: 7.2050: 100%|███████████████████████████████████████| 85/85 [00:14<00:00,  5.97it/s]\n"
          ]
        },
        {
          "output_type": "stream",
          "name": "stdout",
          "text": [
            "Epoch 93 average loss: 7.1458\n"
          ]
        },
        {
          "output_type": "stream",
          "name": "stderr",
          "text": [
            "Epoch 94, Loss: 7.0012: 100%|███████████████████████████████████████| 85/85 [00:14<00:00,  6.06it/s]\n"
          ]
        },
        {
          "output_type": "stream",
          "name": "stdout",
          "text": [
            "Epoch 94 average loss: 7.1343\n"
          ]
        },
        {
          "output_type": "stream",
          "name": "stderr",
          "text": [
            "Epoch 95, Loss: 7.0459: 100%|███████████████████████████████████████| 85/85 [00:14<00:00,  6.00it/s]\n"
          ]
        },
        {
          "output_type": "stream",
          "name": "stdout",
          "text": [
            "Epoch 95 average loss: 7.0960\n"
          ]
        },
        {
          "output_type": "stream",
          "name": "stderr",
          "text": [
            "Epoch 96, Loss: 7.2267: 100%|███████████████████████████████████████| 85/85 [00:14<00:00,  5.99it/s]\n"
          ]
        },
        {
          "output_type": "stream",
          "name": "stdout",
          "text": [
            "Epoch 96 average loss: 7.0432\n"
          ]
        },
        {
          "output_type": "stream",
          "name": "stderr",
          "text": [
            "Epoch 97, Loss: 6.9728: 100%|███████████████████████████████████████| 85/85 [00:14<00:00,  5.94it/s]\n"
          ]
        },
        {
          "output_type": "stream",
          "name": "stdout",
          "text": [
            "Epoch 97 average loss: 7.0033\n"
          ]
        },
        {
          "output_type": "stream",
          "name": "stderr",
          "text": [
            "Epoch 98, Loss: 6.8295: 100%|███████████████████████████████████████| 85/85 [00:14<00:00,  5.98it/s]\n"
          ]
        },
        {
          "output_type": "stream",
          "name": "stdout",
          "text": [
            "Epoch 98 average loss: 6.9610\n"
          ]
        },
        {
          "output_type": "stream",
          "name": "stderr",
          "text": [
            "Epoch 99, Loss: 7.0382: 100%|███████████████████████████████████████| 85/85 [00:14<00:00,  5.97it/s]\n"
          ]
        },
        {
          "output_type": "stream",
          "name": "stdout",
          "text": [
            "Epoch 99 average loss: 6.9461\n"
          ]
        },
        {
          "output_type": "stream",
          "name": "stderr",
          "text": [
            "Epoch 100, Loss: 7.2041: 100%|██████████████████████████████████████| 85/85 [00:14<00:00,  5.94it/s]\n"
          ]
        },
        {
          "output_type": "stream",
          "name": "stdout",
          "text": [
            "Epoch 100 average loss: 6.9760\n",
            "Training completed.\n"
          ]
        },
        {
          "output_type": "display_data",
          "data": {
            "text/plain": [
              "<Figure size 800x500 with 1 Axes>"
            ],
            "image/png": "[encoded data removed]"
          },
          "metadata": {}
        },
        {
          "output_type": "stream",
          "name": "stdout",
          "text": [
            "Evaluation started...\n",
            "Evaluation AUC: 0.6095576131687243\n",
            "Test started...\n",
            "Test completed.\n"
          ]
        }
      ]
    }
  ],
  "metadata": {
    "accelerator": "GPU",
    "colab": {
      "gpuType": "T4",
      "provenance": [],
      "mount_file_id": "1aO1vp9Agx3upbpXQXQqzV_lcG7CK9DHF",
      "authorship_tag": "ABX9TyNSPXaW1SjLAi0hvIxfSa2O",
      "include_colab_link": true
    },
    "kernelspec": {
      "display_name": "Python 3",
      "name": "python3"
    },
    "language_info": {
      "name": "python"
    }
  },
  "nbformat": 4,
  "nbformat_minor": 0
}