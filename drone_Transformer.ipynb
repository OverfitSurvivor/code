{
  "cells": [
    {
      "cell_type": "markdown",
      "metadata": {
        "id": "view-in-github",
        "colab_type": "text"
      },
      "source": [
        "<a href=\"https://colab.research.google.com/github/OverfitSurvivor/code/blob/main/drone_Transformer.ipynb\" target=\"_parent\"><img src=\"https://colab.research.google.com/assets/colab-badge.svg\" alt=\"Open In Colab\"/></a>"
      ]
    },
    {
      "cell_type": "code",
      "execution_count": null,
      "metadata": {
        "colab": {
          "base_uri": "https://localhost:8080/"
        },
        "id": "FaVeakiafwSP",
        "outputId": "afcffdc2-da08-418c-f63a-79d6a01af9f4"
      },
      "outputs": [
        {
          "output_type": "stream",
          "name": "stdout",
          "text": [
            "압축 해제 완료: /content/ICSV31AIChallengeDataset\n"
          ]
        }
      ],
      "source": [
        "import os\n",
        "import zipfile\n",
        "\n",
        "zip_path = \"/content/drive/MyDrive/ICSV31AIChallengeDataset.zip\"  # 업로드한 ZIP 파일 경로\n",
        "extract_path = \"/content/ICSV31AIChallengeDataset\"  # 압축을 풀 폴더 경로\n",
        "\n",
        "# 폴더가 없으면 생성\n",
        "os.makedirs(extract_path, exist_ok=True)\n",
        "\n",
        "# 압축 해제\n",
        "with zipfile.ZipFile(zip_path, \"r\") as zip_ref:\n",
        "    zip_ref.extractall(extract_path)\n",
        "\n",
        "print(\"압축 해제 완료:\", extract_path)"
      ]
    },
    {
      "cell_type": "code",
      "source": [
        "from google.colab import drive\n",
        "drive.mount('/content/drive')"
      ],
      "metadata": {
        "colab": {
          "base_uri": "https://localhost:8080/"
        },
        "id": "D0A5zWRFi_QR",
        "outputId": "8aa1d325-6d99-4d23-a4ab-97338da4fff9"
      },
      "execution_count": null,
      "outputs": [
        {
          "output_type": "stream",
          "name": "stdout",
          "text": [
            "Mounted at /content/drive\n"
          ]
        }
      ]
    },
    {
      "cell_type": "markdown",
      "metadata": {
        "id": "fE-K2Pl0PbbQ"
      },
      "source": [
        "## 모듈 불러오기"
      ]
    },
    {
      "cell_type": "code",
      "execution_count": null,
      "metadata": {
        "id": "AcxPt6b6AAZy"
      },
      "outputs": [],
      "source": [
        "import csv\n",
        "import argparse\n",
        "import os\n",
        "from typing import Any, List, Tuple\n",
        "\n",
        "import torch\n",
        "import torchaudio\n",
        "from torch.utils.data import DataLoader, Dataset\n",
        "import torch.nn as nn\n",
        "import torch.nn.functional as F\n",
        "from tqdm import tqdm\n",
        "import sklearn.metrics as metrics\n",
        "import matplotlib.pyplot as plt"
      ]
    },
    {
      "cell_type": "markdown",
      "metadata": {
        "id": "421dhcInPX1n"
      },
      "source": [
        "## 라벨링 및 데이터셋 로더"
      ]
    },
    {
      "cell_type": "code",
      "execution_count": null,
      "metadata": {
        "id": "MAatqFKi_-BY"
      },
      "outputs": [],
      "source": [
        "#######################\n",
        "# 1. Utils\n",
        "#######################\n",
        "def read_csv(file_path: str) -> List:\n",
        "    with open(file_path, \"r\") as f:\n",
        "        reader = csv.reader(f)\n",
        "        return list(reader)\n",
        "\n",
        "def save_csv(save_data: List[Any], save_file_path: str) -> None:\n",
        "    with open(save_file_path, \"w\", newline=\"\") as f:\n",
        "        writer = csv.writer(f, lineterminator=\"\\n\")\n",
        "        writer.writerows(save_data)\n",
        "\n",
        "def get_anomaly_label(file_path: str) -> int:\n",
        "    file_name = os.path.basename(file_path)\n",
        "    train_mode = file_name.split(\"_\")[0]\n",
        "    if train_mode == \"test\":\n",
        "        return -1\n",
        "    elif \"normal\" in file_name:\n",
        "        return 0\n",
        "    else:\n",
        "        return 1\n",
        "\n",
        "def get_drone_label(file_path: str) -> int:\n",
        "    file_name = os.path.basename(file_path)\n",
        "    drone_mode = file_name.split(\"_\")[1]\n",
        "    if drone_mode == \"A\":\n",
        "        return 0\n",
        "    elif drone_mode == \"B\":\n",
        "        return 1\n",
        "    elif drone_mode == \"C\":\n",
        "        return 2\n",
        "    else:\n",
        "        return -1\n",
        "\n",
        "def get_direction_label(file_path: str) -> int:\n",
        "    file_name = os.path.basename(file_path)\n",
        "    direction_mode = file_name.split(\"_\")[2]\n",
        "    if direction_mode == \"Back\":\n",
        "        return 0\n",
        "    elif direction_mode == \"Front\":\n",
        "        return 1\n",
        "    elif direction_mode == \"Left\":\n",
        "        return 2\n",
        "    elif direction_mode == \"Right\":\n",
        "        return 3\n",
        "    elif direction_mode == \"Clockwise\":\n",
        "        return 4\n",
        "    elif direction_mode == \"CounterClockwise\":\n",
        "        return 5\n",
        "    else:\n",
        "        return -1\n",
        "\n",
        "#######################\n",
        "# 2. Feature Extraction & Augmentation\n",
        "#######################\n",
        "def wav_to_log_stft(\n",
        "    wav_path: str,\n",
        "    sr: int,\n",
        "    n_fft: int,\n",
        "    win_length: int,\n",
        "    hop_length: int,\n",
        "    power: float,\n",
        ") -> torch.Tensor:\n",
        "    stft_transform = torchaudio.transforms.Spectrogram(\n",
        "        n_fft=n_fft,\n",
        "        win_length=win_length,\n",
        "        hop_length=hop_length,\n",
        "        power=power\n",
        "    )\n",
        "    wav_data, _ = torchaudio.load(wav_path)\n",
        "    spec = stft_transform(wav_data)\n",
        "    amp_to_db = torchaudio.transforms.AmplitudeToDB()\n",
        "    log_spec = amp_to_db(spec)\n",
        "    log_spec = (log_spec - log_spec.mean()) / (log_spec.std() + 1e-9)\n",
        "    return log_spec\n",
        "\n",
        "def augment_spec(spec: torch.Tensor) -> torch.Tensor:\n",
        "    max_shift = int(spec.shape[-1] * 0.05)\n",
        "    shift = torch.randint(-max_shift, max_shift + 1, (1,)).item()\n",
        "    spec = torch.roll(spec, shifts=shift, dims=-1)\n",
        "    time_mask_param = max(1, int(spec.shape[-1] * 0.05))\n",
        "    time_mask = torchaudio.transforms.TimeMasking(time_mask_param=time_mask_param)\n",
        "    spec = time_mask(spec)\n",
        "    freq_mask_param = max(1, int(spec.shape[-2] * 0.05))\n",
        "    freq_mask = torchaudio.transforms.FrequencyMasking(freq_mask_param=freq_mask_param)\n",
        "    spec = freq_mask(spec)\n",
        "    return spec\n",
        "\n",
        "#######################\n",
        "# 3. Dataset\n",
        "#######################\n",
        "class BaselineDataLoader(Dataset):\n",
        "    def __init__(\n",
        "        self,\n",
        "        file_list: List[str],\n",
        "        sr: int,\n",
        "        n_fft: int,\n",
        "        win_length: int,\n",
        "        hop_length: int,\n",
        "        power: float,\n",
        "        augment: bool = False\n",
        "    ) -> None:\n",
        "        self.file_list = file_list\n",
        "        self.sr = sr\n",
        "        self.n_fft = n_fft\n",
        "        self.win_length = win_length\n",
        "        self.hop_length = hop_length\n",
        "        self.power = power\n",
        "        self.augment = augment\n",
        "\n",
        "    def __len__(self) -> int:\n",
        "        return len(self.file_list)\n",
        "\n",
        "    def __getitem__(self, idx: int) -> Tuple[torch.Tensor, int, int, int]:\n",
        "        wav_path = self.file_list[idx]\n",
        "        spec = wav_to_log_stft(wav_path, self.sr, self.n_fft, self.win_length, self.hop_length, self.power)\n",
        "        if self.augment:\n",
        "            spec = augment_spec(spec)\n",
        "        anomaly_label = get_anomaly_label(wav_path)\n",
        "        drone_label = get_drone_label(wav_path)\n",
        "        direction_label = get_direction_label(wav_path)\n",
        "        return spec, anomaly_label, drone_label, direction_label\n",
        "\n",
        "def get_train_loader(args: argparse.Namespace, pin_memory: bool = False, num_workers: int = 0) -> DataLoader:\n",
        "    file_list = sorted(os.listdir(args.train_dir))\n",
        "    file_list = [os.path.join(args.train_dir, f) for f in file_list if get_anomaly_label(f) == 0]\n",
        "    dataset = BaselineDataLoader(\n",
        "        file_list,\n",
        "        sr=args.sr,\n",
        "        n_fft=args.n_fft,\n",
        "        win_length=args.win_length,\n",
        "        hop_length=args.hop_length,\n",
        "        power=args.power,\n",
        "        augment=True\n",
        "    )\n",
        "    return DataLoader(dataset, batch_size=args.batch_size, shuffle=True, num_workers=num_workers, pin_memory=pin_memory,\n",
        "                      persistent_workers=True, prefetch_factor=2)\n",
        "\n",
        "def get_eval_loader(args: argparse.Namespace, pin_memory: bool = False, num_workers: int = 0) -> Tuple[DataLoader, List[str]]:\n",
        "    file_list = sorted(os.listdir(args.eval_dir))\n",
        "    file_list = [os.path.join(args.eval_dir, f) for f in file_list]\n",
        "    dataset = BaselineDataLoader(\n",
        "        file_list,\n",
        "        sr=args.sr,\n",
        "        n_fft=args.n_fft,\n",
        "        win_length=args.win_length,\n",
        "        hop_length=args.hop_length,\n",
        "        power=args.power,\n",
        "        augment=False\n",
        "    )\n",
        "    return DataLoader(dataset, batch_size=1, shuffle=False, num_workers=num_workers, pin_memory=pin_memory,\n",
        "                      persistent_workers=True, prefetch_factor=2), file_list"
      ]
    },
    {
      "cell_type": "markdown",
      "metadata": {
        "id": "u1wtKbxZPpTI"
      },
      "source": [
        "## 모델 학습 및 평가"
      ]
    },
    {
      "cell_type": "code",
      "source": [
        "import torch\n",
        "import torch.nn as nn\n",
        "import torch.nn.functional as F\n",
        "import argparse, os\n",
        "import matplotlib.pyplot as plt\n",
        "from tqdm import tqdm\n",
        "from sklearn import metrics\n",
        "\n",
        "#######################\n",
        "# Utility: 크기 맞춤 함수\n",
        "#######################\n",
        "def match_size(source: torch.Tensor, target: torch.Tensor) -> torch.Tensor:\n",
        "    src_h, src_w = source.size(2), source.size(3)\n",
        "    tgt_h, tgt_w = target.size(2), target.size(3)\n",
        "    # source가 target보다 크면 center crop\n",
        "    if src_h > tgt_h or src_w > tgt_w:\n",
        "        start_h = (src_h - tgt_h) // 2\n",
        "        start_w = (src_w - tgt_w) // 2\n",
        "        source = source[:, :, start_h:start_h+tgt_h, start_w:start_w+tgt_w]\n",
        "    # source가 target보다 작으면 pad\n",
        "    elif src_h < tgt_h or src_w < tgt_w:\n",
        "        diff_h = tgt_h - src_h\n",
        "        diff_w = tgt_w - src_w\n",
        "        source = F.pad(source, (diff_w // 2, diff_w - diff_w // 2,\n",
        "                                diff_h // 2, diff_h - diff_h // 2))\n",
        "    return source\n",
        "\n",
        "#######################\n",
        "# 기본 모듈: Residual Block, Encoder, Decoder\n",
        "#######################\n",
        "class ResidualBlock(nn.Module):\n",
        "    def __init__(self, in_channels, out_channels, stride=1, dropout=0.05):\n",
        "        super(ResidualBlock, self).__init__()\n",
        "        self.conv1 = nn.Conv2d(in_channels, out_channels, kernel_size=3, stride=stride, padding=1)\n",
        "        self.bn1 = nn.BatchNorm2d(out_channels)\n",
        "        self.relu = nn.LeakyReLU(0.2, inplace=True)\n",
        "        self.dropout = nn.Dropout(dropout) if dropout > 0 else nn.Identity()\n",
        "        self.conv2 = nn.Conv2d(out_channels, out_channels, kernel_size=3, stride=1, padding=1)\n",
        "        self.bn2 = nn.BatchNorm2d(out_channels)\n",
        "        # 입력과 출력의 채널 수 또는 stride가 다르면 다운샘플링 적용\n",
        "        if stride != 1 or in_channels != out_channels:\n",
        "            self.downsample = nn.Sequential(\n",
        "                nn.Conv2d(in_channels, out_channels, kernel_size=1, stride=stride),\n",
        "                nn.BatchNorm2d(out_channels)\n",
        "            )\n",
        "        else:\n",
        "            self.downsample = nn.Identity()\n",
        "\n",
        "    def forward(self, x):\n",
        "        identity = self.downsample(x)\n",
        "        out = self.conv1(x)\n",
        "        out = self.bn1(out)\n",
        "        out = self.relu(out)\n",
        "        out = self.dropout(out)\n",
        "        out = self.conv2(out)\n",
        "        out = self.bn2(out)\n",
        "        out += identity\n",
        "        out = self.relu(out)\n",
        "        return out\n",
        "\n",
        "class EncoderBlock(nn.Module):\n",
        "    def __init__(self, in_channels, out_channels, dropout=0.05):\n",
        "        super(EncoderBlock, self).__init__()\n",
        "        self.resblock = ResidualBlock(in_channels, out_channels, stride=2, dropout=dropout)\n",
        "    def forward(self, x):\n",
        "        return self.resblock(x)\n",
        "\n",
        "class DecoderBlock(nn.Module):\n",
        "    def __init__(self, in_channels, out_channels, dropout=0.05):\n",
        "        super(DecoderBlock, self).__init__()\n",
        "        self.deconv = nn.ConvTranspose2d(in_channels, out_channels, kernel_size=3,\n",
        "                                         stride=2, padding=1, output_padding=1)\n",
        "        self.bn = nn.BatchNorm2d(out_channels)\n",
        "        self.relu = nn.LeakyReLU(0.2, inplace=True)\n",
        "        self.dropout = nn.Dropout(dropout) if dropout > 0 else nn.Identity()\n",
        "        # Concat 후 채널 수가 2배가 되므로 이를 반영하여 ResidualBlock 구성\n",
        "        self.resblock = ResidualBlock(out_channels * 2, out_channels, stride=1, dropout=dropout)\n",
        "\n",
        "    def forward(self, x, skip):\n",
        "        x = self.deconv(x)\n",
        "        x = self.bn(x)\n",
        "        x = self.relu(x)\n",
        "        x = self.dropout(x)\n",
        "        skip = match_size(skip, x)\n",
        "        x = torch.cat([x, skip], dim=1)\n",
        "        x = self.resblock(x)\n",
        "        return x\n",
        "\n",
        "#######################\n",
        "# Transformer Bottleneck 모듈\n",
        "#######################\n",
        "class TransformerBottleneck(nn.Module):\n",
        "    def __init__(self, channels, num_heads=4, num_layers=2):\n",
        "        \"\"\"\n",
        "        channels: feature map의 채널 수 (예: 512)\n",
        "        num_heads: self-attention 헤드 수\n",
        "        num_layers: Transformer Encoder Layer 수\n",
        "        \"\"\"\n",
        "        super(TransformerBottleneck, self).__init__()\n",
        "        encoder_layer = nn.TransformerEncoderLayer(d_model=channels, nhead=num_heads)\n",
        "        self.transformer_encoder = nn.TransformerEncoder(encoder_layer, num_layers=num_layers)\n",
        "\n",
        "    def forward(self, x):\n",
        "        # x shape: (B, C, H, W)\n",
        "        B, C, H, W = x.shape\n",
        "        # 공간 차원을 flatten: (B, C, H*W)\n",
        "        x = x.flatten(2)  # (B, C, H*W)\n",
        "        # Transformer는 (seq_len, batch, features) 형태를 요구하므로 transpose\n",
        "        x = x.transpose(1, 2).transpose(0, 1)  # (H*W, B, C)\n",
        "        x = self.transformer_encoder(x)          # (H*W, B, C)\n",
        "        # 원래 형태로 복원: (B, C, H*W)\n",
        "        x = x.transpose(0, 1).transpose(1, 2)\n",
        "        # 다시 (B, C, H, W)로 reshape\n",
        "        x = x.view(B, C, H, W)\n",
        "        return x\n",
        "\n",
        "#######################\n",
        "# Transformer 기반 Denoising Autoencoder (DAE)\n",
        "#######################\n",
        "class TransformerDenoisingAutoencoder(nn.Module):\n",
        "    def __init__(self, input_channels=1, dropout=0.05, transformer_heads=4, transformer_layers=2):\n",
        "        super(TransformerDenoisingAutoencoder, self).__init__()\n",
        "        self.enc1 = EncoderBlock(input_channels, 32, dropout)\n",
        "        self.enc2 = EncoderBlock(32, 64, dropout)\n",
        "        self.enc3 = EncoderBlock(64, 128, dropout)\n",
        "        self.enc4 = EncoderBlock(128, 256, dropout)\n",
        "        self.enc5 = EncoderBlock(256, 512, dropout)\n",
        "        # Transformer bottleneck: 전역적 관계 학습\n",
        "        self.transformer_bottleneck = TransformerBottleneck(512, num_heads=transformer_heads, num_layers=transformer_layers)\n",
        "        self.dec5 = DecoderBlock(512, 256, dropout)\n",
        "        self.dec4 = DecoderBlock(256, 128, dropout)\n",
        "        self.dec3 = DecoderBlock(128, 64, dropout)\n",
        "        self.dec2 = DecoderBlock(64, 32, dropout)\n",
        "        self.dec1 = nn.ConvTranspose2d(32, input_channels, kernel_size=3, stride=2,\n",
        "                                       padding=1, output_padding=1)\n",
        "    def forward(self, x):\n",
        "        e1 = self.enc1(x)  # (B, 32, H/2, W/2)\n",
        "        e2 = self.enc2(e1)  # (B, 64, H/4, W/4)\n",
        "        e3 = self.enc3(e2)  # (B, 128, H/8, W/8)\n",
        "        e4 = self.enc4(e3)  # (B, 256, H/16, W/16)\n",
        "        e5 = self.enc5(e4)  # (B, 512, H/32, W/32)\n",
        "        # Transformer bottleneck 적용\n",
        "        t = self.transformer_bottleneck(e5)  # (B, 512, H/32, W/32)\n",
        "        d5 = self.dec5(t, e4)\n",
        "        d4 = self.dec4(d5, e3)\n",
        "        d3 = self.dec3(d4, e2)\n",
        "        d2 = self.dec2(d3, e1)\n",
        "        d1 = self.dec1(d2)\n",
        "        d1 = F.interpolate(d1, size=x.shape[2:], mode=\"bilinear\", align_corners=False)\n",
        "        return d1\n",
        "\n",
        "def TransformerDAEModel(dropout) -> nn.Module:\n",
        "    return TransformerDenoisingAutoencoder(input_channels=1, dropout=dropout)\n",
        "\n",
        "#######################\n",
        "# 5. Train & Evaluate\n",
        "#######################\n",
        "def get_args() -> argparse.Namespace:\n",
        "    param = {\n",
        "        \"train_dir\": \"/content/ICSV31AIChallengeDataset/train\",\n",
        "        \"eval_dir\": \"/content/ICSV31AIChallengeDataset/eval\",\n",
        "        \"result_dir\": \"/content/drive/MyDrive\",\n",
        "        \"model_dir\": \"/content/drive/MyDrive\",\n",
        "        \"model_path\": \"model_transformer_dae.pth\",  # 모델 저장 파일명을 변경\n",
        "        \"epochs\": 150,\n",
        "        \"batch_size\": 32,\n",
        "        \"lr\": 0.001,\n",
        "        \"gpu\": 0,\n",
        "        \"n_workers\": 2,\n",
        "        \"sr\": 16000,\n",
        "        \"n_fft\": 2048,\n",
        "        \"win_length\": 512,\n",
        "        \"hop_length\": 512,\n",
        "        \"power\": 2.0,\n",
        "        \"early_stopping_patience\": 10,\n",
        "        \"min_lr\": 1e-6,\n",
        "        \"noise_factor\": 0.2,\n",
        "        \"dropout\": 0.05\n",
        "    }\n",
        "    parser = argparse.ArgumentParser()\n",
        "    for key, value in param.items():\n",
        "        parser.add_argument(f\"--{key.replace('_', '-')}\", default=value, type=type(value))\n",
        "    args, unknown = parser.parse_known_args()\n",
        "    return args\n",
        "\n",
        "def set_seed(seed: int) -> None:\n",
        "    torch.manual_seed(seed)\n",
        "    torch.cuda.manual_seed(seed)\n",
        "    torch.cuda.manual_seed_all(seed)\n",
        "\n",
        "def train_and_evaluate(args: argparse.Namespace) -> None:\n",
        "    print(\"Training started...\")\n",
        "    os.makedirs(args.result_dir, exist_ok=True)\n",
        "    os.makedirs(args.model_dir, exist_ok=True)\n",
        "    device = torch.device(\"cuda\" if torch.cuda.is_available() else \"cpu\")\n",
        "    print(\"Using device:\", device)\n",
        "\n",
        "    # GPU 최적화를 위한 cudnn benchmark 활성화\n",
        "    if device.type == \"cuda\":\n",
        "        torch.backends.cudnn.benchmark = True\n",
        "\n",
        "    # Transformer 기반 모델 사용\n",
        "    model = TransformerDAEModel(dropout=args.dropout).to(device)\n",
        "\n",
        "    # Model summary 출력 (옵션)\n",
        "    try:\n",
        "        from torchsummary import summary\n",
        "        summary(model, input_size=(1, 256, 256))\n",
        "    except ImportError:\n",
        "        print(model)\n",
        "\n",
        "    train_loader = get_train_loader(args, pin_memory=True, num_workers=args.n_workers)\n",
        "\n",
        "    optimizer = torch.optim.AdamW(model.parameters(), lr=args.lr, weight_decay=1e-4)\n",
        "    scheduler = torch.optim.lr_scheduler.CosineAnnealingLR(optimizer, T_max=args.epochs, eta_min=args.min_lr)\n",
        "    criterion = nn.MSELoss()\n",
        "\n",
        "    best_loss = float('inf')\n",
        "    epochs_no_improve = 0\n",
        "    epoch_losses = []\n",
        "    scaler = torch.amp.GradScaler(device='cuda')\n",
        "\n",
        "    for epoch in range(args.epochs):\n",
        "        model.train()\n",
        "        total_loss = 0.0\n",
        "        count = 0\n",
        "        p_bar = tqdm(train_loader, total=len(train_loader), desc=f\"Epoch {epoch+1}/{args.epochs}\", ncols=100)\n",
        "        for data in p_bar:\n",
        "            spec = data[0].to(device)\n",
        "            noisy_spec = spec + args.noise_factor * torch.randn_like(spec)\n",
        "            optimizer.zero_grad()\n",
        "\n",
        "            # Automatic Mixed Precision (AMP) 적용\n",
        "            with torch.amp.autocast('cuda'):\n",
        "                decoded = model(noisy_spec)\n",
        "                loss = criterion(decoded, spec)\n",
        "\n",
        "            scaler.scale(loss).backward()\n",
        "            scaler.step(optimizer)\n",
        "            scaler.update()\n",
        "\n",
        "            total_loss += loss.item()\n",
        "            count += 1\n",
        "            p_bar.set_description(f\"Epoch {epoch+1}, Loss: {loss.item():.4f}\")\n",
        "\n",
        "        avg_loss = total_loss / count\n",
        "        epoch_losses.append(avg_loss)\n",
        "        print(f\"Epoch {epoch+1} average loss: {avg_loss:.4f}\")\n",
        "        scheduler.step()\n",
        "\n",
        "        if avg_loss < best_loss:\n",
        "            best_loss = avg_loss\n",
        "            epochs_no_improve = 0\n",
        "            torch.save(model.state_dict(), os.path.join(args.model_dir, args.model_path))\n",
        "        else:\n",
        "            epochs_no_improve += 1\n",
        "            if epochs_no_improve >= args.early_stopping_patience:\n",
        "                print(\"Early stopping triggered.\")\n",
        "                break\n",
        "\n",
        "    print(\"Training completed.\")\n",
        "    plt.figure(figsize=(8, 5))\n",
        "    plt.plot(range(1, len(epoch_losses)+1), epoch_losses, marker='o')\n",
        "    plt.xlabel(\"Epoch\")\n",
        "    plt.ylabel(\"Loss\")\n",
        "    plt.title(\"Training Loss per Epoch (Transformer DAE)\")\n",
        "    plt.grid(True)\n",
        "    plt.show()\n",
        "\n",
        "    print(\"Evaluation started...\")\n",
        "    model.load_state_dict(torch.load(os.path.join(args.model_dir, args.model_path), map_location=device))\n",
        "    model.eval()\n",
        "    # get_eval_loader 함수는 별도로 구현되어야 합니다.\n",
        "    eval_loader, file_list = get_eval_loader(args, pin_memory=True, num_workers=args.n_workers)\n",
        "    y_true, y_pred = [], []\n",
        "    for idx, data in enumerate(eval_loader):\n",
        "        spec = data[0].to(device)\n",
        "        anomaly_label = data[1]\n",
        "        with torch.no_grad():\n",
        "            decoded = model(spec)\n",
        "        loss = criterion(decoded, spec)\n",
        "        y_true.append(1 if anomaly_label.item() > 0 else 0)\n",
        "        y_pred.append(loss.item())\n",
        "    auc = metrics.roc_auc_score(y_true, y_pred)\n",
        "    print(\"Evaluation AUC:\", auc)"
      ],
      "metadata": {
        "id": "dXIegC6kf_3T"
      },
      "execution_count": null,
      "outputs": []
    },
    {
      "cell_type": "code",
      "execution_count": null,
      "metadata": {
        "colab": {
          "base_uri": "https://localhost:8080/",
          "height": 1000
        },
        "id": "05P3jl9997xr",
        "outputId": "c20e2981-b3e5-4835-e46f-62305abe99f2"
      },
      "outputs": [
        {
          "output_type": "stream",
          "name": "stdout",
          "text": [
            "Training started...\n",
            "Using device: cuda\n",
            "----------------------------------------------------------------\n",
            "        Layer (type)               Output Shape         Param #\n",
            "================================================================\n",
            "            Conv2d-1         [-1, 32, 128, 128]              64\n",
            "       BatchNorm2d-2         [-1, 32, 128, 128]              64\n",
            "            Conv2d-3         [-1, 32, 128, 128]             320\n",
            "       BatchNorm2d-4         [-1, 32, 128, 128]              64\n",
            "         LeakyReLU-5         [-1, 32, 128, 128]               0\n",
            "           Dropout-6         [-1, 32, 128, 128]               0\n",
            "            Conv2d-7         [-1, 32, 128, 128]           9,248\n",
            "       BatchNorm2d-8         [-1, 32, 128, 128]              64\n",
            "         LeakyReLU-9         [-1, 32, 128, 128]               0\n",
            "    ResidualBlock-10         [-1, 32, 128, 128]               0\n",
            "     EncoderBlock-11         [-1, 32, 128, 128]               0\n",
            "           Conv2d-12           [-1, 64, 64, 64]           2,112\n",
            "      BatchNorm2d-13           [-1, 64, 64, 64]             128\n",
            "           Conv2d-14           [-1, 64, 64, 64]          18,496\n",
            "      BatchNorm2d-15           [-1, 64, 64, 64]             128\n",
            "        LeakyReLU-16           [-1, 64, 64, 64]               0\n",
            "          Dropout-17           [-1, 64, 64, 64]               0\n",
            "           Conv2d-18           [-1, 64, 64, 64]          36,928\n",
            "      BatchNorm2d-19           [-1, 64, 64, 64]             128\n",
            "        LeakyReLU-20           [-1, 64, 64, 64]               0\n",
            "    ResidualBlock-21           [-1, 64, 64, 64]               0\n",
            "     EncoderBlock-22           [-1, 64, 64, 64]               0\n",
            "           Conv2d-23          [-1, 128, 32, 32]           8,320\n",
            "      BatchNorm2d-24          [-1, 128, 32, 32]             256\n",
            "           Conv2d-25          [-1, 128, 32, 32]          73,856\n",
            "      BatchNorm2d-26          [-1, 128, 32, 32]             256\n",
            "        LeakyReLU-27          [-1, 128, 32, 32]               0\n",
            "          Dropout-28          [-1, 128, 32, 32]               0\n",
            "           Conv2d-29          [-1, 128, 32, 32]         147,584\n",
            "      BatchNorm2d-30          [-1, 128, 32, 32]             256\n",
            "        LeakyReLU-31          [-1, 128, 32, 32]               0\n",
            "    ResidualBlock-32          [-1, 128, 32, 32]               0\n",
            "     EncoderBlock-33          [-1, 128, 32, 32]               0\n",
            "           Conv2d-34          [-1, 256, 16, 16]          33,024\n",
            "      BatchNorm2d-35          [-1, 256, 16, 16]             512\n",
            "           Conv2d-36          [-1, 256, 16, 16]         295,168\n",
            "      BatchNorm2d-37          [-1, 256, 16, 16]             512\n",
            "        LeakyReLU-38          [-1, 256, 16, 16]               0\n",
            "          Dropout-39          [-1, 256, 16, 16]               0\n",
            "           Conv2d-40          [-1, 256, 16, 16]         590,080\n",
            "      BatchNorm2d-41          [-1, 256, 16, 16]             512\n",
            "        LeakyReLU-42          [-1, 256, 16, 16]               0\n",
            "    ResidualBlock-43          [-1, 256, 16, 16]               0\n",
            "     EncoderBlock-44          [-1, 256, 16, 16]               0\n",
            "           Conv2d-45            [-1, 512, 8, 8]         131,584\n",
            "      BatchNorm2d-46            [-1, 512, 8, 8]           1,024\n",
            "           Conv2d-47            [-1, 512, 8, 8]       1,180,160\n",
            "      BatchNorm2d-48            [-1, 512, 8, 8]           1,024\n",
            "        LeakyReLU-49            [-1, 512, 8, 8]               0\n",
            "          Dropout-50            [-1, 512, 8, 8]               0\n",
            "           Conv2d-51            [-1, 512, 8, 8]       2,359,808\n",
            "      BatchNorm2d-52            [-1, 512, 8, 8]           1,024\n",
            "        LeakyReLU-53            [-1, 512, 8, 8]               0\n",
            "    ResidualBlock-54            [-1, 512, 8, 8]               0\n",
            "     EncoderBlock-55            [-1, 512, 8, 8]               0\n",
            "  ConvTranspose2d-56          [-1, 256, 16, 16]       1,179,904\n",
            "      BatchNorm2d-57          [-1, 256, 16, 16]             512\n",
            "        LeakyReLU-58          [-1, 256, 16, 16]               0\n",
            "          Dropout-59          [-1, 256, 16, 16]               0\n",
            "           Conv2d-60          [-1, 256, 16, 16]         131,328\n",
            "      BatchNorm2d-61          [-1, 256, 16, 16]             512\n",
            "           Conv2d-62          [-1, 256, 16, 16]       1,179,904\n",
            "      BatchNorm2d-63          [-1, 256, 16, 16]             512\n",
            "        LeakyReLU-64          [-1, 256, 16, 16]               0\n",
            "          Dropout-65          [-1, 256, 16, 16]               0\n",
            "           Conv2d-66          [-1, 256, 16, 16]         590,080\n",
            "      BatchNorm2d-67          [-1, 256, 16, 16]             512\n",
            "        LeakyReLU-68          [-1, 256, 16, 16]               0\n",
            "    ResidualBlock-69          [-1, 256, 16, 16]               0\n",
            "     DecoderBlock-70          [-1, 256, 16, 16]               0\n",
            "  ConvTranspose2d-71          [-1, 128, 32, 32]         295,040\n",
            "      BatchNorm2d-72          [-1, 128, 32, 32]             256\n",
            "        LeakyReLU-73          [-1, 128, 32, 32]               0\n",
            "          Dropout-74          [-1, 128, 32, 32]               0\n",
            "           Conv2d-75          [-1, 128, 32, 32]          32,896\n",
            "      BatchNorm2d-76          [-1, 128, 32, 32]             256\n",
            "           Conv2d-77          [-1, 128, 32, 32]         295,040\n",
            "      BatchNorm2d-78          [-1, 128, 32, 32]             256\n",
            "        LeakyReLU-79          [-1, 128, 32, 32]               0\n",
            "          Dropout-80          [-1, 128, 32, 32]               0\n",
            "           Conv2d-81          [-1, 128, 32, 32]         147,584\n",
            "      BatchNorm2d-82          [-1, 128, 32, 32]             256\n",
            "        LeakyReLU-83          [-1, 128, 32, 32]               0\n",
            "    ResidualBlock-84          [-1, 128, 32, 32]               0\n",
            "     DecoderBlock-85          [-1, 128, 32, 32]               0\n",
            "  ConvTranspose2d-86           [-1, 64, 64, 64]          73,792\n",
            "      BatchNorm2d-87           [-1, 64, 64, 64]             128\n",
            "        LeakyReLU-88           [-1, 64, 64, 64]               0\n",
            "          Dropout-89           [-1, 64, 64, 64]               0\n",
            "           Conv2d-90           [-1, 64, 64, 64]           8,256\n",
            "      BatchNorm2d-91           [-1, 64, 64, 64]             128\n",
            "           Conv2d-92           [-1, 64, 64, 64]          73,792\n",
            "      BatchNorm2d-93           [-1, 64, 64, 64]             128\n",
            "        LeakyReLU-94           [-1, 64, 64, 64]               0\n",
            "          Dropout-95           [-1, 64, 64, 64]               0\n",
            "           Conv2d-96           [-1, 64, 64, 64]          36,928\n",
            "      BatchNorm2d-97           [-1, 64, 64, 64]             128\n",
            "        LeakyReLU-98           [-1, 64, 64, 64]               0\n",
            "    ResidualBlock-99           [-1, 64, 64, 64]               0\n",
            "    DecoderBlock-100           [-1, 64, 64, 64]               0\n",
            " ConvTranspose2d-101         [-1, 32, 128, 128]          18,464\n",
            "     BatchNorm2d-102         [-1, 32, 128, 128]              64\n",
            "       LeakyReLU-103         [-1, 32, 128, 128]               0\n",
            "         Dropout-104         [-1, 32, 128, 128]               0\n",
            "          Conv2d-105         [-1, 32, 128, 128]           2,080\n",
            "     BatchNorm2d-106         [-1, 32, 128, 128]              64\n",
            "          Conv2d-107         [-1, 32, 128, 128]          18,464\n",
            "     BatchNorm2d-108         [-1, 32, 128, 128]              64\n",
            "       LeakyReLU-109         [-1, 32, 128, 128]               0\n",
            "         Dropout-110         [-1, 32, 128, 128]               0\n",
            "          Conv2d-111         [-1, 32, 128, 128]           9,248\n",
            "     BatchNorm2d-112         [-1, 32, 128, 128]              64\n",
            "       LeakyReLU-113         [-1, 32, 128, 128]               0\n",
            "   ResidualBlock-114         [-1, 32, 128, 128]               0\n",
            "    DecoderBlock-115         [-1, 32, 128, 128]               0\n",
            " ConvTranspose2d-116          [-1, 1, 256, 256]             289\n",
            "================================================================\n",
            "Total params: 8,989,633\n",
            "Trainable params: 8,989,633\n",
            "Non-trainable params: 0\n",
            "----------------------------------------------------------------\n",
            "Input size (MB): 0.25\n",
            "Forward/backward pass size (MB): 198.25\n",
            "Params size (MB): 34.29\n",
            "Estimated Total Size (MB): 232.79\n",
            "----------------------------------------------------------------\n"
          ]
        },
        {
          "output_type": "stream",
          "name": "stderr",
          "text": [
            "<ipython-input-8-375e58bfeb75>:203: FutureWarning: `torch.cuda.amp.GradScaler(args...)` is deprecated. Please use `torch.amp.GradScaler('cuda', args...)` instead.\n",
            "  scaler = torch.cuda.amp.GradScaler()\n",
            "Epoch 1/150:   0%|                                                          | 0/169 [00:00<?, ?it/s]<ipython-input-8-375e58bfeb75>:216: FutureWarning: `torch.cuda.amp.autocast(args...)` is deprecated. Please use `torch.amp.autocast('cuda', args...)` instead.\n",
            "  with torch.cuda.amp.autocast():\n",
            "Epoch 1, Loss: 0.2407: 100%|██████████████████████████████████████| 169/169 [00:30<00:00,  5.60it/s]\n"
          ]
        },
        {
          "output_type": "stream",
          "name": "stdout",
          "text": [
            "Epoch 1 average loss: 0.3112\n"
          ]
        },
        {
          "output_type": "stream",
          "name": "stderr",
          "text": [
            "Epoch 2, Loss: 0.1789: 100%|██████████████████████████████████████| 169/169 [00:25<00:00,  6.57it/s]\n"
          ]
        },
        {
          "output_type": "stream",
          "name": "stdout",
          "text": [
            "Epoch 2 average loss: 0.2068\n"
          ]
        },
        {
          "output_type": "stream",
          "name": "stderr",
          "text": [
            "Epoch 3, Loss: 0.1252: 100%|██████████████████████████████████████| 169/169 [00:25<00:00,  6.65it/s]\n"
          ]
        },
        {
          "output_type": "stream",
          "name": "stdout",
          "text": [
            "Epoch 3 average loss: 0.1486\n"
          ]
        },
        {
          "output_type": "stream",
          "name": "stderr",
          "text": [
            "Epoch 4, Loss: 0.1063: 100%|██████████████████████████████████████| 169/169 [00:24<00:00,  6.77it/s]\n"
          ]
        },
        {
          "output_type": "stream",
          "name": "stdout",
          "text": [
            "Epoch 4 average loss: 0.1168\n"
          ]
        },
        {
          "output_type": "stream",
          "name": "stderr",
          "text": [
            "Epoch 5, Loss: 0.0961: 100%|██████████████████████████████████████| 169/169 [00:25<00:00,  6.66it/s]\n"
          ]
        },
        {
          "output_type": "stream",
          "name": "stdout",
          "text": [
            "Epoch 5 average loss: 0.1018\n"
          ]
        },
        {
          "output_type": "stream",
          "name": "stderr",
          "text": [
            "Epoch 6, Loss: 0.0836: 100%|██████████████████████████████████████| 169/169 [00:24<00:00,  6.97it/s]\n"
          ]
        },
        {
          "output_type": "stream",
          "name": "stdout",
          "text": [
            "Epoch 6 average loss: 0.0918\n"
          ]
        },
        {
          "output_type": "stream",
          "name": "stderr",
          "text": [
            "Epoch 7, Loss: 0.0736: 100%|██████████████████████████████████████| 169/169 [00:25<00:00,  6.55it/s]\n"
          ]
        },
        {
          "output_type": "stream",
          "name": "stdout",
          "text": [
            "Epoch 7 average loss: 0.0845\n"
          ]
        },
        {
          "output_type": "stream",
          "name": "stderr",
          "text": [
            "Epoch 8, Loss: 0.0778: 100%|██████████████████████████████████████| 169/169 [00:25<00:00,  6.50it/s]\n"
          ]
        },
        {
          "output_type": "stream",
          "name": "stdout",
          "text": [
            "Epoch 8 average loss: 0.0794\n"
          ]
        },
        {
          "output_type": "stream",
          "name": "stderr",
          "text": [
            "Epoch 9, Loss: 0.0684: 100%|██████████████████████████████████████| 169/169 [00:25<00:00,  6.54it/s]\n"
          ]
        },
        {
          "output_type": "stream",
          "name": "stdout",
          "text": [
            "Epoch 9 average loss: 0.0748\n"
          ]
        },
        {
          "output_type": "stream",
          "name": "stderr",
          "text": [
            "Epoch 10, Loss: 0.0657: 100%|█████████████████████████████████████| 169/169 [00:25<00:00,  6.62it/s]\n"
          ]
        },
        {
          "output_type": "stream",
          "name": "stdout",
          "text": [
            "Epoch 10 average loss: 0.0710\n"
          ]
        },
        {
          "output_type": "stream",
          "name": "stderr",
          "text": [
            "Epoch 11, Loss: 0.0731: 100%|█████████████████████████████████████| 169/169 [00:24<00:00,  6.96it/s]\n"
          ]
        },
        {
          "output_type": "stream",
          "name": "stdout",
          "text": [
            "Epoch 11 average loss: 0.0674\n"
          ]
        },
        {
          "output_type": "stream",
          "name": "stderr",
          "text": [
            "Epoch 12, Loss: 0.0696: 100%|█████████████████████████████████████| 169/169 [00:25<00:00,  6.59it/s]\n"
          ]
        },
        {
          "output_type": "stream",
          "name": "stdout",
          "text": [
            "Epoch 12 average loss: 0.0646\n"
          ]
        },
        {
          "output_type": "stream",
          "name": "stderr",
          "text": [
            "Epoch 13, Loss: 0.0623: 100%|█████████████████████████████████████| 169/169 [00:25<00:00,  6.59it/s]\n"
          ]
        },
        {
          "output_type": "stream",
          "name": "stdout",
          "text": [
            "Epoch 13 average loss: 0.0619\n"
          ]
        },
        {
          "output_type": "stream",
          "name": "stderr",
          "text": [
            "Epoch 14, Loss: 0.0631: 100%|█████████████████████████████████████| 169/169 [00:25<00:00,  6.51it/s]\n"
          ]
        },
        {
          "output_type": "stream",
          "name": "stdout",
          "text": [
            "Epoch 14 average loss: 0.0596\n"
          ]
        },
        {
          "output_type": "stream",
          "name": "stderr",
          "text": [
            "Epoch 15, Loss: 0.0646: 100%|█████████████████████████████████████| 169/169 [00:25<00:00,  6.73it/s]\n"
          ]
        },
        {
          "output_type": "stream",
          "name": "stdout",
          "text": [
            "Epoch 15 average loss: 0.0574\n"
          ]
        },
        {
          "output_type": "stream",
          "name": "stderr",
          "text": [
            "Epoch 16, Loss: 0.0576: 100%|█████████████████████████████████████| 169/169 [00:23<00:00,  7.11it/s]\n"
          ]
        },
        {
          "output_type": "stream",
          "name": "stdout",
          "text": [
            "Epoch 16 average loss: 0.0558\n"
          ]
        },
        {
          "output_type": "stream",
          "name": "stderr",
          "text": [
            "Epoch 17, Loss: 0.0500: 100%|█████████████████████████████████████| 169/169 [00:24<00:00,  6.77it/s]\n"
          ]
        },
        {
          "output_type": "stream",
          "name": "stdout",
          "text": [
            "Epoch 17 average loss: 0.0532\n"
          ]
        },
        {
          "output_type": "stream",
          "name": "stderr",
          "text": [
            "Epoch 18, Loss: 0.0486: 100%|█████████████████████████████████████| 169/169 [00:25<00:00,  6.74it/s]\n"
          ]
        },
        {
          "output_type": "stream",
          "name": "stdout",
          "text": [
            "Epoch 18 average loss: 0.0514\n"
          ]
        },
        {
          "output_type": "stream",
          "name": "stderr",
          "text": [
            "Epoch 19, Loss: 0.0538: 100%|█████████████████████████████████████| 169/169 [00:25<00:00,  6.70it/s]\n"
          ]
        },
        {
          "output_type": "stream",
          "name": "stdout",
          "text": [
            "Epoch 19 average loss: 0.0498\n"
          ]
        },
        {
          "output_type": "stream",
          "name": "stderr",
          "text": [
            "Epoch 20, Loss: 0.0483: 100%|█████████████████████████████████████| 169/169 [00:24<00:00,  6.98it/s]\n"
          ]
        },
        {
          "output_type": "stream",
          "name": "stdout",
          "text": [
            "Epoch 20 average loss: 0.0488\n"
          ]
        },
        {
          "output_type": "stream",
          "name": "stderr",
          "text": [
            "Epoch 21, Loss: 0.0427: 100%|█████████████████████████████████████| 169/169 [00:25<00:00,  6.58it/s]\n"
          ]
        },
        {
          "output_type": "stream",
          "name": "stdout",
          "text": [
            "Epoch 21 average loss: 0.0475\n"
          ]
        },
        {
          "output_type": "stream",
          "name": "stderr",
          "text": [
            "Epoch 22, Loss: 0.0461: 100%|█████████████████████████████████████| 169/169 [00:25<00:00,  6.58it/s]\n"
          ]
        },
        {
          "output_type": "stream",
          "name": "stdout",
          "text": [
            "Epoch 22 average loss: 0.0460\n"
          ]
        },
        {
          "output_type": "stream",
          "name": "stderr",
          "text": [
            "Epoch 23, Loss: 0.0431: 100%|█████████████████████████████████████| 169/169 [00:26<00:00,  6.50it/s]\n"
          ]
        },
        {
          "output_type": "stream",
          "name": "stdout",
          "text": [
            "Epoch 23 average loss: 0.0446\n"
          ]
        },
        {
          "output_type": "stream",
          "name": "stderr",
          "text": [
            "Epoch 24, Loss: 0.0426: 100%|█████████████████████████████████████| 169/169 [00:25<00:00,  6.65it/s]\n"
          ]
        },
        {
          "output_type": "stream",
          "name": "stdout",
          "text": [
            "Epoch 24 average loss: 0.0439\n"
          ]
        },
        {
          "output_type": "stream",
          "name": "stderr",
          "text": [
            "Epoch 25, Loss: 0.0456: 100%|█████████████████████████████████████| 169/169 [00:24<00:00,  7.00it/s]\n"
          ]
        },
        {
          "output_type": "stream",
          "name": "stdout",
          "text": [
            "Epoch 25 average loss: 0.0426\n"
          ]
        },
        {
          "output_type": "stream",
          "name": "stderr",
          "text": [
            "Epoch 26, Loss: 0.0436: 100%|█████████████████████████████████████| 169/169 [00:25<00:00,  6.62it/s]\n"
          ]
        },
        {
          "output_type": "stream",
          "name": "stdout",
          "text": [
            "Epoch 26 average loss: 0.0415\n"
          ]
        },
        {
          "output_type": "stream",
          "name": "stderr",
          "text": [
            "Epoch 27, Loss: 0.0407: 100%|█████████████████████████████████████| 169/169 [00:25<00:00,  6.59it/s]\n"
          ]
        },
        {
          "output_type": "stream",
          "name": "stdout",
          "text": [
            "Epoch 27 average loss: 0.0405\n"
          ]
        },
        {
          "output_type": "stream",
          "name": "stderr",
          "text": [
            "Epoch 28, Loss: 0.0423: 100%|█████████████████████████████████████| 169/169 [00:25<00:00,  6.73it/s]\n"
          ]
        },
        {
          "output_type": "stream",
          "name": "stdout",
          "text": [
            "Epoch 28 average loss: 0.0394\n"
          ]
        },
        {
          "output_type": "stream",
          "name": "stderr",
          "text": [
            "Epoch 29, Loss: 0.0366: 100%|█████████████████████████████████████| 169/169 [00:23<00:00,  7.06it/s]\n"
          ]
        },
        {
          "output_type": "stream",
          "name": "stdout",
          "text": [
            "Epoch 29 average loss: 0.0386\n"
          ]
        },
        {
          "output_type": "stream",
          "name": "stderr",
          "text": [
            "Epoch 30, Loss: 0.0408: 100%|█████████████████████████████████████| 169/169 [00:24<00:00,  6.88it/s]\n"
          ]
        },
        {
          "output_type": "stream",
          "name": "stdout",
          "text": [
            "Epoch 30 average loss: 0.0379\n"
          ]
        },
        {
          "output_type": "stream",
          "name": "stderr",
          "text": [
            "Epoch 31, Loss: 0.0379: 100%|█████████████████████████████████████| 169/169 [00:24<00:00,  6.77it/s]\n"
          ]
        },
        {
          "output_type": "stream",
          "name": "stdout",
          "text": [
            "Epoch 31 average loss: 0.0371\n"
          ]
        },
        {
          "output_type": "stream",
          "name": "stderr",
          "text": [
            "Epoch 32, Loss: 0.0397: 100%|█████████████████████████████████████| 169/169 [00:25<00:00,  6.73it/s]\n"
          ]
        },
        {
          "output_type": "stream",
          "name": "stdout",
          "text": [
            "Epoch 32 average loss: 0.0361\n"
          ]
        },
        {
          "output_type": "stream",
          "name": "stderr",
          "text": [
            "Epoch 33, Loss: 0.0346: 100%|█████████████████████████████████████| 169/169 [00:24<00:00,  7.01it/s]\n"
          ]
        },
        {
          "output_type": "stream",
          "name": "stdout",
          "text": [
            "Epoch 33 average loss: 0.0360\n"
          ]
        },
        {
          "output_type": "stream",
          "name": "stderr",
          "text": [
            "Epoch 34, Loss: 0.0391: 100%|█████████████████████████████████████| 169/169 [00:24<00:00,  6.89it/s]\n"
          ]
        },
        {
          "output_type": "stream",
          "name": "stdout",
          "text": [
            "Epoch 34 average loss: 0.0350\n"
          ]
        },
        {
          "output_type": "stream",
          "name": "stderr",
          "text": [
            "Epoch 35, Loss: 0.0363: 100%|█████████████████████████████████████| 169/169 [00:25<00:00,  6.64it/s]\n"
          ]
        },
        {
          "output_type": "stream",
          "name": "stdout",
          "text": [
            "Epoch 35 average loss: 0.0347\n"
          ]
        },
        {
          "output_type": "stream",
          "name": "stderr",
          "text": [
            "Epoch 36, Loss: 0.0338: 100%|█████████████████████████████████████| 169/169 [00:25<00:00,  6.69it/s]\n"
          ]
        },
        {
          "output_type": "stream",
          "name": "stdout",
          "text": [
            "Epoch 36 average loss: 0.0339\n"
          ]
        },
        {
          "output_type": "stream",
          "name": "stderr",
          "text": [
            "Epoch 37, Loss: 0.0349: 100%|█████████████████████████████████████| 169/169 [00:24<00:00,  6.86it/s]\n"
          ]
        },
        {
          "output_type": "stream",
          "name": "stdout",
          "text": [
            "Epoch 37 average loss: 0.0335\n"
          ]
        },
        {
          "output_type": "stream",
          "name": "stderr",
          "text": [
            "Epoch 38, Loss: 0.0387: 100%|█████████████████████████████████████| 169/169 [00:24<00:00,  6.93it/s]\n"
          ]
        },
        {
          "output_type": "stream",
          "name": "stdout",
          "text": [
            "Epoch 38 average loss: 0.0330\n"
          ]
        },
        {
          "output_type": "stream",
          "name": "stderr",
          "text": [
            "Epoch 39, Loss: 0.0315: 100%|█████████████████████████████████████| 169/169 [00:25<00:00,  6.65it/s]\n"
          ]
        },
        {
          "output_type": "stream",
          "name": "stdout",
          "text": [
            "Epoch 39 average loss: 0.0324\n"
          ]
        },
        {
          "output_type": "stream",
          "name": "stderr",
          "text": [
            "Epoch 40, Loss: 0.0316: 100%|█████████████████████████████████████| 169/169 [00:25<00:00,  6.67it/s]\n"
          ]
        },
        {
          "output_type": "stream",
          "name": "stdout",
          "text": [
            "Epoch 40 average loss: 0.0315\n"
          ]
        },
        {
          "output_type": "stream",
          "name": "stderr",
          "text": [
            "Epoch 41, Loss: 0.0295: 100%|█████████████████████████████████████| 169/169 [00:25<00:00,  6.72it/s]\n"
          ]
        },
        {
          "output_type": "stream",
          "name": "stdout",
          "text": [
            "Epoch 41 average loss: 0.0312\n"
          ]
        },
        {
          "output_type": "stream",
          "name": "stderr",
          "text": [
            "Epoch 42, Loss: 0.0317: 100%|█████████████████████████████████████| 169/169 [00:24<00:00,  7.04it/s]\n"
          ]
        },
        {
          "output_type": "stream",
          "name": "stdout",
          "text": [
            "Epoch 42 average loss: 0.0309\n"
          ]
        },
        {
          "output_type": "stream",
          "name": "stderr",
          "text": [
            "Epoch 43, Loss: 0.0293: 100%|█████████████████████████████████████| 169/169 [00:25<00:00,  6.74it/s]\n"
          ]
        },
        {
          "output_type": "stream",
          "name": "stdout",
          "text": [
            "Epoch 43 average loss: 0.0305\n"
          ]
        },
        {
          "output_type": "stream",
          "name": "stderr",
          "text": [
            "Epoch 44, Loss: 0.0300: 100%|█████████████████████████████████████| 169/169 [00:25<00:00,  6.75it/s]\n"
          ]
        },
        {
          "output_type": "stream",
          "name": "stdout",
          "text": [
            "Epoch 44 average loss: 0.0303\n"
          ]
        },
        {
          "output_type": "stream",
          "name": "stderr",
          "text": [
            "Epoch 45, Loss: 0.0333: 100%|█████████████████████████████████████| 169/169 [00:24<00:00,  6.76it/s]\n"
          ]
        },
        {
          "output_type": "stream",
          "name": "stdout",
          "text": [
            "Epoch 45 average loss: 0.0296\n"
          ]
        },
        {
          "output_type": "stream",
          "name": "stderr",
          "text": [
            "Epoch 46, Loss: 0.0312: 100%|█████████████████████████████████████| 169/169 [00:24<00:00,  6.96it/s]\n"
          ]
        },
        {
          "output_type": "stream",
          "name": "stdout",
          "text": [
            "Epoch 46 average loss: 0.0294\n"
          ]
        },
        {
          "output_type": "stream",
          "name": "stderr",
          "text": [
            "Epoch 47, Loss: 0.0259: 100%|█████████████████████████████████████| 169/169 [00:24<00:00,  6.90it/s]\n"
          ]
        },
        {
          "output_type": "stream",
          "name": "stdout",
          "text": [
            "Epoch 47 average loss: 0.0293\n"
          ]
        },
        {
          "output_type": "stream",
          "name": "stderr",
          "text": [
            "Epoch 48, Loss: 0.0297: 100%|█████████████████████████████████████| 169/169 [00:25<00:00,  6.73it/s]\n"
          ]
        },
        {
          "output_type": "stream",
          "name": "stdout",
          "text": [
            "Epoch 48 average loss: 0.0285\n"
          ]
        },
        {
          "output_type": "stream",
          "name": "stderr",
          "text": [
            "Epoch 49, Loss: 0.0306: 100%|█████████████████████████████████████| 169/169 [00:25<00:00,  6.72it/s]\n"
          ]
        },
        {
          "output_type": "stream",
          "name": "stdout",
          "text": [
            "Epoch 49 average loss: 0.0289\n"
          ]
        },
        {
          "output_type": "stream",
          "name": "stderr",
          "text": [
            "Epoch 50, Loss: 0.0294: 100%|█████████████████████████████████████| 169/169 [00:24<00:00,  6.94it/s]\n"
          ]
        },
        {
          "output_type": "stream",
          "name": "stdout",
          "text": [
            "Epoch 50 average loss: 0.0279\n"
          ]
        },
        {
          "output_type": "stream",
          "name": "stderr",
          "text": [
            "Epoch 51, Loss: 0.0307: 100%|█████████████████████████████████████| 169/169 [00:24<00:00,  7.04it/s]\n"
          ]
        },
        {
          "output_type": "stream",
          "name": "stdout",
          "text": [
            "Epoch 51 average loss: 0.0278\n"
          ]
        },
        {
          "output_type": "stream",
          "name": "stderr",
          "text": [
            "Epoch 52, Loss: 0.0287: 100%|█████████████████████████████████████| 169/169 [00:25<00:00,  6.68it/s]\n"
          ]
        },
        {
          "output_type": "stream",
          "name": "stdout",
          "text": [
            "Epoch 52 average loss: 0.0275\n"
          ]
        },
        {
          "output_type": "stream",
          "name": "stderr",
          "text": [
            "Epoch 53, Loss: 0.0274: 100%|█████████████████████████████████████| 169/169 [00:25<00:00,  6.67it/s]\n"
          ]
        },
        {
          "output_type": "stream",
          "name": "stdout",
          "text": [
            "Epoch 53 average loss: 0.0273\n"
          ]
        },
        {
          "output_type": "stream",
          "name": "stderr",
          "text": [
            "Epoch 54, Loss: 0.0283: 100%|█████████████████████████████████████| 169/169 [00:25<00:00,  6.72it/s]\n"
          ]
        },
        {
          "output_type": "stream",
          "name": "stdout",
          "text": [
            "Epoch 54 average loss: 0.0266\n"
          ]
        },
        {
          "output_type": "stream",
          "name": "stderr",
          "text": [
            "Epoch 55, Loss: 0.0270: 100%|█████████████████████████████████████| 169/169 [00:24<00:00,  6.80it/s]\n"
          ]
        },
        {
          "output_type": "stream",
          "name": "stdout",
          "text": [
            "Epoch 55 average loss: 0.0271\n"
          ]
        },
        {
          "output_type": "stream",
          "name": "stderr",
          "text": [
            "Epoch 56, Loss: 0.0261: 100%|█████████████████████████████████████| 169/169 [00:24<00:00,  6.76it/s]\n"
          ]
        },
        {
          "output_type": "stream",
          "name": "stdout",
          "text": [
            "Epoch 56 average loss: 0.0262\n"
          ]
        },
        {
          "output_type": "stream",
          "name": "stderr",
          "text": [
            "Epoch 57, Loss: 0.0273: 100%|█████████████████████████████████████| 169/169 [00:25<00:00,  6.57it/s]\n"
          ]
        },
        {
          "output_type": "stream",
          "name": "stdout",
          "text": [
            "Epoch 57 average loss: 0.0263\n"
          ]
        },
        {
          "output_type": "stream",
          "name": "stderr",
          "text": [
            "Epoch 58, Loss: 0.0242: 100%|█████████████████████████████████████| 169/169 [00:24<00:00,  6.79it/s]\n"
          ]
        },
        {
          "output_type": "stream",
          "name": "stdout",
          "text": [
            "Epoch 58 average loss: 0.0260\n"
          ]
        },
        {
          "output_type": "stream",
          "name": "stderr",
          "text": [
            "Epoch 59, Loss: 0.0288: 100%|█████████████████████████████████████| 169/169 [00:24<00:00,  6.79it/s]\n"
          ]
        },
        {
          "output_type": "stream",
          "name": "stdout",
          "text": [
            "Epoch 59 average loss: 0.0264\n"
          ]
        },
        {
          "output_type": "stream",
          "name": "stderr",
          "text": [
            "Epoch 60, Loss: 0.0239: 100%|█████████████████████████████████████| 169/169 [00:23<00:00,  7.14it/s]\n"
          ]
        },
        {
          "output_type": "stream",
          "name": "stdout",
          "text": [
            "Epoch 60 average loss: 0.0258\n"
          ]
        },
        {
          "output_type": "stream",
          "name": "stderr",
          "text": [
            "Epoch 61, Loss: 0.0268: 100%|█████████████████████████████████████| 169/169 [00:24<00:00,  6.77it/s]\n"
          ]
        },
        {
          "output_type": "stream",
          "name": "stdout",
          "text": [
            "Epoch 61 average loss: 0.0252\n"
          ]
        },
        {
          "output_type": "stream",
          "name": "stderr",
          "text": [
            "Epoch 62, Loss: 0.0242: 100%|█████████████████████████████████████| 169/169 [00:24<00:00,  6.79it/s]\n"
          ]
        },
        {
          "output_type": "stream",
          "name": "stdout",
          "text": [
            "Epoch 62 average loss: 0.0253\n"
          ]
        },
        {
          "output_type": "stream",
          "name": "stderr",
          "text": [
            "Epoch 63, Loss: 0.0254: 100%|█████████████████████████████████████| 169/169 [00:24<00:00,  6.83it/s]\n"
          ]
        },
        {
          "output_type": "stream",
          "name": "stdout",
          "text": [
            "Epoch 63 average loss: 0.0251\n"
          ]
        },
        {
          "output_type": "stream",
          "name": "stderr",
          "text": [
            "Epoch 64, Loss: 0.0237: 100%|█████████████████████████████████████| 169/169 [00:24<00:00,  7.00it/s]\n"
          ]
        },
        {
          "output_type": "stream",
          "name": "stdout",
          "text": [
            "Epoch 64 average loss: 0.0249\n"
          ]
        },
        {
          "output_type": "stream",
          "name": "stderr",
          "text": [
            "Epoch 65, Loss: 0.0238: 100%|█████████████████████████████████████| 169/169 [00:25<00:00,  6.74it/s]\n"
          ]
        },
        {
          "output_type": "stream",
          "name": "stdout",
          "text": [
            "Epoch 65 average loss: 0.0245\n"
          ]
        },
        {
          "output_type": "stream",
          "name": "stderr",
          "text": [
            "Epoch 66, Loss: 0.0250: 100%|█████████████████████████████████████| 169/169 [00:24<00:00,  6.79it/s]\n"
          ]
        },
        {
          "output_type": "stream",
          "name": "stdout",
          "text": [
            "Epoch 66 average loss: 0.0246\n"
          ]
        },
        {
          "output_type": "stream",
          "name": "stderr",
          "text": [
            "Epoch 67, Loss: 0.0247: 100%|█████████████████████████████████████| 169/169 [00:24<00:00,  6.84it/s]\n"
          ]
        },
        {
          "output_type": "stream",
          "name": "stdout",
          "text": [
            "Epoch 67 average loss: 0.0243\n"
          ]
        },
        {
          "output_type": "stream",
          "name": "stderr",
          "text": [
            "Epoch 68, Loss: 0.0233: 100%|█████████████████████████████████████| 169/169 [00:23<00:00,  7.09it/s]\n"
          ]
        },
        {
          "output_type": "stream",
          "name": "stdout",
          "text": [
            "Epoch 68 average loss: 0.0240\n"
          ]
        },
        {
          "output_type": "stream",
          "name": "stderr",
          "text": [
            "Epoch 69, Loss: 0.0240: 100%|█████████████████████████████████████| 169/169 [00:25<00:00,  6.66it/s]\n"
          ]
        },
        {
          "output_type": "stream",
          "name": "stdout",
          "text": [
            "Epoch 69 average loss: 0.0240\n"
          ]
        },
        {
          "output_type": "stream",
          "name": "stderr",
          "text": [
            "Epoch 70, Loss: 0.0236: 100%|█████████████████████████████████████| 169/169 [00:25<00:00,  6.71it/s]\n"
          ]
        },
        {
          "output_type": "stream",
          "name": "stdout",
          "text": [
            "Epoch 70 average loss: 0.0236\n"
          ]
        },
        {
          "output_type": "stream",
          "name": "stderr",
          "text": [
            "Epoch 71, Loss: 0.0224: 100%|█████████████████████████████████████| 169/169 [00:25<00:00,  6.75it/s]\n"
          ]
        },
        {
          "output_type": "stream",
          "name": "stdout",
          "text": [
            "Epoch 71 average loss: 0.0234\n"
          ]
        },
        {
          "output_type": "stream",
          "name": "stderr",
          "text": [
            "Epoch 72, Loss: 0.0249: 100%|█████████████████████████████████████| 169/169 [00:24<00:00,  6.99it/s]\n"
          ]
        },
        {
          "output_type": "stream",
          "name": "stdout",
          "text": [
            "Epoch 72 average loss: 0.0238\n"
          ]
        },
        {
          "output_type": "stream",
          "name": "stderr",
          "text": [
            "Epoch 73, Loss: 0.0217: 100%|█████████████████████████████████████| 169/169 [00:24<00:00,  6.83it/s]\n"
          ]
        },
        {
          "output_type": "stream",
          "name": "stdout",
          "text": [
            "Epoch 73 average loss: 0.0232\n"
          ]
        },
        {
          "output_type": "stream",
          "name": "stderr",
          "text": [
            "Epoch 74, Loss: 0.0232: 100%|█████████████████████████████████████| 169/169 [00:25<00:00,  6.62it/s]\n"
          ]
        },
        {
          "output_type": "stream",
          "name": "stdout",
          "text": [
            "Epoch 74 average loss: 0.0231\n"
          ]
        },
        {
          "output_type": "stream",
          "name": "stderr",
          "text": [
            "Epoch 75, Loss: 0.0231: 100%|█████████████████████████████████████| 169/169 [00:25<00:00,  6.60it/s]\n"
          ]
        },
        {
          "output_type": "stream",
          "name": "stdout",
          "text": [
            "Epoch 75 average loss: 0.0233\n"
          ]
        },
        {
          "output_type": "stream",
          "name": "stderr",
          "text": [
            "Epoch 76, Loss: 0.0222: 100%|█████████████████████████████████████| 169/169 [00:25<00:00,  6.67it/s]\n"
          ]
        },
        {
          "output_type": "stream",
          "name": "stdout",
          "text": [
            "Epoch 76 average loss: 0.0229\n"
          ]
        },
        {
          "output_type": "stream",
          "name": "stderr",
          "text": [
            "Epoch 77, Loss: 0.0218: 100%|█████████████████████████████████████| 169/169 [00:24<00:00,  7.01it/s]\n"
          ]
        },
        {
          "output_type": "stream",
          "name": "stdout",
          "text": [
            "Epoch 77 average loss: 0.0227\n"
          ]
        },
        {
          "output_type": "stream",
          "name": "stderr",
          "text": [
            "Epoch 78, Loss: 0.0220: 100%|█████████████████████████████████████| 169/169 [00:25<00:00,  6.62it/s]\n"
          ]
        },
        {
          "output_type": "stream",
          "name": "stdout",
          "text": [
            "Epoch 78 average loss: 0.0224\n"
          ]
        },
        {
          "output_type": "stream",
          "name": "stderr",
          "text": [
            "Epoch 79, Loss: 0.0213: 100%|█████████████████████████████████████| 169/169 [00:25<00:00,  6.68it/s]\n"
          ]
        },
        {
          "output_type": "stream",
          "name": "stdout",
          "text": [
            "Epoch 79 average loss: 0.0224\n"
          ]
        },
        {
          "output_type": "stream",
          "name": "stderr",
          "text": [
            "Epoch 80, Loss: 0.0263: 100%|█████████████████████████████████████| 169/169 [00:25<00:00,  6.71it/s]\n"
          ]
        },
        {
          "output_type": "stream",
          "name": "stdout",
          "text": [
            "Epoch 80 average loss: 0.0224\n"
          ]
        },
        {
          "output_type": "stream",
          "name": "stderr",
          "text": [
            "Epoch 81, Loss: 0.0237: 100%|█████████████████████████████████████| 169/169 [00:24<00:00,  7.00it/s]\n"
          ]
        },
        {
          "output_type": "stream",
          "name": "stdout",
          "text": [
            "Epoch 81 average loss: 0.0223\n"
          ]
        },
        {
          "output_type": "stream",
          "name": "stderr",
          "text": [
            "Epoch 82, Loss: 0.0210: 100%|█████████████████████████████████████| 169/169 [00:24<00:00,  6.79it/s]\n"
          ]
        },
        {
          "output_type": "stream",
          "name": "stdout",
          "text": [
            "Epoch 82 average loss: 0.0223\n"
          ]
        },
        {
          "output_type": "stream",
          "name": "stderr",
          "text": [
            "Epoch 83, Loss: 0.0216: 100%|█████████████████████████████████████| 169/169 [00:25<00:00,  6.63it/s]\n"
          ]
        },
        {
          "output_type": "stream",
          "name": "stdout",
          "text": [
            "Epoch 83 average loss: 0.0220\n"
          ]
        },
        {
          "output_type": "stream",
          "name": "stderr",
          "text": [
            "Epoch 84, Loss: 0.0222: 100%|█████████████████████████████████████| 169/169 [00:25<00:00,  6.73it/s]\n"
          ]
        },
        {
          "output_type": "stream",
          "name": "stdout",
          "text": [
            "Epoch 84 average loss: 0.0218\n"
          ]
        },
        {
          "output_type": "stream",
          "name": "stderr",
          "text": [
            "Epoch 85, Loss: 0.0224: 100%|█████████████████████████████████████| 169/169 [00:25<00:00,  6.75it/s]\n"
          ]
        },
        {
          "output_type": "stream",
          "name": "stdout",
          "text": [
            "Epoch 85 average loss: 0.0217\n"
          ]
        },
        {
          "output_type": "stream",
          "name": "stderr",
          "text": [
            "Epoch 86, Loss: 0.0211: 100%|█████████████████████████████████████| 169/169 [00:23<00:00,  7.08it/s]\n"
          ]
        },
        {
          "output_type": "stream",
          "name": "stdout",
          "text": [
            "Epoch 86 average loss: 0.0219\n"
          ]
        },
        {
          "output_type": "stream",
          "name": "stderr",
          "text": [
            "Epoch 87, Loss: 0.0222: 100%|█████████████████████████████████████| 169/169 [00:25<00:00,  6.74it/s]\n"
          ]
        },
        {
          "output_type": "stream",
          "name": "stdout",
          "text": [
            "Epoch 87 average loss: 0.0216\n"
          ]
        },
        {
          "output_type": "stream",
          "name": "stderr",
          "text": [
            "Epoch 88, Loss: 0.0214: 100%|█████████████████████████████████████| 169/169 [00:25<00:00,  6.68it/s]\n"
          ]
        },
        {
          "output_type": "stream",
          "name": "stdout",
          "text": [
            "Epoch 88 average loss: 0.0215\n"
          ]
        },
        {
          "output_type": "stream",
          "name": "stderr",
          "text": [
            "Epoch 89, Loss: 0.0218: 100%|█████████████████████████████████████| 169/169 [00:25<00:00,  6.75it/s]\n"
          ]
        },
        {
          "output_type": "stream",
          "name": "stdout",
          "text": [
            "Epoch 89 average loss: 0.0213\n"
          ]
        },
        {
          "output_type": "stream",
          "name": "stderr",
          "text": [
            "Epoch 90, Loss: 0.0203: 100%|█████████████████████████████████████| 169/169 [00:24<00:00,  7.00it/s]\n"
          ]
        },
        {
          "output_type": "stream",
          "name": "stdout",
          "text": [
            "Epoch 90 average loss: 0.0213\n"
          ]
        },
        {
          "output_type": "stream",
          "name": "stderr",
          "text": [
            "Epoch 91, Loss: 0.0223: 100%|█████████████████████████████████████| 169/169 [00:25<00:00,  6.73it/s]\n"
          ]
        },
        {
          "output_type": "stream",
          "name": "stdout",
          "text": [
            "Epoch 91 average loss: 0.0215\n"
          ]
        },
        {
          "output_type": "stream",
          "name": "stderr",
          "text": [
            "Epoch 92, Loss: 0.0202: 100%|█████████████████████████████████████| 169/169 [00:25<00:00,  6.70it/s]\n"
          ]
        },
        {
          "output_type": "stream",
          "name": "stdout",
          "text": [
            "Epoch 92 average loss: 0.0211\n"
          ]
        },
        {
          "output_type": "stream",
          "name": "stderr",
          "text": [
            "Epoch 93, Loss: 0.0220: 100%|█████████████████████████████████████| 169/169 [00:25<00:00,  6.64it/s]\n"
          ]
        },
        {
          "output_type": "stream",
          "name": "stdout",
          "text": [
            "Epoch 93 average loss: 0.0211\n"
          ]
        },
        {
          "output_type": "stream",
          "name": "stderr",
          "text": [
            "Epoch 94, Loss: 0.0200: 100%|█████████████████████████████████████| 169/169 [00:24<00:00,  6.91it/s]\n"
          ]
        },
        {
          "output_type": "stream",
          "name": "stdout",
          "text": [
            "Epoch 94 average loss: 0.0209\n"
          ]
        },
        {
          "output_type": "stream",
          "name": "stderr",
          "text": [
            "Epoch 95, Loss: 0.0208: 100%|█████████████████████████████████████| 169/169 [00:25<00:00,  6.74it/s]\n"
          ]
        },
        {
          "output_type": "stream",
          "name": "stdout",
          "text": [
            "Epoch 95 average loss: 0.0208\n"
          ]
        },
        {
          "output_type": "stream",
          "name": "stderr",
          "text": [
            "Epoch 96, Loss: 0.0228: 100%|█████████████████████████████████████| 169/169 [00:25<00:00,  6.57it/s]\n"
          ]
        },
        {
          "output_type": "stream",
          "name": "stdout",
          "text": [
            "Epoch 96 average loss: 0.0207\n"
          ]
        },
        {
          "output_type": "stream",
          "name": "stderr",
          "text": [
            "Epoch 97, Loss: 0.0214: 100%|█████████████████████████████████████| 169/169 [00:25<00:00,  6.59it/s]\n"
          ]
        },
        {
          "output_type": "stream",
          "name": "stdout",
          "text": [
            "Epoch 97 average loss: 0.0207\n"
          ]
        },
        {
          "output_type": "stream",
          "name": "stderr",
          "text": [
            "Epoch 98, Loss: 0.0207: 100%|█████████████████████████████████████| 169/169 [00:25<00:00,  6.58it/s]\n"
          ]
        },
        {
          "output_type": "stream",
          "name": "stdout",
          "text": [
            "Epoch 98 average loss: 0.0206\n"
          ]
        },
        {
          "output_type": "stream",
          "name": "stderr",
          "text": [
            "Epoch 99, Loss: 0.0188: 100%|█████████████████████████████████████| 169/169 [00:24<00:00,  6.94it/s]\n"
          ]
        },
        {
          "output_type": "stream",
          "name": "stdout",
          "text": [
            "Epoch 99 average loss: 0.0205\n"
          ]
        },
        {
          "output_type": "stream",
          "name": "stderr",
          "text": [
            "Epoch 100, Loss: 0.0207: 100%|████████████████████████████████████| 169/169 [00:24<00:00,  6.78it/s]\n"
          ]
        },
        {
          "output_type": "stream",
          "name": "stdout",
          "text": [
            "Epoch 100 average loss: 0.0205\n"
          ]
        },
        {
          "output_type": "stream",
          "name": "stderr",
          "text": [
            "Epoch 101, Loss: 0.0209: 100%|████████████████████████████████████| 169/169 [00:25<00:00,  6.72it/s]\n"
          ]
        },
        {
          "output_type": "stream",
          "name": "stdout",
          "text": [
            "Epoch 101 average loss: 0.0204\n"
          ]
        },
        {
          "output_type": "stream",
          "name": "stderr",
          "text": [
            "Epoch 102, Loss: 0.0205: 100%|████████████████████████████████████| 169/169 [00:25<00:00,  6.63it/s]\n"
          ]
        },
        {
          "output_type": "stream",
          "name": "stdout",
          "text": [
            "Epoch 102 average loss: 0.0203\n"
          ]
        },
        {
          "output_type": "stream",
          "name": "stderr",
          "text": [
            "Epoch 103, Loss: 0.0201: 100%|████████████████████████████████████| 169/169 [00:24<00:00,  6.94it/s]\n"
          ]
        },
        {
          "output_type": "stream",
          "name": "stdout",
          "text": [
            "Epoch 103 average loss: 0.0204\n"
          ]
        },
        {
          "output_type": "stream",
          "name": "stderr",
          "text": [
            "Epoch 104, Loss: 0.0198: 100%|████████████████████████████████████| 169/169 [00:24<00:00,  6.98it/s]\n"
          ]
        },
        {
          "output_type": "stream",
          "name": "stdout",
          "text": [
            "Epoch 104 average loss: 0.0203\n"
          ]
        },
        {
          "output_type": "stream",
          "name": "stderr",
          "text": [
            "Epoch 105, Loss: 0.0204: 100%|████████████████████████████████████| 169/169 [00:25<00:00,  6.67it/s]\n"
          ]
        },
        {
          "output_type": "stream",
          "name": "stdout",
          "text": [
            "Epoch 105 average loss: 0.0203\n"
          ]
        },
        {
          "output_type": "stream",
          "name": "stderr",
          "text": [
            "Epoch 106, Loss: 0.0205: 100%|████████████████████████████████████| 169/169 [00:25<00:00,  6.74it/s]\n"
          ]
        },
        {
          "output_type": "stream",
          "name": "stdout",
          "text": [
            "Epoch 106 average loss: 0.0201\n"
          ]
        },
        {
          "output_type": "stream",
          "name": "stderr",
          "text": [
            "Epoch 107, Loss: 0.0211: 100%|████████████████████████████████████| 169/169 [00:24<00:00,  7.01it/s]\n"
          ]
        },
        {
          "output_type": "stream",
          "name": "stdout",
          "text": [
            "Epoch 107 average loss: 0.0201\n"
          ]
        },
        {
          "output_type": "stream",
          "name": "stderr",
          "text": [
            "Epoch 108, Loss: 0.0184: 100%|████████████████████████████████████| 169/169 [00:23<00:00,  7.05it/s]\n"
          ]
        },
        {
          "output_type": "stream",
          "name": "stdout",
          "text": [
            "Epoch 108 average loss: 0.0200\n"
          ]
        },
        {
          "output_type": "stream",
          "name": "stderr",
          "text": [
            "Epoch 109, Loss: 0.0199: 100%|████████████████████████████████████| 169/169 [00:25<00:00,  6.75it/s]\n"
          ]
        },
        {
          "output_type": "stream",
          "name": "stdout",
          "text": [
            "Epoch 109 average loss: 0.0200\n"
          ]
        },
        {
          "output_type": "stream",
          "name": "stderr",
          "text": [
            "Epoch 110, Loss: 0.0193: 100%|████████████████████████████████████| 169/169 [00:25<00:00,  6.58it/s]\n"
          ]
        },
        {
          "output_type": "stream",
          "name": "stdout",
          "text": [
            "Epoch 110 average loss: 0.0200\n"
          ]
        },
        {
          "output_type": "stream",
          "name": "stderr",
          "text": [
            "Epoch 111, Loss: 0.0197: 100%|████████████████████████████████████| 169/169 [00:25<00:00,  6.70it/s]\n"
          ]
        },
        {
          "output_type": "stream",
          "name": "stdout",
          "text": [
            "Epoch 111 average loss: 0.0199\n"
          ]
        },
        {
          "output_type": "stream",
          "name": "stderr",
          "text": [
            "Epoch 112, Loss: 0.0184: 100%|████████████████████████████████████| 169/169 [00:23<00:00,  7.05it/s]\n"
          ]
        },
        {
          "output_type": "stream",
          "name": "stdout",
          "text": [
            "Epoch 112 average loss: 0.0199\n"
          ]
        },
        {
          "output_type": "stream",
          "name": "stderr",
          "text": [
            "Epoch 113, Loss: 0.0215: 100%|████████████████████████████████████| 169/169 [00:24<00:00,  6.77it/s]\n"
          ]
        },
        {
          "output_type": "stream",
          "name": "stdout",
          "text": [
            "Epoch 113 average loss: 0.0198\n"
          ]
        },
        {
          "output_type": "stream",
          "name": "stderr",
          "text": [
            "Epoch 114, Loss: 0.0192: 100%|████████████████████████████████████| 169/169 [00:25<00:00,  6.58it/s]\n"
          ]
        },
        {
          "output_type": "stream",
          "name": "stdout",
          "text": [
            "Epoch 114 average loss: 0.0197\n"
          ]
        },
        {
          "output_type": "stream",
          "name": "stderr",
          "text": [
            "Epoch 115, Loss: 0.0207: 100%|████████████████████████████████████| 169/169 [00:25<00:00,  6.60it/s]\n"
          ]
        },
        {
          "output_type": "stream",
          "name": "stdout",
          "text": [
            "Epoch 115 average loss: 0.0197\n"
          ]
        },
        {
          "output_type": "stream",
          "name": "stderr",
          "text": [
            "Epoch 116, Loss: 0.0189: 100%|████████████████████████████████████| 169/169 [00:24<00:00,  6.88it/s]\n"
          ]
        },
        {
          "output_type": "stream",
          "name": "stdout",
          "text": [
            "Epoch 116 average loss: 0.0196\n"
          ]
        },
        {
          "output_type": "stream",
          "name": "stderr",
          "text": [
            "Epoch 117, Loss: 0.0197: 100%|████████████████████████████████████| 169/169 [00:24<00:00,  6.78it/s]\n"
          ]
        },
        {
          "output_type": "stream",
          "name": "stdout",
          "text": [
            "Epoch 117 average loss: 0.0196\n"
          ]
        },
        {
          "output_type": "stream",
          "name": "stderr",
          "text": [
            "Epoch 118, Loss: 0.0188: 100%|████████████████████████████████████| 169/169 [00:25<00:00,  6.73it/s]\n"
          ]
        },
        {
          "output_type": "stream",
          "name": "stdout",
          "text": [
            "Epoch 118 average loss: 0.0195\n"
          ]
        },
        {
          "output_type": "stream",
          "name": "stderr",
          "text": [
            "Epoch 119, Loss: 0.0202: 100%|████████████████████████████████████| 169/169 [00:25<00:00,  6.73it/s]\n"
          ]
        },
        {
          "output_type": "stream",
          "name": "stdout",
          "text": [
            "Epoch 119 average loss: 0.0195\n"
          ]
        },
        {
          "output_type": "stream",
          "name": "stderr",
          "text": [
            "Epoch 120, Loss: 0.0187: 100%|████████████████████████████████████| 169/169 [00:24<00:00,  6.78it/s]\n"
          ]
        },
        {
          "output_type": "stream",
          "name": "stdout",
          "text": [
            "Epoch 120 average loss: 0.0195\n"
          ]
        },
        {
          "output_type": "stream",
          "name": "stderr",
          "text": [
            "Epoch 121, Loss: 0.0186: 100%|████████████████████████████████████| 169/169 [00:23<00:00,  7.07it/s]\n"
          ]
        },
        {
          "output_type": "stream",
          "name": "stdout",
          "text": [
            "Epoch 121 average loss: 0.0194\n"
          ]
        },
        {
          "output_type": "stream",
          "name": "stderr",
          "text": [
            "Epoch 122, Loss: 0.0187: 100%|████████████████████████████████████| 169/169 [00:25<00:00,  6.75it/s]\n"
          ]
        },
        {
          "output_type": "stream",
          "name": "stdout",
          "text": [
            "Epoch 122 average loss: 0.0195\n"
          ]
        },
        {
          "output_type": "stream",
          "name": "stderr",
          "text": [
            "Epoch 123, Loss: 0.0182: 100%|████████████████████████████████████| 169/169 [00:24<00:00,  6.81it/s]\n"
          ]
        },
        {
          "output_type": "stream",
          "name": "stdout",
          "text": [
            "Epoch 123 average loss: 0.0194\n"
          ]
        },
        {
          "output_type": "stream",
          "name": "stderr",
          "text": [
            "Epoch 124, Loss: 0.0191: 100%|████████████████████████████████████| 169/169 [00:25<00:00,  6.71it/s]\n"
          ]
        },
        {
          "output_type": "stream",
          "name": "stdout",
          "text": [
            "Epoch 124 average loss: 0.0194\n"
          ]
        },
        {
          "output_type": "stream",
          "name": "stderr",
          "text": [
            "Epoch 125, Loss: 0.0196: 100%|████████████████████████████████████| 169/169 [00:23<00:00,  7.14it/s]\n"
          ]
        },
        {
          "output_type": "stream",
          "name": "stdout",
          "text": [
            "Epoch 125 average loss: 0.0194\n"
          ]
        },
        {
          "output_type": "stream",
          "name": "stderr",
          "text": [
            "Epoch 126, Loss: 0.0217: 100%|████████████████████████████████████| 169/169 [00:24<00:00,  6.79it/s]\n"
          ]
        },
        {
          "output_type": "stream",
          "name": "stdout",
          "text": [
            "Epoch 126 average loss: 0.0194\n"
          ]
        },
        {
          "output_type": "stream",
          "name": "stderr",
          "text": [
            "Epoch 127, Loss: 0.0191: 100%|████████████████████████████████████| 169/169 [00:25<00:00,  6.69it/s]\n"
          ]
        },
        {
          "output_type": "stream",
          "name": "stdout",
          "text": [
            "Epoch 127 average loss: 0.0193\n"
          ]
        },
        {
          "output_type": "stream",
          "name": "stderr",
          "text": [
            "Epoch 128, Loss: 0.0207: 100%|████████████████████████████████████| 169/169 [00:25<00:00,  6.57it/s]\n"
          ]
        },
        {
          "output_type": "stream",
          "name": "stdout",
          "text": [
            "Epoch 128 average loss: 0.0193\n"
          ]
        },
        {
          "output_type": "stream",
          "name": "stderr",
          "text": [
            "Epoch 129, Loss: 0.0192: 100%|████████████████████████████████████| 169/169 [00:24<00:00,  6.96it/s]\n"
          ]
        },
        {
          "output_type": "stream",
          "name": "stdout",
          "text": [
            "Epoch 129 average loss: 0.0193\n"
          ]
        },
        {
          "output_type": "stream",
          "name": "stderr",
          "text": [
            "Epoch 130, Loss: 0.0196: 100%|████████████████████████████████████| 169/169 [00:25<00:00,  6.61it/s]\n"
          ]
        },
        {
          "output_type": "stream",
          "name": "stdout",
          "text": [
            "Epoch 130 average loss: 0.0192\n"
          ]
        },
        {
          "output_type": "stream",
          "name": "stderr",
          "text": [
            "Epoch 131, Loss: 0.0177: 100%|████████████████████████████████████| 169/169 [00:25<00:00,  6.51it/s]\n"
          ]
        },
        {
          "output_type": "stream",
          "name": "stdout",
          "text": [
            "Epoch 131 average loss: 0.0192\n"
          ]
        },
        {
          "output_type": "stream",
          "name": "stderr",
          "text": [
            "Epoch 132, Loss: 0.0183: 100%|████████████████████████████████████| 169/169 [00:25<00:00,  6.64it/s]\n"
          ]
        },
        {
          "output_type": "stream",
          "name": "stdout",
          "text": [
            "Epoch 132 average loss: 0.0192\n"
          ]
        },
        {
          "output_type": "stream",
          "name": "stderr",
          "text": [
            "Epoch 133, Loss: 0.0173: 100%|████████████████████████████████████| 169/169 [00:25<00:00,  6.76it/s]\n"
          ]
        },
        {
          "output_type": "stream",
          "name": "stdout",
          "text": [
            "Epoch 133 average loss: 0.0192\n"
          ]
        },
        {
          "output_type": "stream",
          "name": "stderr",
          "text": [
            "Epoch 134, Loss: 0.0191: 100%|████████████████████████████████████| 169/169 [00:24<00:00,  6.91it/s]\n"
          ]
        },
        {
          "output_type": "stream",
          "name": "stdout",
          "text": [
            "Epoch 134 average loss: 0.0192\n"
          ]
        },
        {
          "output_type": "stream",
          "name": "stderr",
          "text": [
            "Epoch 135, Loss: 0.0197: 100%|████████████████████████████████████| 169/169 [00:25<00:00,  6.68it/s]\n"
          ]
        },
        {
          "output_type": "stream",
          "name": "stdout",
          "text": [
            "Epoch 135 average loss: 0.0191\n"
          ]
        },
        {
          "output_type": "stream",
          "name": "stderr",
          "text": [
            "Epoch 136, Loss: 0.0181: 100%|████████████████████████████████████| 169/169 [00:25<00:00,  6.73it/s]\n"
          ]
        },
        {
          "output_type": "stream",
          "name": "stdout",
          "text": [
            "Epoch 136 average loss: 0.0191\n"
          ]
        },
        {
          "output_type": "stream",
          "name": "stderr",
          "text": [
            "Epoch 137, Loss: 0.0177: 100%|████████████████████████████████████| 169/169 [00:24<00:00,  6.78it/s]\n"
          ]
        },
        {
          "output_type": "stream",
          "name": "stdout",
          "text": [
            "Epoch 137 average loss: 0.0191\n"
          ]
        },
        {
          "output_type": "stream",
          "name": "stderr",
          "text": [
            "Epoch 138, Loss: 0.0197: 100%|████████████████████████████████████| 169/169 [00:23<00:00,  7.10it/s]\n"
          ]
        },
        {
          "output_type": "stream",
          "name": "stdout",
          "text": [
            "Epoch 138 average loss: 0.0191\n"
          ]
        },
        {
          "output_type": "stream",
          "name": "stderr",
          "text": [
            "Epoch 139, Loss: 0.0202: 100%|████████████████████████████████████| 169/169 [00:25<00:00,  6.70it/s]\n"
          ]
        },
        {
          "output_type": "stream",
          "name": "stdout",
          "text": [
            "Epoch 139 average loss: 0.0191\n"
          ]
        },
        {
          "output_type": "stream",
          "name": "stderr",
          "text": [
            "Epoch 140, Loss: 0.0184: 100%|████████████████████████████████████| 169/169 [00:25<00:00,  6.76it/s]\n"
          ]
        },
        {
          "output_type": "stream",
          "name": "stdout",
          "text": [
            "Epoch 140 average loss: 0.0191\n"
          ]
        },
        {
          "output_type": "stream",
          "name": "stderr",
          "text": [
            "Epoch 141, Loss: 0.0197: 100%|████████████████████████████████████| 169/169 [00:25<00:00,  6.71it/s]\n"
          ]
        },
        {
          "output_type": "stream",
          "name": "stdout",
          "text": [
            "Epoch 141 average loss: 0.0191\n"
          ]
        },
        {
          "output_type": "stream",
          "name": "stderr",
          "text": [
            "Epoch 142, Loss: 0.0199: 100%|████████████████████████████████████| 169/169 [00:23<00:00,  7.16it/s]\n"
          ]
        },
        {
          "output_type": "stream",
          "name": "stdout",
          "text": [
            "Epoch 142 average loss: 0.0191\n"
          ]
        },
        {
          "output_type": "stream",
          "name": "stderr",
          "text": [
            "Epoch 143, Loss: 0.0199: 100%|████████████████████████████████████| 169/169 [00:24<00:00,  6.77it/s]\n"
          ]
        },
        {
          "output_type": "stream",
          "name": "stdout",
          "text": [
            "Epoch 143 average loss: 0.0191\n"
          ]
        },
        {
          "output_type": "stream",
          "name": "stderr",
          "text": [
            "Epoch 144, Loss: 0.0210: 100%|████████████████████████████████████| 169/169 [00:24<00:00,  6.77it/s]\n"
          ]
        },
        {
          "output_type": "stream",
          "name": "stdout",
          "text": [
            "Epoch 144 average loss: 0.0191\n"
          ]
        },
        {
          "output_type": "stream",
          "name": "stderr",
          "text": [
            "Epoch 145, Loss: 0.0189: 100%|████████████████████████████████████| 169/169 [00:24<00:00,  6.86it/s]\n"
          ]
        },
        {
          "output_type": "stream",
          "name": "stdout",
          "text": [
            "Epoch 145 average loss: 0.0190\n"
          ]
        },
        {
          "output_type": "stream",
          "name": "stderr",
          "text": [
            "Epoch 146, Loss: 0.0203: 100%|████████████████████████████████████| 169/169 [00:24<00:00,  7.02it/s]\n"
          ]
        },
        {
          "output_type": "stream",
          "name": "stdout",
          "text": [
            "Epoch 146 average loss: 0.0191\n"
          ]
        },
        {
          "output_type": "stream",
          "name": "stderr",
          "text": [
            "Epoch 147, Loss: 0.0182: 100%|████████████████████████████████████| 169/169 [00:25<00:00,  6.72it/s]\n"
          ]
        },
        {
          "output_type": "stream",
          "name": "stdout",
          "text": [
            "Epoch 147 average loss: 0.0190\n"
          ]
        },
        {
          "output_type": "stream",
          "name": "stderr",
          "text": [
            "Epoch 148, Loss: 0.0190: 100%|████████████████████████████████████| 169/169 [00:25<00:00,  6.69it/s]\n"
          ]
        },
        {
          "output_type": "stream",
          "name": "stdout",
          "text": [
            "Epoch 148 average loss: 0.0190\n"
          ]
        },
        {
          "output_type": "stream",
          "name": "stderr",
          "text": [
            "Epoch 149, Loss: 0.0186: 100%|████████████████████████████████████| 169/169 [00:25<00:00,  6.74it/s]\n"
          ]
        },
        {
          "output_type": "stream",
          "name": "stdout",
          "text": [
            "Epoch 149 average loss: 0.0191\n"
          ]
        },
        {
          "output_type": "stream",
          "name": "stderr",
          "text": [
            "Epoch 150, Loss: 0.0182: 100%|████████████████████████████████████| 169/169 [00:24<00:00,  6.90it/s]\n"
          ]
        },
        {
          "output_type": "stream",
          "name": "stdout",
          "text": [
            "Epoch 150 average loss: 0.0190\n",
            "Training completed.\n"
          ]
        },
        {
          "output_type": "display_data",
          "data": {
            "text/plain": [
              "<Figure size 800x500 with 1 Axes>"
            ],
            "image/png": "[encoded data removed]"
          },
          "metadata": {}
        },
        {
          "output_type": "stream",
          "name": "stdout",
          "text": [
            "Evaluation started...\n",
            "Evaluation AUC: 0.6944170096021949\n"
          ]
        }
      ],
      "source": [
        " if __name__ == \"__main__\":\n",
        "    args = get_args()\n",
        "    os.environ[\"CUDA_VISIBLE_DEVICES\"] = str(args.gpu)\n",
        "    set_seed(2025)\n",
        "    train_and_evaluate(args)"
      ]
    },
    {
      "cell_type": "code",
      "execution_count": null,
      "metadata": {
        "colab": {
          "base_uri": "https://localhost:8080/"
        },
        "id": "4g8cJRf63ms-",
        "outputId": "0a579913-f3e4-4ff5-805d-8b1964caa32b"
      },
      "outputs": [
        {
          "name": "stderr",
          "output_type": "stream",
          "text": [
            "<ipython-input-6-5aa4fd045e63>:13: FutureWarning: You are using `torch.load` with `weights_only=False` (the current default value), which uses the default pickle module implicitly. It is possible to construct malicious pickle data which will execute arbitrary code during unpickling (See https://github.com/pytorch/pytorch/blob/main/SECURITY.md#untrusted-models for more details). In a future release, the default value for `weights_only` will be flipped to `True`. This limits the functions that could be executed during unpickling. Arbitrary objects will no longer be allowed to be loaded via this mode unless they are explicitly allowlisted by the user via `torch.serialization.add_safe_globals`. We recommend you start setting `weights_only=True` for any use case where you don't have full control of the loaded file. Please open an issue on GitHub for any issues related to this experimental feature.\n",
            "  model.load_state_dict(torch.load(os.path.join(args.model_dir, args.model_path), map_location=device))\n"
          ]
        },
        {
          "name": "stdout",
          "output_type": "stream",
          "text": [
            "테스트가 완료되었습니다. 결과는 /content/drive/MyDrive/test_results_dae_8.csv에 저장되었습니다.\n",
            "Evaluation AUC: 0.7110\n"
          ]
        }
      ],
      "source": [
        "import torch\n",
        "import pandas as pd\n",
        "import os\n",
        "import torch.nn.functional as F\n",
        "from torch.utils.data import DataLoader\n",
        "from sklearn import metrics\n",
        "\n",
        "# 장치 설정\n",
        "device = torch.device(\"cuda\" if torch.cuda.is_available() else \"cpu\")\n",
        "\n",
        "# 모델 로드\n",
        "model = DenoisingAutoencoder(input_channels=1, dropout=0.2).to(device)\n",
        "model.load_state_dict(torch.load(os.path.join(args.model_dir, args.model_path), map_location=device))\n",
        "model.eval()\n",
        "\n",
        "# 데이터 로더 준비\n",
        "eval_loader, file_list = get_eval_loader(args)\n",
        "criterion = torch.nn.MSELoss()\n",
        "\n",
        "# 결과 저장 리스트\n",
        "results = []\n",
        "y_true, y_pred = [], []\n",
        "\n",
        "for idx, data in enumerate(eval_loader):\n",
        "    spec, anomaly_label = data[0].to(device), data[1].item()\n",
        "\n",
        "    with torch.no_grad():\n",
        "        recon_spec = model(spec)\n",
        "        loss = criterion(recon_spec, spec).item()\n",
        "\n",
        "    # 파일 이름이 존재하는지 확인 후 저장\n",
        "    file_name = file_list[idx] if idx < len(file_list) else f\"unknown_{idx}\"\n",
        "    results.append([file_name, anomaly_label, loss])\n",
        "    y_true.append(1 if anomaly_label > 0 else 0)\n",
        "    y_pred.append(loss)\n",
        "\n",
        "# CSV 저장\n",
        "df_results = pd.DataFrame(results, columns=[\"File Name\", \"Anomaly Label\", \"Loss\"])\n",
        "csv_file_path = os.path.join(args.result_dir, \"test_results_dae_8.csv\")\n",
        "df_results.to_csv(csv_file_path, index=False)\n",
        "print(f\"테스트가 완료되었습니다. 결과는 {csv_file_path}에 저장되었습니다.\")\n",
        "\n",
        "# AUC 평가\n",
        "auc = metrics.roc_auc_score(y_true, y_pred)\n",
        "print(f\"Evaluation AUC: {auc:.4f}\")"
      ]
    },
    {
      "cell_type": "markdown",
      "metadata": {
        "id": "gA8-fOjQPRUV"
      },
      "source": [
        "## 평가 데이터 바꿔서 모델 가중치 불러오기"
      ]
    },
    {
      "cell_type": "code",
      "execution_count": null,
      "metadata": {
        "colab": {
          "background_save": true,
          "base_uri": "https://localhost:8080/"
        },
        "id": "EY6t-Nn3EfkL",
        "outputId": "0c0b3c41-ea6e-4230-dd50-f8eebe8d78d4"
      },
      "outputs": [
        {
          "name": "stderr",
          "output_type": "stream",
          "text": [
            "<ipython-input-7-42ab33246ee1>:19: FutureWarning: You are using `torch.load` with `weights_only=False` (the current default value), which uses the default pickle module implicitly. It is possible to construct malicious pickle data which will execute arbitrary code during unpickling (See https://github.com/pytorch/pytorch/blob/main/SECURITY.md#untrusted-models for more details). In a future release, the default value for `weights_only` will be flipped to `True`. This limits the functions that could be executed during unpickling. Arbitrary objects will no longer be allowed to be loaded via this mode unless they are explicitly allowlisted by the user via `torch.serialization.add_safe_globals`. We recommend you start setting `weights_only=True` for any use case where you don't have full control of the loaded file. Please open an issue on GitHub for any issues related to this experimental feature.\n",
            "  model.load_state_dict(torch.load(checkpoint_path, map_location=device))\n"
          ]
        },
        {
          "name": "stdout",
          "output_type": "stream",
          "text": [
            "모델 가중치 로드 완료\n",
            "새로운 평가 데이터셋을 사용하여 AUC 계산 중...\n",
            "새로운 평가 데이터 (/content/ICSV31AIChallengeDataset/eval)에서 AUC Score: 0.7193\n"
          ]
        }
      ],
      "source": [
        "import os\n",
        "import torch\n",
        "import torch.nn as nn\n",
        "from torch.utils.data import DataLoader, Dataset\n",
        "from sklearn.metrics import roc_auc_score\n",
        "import torchaudio\n",
        "\n",
        "# 디바이스 설정\n",
        "device = torch.device(\"cuda\" if torch.cuda.is_available() else \"cpu\")\n",
        "\n",
        "# 평가 데이터 경로 설정\n",
        "eval_dir = \"/content/ICSV31AIChallengeDataset/eval\"\n",
        "\n",
        "# 모델 생성 및 가중치 불러오기\n",
        "dropout = 0.05  # args 없이 직접 설정\n",
        "model = DAEModel(dropout=dropout).to(device)\n",
        "\n",
        "checkpoint_path = \"/content/drive/MyDrive/model_dae_b0319.pth\"\n",
        "model.load_state_dict(torch.load(checkpoint_path, map_location=device))\n",
        "model.eval()\n",
        "print(\"모델 가중치 로드 완료\")\n",
        "\n",
        "#######################\n",
        "# 데이터 로드 함수 (디렉토리 문제 해결)\n",
        "#######################\n",
        "def get_eval_loader(eval_dir: str) -> tuple:\n",
        "    \"\"\" 새로운 평가 데이터 로드 (오디오 파일만 포함) \"\"\"\n",
        "    file_list = sorted(os.listdir(eval_dir))\n",
        "\n",
        "    # 오직 \".wav\" 파일만 포함 (디렉토리 제외)\n",
        "    file_list = [os.path.join(eval_dir, f) for f in file_list if f.endswith(\".wav\")]\n",
        "\n",
        "    if not file_list:\n",
        "        raise ValueError(f\"{eval_dir}에 유효한 .wav 파일이 없습니다.\")\n",
        "\n",
        "    dataset = EvalDataset(file_list)\n",
        "    return DataLoader(dataset, batch_size=1, shuffle=False, num_workers=0), file_list\n",
        "\n",
        "#######################\n",
        "# Dataset 클래스 (STFT 변환 포함)\n",
        "#######################\n",
        "class EvalDataset(Dataset):\n",
        "    def __init__(self, file_list):\n",
        "        self.file_list = file_list\n",
        "\n",
        "    def __len__(self):\n",
        "        return len(self.file_list)\n",
        "\n",
        "    def __getitem__(self, idx):\n",
        "        wav_path = self.file_list[idx]\n",
        "        spec = self.wav_to_log_stft(wav_path, sr=16000, n_fft=2048, win_length=512, hop_length=512, power=2.0)\n",
        "\n",
        "        # 정답 라벨 추출 (파일명 기반)\n",
        "        anomaly_label = 1 if \"anomaly\" in wav_path else 0\n",
        "\n",
        "        return spec, anomaly_label\n",
        "\n",
        "    @staticmethod\n",
        "    def wav_to_log_stft(wav_path: str, sr: int, n_fft: int, win_length: int, hop_length: int, power: float) -> torch.Tensor:\n",
        "        \"\"\" 오디오 파일을 로그 STFT 변환 \"\"\"\n",
        "        stft_transform = torchaudio.transforms.Spectrogram(\n",
        "            n_fft=n_fft, win_length=win_length, hop_length=hop_length, power=power\n",
        "        )\n",
        "        wav_data, _ = torchaudio.load(wav_path)\n",
        "        spec = stft_transform(wav_data)\n",
        "        amp_to_db = torchaudio.transforms.AmplitudeToDB()\n",
        "        log_spec = amp_to_db(spec)\n",
        "        log_spec = (log_spec - log_spec.mean()) / (log_spec.std() + 1e-9)  # 정규화\n",
        "        return log_spec\n",
        "\n",
        "#######################\n",
        "# 평가 데이터 로드\n",
        "#######################\n",
        "eval_loader, file_list = get_eval_loader(eval_dir)\n",
        "\n",
        "# 손실 함수 설정\n",
        "criterion = nn.MSELoss()\n",
        "\n",
        "# AUC 계산을 위한 리스트 초기화\n",
        "y_true, y_pred = [], []\n",
        "\n",
        "print(\"새로운 평가 데이터셋을 사용하여 AUC 계산 중...\")\n",
        "with torch.no_grad():\n",
        "    for idx, data in enumerate(eval_loader):\n",
        "        spec = data[0].to(device)  # 입력 데이터 (로그 STFT)\n",
        "        anomaly_label = data[1]  # 정답 라벨 (정상=0, 이상=1)\n",
        "\n",
        "        decoded = model(spec)\n",
        "        loss = criterion(decoded, spec)  # MSE 기반 이상 탐지 점수\n",
        "\n",
        "        y_true.append(anomaly_label.item())  # 정상: 0, 이상: 1\n",
        "        y_pred.append(loss.item())\n",
        "\n",
        "# AUC 점수 계산\n",
        "auc_score = roc_auc_score(y_true, y_pred)\n",
        "print(f\"새로운 평가 데이터 ({eval_dir})에서 AUC Score: {auc_score:.4f}\")\n"
      ]
    },
    {
      "cell_type": "code",
      "execution_count": null,
      "metadata": {
        "colab": {
          "base_uri": "https://localhost:8080/"
        },
        "id": "hkJxizjfG3lx",
        "outputId": "0b134cd4-6f79-4895-a5dd-16d58904ddf9"
      },
      "outputs": [
        {
          "name": "stdout",
          "output_type": "stream",
          "text": [
            "총 150개의 .wav 파일이 있습니다.\n"
          ]
        }
      ],
      "source": [
        "eval_loader, file_list = get_eval_loader(eval_dir)\n",
        "print(f\"총 {len(file_list)}개의 .wav 파일이 있습니다.\")"
      ]
    }
  ],
  "metadata": {
    "accelerator": "GPU",
    "colab": {
      "gpuType": "T4",
      "provenance": [],
      "include_colab_link": true
    },
    "kernelspec": {
      "display_name": "Python 3",
      "name": "python3"
    },
    "language_info": {
      "name": "python"
    }
  },
  "nbformat": 4,
  "nbformat_minor": 0
}