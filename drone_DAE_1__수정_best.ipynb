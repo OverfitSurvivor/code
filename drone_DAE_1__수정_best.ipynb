{
  "cells": [
    {
      "cell_type": "markdown",
      "metadata": {
        "id": "view-in-github",
        "colab_type": "text"
      },
      "source": [
        "<a href=\"https://colab.research.google.com/github/OverfitSurvivor/code/blob/main/drone_DAE_1__%EC%88%98%EC%A0%95_best.ipynb\" target=\"_parent\"><img src=\"https://colab.research.google.com/assets/colab-badge.svg\" alt=\"Open In Colab\"/></a>"
      ]
    },
    {
      "cell_type": "code",
      "execution_count": null,
      "metadata": {
        "colab": {
          "base_uri": "https://localhost:8080/"
        },
        "id": "FaVeakiafwSP",
        "outputId": "77d8b0cc-afbb-4c4b-bdae-b43c9894fb85"
      },
      "outputs": [
        {
          "output_type": "stream",
          "name": "stdout",
          "text": [
            "압축 해제 완료: /content/ICSV31AIChallengeDataset\n"
          ]
        }
      ],
      "source": [
        "import os\n",
        "import zipfile\n",
        "\n",
        "zip_path = \"/content/drive/MyDrive/ICSV31AIChallengeDataset.zip\"  # 업로드한 ZIP 파일 경로\n",
        "extract_path = \"/content/ICSV31AIChallengeDataset\"  # 압축을 풀 폴더 경로\n",
        "\n",
        "# 폴더가 없으면 생성\n",
        "os.makedirs(extract_path, exist_ok=True)\n",
        "\n",
        "# 압축 해제\n",
        "with zipfile.ZipFile(zip_path, \"r\") as zip_ref:\n",
        "    zip_ref.extractall(extract_path)\n",
        "\n",
        "print(\"압축 해제 완료:\", extract_path)"
      ]
    },
    {
      "cell_type": "code",
      "source": [
        "from google.colab import drive\n",
        "drive.mount('/content/drive')"
      ],
      "metadata": {
        "colab": {
          "base_uri": "https://localhost:8080/"
        },
        "id": "D0A5zWRFi_QR",
        "outputId": "3e448ee4-cb2c-4694-b14b-1e66c2328b1d"
      },
      "execution_count": null,
      "outputs": [
        {
          "output_type": "stream",
          "name": "stdout",
          "text": [
            "Mounted at /content/drive\n"
          ]
        }
      ]
    },
    {
      "cell_type": "markdown",
      "metadata": {
        "id": "fE-K2Pl0PbbQ"
      },
      "source": [
        "## 모듈 불러오기"
      ]
    },
    {
      "cell_type": "code",
      "execution_count": null,
      "metadata": {
        "id": "AcxPt6b6AAZy"
      },
      "outputs": [],
      "source": [
        "import csv\n",
        "import argparse\n",
        "import os\n",
        "from typing import Any, List, Tuple\n",
        "\n",
        "import torch\n",
        "import torchaudio\n",
        "from torch.utils.data import DataLoader, Dataset\n",
        "import torch.nn as nn\n",
        "import torch.nn.functional as F\n",
        "from tqdm import tqdm\n",
        "import sklearn.metrics as metrics\n",
        "import matplotlib.pyplot as plt"
      ]
    },
    {
      "cell_type": "markdown",
      "metadata": {
        "id": "421dhcInPX1n"
      },
      "source": [
        "## 라벨링 및 데이터셋 로더\n",
        "+ global scaling STFT 적용"
      ]
    },
    {
      "cell_type": "code",
      "execution_count": null,
      "metadata": {
        "id": "MAatqFKi_-BY"
      },
      "outputs": [],
      "source": [
        "#######################\n",
        "# 1. Utils\n",
        "#######################\n",
        "def read_csv(file_path: str) -> List:\n",
        "    with open(file_path, \"r\") as f:\n",
        "        reader = csv.reader(f)\n",
        "        return list(reader)\n",
        "\n",
        "def save_csv(save_data: List[Any], save_file_path: str) -> None:\n",
        "    with open(save_file_path, \"w\", newline=\"\") as f:\n",
        "        writer = csv.writer(f, lineterminator=\"\\n\")\n",
        "        writer.writerows(save_data)\n",
        "\n",
        "def get_anomaly_label(file_path: str) -> int:\n",
        "    file_name = os.path.basename(file_path)\n",
        "    train_mode = file_name.split(\"_\")[0]\n",
        "    if train_mode == \"test\":\n",
        "        return -1\n",
        "    elif \"normal\" in file_name:\n",
        "        return 0\n",
        "    else:\n",
        "        return 1\n",
        "\n",
        "def get_drone_label(file_path: str) -> int:\n",
        "    file_name = os.path.basename(file_path)\n",
        "    drone_mode = file_name.split(\"_\")[1]\n",
        "    if drone_mode == \"A\":\n",
        "        return 0\n",
        "    elif drone_mode == \"B\":\n",
        "        return 1\n",
        "    elif drone_mode == \"C\":\n",
        "        return 2\n",
        "    else:\n",
        "        return -1\n",
        "\n",
        "def get_direction_label(file_path: str) -> int:\n",
        "    file_name = os.path.basename(file_path)\n",
        "    direction_mode = file_name.split(\"_\")[2]\n",
        "    if direction_mode == \"Back\":\n",
        "        return 0\n",
        "    elif direction_mode == \"Front\":\n",
        "        return 1\n",
        "    elif direction_mode == \"Left\":\n",
        "        return 2\n",
        "    elif direction_mode == \"Right\":\n",
        "        return 3\n",
        "    elif direction_mode == \"Clockwise\":\n",
        "        return 4\n",
        "    elif direction_mode == \"CounterClockwise\":\n",
        "        return 5\n",
        "    else:\n",
        "        return -1\n",
        "\n",
        "#######################\n",
        "# 2. Feature Extraction & Augmentation\n",
        "#######################\n",
        "# 계산된 전역 평균과 표준편차\n",
        "GLOBAL_MEAN = -6.191\n",
        "GLOBAL_STD = 12.042\n",
        "\n",
        "def wav_to_log_stft(\n",
        "    wav_path: str,\n",
        "    sr: int,\n",
        "    n_fft: int,\n",
        "    win_length: int,\n",
        "    hop_length: int,\n",
        "    power: float,\n",
        ") -> torch.Tensor:\n",
        "    \"\"\"\n",
        "    WAV 파일을 STFT 기반 로그 스펙트럼으로 변환.\n",
        "    - torchaudio.transforms.Spectrogram로 STFT 계산\n",
        "    - AmplitudeToDB로 로그 변환 후 global standard scaling 적용 **\n",
        "    \"\"\"\n",
        "    stft_transform = torchaudio.transforms.Spectrogram(\n",
        "        n_fft=n_fft,\n",
        "        win_length=win_length,\n",
        "        hop_length=hop_length,\n",
        "        power=power\n",
        "    )\n",
        "    wav_data, _ = torchaudio.load(wav_path)\n",
        "    spec = stft_transform(wav_data)\n",
        "    amp_to_db = torchaudio.transforms.AmplitudeToDB()\n",
        "    log_spec = amp_to_db(spec)\n",
        "\n",
        "    # 전체 데이터셋의 평균과 표준편차로 정규화 적용\n",
        "    log_spec = (log_spec - GLOBAL_MEAN) / (GLOBAL_STD + 1e-9)\n",
        "    return log_spec\n",
        "\n",
        "\n",
        "def augment_spec(spec: torch.Tensor) -> torch.Tensor:\n",
        "    max_shift = int(spec.shape[-1] * 0.1)\n",
        "    shift = torch.randint(-max_shift, max_shift + 1, (1,)).item()\n",
        "    spec = torch.roll(spec, shifts=shift, dims=-1)\n",
        "    time_mask_param = max(1, int(spec.shape[-1] * 0.1))\n",
        "    time_mask = torchaudio.transforms.TimeMasking(time_mask_param=time_mask_param)\n",
        "    spec = time_mask(spec)\n",
        "    freq_mask_param = max(1, int(spec.shape[-2] * 0.1))\n",
        "    freq_mask = torchaudio.transforms.FrequencyMasking(freq_mask_param=freq_mask_param)\n",
        "    spec = freq_mask(spec)\n",
        "    return spec\n",
        "\n",
        "#######################\n",
        "# 3. Dataset\n",
        "#######################\n",
        "class BaselineDataLoader(Dataset):\n",
        "    def __init__(\n",
        "        self,\n",
        "        file_list: List[str],\n",
        "        sr: int,\n",
        "        n_fft: int,\n",
        "        win_length: int,\n",
        "        hop_length: int,\n",
        "        power: float,\n",
        "        augment: bool = False\n",
        "    ) -> None:\n",
        "        self.file_list = file_list\n",
        "        self.sr = sr\n",
        "        self.n_fft = n_fft\n",
        "        self.win_length = win_length\n",
        "        self.hop_length = hop_length\n",
        "        self.power = power\n",
        "        self.augment = augment\n",
        "\n",
        "    def __len__(self) -> int:\n",
        "        return len(self.file_list)\n",
        "\n",
        "    def __getitem__(self, idx: int) -> Tuple[torch.Tensor, int, int, int]:\n",
        "        wav_path = self.file_list[idx]\n",
        "        spec = wav_to_log_stft(wav_path, self.sr, self.n_fft, self.win_length, self.hop_length, self.power)\n",
        "        if self.augment:\n",
        "            spec = augment_spec(spec)\n",
        "        anomaly_label = get_anomaly_label(wav_path)\n",
        "        drone_label = get_drone_label(wav_path)\n",
        "        direction_label = get_direction_label(wav_path)\n",
        "        return spec, anomaly_label, drone_label, direction_label\n",
        "\n",
        "def get_train_loader(args: argparse.Namespace, pin_memory: bool = False, num_workers: int = 0) -> DataLoader:\n",
        "    file_list = sorted(os.listdir(args.train_dir))\n",
        "    file_list = [os.path.join(args.train_dir, f) for f in file_list if get_anomaly_label(f) == 0]\n",
        "    dataset = BaselineDataLoader(\n",
        "        file_list,\n",
        "        sr=args.sr,\n",
        "        n_fft=args.n_fft,\n",
        "        win_length=args.win_length,\n",
        "        hop_length=args.hop_length,\n",
        "        power=args.power,\n",
        "        augment=True\n",
        "    )\n",
        "    return DataLoader(dataset, batch_size=args.batch_size, shuffle=True, num_workers=num_workers, pin_memory=pin_memory,\n",
        "                      persistent_workers=True, prefetch_factor=2)\n",
        "\n",
        "def get_eval_loader(args: argparse.Namespace, pin_memory: bool = False, num_workers: int = 0) -> Tuple[DataLoader, List[str]]:\n",
        "    file_list = sorted(os.listdir(args.eval_dir))\n",
        "    file_list = [os.path.join(args.eval_dir, f) for f in file_list]\n",
        "    dataset = BaselineDataLoader(\n",
        "        file_list,\n",
        "        sr=args.sr,\n",
        "        n_fft=args.n_fft,\n",
        "        win_length=args.win_length,\n",
        "        hop_length=args.hop_length,\n",
        "        power=args.power,\n",
        "        augment=False\n",
        "    )\n",
        "    return DataLoader(dataset, batch_size=1, shuffle=False, num_workers=num_workers, pin_memory=pin_memory,\n",
        "                      persistent_workers=True, prefetch_factor=2), file_list"
      ]
    },
    {
      "cell_type": "markdown",
      "metadata": {
        "id": "u1wtKbxZPpTI"
      },
      "source": [
        "## 모델 학습 및 평가"
      ]
    },
    {
      "cell_type": "code",
      "source": [
        "import torch\n",
        "import torch.nn as nn\n",
        "import torch.nn.functional as F\n",
        "import argparse, os\n",
        "import matplotlib.pyplot as plt\n",
        "from tqdm import tqdm\n",
        "from sklearn import metrics\n",
        "\n",
        "#######################\n",
        "# Utility: 크기 맞춤 함수\n",
        "#######################\n",
        "def match_size(source: torch.Tensor, target: torch.Tensor) -> torch.Tensor:\n",
        "    src_h, src_w = source.size(2), source.size(3)\n",
        "    tgt_h, tgt_w = target.size(2), target.size(3)\n",
        "    # source가 target보다 크면 center crop\n",
        "    if src_h > tgt_h or src_w > tgt_w:\n",
        "        start_h = (src_h - tgt_h) // 2\n",
        "        start_w = (src_w - tgt_w) // 2\n",
        "        source = source[:, :, start_h:start_h+tgt_h, start_w:start_w+tgt_w]\n",
        "    # source가 target보다 작으면 pad\n",
        "    elif src_h < tgt_h or src_w < tgt_w:\n",
        "        diff_h = tgt_h - src_h\n",
        "        diff_w = tgt_w - src_w\n",
        "        source = F.pad(source, (diff_w // 2, diff_w - diff_w // 2,\n",
        "                                diff_h // 2, diff_h - diff_h // 2))\n",
        "    return source\n",
        "\n",
        "#######################\n",
        "# Model Architecture with Residual Blocks & Dropout (DAE)\n",
        "#######################\n",
        "class ResidualBlock(nn.Module):\n",
        "    def __init__(self, in_channels, out_channels, stride=1, dropout=0.05):\n",
        "        super(ResidualBlock, self).__init__()\n",
        "        self.conv1 = nn.Conv2d(in_channels, out_channels, kernel_size=3, stride=stride, padding=1)\n",
        "        self.bn1 = nn.BatchNorm2d(out_channels)\n",
        "        self.relu = nn.LeakyReLU(0.2, inplace=True)\n",
        "        self.dropout = nn.Dropout(dropout) if dropout > 0 else nn.Identity()\n",
        "        self.conv2 = nn.Conv2d(out_channels, out_channels, kernel_size=3, stride=1, padding=1)\n",
        "        self.bn2 = nn.BatchNorm2d(out_channels)\n",
        "        # Downsample if input/output 채널 또는 stride가 맞지 않을 경우\n",
        "        if stride != 1 or in_channels != out_channels:\n",
        "            self.downsample = nn.Sequential(\n",
        "                nn.Conv2d(in_channels, out_channels, kernel_size=1, stride=stride),\n",
        "                nn.BatchNorm2d(out_channels)\n",
        "            )\n",
        "        else:\n",
        "            self.downsample = nn.Identity()\n",
        "\n",
        "    def forward(self, x):\n",
        "        identity = self.downsample(x)\n",
        "        out = self.conv1(x)\n",
        "        out = self.bn1(out)\n",
        "        out = self.relu(out)\n",
        "        out = self.dropout(out)\n",
        "        out = self.conv2(out)\n",
        "        out = self.bn2(out)\n",
        "        out += identity\n",
        "        out = self.relu(out)\n",
        "        return out\n",
        "\n",
        "class EncoderBlock(nn.Module):\n",
        "    def __init__(self, in_channels, out_channels, dropout=0.05):\n",
        "        super(EncoderBlock, self).__init__()\n",
        "        self.resblock = ResidualBlock(in_channels, out_channels, stride=2, dropout=dropout)\n",
        "    def forward(self, x):\n",
        "        return self.resblock(x)\n",
        "\n",
        "class DecoderBlock(nn.Module):\n",
        "    def __init__(self, in_channels, out_channels, dropout=0.05):\n",
        "        super(DecoderBlock, self).__init__()\n",
        "        self.deconv = nn.ConvTranspose2d(in_channels, out_channels, kernel_size=3,\n",
        "                                         stride=2, padding=1, output_padding=1)\n",
        "        self.bn = nn.BatchNorm2d(out_channels)\n",
        "        self.relu = nn.LeakyReLU(0.2, inplace=True)\n",
        "        self.dropout = nn.Dropout(dropout) if dropout > 0 else nn.Identity()\n",
        "\n",
        "        # Concat 후 채널 수가 2배가 되므로 이를 반영하여 ResidualBlock 구성\n",
        "        self.resblock = ResidualBlock(out_channels * 2, out_channels, stride=1, dropout=dropout)\n",
        "\n",
        "    def forward(self, x, skip):\n",
        "        x = self.deconv(x)\n",
        "        x = self.bn(x)\n",
        "        x = self.relu(x)\n",
        "        x = self.dropout(x)\n",
        "        skip = match_size(skip, x)\n",
        "        x = torch.cat([x, skip], dim=1)  # skip connection\n",
        "        x = self.resblock(x)   #residual block\n",
        "        return x\n",
        "\n",
        "class DenoisingAutoencoder(nn.Module):\n",
        "    def __init__(self, input_channels=1, dropout=0.05):\n",
        "        super(DenoisingAutoencoder, self).__init__()\n",
        "        self.enc1 = EncoderBlock(input_channels, 32, dropout)\n",
        "        self.enc2 = EncoderBlock(32, 64, dropout)\n",
        "        self.enc3 = EncoderBlock(64, 128, dropout)\n",
        "        self.enc4 = EncoderBlock(128, 256, dropout)\n",
        "        self.enc5 = EncoderBlock(256, 512, dropout)\n",
        "        self.dec5 = DecoderBlock(512, 256, dropout)\n",
        "        self.dec4 = DecoderBlock(256, 128, dropout)\n",
        "        self.dec3 = DecoderBlock(128, 64, dropout)\n",
        "        self.dec2 = DecoderBlock(64, 32, dropout)\n",
        "        self.dec1 = nn.ConvTranspose2d(32, input_channels, kernel_size=3, stride=2,\n",
        "                                       padding=1, output_padding=1)\n",
        "    def forward(self, x):\n",
        "        e1 = self.enc1(x)  # (B, 32, H/2, W/2)\n",
        "        e2 = self.enc2(e1)  # (B, 64, H/4, W/4)\n",
        "        e3 = self.enc3(e2)  # (B, 128, H/8, W/8)\n",
        "        e4 = self.enc4(e3)  # (B, 256, H/16, W/16)\n",
        "        e5 = self.enc5(e4)  # (B, 512, H/32, W/32)\n",
        "        d5 = self.dec5(e5, e4)\n",
        "        d4 = self.dec4(d5, e3)\n",
        "        d3 = self.dec3(d4, e2)\n",
        "        d2 = self.dec2(d3, e1)\n",
        "        d1 = self.dec1(d2)\n",
        "        d1 = F.interpolate(d1, size=x.shape[2:], mode=\"bilinear\", align_corners=False)\n",
        "        return d1\n",
        "\n",
        "def DAEModel(dropout) -> nn.Module:\n",
        "    return DenoisingAutoencoder(input_channels=1, dropout=dropout)\n",
        "\n",
        "#######################\n",
        "# 5. Train & Evaluate\n",
        "#######################\n",
        "def get_args() -> argparse.Namespace:\n",
        "    param = {\n",
        "        \"train_dir\": \"/content/ICSV31AIChallengeDataset/train\",\n",
        "        \"eval_dir\": \"/content/ICSV31AIChallengeDataset/eval\",\n",
        "        \"result_dir\": \"/content/drive/MyDrive\",\n",
        "        \"model_dir\": \"/content/drive/MyDrive\",\n",
        "        \"model_path\": \"model_dae_b.pth\",\n",
        "        \"epochs\": 150,\n",
        "        \"batch_size\": 32,\n",
        "        \"lr\": 0.001,\n",
        "        \"gpu\": 0,\n",
        "        \"n_workers\": 1,\n",
        "        \"sr\": 16000,\n",
        "        \"n_fft\": 2048,\n",
        "        \"win_length\": 512,\n",
        "        \"hop_length\": 512,\n",
        "        \"power\": 2.0,\n",
        "        \"early_stopping_patience\": 10,\n",
        "        \"min_lr\": 1e-6,\n",
        "        \"noise_factor\": 0.2,\n",
        "        \"dropout\": 0.05\n",
        "    }\n",
        "    parser = argparse.ArgumentParser()\n",
        "    parser.add_argument(\"--train-dir\", default=param[\"train_dir\"], type=str)\n",
        "    parser.add_argument(\"--eval-dir\", default=param[\"eval_dir\"], type=str)\n",
        "    parser.add_argument(\"--result-dir\", default=param[\"result_dir\"], type=str)\n",
        "    parser.add_argument(\"--model-dir\", default=param[\"model_dir\"], type=str)\n",
        "    parser.add_argument(\"--model-path\", default=param[\"model_path\"], type=str)\n",
        "    parser.add_argument(\"--epochs\", default=param[\"epochs\"], type=int)\n",
        "    parser.add_argument(\"--batch-size\", default=param[\"batch_size\"], type=int)\n",
        "    parser.add_argument(\"--lr\", default=param[\"lr\"], type=float)\n",
        "    parser.add_argument(\"--gpu\", default=param[\"gpu\"], type=int)\n",
        "    parser.add_argument(\"--n-workers\", default=param[\"n_workers\"], type=int)\n",
        "    parser.add_argument(\"--sr\", default=param[\"sr\"], type=int)\n",
        "    parser.add_argument(\"--n-fft\", default=param[\"n_fft\"], type=int)\n",
        "    parser.add_argument(\"--win-length\", default=param[\"win_length\"], type=int)\n",
        "    parser.add_argument(\"--hop-length\", default=param[\"hop_length\"], type=int)\n",
        "    parser.add_argument(\"--power\", default=param[\"power\"], type=float)\n",
        "    parser.add_argument(\"--early-stopping-patience\", default=param[\"early_stopping_patience\"], type=int)\n",
        "    parser.add_argument(\"--min-lr\", default=param[\"min_lr\"], type=float)\n",
        "    parser.add_argument(\"--noise-factor\", default=param[\"noise_factor\"], type=float)\n",
        "    parser.add_argument(\"--dropout\", default=param[\"dropout\"], type=float)\n",
        "    args, unknown = parser.parse_known_args()\n",
        "    return args\n",
        "\n",
        "def set_seed(seed: int) -> None:\n",
        "    torch.manual_seed(seed)\n",
        "    torch.cuda.manual_seed(seed)\n",
        "    torch.cuda.manual_seed_all(seed)\n",
        "\n",
        "def train_and_evaluate(args: argparse.Namespace) -> None:\n",
        "    print(\"Training started...\")\n",
        "    os.makedirs(args.result_dir, exist_ok=True)\n",
        "    os.makedirs(args.model_dir, exist_ok=True)\n",
        "    device = torch.device(\"cuda\" if torch.cuda.is_available() else \"cpu\")\n",
        "    print(\"Using device:\", device)\n",
        "\n",
        "    # GPU 최적화를 위한 cudnn benchmark 활성화\n",
        "    if device.type == \"cuda\":\n",
        "        torch.backends.cudnn.benchmark = True\n",
        "\n",
        "    model = DAEModel(dropout=args.dropout).to(device)\n",
        "\n",
        "    # Model summary 출력 (옵션)\n",
        "    try:\n",
        "        from torchsummary import summary\n",
        "        summary(model, input_size=(1, 256, 256))\n",
        "    except ImportError:\n",
        "        print(model)\n",
        "\n",
        "    # DataLoader에서 pin_memory 및 num_workers 옵션 적용 (get_train_loader 구현 필요)\n",
        "    train_loader = get_train_loader(args, pin_memory=True, num_workers=args.n_workers)\n",
        "\n",
        "    optimizer = torch.optim.AdamW(model.parameters(), lr=args.lr, weight_decay=1e-4)\n",
        "    scheduler = torch.optim.lr_scheduler.CosineAnnealingLR(optimizer, T_max=args.epochs, eta_min=args.min_lr)\n",
        "    criterion = nn.MSELoss()\n",
        "\n",
        "    best_loss = float('inf')\n",
        "    epochs_no_improve = 0\n",
        "    epoch_losses = []\n",
        "\n",
        "    # Automatic Mixed Precision (AMP) 적용을 위한 GradScaler 초기화\n",
        "    scaler = torch.amp.GradScaler(device='cuda')\n",
        "\n",
        "    for epoch in range(args.epochs):\n",
        "        model.train()\n",
        "        total_loss = 0.0\n",
        "        count = 0\n",
        "        p_bar = tqdm(train_loader, total=len(train_loader), desc=f\"Epoch {epoch+1}/{args.epochs}\", ncols=100)\n",
        "        for data in p_bar:\n",
        "            spec = data[0].to(device)\n",
        "            noisy_spec = spec + args.noise_factor * torch.randn_like(spec)\n",
        "            optimizer.zero_grad()\n",
        "\n",
        "            # AMP 적용: autocast 내에서 forward 및 loss 계산\n",
        "            with torch.amp.autocast('cuda'):\n",
        "                decoded = model(noisy_spec)\n",
        "                loss = criterion(decoded, spec)\n",
        "\n",
        "            scaler.scale(loss).backward()\n",
        "            scaler.step(optimizer)\n",
        "            scaler.update()\n",
        "\n",
        "            total_loss += loss.item()\n",
        "            count += 1\n",
        "            p_bar.set_description(f\"Epoch {epoch+1}, Loss: {loss.item():.4f}\")\n",
        "\n",
        "        avg_loss = total_loss / count\n",
        "        epoch_losses.append(avg_loss)\n",
        "        print(f\"Epoch {epoch+1} average loss: {avg_loss:.4f}\")\n",
        "        scheduler.step()\n",
        "\n",
        "        if avg_loss < best_loss:\n",
        "            best_loss = avg_loss\n",
        "            epochs_no_improve = 0\n",
        "            torch.save(model.state_dict(), os.path.join(args.model_dir, args.model_path))\n",
        "        else:\n",
        "            epochs_no_improve += 1\n",
        "            if epochs_no_improve >= args.early_stopping_patience:\n",
        "                print(\"Early stopping triggered.\")\n",
        "                break\n",
        "\n",
        "    print(\"Training completed.\")\n",
        "    plt.figure(figsize=(8, 5))\n",
        "    plt.plot(range(1, len(epoch_losses)+1), epoch_losses, marker='o')\n",
        "    plt.xlabel(\"Epoch\")\n",
        "    plt.ylabel(\"Loss\")\n",
        "    plt.title(\"Training Loss per Epoch (DAE)\")\n",
        "    plt.grid(True)\n",
        "    plt.show()\n",
        "\n",
        "    print(\"Evaluation started...\")\n",
        "    model.load_state_dict(torch.load(os.path.join(args.model_dir, args.model_path), map_location=device))\n",
        "    model.eval()\n",
        "    eval_loader, file_list = get_eval_loader(args, pin_memory=True, num_workers=args.n_workers)\n",
        "    y_true, y_pred = [], []\n",
        "    for idx, data in enumerate(eval_loader):\n",
        "        spec = data[0].to(device)\n",
        "        anomaly_label = data[1]\n",
        "        with torch.no_grad():\n",
        "            decoded = model(spec)\n",
        "        loss = criterion(decoded, spec)\n",
        "        y_true.append(1 if anomaly_label.item() > 0 else 0)\n",
        "        y_pred.append(loss.item())\n",
        "\n",
        "    pr_auc = metrics.average_precision_score(y_true, y_pred)\n",
        "    print(\"Evaluation PR AUC:\", pr_auc)"
      ],
      "metadata": {
        "id": "Y-9ilGdRReul"
      },
      "execution_count": null,
      "outputs": []
    },
    {
      "cell_type": "code",
      "execution_count": 7,
      "metadata": {
        "colab": {
          "base_uri": "https://localhost:8080/",
          "height": 1000
        },
        "id": "05P3jl9997xr",
        "outputId": "e97ae700-459c-433a-ca3d-bf599d36b547"
      },
      "outputs": [
        {
          "metadata": {
            "tags": null
          },
          "name": "stdout",
          "output_type": "stream",
          "text": [
            "Training started...\n",
            "Using device: cuda\n",
            "----------------------------------------------------------------\n",
            "        Layer (type)               Output Shape         Param #\n",
            "================================================================\n",
            "            Conv2d-1         [-1, 32, 128, 128]              64\n",
            "       BatchNorm2d-2         [-1, 32, 128, 128]              64\n",
            "            Conv2d-3         [-1, 32, 128, 128]             320\n",
            "       BatchNorm2d-4         [-1, 32, 128, 128]              64\n",
            "         LeakyReLU-5         [-1, 32, 128, 128]               0\n",
            "           Dropout-6         [-1, 32, 128, 128]               0\n",
            "            Conv2d-7         [-1, 32, 128, 128]           9,248\n",
            "       BatchNorm2d-8         [-1, 32, 128, 128]              64\n",
            "         LeakyReLU-9         [-1, 32, 128, 128]               0\n",
            "    ResidualBlock-10         [-1, 32, 128, 128]               0\n",
            "     EncoderBlock-11         [-1, 32, 128, 128]               0\n",
            "           Conv2d-12           [-1, 64, 64, 64]           2,112\n",
            "      BatchNorm2d-13           [-1, 64, 64, 64]             128\n",
            "           Conv2d-14           [-1, 64, 64, 64]          18,496\n",
            "      BatchNorm2d-15           [-1, 64, 64, 64]             128\n",
            "        LeakyReLU-16           [-1, 64, 64, 64]               0\n",
            "          Dropout-17           [-1, 64, 64, 64]               0\n",
            "           Conv2d-18           [-1, 64, 64, 64]          36,928\n",
            "      BatchNorm2d-19           [-1, 64, 64, 64]             128\n",
            "        LeakyReLU-20           [-1, 64, 64, 64]               0\n",
            "    ResidualBlock-21           [-1, 64, 64, 64]               0\n",
            "     EncoderBlock-22           [-1, 64, 64, 64]               0\n",
            "           Conv2d-23          [-1, 128, 32, 32]           8,320\n",
            "      BatchNorm2d-24          [-1, 128, 32, 32]             256\n",
            "           Conv2d-25          [-1, 128, 32, 32]          73,856\n",
            "      BatchNorm2d-26          [-1, 128, 32, 32]             256\n",
            "        LeakyReLU-27          [-1, 128, 32, 32]               0\n",
            "          Dropout-28          [-1, 128, 32, 32]               0\n",
            "           Conv2d-29          [-1, 128, 32, 32]         147,584\n",
            "      BatchNorm2d-30          [-1, 128, 32, 32]             256\n",
            "        LeakyReLU-31          [-1, 128, 32, 32]               0\n",
            "    ResidualBlock-32          [-1, 128, 32, 32]               0\n",
            "     EncoderBlock-33          [-1, 128, 32, 32]               0\n",
            "           Conv2d-34          [-1, 256, 16, 16]          33,024\n",
            "      BatchNorm2d-35          [-1, 256, 16, 16]             512\n",
            "           Conv2d-36          [-1, 256, 16, 16]         295,168\n",
            "      BatchNorm2d-37          [-1, 256, 16, 16]             512\n",
            "        LeakyReLU-38          [-1, 256, 16, 16]               0\n",
            "          Dropout-39          [-1, 256, 16, 16]               0\n",
            "           Conv2d-40          [-1, 256, 16, 16]         590,080\n",
            "      BatchNorm2d-41          [-1, 256, 16, 16]             512\n",
            "        LeakyReLU-42          [-1, 256, 16, 16]               0\n",
            "    ResidualBlock-43          [-1, 256, 16, 16]               0\n",
            "     EncoderBlock-44          [-1, 256, 16, 16]               0\n",
            "           Conv2d-45            [-1, 512, 8, 8]         131,584\n",
            "      BatchNorm2d-46            [-1, 512, 8, 8]           1,024\n",
            "           Conv2d-47            [-1, 512, 8, 8]       1,180,160\n",
            "      BatchNorm2d-48            [-1, 512, 8, 8]           1,024\n",
            "        LeakyReLU-49            [-1, 512, 8, 8]               0\n",
            "          Dropout-50            [-1, 512, 8, 8]               0\n",
            "           Conv2d-51            [-1, 512, 8, 8]       2,359,808\n",
            "      BatchNorm2d-52            [-1, 512, 8, 8]           1,024\n",
            "        LeakyReLU-53            [-1, 512, 8, 8]               0\n",
            "    ResidualBlock-54            [-1, 512, 8, 8]               0\n",
            "     EncoderBlock-55            [-1, 512, 8, 8]               0\n",
            "  ConvTranspose2d-56          [-1, 256, 16, 16]       1,179,904\n",
            "      BatchNorm2d-57          [-1, 256, 16, 16]             512\n",
            "        LeakyReLU-58          [-1, 256, 16, 16]               0\n",
            "          Dropout-59          [-1, 256, 16, 16]               0\n",
            "           Conv2d-60          [-1, 256, 16, 16]         131,328\n",
            "      BatchNorm2d-61          [-1, 256, 16, 16]             512\n",
            "           Conv2d-62          [-1, 256, 16, 16]       1,179,904\n",
            "      BatchNorm2d-63          [-1, 256, 16, 16]             512\n",
            "        LeakyReLU-64          [-1, 256, 16, 16]               0\n",
            "          Dropout-65          [-1, 256, 16, 16]               0\n",
            "           Conv2d-66          [-1, 256, 16, 16]         590,080\n",
            "      BatchNorm2d-67          [-1, 256, 16, 16]             512\n",
            "        LeakyReLU-68          [-1, 256, 16, 16]               0\n",
            "    ResidualBlock-69          [-1, 256, 16, 16]               0\n",
            "     DecoderBlock-70          [-1, 256, 16, 16]               0\n",
            "  ConvTranspose2d-71          [-1, 128, 32, 32]         295,040\n",
            "      BatchNorm2d-72          [-1, 128, 32, 32]             256\n",
            "        LeakyReLU-73          [-1, 128, 32, 32]               0\n",
            "          Dropout-74          [-1, 128, 32, 32]               0\n",
            "           Conv2d-75          [-1, 128, 32, 32]          32,896\n",
            "      BatchNorm2d-76          [-1, 128, 32, 32]             256\n",
            "           Conv2d-77          [-1, 128, 32, 32]         295,040\n",
            "      BatchNorm2d-78          [-1, 128, 32, 32]             256\n",
            "        LeakyReLU-79          [-1, 128, 32, 32]               0\n",
            "          Dropout-80          [-1, 128, 32, 32]               0\n",
            "           Conv2d-81          [-1, 128, 32, 32]         147,584\n",
            "      BatchNorm2d-82          [-1, 128, 32, 32]             256\n",
            "        LeakyReLU-83          [-1, 128, 32, 32]               0\n",
            "    ResidualBlock-84          [-1, 128, 32, 32]               0\n",
            "     DecoderBlock-85          [-1, 128, 32, 32]               0\n",
            "  ConvTranspose2d-86           [-1, 64, 64, 64]          73,792\n",
            "      BatchNorm2d-87           [-1, 64, 64, 64]             128\n",
            "        LeakyReLU-88           [-1, 64, 64, 64]               0\n",
            "          Dropout-89           [-1, 64, 64, 64]               0\n",
            "           Conv2d-90           [-1, 64, 64, 64]           8,256\n",
            "      BatchNorm2d-91           [-1, 64, 64, 64]             128\n",
            "           Conv2d-92           [-1, 64, 64, 64]          73,792\n",
            "      BatchNorm2d-93           [-1, 64, 64, 64]             128\n",
            "        LeakyReLU-94           [-1, 64, 64, 64]               0\n",
            "          Dropout-95           [-1, 64, 64, 64]               0\n",
            "           Conv2d-96           [-1, 64, 64, 64]          36,928\n",
            "      BatchNorm2d-97           [-1, 64, 64, 64]             128\n",
            "        LeakyReLU-98           [-1, 64, 64, 64]               0\n",
            "    ResidualBlock-99           [-1, 64, 64, 64]               0\n",
            "    DecoderBlock-100           [-1, 64, 64, 64]               0\n",
            " ConvTranspose2d-101         [-1, 32, 128, 128]          18,464\n",
            "     BatchNorm2d-102         [-1, 32, 128, 128]              64\n",
            "       LeakyReLU-103         [-1, 32, 128, 128]               0\n",
            "         Dropout-104         [-1, 32, 128, 128]               0\n",
            "          Conv2d-105         [-1, 32, 128, 128]           2,080\n",
            "     BatchNorm2d-106         [-1, 32, 128, 128]              64\n",
            "          Conv2d-107         [-1, 32, 128, 128]          18,464\n",
            "     BatchNorm2d-108         [-1, 32, 128, 128]              64\n",
            "       LeakyReLU-109         [-1, 32, 128, 128]               0\n",
            "         Dropout-110         [-1, 32, 128, 128]               0\n",
            "          Conv2d-111         [-1, 32, 128, 128]           9,248\n",
            "     BatchNorm2d-112         [-1, 32, 128, 128]              64\n",
            "       LeakyReLU-113         [-1, 32, 128, 128]               0\n",
            "   ResidualBlock-114         [-1, 32, 128, 128]               0\n",
            "    DecoderBlock-115         [-1, 32, 128, 128]               0\n",
            " ConvTranspose2d-116          [-1, 1, 256, 256]             289\n",
            "================================================================\n",
            "Total params: 8,989,633\n",
            "Trainable params: 8,989,633\n",
            "Non-trainable params: 0\n",
            "----------------------------------------------------------------\n",
            "Input size (MB): 0.25\n",
            "Forward/backward pass size (MB): 198.25\n",
            "Params size (MB): 34.29\n",
            "Estimated Total Size (MB): 232.79\n",
            "----------------------------------------------------------------\n"
          ]
        },
        {
          "metadata": {
            "tags": null
          },
          "name": "stderr",
          "output_type": "stream",
          "text": [
            "Epoch 1, Loss: 0.2095: 100%|██████████████████████████████████████| 169/169 [00:25<00:00,  6.65it/s]\n"
          ]
        },
        {
          "metadata": {
            "tags": null
          },
          "name": "stdout",
          "output_type": "stream",
          "text": [
            "Epoch 1 average loss: 0.2774\n"
          ]
        },
        {
          "metadata": {
            "tags": null
          },
          "name": "stderr",
          "output_type": "stream",
          "text": [
            "Epoch 2, Loss: 0.1691: 100%|██████████████████████████████████████| 169/169 [00:21<00:00,  7.87it/s]\n"
          ]
        },
        {
          "metadata": {
            "tags": null
          },
          "name": "stdout",
          "output_type": "stream",
          "text": [
            "Epoch 2 average loss: 0.1919\n"
          ]
        },
        {
          "metadata": {
            "tags": null
          },
          "name": "stderr",
          "output_type": "stream",
          "text": [
            "Epoch 3, Loss: 0.1552: 100%|██████████████████████████████████████| 169/169 [00:21<00:00,  7.69it/s]\n"
          ]
        },
        {
          "metadata": {
            "tags": null
          },
          "name": "stdout",
          "output_type": "stream",
          "text": [
            "Epoch 3 average loss: 0.1538\n"
          ]
        },
        {
          "metadata": {
            "tags": null
          },
          "name": "stderr",
          "output_type": "stream",
          "text": [
            "Epoch 4, Loss: 0.1218: 100%|██████████████████████████████████████| 169/169 [00:21<00:00,  7.95it/s]\n"
          ]
        },
        {
          "metadata": {
            "tags": null
          },
          "name": "stdout",
          "output_type": "stream",
          "text": [
            "Epoch 4 average loss: 0.1282\n"
          ]
        },
        {
          "metadata": {
            "tags": null
          },
          "name": "stderr",
          "output_type": "stream",
          "text": [
            "Epoch 5, Loss: 0.1236: 100%|██████████████████████████████████████| 169/169 [00:21<00:00,  8.03it/s]\n"
          ]
        },
        {
          "metadata": {
            "tags": null
          },
          "name": "stdout",
          "output_type": "stream",
          "text": [
            "Epoch 5 average loss: 0.1100\n"
          ]
        },
        {
          "metadata": {
            "tags": null
          },
          "name": "stderr",
          "output_type": "stream",
          "text": [
            "Epoch 6, Loss: 0.0947: 100%|██████████████████████████████████████| 169/169 [00:21<00:00,  7.93it/s]\n"
          ]
        },
        {
          "metadata": {
            "tags": null
          },
          "name": "stdout",
          "output_type": "stream",
          "text": [
            "Epoch 6 average loss: 0.1008\n"
          ]
        },
        {
          "metadata": {
            "tags": null
          },
          "name": "stderr",
          "output_type": "stream",
          "text": [
            "Epoch 7, Loss: 0.0967: 100%|██████████████████████████████████████| 169/169 [00:21<00:00,  7.81it/s]\n"
          ]
        },
        {
          "metadata": {
            "tags": null
          },
          "name": "stdout",
          "output_type": "stream",
          "text": [
            "Epoch 7 average loss: 0.0934\n"
          ]
        },
        {
          "metadata": {
            "tags": null
          },
          "name": "stderr",
          "output_type": "stream",
          "text": [
            "Epoch 8, Loss: 0.0853: 100%|██████████████████████████████████████| 169/169 [00:22<00:00,  7.38it/s]\n"
          ]
        },
        {
          "metadata": {
            "tags": null
          },
          "name": "stdout",
          "output_type": "stream",
          "text": [
            "Epoch 8 average loss: 0.0891\n"
          ]
        },
        {
          "metadata": {
            "tags": null
          },
          "name": "stderr",
          "output_type": "stream",
          "text": [
            "Epoch 9, Loss: 0.0894: 100%|██████████████████████████████████████| 169/169 [00:22<00:00,  7.44it/s]\n"
          ]
        },
        {
          "metadata": {
            "tags": null
          },
          "name": "stdout",
          "output_type": "stream",
          "text": [
            "Epoch 9 average loss: 0.0869\n"
          ]
        },
        {
          "metadata": {
            "tags": null
          },
          "name": "stderr",
          "output_type": "stream",
          "text": [
            "Epoch 10, Loss: 0.0810: 100%|█████████████████████████████████████| 169/169 [00:22<00:00,  7.46it/s]\n"
          ]
        },
        {
          "metadata": {
            "tags": null
          },
          "name": "stdout",
          "output_type": "stream",
          "text": [
            "Epoch 10 average loss: 0.0826\n"
          ]
        },
        {
          "metadata": {
            "tags": null
          },
          "name": "stderr",
          "output_type": "stream",
          "text": [
            "Epoch 11, Loss: 0.0717: 100%|█████████████████████████████████████| 169/169 [00:21<00:00,  7.99it/s]\n"
          ]
        },
        {
          "metadata": {
            "tags": null
          },
          "name": "stdout",
          "output_type": "stream",
          "text": [
            "Epoch 11 average loss: 0.0786\n"
          ]
        },
        {
          "metadata": {
            "tags": null
          },
          "name": "stderr",
          "output_type": "stream",
          "text": [
            "Epoch 12, Loss: 0.0807: 100%|█████████████████████████████████████| 169/169 [00:21<00:00,  8.01it/s]\n"
          ]
        },
        {
          "metadata": {
            "tags": null
          },
          "name": "stdout",
          "output_type": "stream",
          "text": [
            "Epoch 12 average loss: 0.0773\n"
          ]
        },
        {
          "metadata": {
            "tags": null
          },
          "name": "stderr",
          "output_type": "stream",
          "text": [
            "Epoch 13, Loss: 0.0778: 100%|█████████████████████████████████████| 169/169 [00:21<00:00,  7.95it/s]\n"
          ]
        },
        {
          "metadata": {
            "tags": null
          },
          "name": "stdout",
          "output_type": "stream",
          "text": [
            "Epoch 13 average loss: 0.0746\n"
          ]
        },
        {
          "metadata": {
            "tags": null
          },
          "name": "stderr",
          "output_type": "stream",
          "text": [
            "Epoch 14, Loss: 0.0697: 100%|█████████████████████████████████████| 169/169 [00:22<00:00,  7.41it/s]\n"
          ]
        },
        {
          "metadata": {
            "tags": null
          },
          "name": "stdout",
          "output_type": "stream",
          "text": [
            "Epoch 14 average loss: 0.0725\n"
          ]
        },
        {
          "metadata": {
            "tags": null
          },
          "name": "stderr",
          "output_type": "stream",
          "text": [
            "Epoch 15, Loss: 0.0718: 100%|█████████████████████████████████████| 169/169 [00:22<00:00,  7.43it/s]\n"
          ]
        },
        {
          "metadata": {
            "tags": null
          },
          "name": "stdout",
          "output_type": "stream",
          "text": [
            "Epoch 15 average loss: 0.0704\n"
          ]
        },
        {
          "metadata": {
            "tags": null
          },
          "name": "stderr",
          "output_type": "stream",
          "text": [
            "Epoch 16, Loss: 0.0710: 100%|█████████████████████████████████████| 169/169 [00:22<00:00,  7.49it/s]\n"
          ]
        },
        {
          "metadata": {
            "tags": null
          },
          "name": "stdout",
          "output_type": "stream",
          "text": [
            "Epoch 16 average loss: 0.0693\n"
          ]
        },
        {
          "metadata": {
            "tags": null
          },
          "name": "stderr",
          "output_type": "stream",
          "text": [
            "Epoch 17, Loss: 0.0668: 100%|█████████████████████████████████████| 169/169 [00:21<00:00,  8.02it/s]\n"
          ]
        },
        {
          "metadata": {
            "tags": null
          },
          "name": "stdout",
          "output_type": "stream",
          "text": [
            "Epoch 17 average loss: 0.0676\n"
          ]
        },
        {
          "metadata": {
            "tags": null
          },
          "name": "stderr",
          "output_type": "stream",
          "text": [
            "Epoch 18, Loss: 0.0681: 100%|█████████████████████████████████████| 169/169 [00:21<00:00,  8.01it/s]\n"
          ]
        },
        {
          "metadata": {
            "tags": null
          },
          "name": "stdout",
          "output_type": "stream",
          "text": [
            "Epoch 18 average loss: 0.0661\n"
          ]
        },
        {
          "metadata": {
            "tags": null
          },
          "name": "stderr",
          "output_type": "stream",
          "text": [
            "Epoch 19, Loss: 0.0641: 100%|█████████████████████████████████████| 169/169 [00:21<00:00,  8.01it/s]\n"
          ]
        },
        {
          "metadata": {
            "tags": null
          },
          "name": "stdout",
          "output_type": "stream",
          "text": [
            "Epoch 19 average loss: 0.0644\n"
          ]
        },
        {
          "metadata": {
            "tags": null
          },
          "name": "stderr",
          "output_type": "stream",
          "text": [
            "Epoch 20, Loss: 0.0613: 100%|█████████████████████████████████████| 169/169 [00:21<00:00,  8.00it/s]\n"
          ]
        },
        {
          "metadata": {
            "tags": null
          },
          "name": "stdout",
          "output_type": "stream",
          "text": [
            "Epoch 20 average loss: 0.0625\n"
          ]
        },
        {
          "metadata": {
            "tags": null
          },
          "name": "stderr",
          "output_type": "stream",
          "text": [
            "Epoch 21, Loss: 0.0611: 100%|█████████████████████████████████████| 169/169 [00:21<00:00,  8.01it/s]\n"
          ]
        },
        {
          "metadata": {
            "tags": null
          },
          "name": "stdout",
          "output_type": "stream",
          "text": [
            "Epoch 21 average loss: 0.0618\n"
          ]
        },
        {
          "metadata": {
            "tags": null
          },
          "name": "stderr",
          "output_type": "stream",
          "text": [
            "Epoch 22, Loss: 0.0573: 100%|█████████████████████████████████████| 169/169 [00:21<00:00,  8.00it/s]\n"
          ]
        },
        {
          "metadata": {
            "tags": null
          },
          "name": "stdout",
          "output_type": "stream",
          "text": [
            "Epoch 22 average loss: 0.0604\n"
          ]
        },
        {
          "metadata": {
            "tags": null
          },
          "name": "stderr",
          "output_type": "stream",
          "text": [
            "Epoch 23, Loss: 0.0587: 100%|█████████████████████████████████████| 169/169 [00:21<00:00,  8.00it/s]\n"
          ]
        },
        {
          "metadata": {
            "tags": null
          },
          "name": "stdout",
          "output_type": "stream",
          "text": [
            "Epoch 23 average loss: 0.0593\n"
          ]
        },
        {
          "metadata": {
            "tags": null
          },
          "name": "stderr",
          "output_type": "stream",
          "text": [
            "Epoch 24, Loss: 0.0668: 100%|█████████████████████████████████████| 169/169 [00:21<00:00,  8.00it/s]\n"
          ]
        },
        {
          "metadata": {
            "tags": null
          },
          "name": "stdout",
          "output_type": "stream",
          "text": [
            "Epoch 24 average loss: 0.0584\n"
          ]
        },
        {
          "metadata": {
            "tags": null
          },
          "name": "stderr",
          "output_type": "stream",
          "text": [
            "Epoch 25, Loss: 0.0533: 100%|█████████████████████████████████████| 169/169 [00:21<00:00,  8.02it/s]\n"
          ]
        },
        {
          "metadata": {
            "tags": null
          },
          "name": "stdout",
          "output_type": "stream",
          "text": [
            "Epoch 25 average loss: 0.0569\n"
          ]
        },
        {
          "metadata": {
            "tags": null
          },
          "name": "stderr",
          "output_type": "stream",
          "text": [
            "Epoch 26, Loss: 0.0609: 100%|█████████████████████████████████████| 169/169 [00:21<00:00,  8.02it/s]\n"
          ]
        },
        {
          "metadata": {
            "tags": null
          },
          "name": "stdout",
          "output_type": "stream",
          "text": [
            "Epoch 26 average loss: 0.0563\n"
          ]
        },
        {
          "metadata": {
            "tags": null
          },
          "name": "stderr",
          "output_type": "stream",
          "text": [
            "Epoch 27, Loss: 0.0538: 100%|█████████████████████████████████████| 169/169 [00:21<00:00,  8.01it/s]\n"
          ]
        },
        {
          "metadata": {
            "tags": null
          },
          "name": "stdout",
          "output_type": "stream",
          "text": [
            "Epoch 27 average loss: 0.0557\n"
          ]
        },
        {
          "metadata": {
            "tags": null
          },
          "name": "stderr",
          "output_type": "stream",
          "text": [
            "Epoch 28, Loss: 0.0561: 100%|█████████████████████████████████████| 169/169 [00:21<00:00,  8.02it/s]\n"
          ]
        },
        {
          "metadata": {
            "tags": null
          },
          "name": "stdout",
          "output_type": "stream",
          "text": [
            "Epoch 28 average loss: 0.0549\n"
          ]
        },
        {
          "metadata": {
            "tags": null
          },
          "name": "stderr",
          "output_type": "stream",
          "text": [
            "Epoch 29, Loss: 0.0550: 100%|█████████████████████████████████████| 169/169 [00:21<00:00,  8.01it/s]\n"
          ]
        },
        {
          "metadata": {
            "tags": null
          },
          "name": "stdout",
          "output_type": "stream",
          "text": [
            "Epoch 29 average loss: 0.0535\n"
          ]
        },
        {
          "metadata": {
            "tags": null
          },
          "name": "stderr",
          "output_type": "stream",
          "text": [
            "Epoch 30, Loss: 0.0555: 100%|█████████████████████████████████████| 169/169 [00:21<00:00,  7.99it/s]\n"
          ]
        },
        {
          "metadata": {
            "tags": null
          },
          "name": "stdout",
          "output_type": "stream",
          "text": [
            "Epoch 30 average loss: 0.0525\n"
          ]
        },
        {
          "metadata": {
            "tags": null
          },
          "name": "stderr",
          "output_type": "stream",
          "text": [
            "Epoch 31, Loss: 0.0511: 100%|█████████████████████████████████████| 169/169 [00:23<00:00,  7.30it/s]\n"
          ]
        },
        {
          "metadata": {
            "tags": null
          },
          "name": "stdout",
          "output_type": "stream",
          "text": [
            "Epoch 31 average loss: 0.0522\n"
          ]
        },
        {
          "metadata": {
            "tags": null
          },
          "name": "stderr",
          "output_type": "stream",
          "text": [
            "Epoch 32, Loss: 0.0467: 100%|█████████████████████████████████████| 169/169 [00:22<00:00,  7.47it/s]\n"
          ]
        },
        {
          "metadata": {
            "tags": null
          },
          "name": "stdout",
          "output_type": "stream",
          "text": [
            "Epoch 32 average loss: 0.0510\n"
          ]
        },
        {
          "metadata": {
            "tags": null
          },
          "name": "stderr",
          "output_type": "stream",
          "text": [
            "Epoch 33, Loss: 0.0528: 100%|█████████████████████████████████████| 169/169 [00:21<00:00,  7.97it/s]\n"
          ]
        },
        {
          "metadata": {
            "tags": null
          },
          "name": "stdout",
          "output_type": "stream",
          "text": [
            "Epoch 33 average loss: 0.0507\n"
          ]
        },
        {
          "metadata": {
            "tags": null
          },
          "name": "stderr",
          "output_type": "stream",
          "text": [
            "Epoch 34, Loss: 0.0525: 100%|█████████████████████████████████████| 169/169 [00:21<00:00,  8.00it/s]\n"
          ]
        },
        {
          "metadata": {
            "tags": null
          },
          "name": "stdout",
          "output_type": "stream",
          "text": [
            "Epoch 34 average loss: 0.0500\n"
          ]
        },
        {
          "metadata": {
            "tags": null
          },
          "name": "stderr",
          "output_type": "stream",
          "text": [
            "Epoch 35, Loss: 0.0540: 100%|█████████████████████████████████████| 169/169 [00:22<00:00,  7.54it/s]\n"
          ]
        },
        {
          "metadata": {
            "tags": null
          },
          "name": "stdout",
          "output_type": "stream",
          "text": [
            "Epoch 35 average loss: 0.0491\n"
          ]
        },
        {
          "metadata": {
            "tags": null
          },
          "name": "stderr",
          "output_type": "stream",
          "text": [
            "Epoch 36, Loss: 0.0474: 100%|█████████████████████████████████████| 169/169 [00:22<00:00,  7.44it/s]\n"
          ]
        },
        {
          "metadata": {
            "tags": null
          },
          "name": "stdout",
          "output_type": "stream",
          "text": [
            "Epoch 36 average loss: 0.0486\n"
          ]
        },
        {
          "metadata": {
            "tags": null
          },
          "name": "stderr",
          "output_type": "stream",
          "text": [
            "Epoch 37, Loss: 0.0505: 100%|█████████████████████████████████████| 169/169 [00:22<00:00,  7.49it/s]\n"
          ]
        },
        {
          "metadata": {
            "tags": null
          },
          "name": "stdout",
          "output_type": "stream",
          "text": [
            "Epoch 37 average loss: 0.0480\n"
          ]
        },
        {
          "metadata": {
            "tags": null
          },
          "name": "stderr",
          "output_type": "stream",
          "text": [
            "Epoch 38, Loss: 0.0415: 100%|█████████████████████████████████████| 169/169 [00:21<00:00,  7.83it/s]\n"
          ]
        },
        {
          "metadata": {
            "tags": null
          },
          "name": "stdout",
          "output_type": "stream",
          "text": [
            "Epoch 38 average loss: 0.0466\n"
          ]
        },
        {
          "metadata": {
            "tags": null
          },
          "name": "stderr",
          "output_type": "stream",
          "text": [
            "Epoch 39, Loss: 0.0470: 100%|█████████████████████████████████████| 169/169 [00:21<00:00,  7.77it/s]\n"
          ]
        },
        {
          "metadata": {
            "tags": null
          },
          "name": "stdout",
          "output_type": "stream",
          "text": [
            "Epoch 39 average loss: 0.0469\n"
          ]
        },
        {
          "metadata": {
            "tags": null
          },
          "name": "stderr",
          "output_type": "stream",
          "text": [
            "Epoch 40, Loss: 0.0525: 100%|█████████████████████████████████████| 169/169 [00:21<00:00,  8.02it/s]\n"
          ]
        },
        {
          "metadata": {
            "tags": null
          },
          "name": "stdout",
          "output_type": "stream",
          "text": [
            "Epoch 40 average loss: 0.0460\n"
          ]
        },
        {
          "metadata": {
            "tags": null
          },
          "name": "stderr",
          "output_type": "stream",
          "text": [
            "Epoch 41, Loss: 0.0422: 100%|█████████████████████████████████████| 169/169 [00:21<00:00,  7.99it/s]\n"
          ]
        },
        {
          "metadata": {
            "tags": null
          },
          "name": "stdout",
          "output_type": "stream",
          "text": [
            "Epoch 41 average loss: 0.0445\n"
          ]
        },
        {
          "metadata": {
            "tags": null
          },
          "name": "stderr",
          "output_type": "stream",
          "text": [
            "Epoch 42, Loss: 0.0446: 100%|█████████████████████████████████████| 169/169 [00:21<00:00,  7.98it/s]\n"
          ]
        },
        {
          "metadata": {
            "tags": null
          },
          "name": "stdout",
          "output_type": "stream",
          "text": [
            "Epoch 42 average loss: 0.0450\n"
          ]
        },
        {
          "metadata": {
            "tags": null
          },
          "name": "stderr",
          "output_type": "stream",
          "text": [
            "Epoch 43, Loss: 0.0484: 100%|█████████████████████████████████████| 169/169 [00:21<00:00,  8.01it/s]\n"
          ]
        },
        {
          "metadata": {
            "tags": null
          },
          "name": "stdout",
          "output_type": "stream",
          "text": [
            "Epoch 43 average loss: 0.0436\n"
          ]
        },
        {
          "metadata": {
            "tags": null
          },
          "name": "stderr",
          "output_type": "stream",
          "text": [
            "Epoch 44, Loss: 0.0461: 100%|█████████████████████████████████████| 169/169 [00:21<00:00,  8.02it/s]\n"
          ]
        },
        {
          "metadata": {
            "tags": null
          },
          "name": "stdout",
          "output_type": "stream",
          "text": [
            "Epoch 44 average loss: 0.0446\n"
          ]
        },
        {
          "metadata": {
            "tags": null
          },
          "name": "stderr",
          "output_type": "stream",
          "text": [
            "Epoch 45, Loss: 0.0456: 100%|█████████████████████████████████████| 169/169 [00:21<00:00,  8.00it/s]\n"
          ]
        },
        {
          "metadata": {
            "tags": null
          },
          "name": "stdout",
          "output_type": "stream",
          "text": [
            "Epoch 45 average loss: 0.0432\n"
          ]
        },
        {
          "metadata": {
            "tags": null
          },
          "name": "stderr",
          "output_type": "stream",
          "text": [
            "Epoch 46, Loss: 0.0410: 100%|█████████████████████████████████████| 169/169 [00:21<00:00,  8.01it/s]\n"
          ]
        },
        {
          "metadata": {
            "tags": null
          },
          "name": "stdout",
          "output_type": "stream",
          "text": [
            "Epoch 46 average loss: 0.0428\n"
          ]
        },
        {
          "metadata": {
            "tags": null
          },
          "name": "stderr",
          "output_type": "stream",
          "text": [
            "Epoch 47, Loss: 0.0409: 100%|█████████████████████████████████████| 169/169 [00:21<00:00,  8.02it/s]\n"
          ]
        },
        {
          "metadata": {
            "tags": null
          },
          "name": "stdout",
          "output_type": "stream",
          "text": [
            "Epoch 47 average loss: 0.0418\n"
          ]
        },
        {
          "metadata": {
            "tags": null
          },
          "name": "stderr",
          "output_type": "stream",
          "text": [
            "Epoch 48, Loss: 0.0445: 100%|█████████████████████████████████████| 169/169 [00:21<00:00,  8.03it/s]\n"
          ]
        },
        {
          "metadata": {
            "tags": null
          },
          "name": "stdout",
          "output_type": "stream",
          "text": [
            "Epoch 48 average loss: 0.0419\n"
          ]
        },
        {
          "metadata": {
            "tags": null
          },
          "name": "stderr",
          "output_type": "stream",
          "text": [
            "Epoch 49, Loss: 0.0391: 100%|█████████████████████████████████████| 169/169 [00:21<00:00,  8.01it/s]\n"
          ]
        },
        {
          "metadata": {
            "tags": null
          },
          "name": "stdout",
          "output_type": "stream",
          "text": [
            "Epoch 49 average loss: 0.0418\n"
          ]
        },
        {
          "metadata": {
            "tags": null
          },
          "name": "stderr",
          "output_type": "stream",
          "text": [
            "Epoch 50, Loss: 0.0401: 100%|█████████████████████████████████████| 169/169 [00:21<00:00,  8.02it/s]\n"
          ]
        },
        {
          "metadata": {
            "tags": null
          },
          "name": "stdout",
          "output_type": "stream",
          "text": [
            "Epoch 50 average loss: 0.0409\n"
          ]
        },
        {
          "metadata": {
            "tags": null
          },
          "name": "stderr",
          "output_type": "stream",
          "text": [
            "Epoch 51, Loss: 0.0390: 100%|█████████████████████████████████████| 169/169 [00:21<00:00,  8.03it/s]\n"
          ]
        },
        {
          "metadata": {
            "tags": null
          },
          "name": "stdout",
          "output_type": "stream",
          "text": [
            "Epoch 51 average loss: 0.0407\n"
          ]
        },
        {
          "metadata": {
            "tags": null
          },
          "name": "stderr",
          "output_type": "stream",
          "text": [
            "Epoch 52, Loss: 0.0408: 100%|█████████████████████████████████████| 169/169 [00:21<00:00,  8.02it/s]\n"
          ]
        },
        {
          "metadata": {
            "tags": null
          },
          "name": "stdout",
          "output_type": "stream",
          "text": [
            "Epoch 52 average loss: 0.0394\n"
          ]
        },
        {
          "metadata": {
            "tags": null
          },
          "name": "stderr",
          "output_type": "stream",
          "text": [
            "Epoch 53, Loss: 0.0502: 100%|█████████████████████████████████████| 169/169 [00:21<00:00,  8.03it/s]\n"
          ]
        },
        {
          "metadata": {
            "tags": null
          },
          "name": "stdout",
          "output_type": "stream",
          "text": [
            "Epoch 53 average loss: 0.0400\n"
          ]
        },
        {
          "metadata": {
            "tags": null
          },
          "name": "stderr",
          "output_type": "stream",
          "text": [
            "Epoch 54, Loss: 0.0375: 100%|█████████████████████████████████████| 169/169 [00:21<00:00,  8.03it/s]\n"
          ]
        },
        {
          "metadata": {
            "tags": null
          },
          "name": "stdout",
          "output_type": "stream",
          "text": [
            "Epoch 54 average loss: 0.0398\n"
          ]
        },
        {
          "metadata": {
            "tags": null
          },
          "name": "stderr",
          "output_type": "stream",
          "text": [
            "Epoch 55, Loss: 0.0394: 100%|█████████████████████████████████████| 169/169 [00:21<00:00,  8.03it/s]\n"
          ]
        },
        {
          "metadata": {
            "tags": null
          },
          "name": "stdout",
          "output_type": "stream",
          "text": [
            "Epoch 55 average loss: 0.0392\n"
          ]
        },
        {
          "metadata": {
            "tags": null
          },
          "name": "stderr",
          "output_type": "stream",
          "text": [
            "Epoch 56, Loss: 0.0400: 100%|█████████████████████████████████████| 169/169 [00:21<00:00,  8.01it/s]\n"
          ]
        },
        {
          "metadata": {
            "tags": null
          },
          "name": "stdout",
          "output_type": "stream",
          "text": [
            "Epoch 56 average loss: 0.0389\n"
          ]
        },
        {
          "metadata": {
            "tags": null
          },
          "name": "stderr",
          "output_type": "stream",
          "text": [
            "Epoch 57, Loss: 0.0350: 100%|█████████████████████████████████████| 169/169 [00:21<00:00,  8.02it/s]\n"
          ]
        },
        {
          "metadata": {
            "tags": null
          },
          "name": "stdout",
          "output_type": "stream",
          "text": [
            "Epoch 57 average loss: 0.0380\n"
          ]
        },
        {
          "metadata": {
            "tags": null
          },
          "name": "stderr",
          "output_type": "stream",
          "text": [
            "Epoch 58, Loss: 0.0391: 100%|█████████████████████████████████████| 169/169 [00:21<00:00,  8.03it/s]\n"
          ]
        },
        {
          "metadata": {
            "tags": null
          },
          "name": "stdout",
          "output_type": "stream",
          "text": [
            "Epoch 58 average loss: 0.0384\n"
          ]
        },
        {
          "metadata": {
            "tags": null
          },
          "name": "stderr",
          "output_type": "stream",
          "text": [
            "Epoch 59, Loss: 0.0380: 100%|█████████████████████████████████████| 169/169 [00:21<00:00,  8.02it/s]\n"
          ]
        },
        {
          "metadata": {
            "tags": null
          },
          "name": "stdout",
          "output_type": "stream",
          "text": [
            "Epoch 59 average loss: 0.0384\n"
          ]
        },
        {
          "metadata": {
            "tags": null
          },
          "name": "stderr",
          "output_type": "stream",
          "text": [
            "Epoch 60, Loss: 0.0401: 100%|█████████████████████████████████████| 169/169 [00:21<00:00,  8.00it/s]\n"
          ]
        },
        {
          "metadata": {
            "tags": null
          },
          "name": "stdout",
          "output_type": "stream",
          "text": [
            "Epoch 60 average loss: 0.0375\n"
          ]
        },
        {
          "metadata": {
            "tags": null
          },
          "name": "stderr",
          "output_type": "stream",
          "text": [
            "Epoch 61, Loss: 0.0368: 100%|█████████████████████████████████████| 169/169 [00:21<00:00,  8.02it/s]\n"
          ]
        },
        {
          "metadata": {
            "tags": null
          },
          "name": "stdout",
          "output_type": "stream",
          "text": [
            "Epoch 61 average loss: 0.0372\n"
          ]
        },
        {
          "metadata": {
            "tags": null
          },
          "name": "stderr",
          "output_type": "stream",
          "text": [
            "Epoch 62, Loss: 0.0358: 100%|█████████████████████████████████████| 169/169 [00:21<00:00,  8.03it/s]\n"
          ]
        },
        {
          "metadata": {
            "tags": null
          },
          "name": "stdout",
          "output_type": "stream",
          "text": [
            "Epoch 62 average loss: 0.0365\n"
          ]
        },
        {
          "metadata": {
            "tags": null
          },
          "name": "stderr",
          "output_type": "stream",
          "text": [
            "Epoch 63, Loss: 0.0372: 100%|█████████████████████████████████████| 169/169 [00:21<00:00,  8.02it/s]\n"
          ]
        },
        {
          "metadata": {
            "tags": null
          },
          "name": "stdout",
          "output_type": "stream",
          "text": [
            "Epoch 63 average loss: 0.0365\n"
          ]
        },
        {
          "metadata": {
            "tags": null
          },
          "name": "stderr",
          "output_type": "stream",
          "text": [
            "Epoch 64, Loss: 0.0371: 100%|█████████████████████████████████████| 169/169 [00:21<00:00,  8.00it/s]\n"
          ]
        },
        {
          "metadata": {
            "tags": null
          },
          "name": "stdout",
          "output_type": "stream",
          "text": [
            "Epoch 64 average loss: 0.0366\n"
          ]
        },
        {
          "metadata": {
            "tags": null
          },
          "name": "stderr",
          "output_type": "stream",
          "text": [
            "Epoch 65, Loss: 0.0366: 100%|█████████████████████████████████████| 169/169 [00:21<00:00,  8.03it/s]\n"
          ]
        },
        {
          "metadata": {
            "tags": null
          },
          "name": "stdout",
          "output_type": "stream",
          "text": [
            "Epoch 65 average loss: 0.0365\n"
          ]
        },
        {
          "metadata": {
            "tags": null
          },
          "name": "stderr",
          "output_type": "stream",
          "text": [
            "Epoch 66, Loss: 0.0335: 100%|█████████████████████████████████████| 169/169 [00:21<00:00,  8.02it/s]\n"
          ]
        },
        {
          "metadata": {
            "tags": null
          },
          "name": "stdout",
          "output_type": "stream",
          "text": [
            "Epoch 66 average loss: 0.0360\n"
          ]
        },
        {
          "metadata": {
            "tags": null
          },
          "name": "stderr",
          "output_type": "stream",
          "text": [
            "Epoch 67, Loss: 0.0343: 100%|█████████████████████████████████████| 169/169 [00:21<00:00,  8.03it/s]\n"
          ]
        },
        {
          "metadata": {
            "tags": null
          },
          "name": "stdout",
          "output_type": "stream",
          "text": [
            "Epoch 67 average loss: 0.0356\n"
          ]
        },
        {
          "metadata": {
            "tags": null
          },
          "name": "stderr",
          "output_type": "stream",
          "text": [
            "Epoch 68, Loss: 0.0337: 100%|█████████████████████████████████████| 169/169 [00:21<00:00,  8.01it/s]\n"
          ]
        },
        {
          "metadata": {
            "tags": null
          },
          "name": "stdout",
          "output_type": "stream",
          "text": [
            "Epoch 68 average loss: 0.0354\n"
          ]
        },
        {
          "metadata": {
            "tags": null
          },
          "name": "stderr",
          "output_type": "stream",
          "text": [
            "Epoch 69, Loss: 0.0352: 100%|█████████████████████████████████████| 169/169 [00:21<00:00,  8.03it/s]\n"
          ]
        },
        {
          "metadata": {
            "tags": null
          },
          "name": "stdout",
          "output_type": "stream",
          "text": [
            "Epoch 69 average loss: 0.0347\n"
          ]
        },
        {
          "metadata": {
            "tags": null
          },
          "name": "stderr",
          "output_type": "stream",
          "text": [
            "Epoch 70, Loss: 0.0400: 100%|█████████████████████████████████████| 169/169 [00:21<00:00,  8.01it/s]\n"
          ]
        },
        {
          "metadata": {
            "tags": null
          },
          "name": "stdout",
          "output_type": "stream",
          "text": [
            "Epoch 70 average loss: 0.0350\n"
          ]
        },
        {
          "metadata": {
            "tags": null
          },
          "name": "stderr",
          "output_type": "stream",
          "text": [
            "Epoch 71, Loss: 0.0336: 100%|█████████████████████████████████████| 169/169 [00:21<00:00,  8.02it/s]\n"
          ]
        },
        {
          "metadata": {
            "tags": null
          },
          "name": "stdout",
          "output_type": "stream",
          "text": [
            "Epoch 71 average loss: 0.0348\n"
          ]
        },
        {
          "metadata": {
            "tags": null
          },
          "name": "stderr",
          "output_type": "stream",
          "text": [
            "Epoch 72, Loss: 0.0335: 100%|█████████████████████████████████████| 169/169 [00:21<00:00,  7.98it/s]\n"
          ]
        },
        {
          "metadata": {
            "tags": null
          },
          "name": "stdout",
          "output_type": "stream",
          "text": [
            "Epoch 72 average loss: 0.0345\n"
          ]
        },
        {
          "metadata": {
            "tags": null
          },
          "name": "stderr",
          "output_type": "stream",
          "text": [
            "Epoch 73, Loss: 0.0336: 100%|█████████████████████████████████████| 169/169 [00:21<00:00,  8.02it/s]\n"
          ]
        },
        {
          "metadata": {
            "tags": null
          },
          "name": "stdout",
          "output_type": "stream",
          "text": [
            "Epoch 73 average loss: 0.0336\n"
          ]
        },
        {
          "metadata": {
            "tags": null
          },
          "name": "stderr",
          "output_type": "stream",
          "text": [
            "Epoch 74, Loss: 0.0320: 100%|█████████████████████████████████████| 169/169 [00:21<00:00,  8.02it/s]\n"
          ]
        },
        {
          "metadata": {
            "tags": null
          },
          "name": "stdout",
          "output_type": "stream",
          "text": [
            "Epoch 74 average loss: 0.0335\n"
          ]
        },
        {
          "metadata": {
            "tags": null
          },
          "name": "stderr",
          "output_type": "stream",
          "text": [
            "Epoch 75, Loss: 0.0331: 100%|█████████████████████████████████████| 169/169 [00:21<00:00,  8.02it/s]\n"
          ]
        },
        {
          "metadata": {
            "tags": null
          },
          "name": "stdout",
          "output_type": "stream",
          "text": [
            "Epoch 75 average loss: 0.0334\n"
          ]
        },
        {
          "metadata": {
            "tags": null
          },
          "name": "stderr",
          "output_type": "stream",
          "text": [
            "Epoch 76, Loss: 0.0315: 100%|█████████████████████████████████████| 169/169 [00:21<00:00,  8.03it/s]\n"
          ]
        },
        {
          "metadata": {
            "tags": null
          },
          "name": "stdout",
          "output_type": "stream",
          "text": [
            "Epoch 76 average loss: 0.0329\n"
          ]
        },
        {
          "metadata": {
            "tags": null
          },
          "name": "stderr",
          "output_type": "stream",
          "text": [
            "Epoch 77, Loss: 0.0335: 100%|█████████████████████████████████████| 169/169 [00:21<00:00,  8.03it/s]\n"
          ]
        },
        {
          "metadata": {
            "tags": null
          },
          "name": "stdout",
          "output_type": "stream",
          "text": [
            "Epoch 77 average loss: 0.0324\n"
          ]
        },
        {
          "metadata": {
            "tags": null
          },
          "name": "stderr",
          "output_type": "stream",
          "text": [
            "Epoch 78, Loss: 0.0315: 100%|█████████████████████████████████████| 169/169 [00:21<00:00,  8.03it/s]\n"
          ]
        },
        {
          "metadata": {
            "tags": null
          },
          "name": "stdout",
          "output_type": "stream",
          "text": [
            "Epoch 78 average loss: 0.0324\n"
          ]
        },
        {
          "metadata": {
            "tags": null
          },
          "name": "stderr",
          "output_type": "stream",
          "text": [
            "Epoch 79, Loss: 0.0313: 100%|█████████████████████████████████████| 169/169 [00:21<00:00,  8.02it/s]\n"
          ]
        },
        {
          "metadata": {
            "tags": null
          },
          "name": "stdout",
          "output_type": "stream",
          "text": [
            "Epoch 79 average loss: 0.0325\n"
          ]
        },
        {
          "metadata": {
            "tags": null
          },
          "name": "stderr",
          "output_type": "stream",
          "text": [
            "Epoch 80, Loss: 0.0325: 100%|█████████████████████████████████████| 169/169 [00:21<00:00,  8.00it/s]\n"
          ]
        },
        {
          "metadata": {
            "tags": null
          },
          "name": "stdout",
          "output_type": "stream",
          "text": [
            "Epoch 80 average loss: 0.0322\n"
          ]
        },
        {
          "metadata": {
            "tags": null
          },
          "name": "stderr",
          "output_type": "stream",
          "text": [
            "Epoch 81, Loss: 0.0320: 100%|█████████████████████████████████████| 169/169 [00:21<00:00,  8.03it/s]\n"
          ]
        },
        {
          "metadata": {
            "tags": null
          },
          "name": "stdout",
          "output_type": "stream",
          "text": [
            "Epoch 81 average loss: 0.0323\n"
          ]
        },
        {
          "metadata": {
            "tags": null
          },
          "name": "stderr",
          "output_type": "stream",
          "text": [
            "Epoch 82, Loss: 0.0375: 100%|█████████████████████████████████████| 169/169 [00:21<00:00,  8.01it/s]\n"
          ]
        },
        {
          "metadata": {
            "tags": null
          },
          "name": "stdout",
          "output_type": "stream",
          "text": [
            "Epoch 82 average loss: 0.0317\n"
          ]
        },
        {
          "metadata": {
            "tags": null
          },
          "name": "stderr",
          "output_type": "stream",
          "text": [
            "Epoch 83, Loss: 0.0311: 100%|█████████████████████████████████████| 169/169 [00:21<00:00,  8.01it/s]\n"
          ]
        },
        {
          "metadata": {
            "tags": null
          },
          "name": "stdout",
          "output_type": "stream",
          "text": [
            "Epoch 83 average loss: 0.0318\n"
          ]
        },
        {
          "metadata": {
            "tags": null
          },
          "name": "stderr",
          "output_type": "stream",
          "text": [
            "Epoch 84, Loss: 0.0324: 100%|█████████████████████████████████████| 169/169 [00:21<00:00,  8.01it/s]\n"
          ]
        },
        {
          "metadata": {
            "tags": null
          },
          "name": "stdout",
          "output_type": "stream",
          "text": [
            "Epoch 84 average loss: 0.0316\n"
          ]
        },
        {
          "metadata": {
            "tags": null
          },
          "name": "stderr",
          "output_type": "stream",
          "text": [
            "Epoch 85, Loss: 0.0310: 100%|█████████████████████████████████████| 169/169 [00:21<00:00,  7.91it/s]\n"
          ]
        },
        {
          "metadata": {
            "tags": null
          },
          "name": "stdout",
          "output_type": "stream",
          "text": [
            "Epoch 85 average loss: 0.0312\n"
          ]
        },
        {
          "metadata": {
            "tags": null
          },
          "name": "stderr",
          "output_type": "stream",
          "text": [
            "Epoch 86, Loss: 0.0299: 100%|█████████████████████████████████████| 169/169 [00:22<00:00,  7.65it/s]\n"
          ]
        },
        {
          "metadata": {
            "tags": null
          },
          "name": "stdout",
          "output_type": "stream",
          "text": [
            "Epoch 86 average loss: 0.0310\n"
          ]
        },
        {
          "metadata": {
            "tags": null
          },
          "name": "stderr",
          "output_type": "stream",
          "text": [
            "Epoch 87, Loss: 0.0326: 100%|█████████████████████████████████████| 169/169 [00:22<00:00,  7.49it/s]\n"
          ]
        },
        {
          "metadata": {
            "tags": null
          },
          "name": "stdout",
          "output_type": "stream",
          "text": [
            "Epoch 87 average loss: 0.0309\n"
          ]
        },
        {
          "metadata": {
            "tags": null
          },
          "name": "stderr",
          "output_type": "stream",
          "text": [
            "Epoch 88, Loss: 0.0311: 100%|█████████████████████████████████████| 169/169 [00:22<00:00,  7.47it/s]\n"
          ]
        },
        {
          "metadata": {
            "tags": null
          },
          "name": "stdout",
          "output_type": "stream",
          "text": [
            "Epoch 88 average loss: 0.0309\n"
          ]
        },
        {
          "metadata": {
            "tags": null
          },
          "name": "stderr",
          "output_type": "stream",
          "text": [
            "Epoch 89, Loss: 0.0300: 100%|█████████████████████████████████████| 169/169 [00:22<00:00,  7.48it/s]\n"
          ]
        },
        {
          "metadata": {
            "tags": null
          },
          "name": "stdout",
          "output_type": "stream",
          "text": [
            "Epoch 89 average loss: 0.0310\n"
          ]
        },
        {
          "metadata": {
            "tags": null
          },
          "name": "stderr",
          "output_type": "stream",
          "text": [
            "Epoch 90, Loss: 0.0299: 100%|█████████████████████████████████████| 169/169 [00:21<00:00,  7.93it/s]\n"
          ]
        },
        {
          "metadata": {
            "tags": null
          },
          "name": "stdout",
          "output_type": "stream",
          "text": [
            "Epoch 90 average loss: 0.0306\n"
          ]
        },
        {
          "metadata": {
            "tags": null
          },
          "name": "stderr",
          "output_type": "stream",
          "text": [
            "Epoch 91, Loss: 0.0295: 100%|█████████████████████████████████████| 169/169 [00:21<00:00,  8.01it/s]\n"
          ]
        },
        {
          "metadata": {
            "tags": null
          },
          "name": "stdout",
          "output_type": "stream",
          "text": [
            "Epoch 91 average loss: 0.0303\n"
          ]
        },
        {
          "metadata": {
            "tags": null
          },
          "name": "stderr",
          "output_type": "stream",
          "text": [
            "Epoch 92, Loss: 0.0301: 100%|█████████████████████████████████████| 169/169 [00:21<00:00,  8.01it/s]\n"
          ]
        },
        {
          "metadata": {
            "tags": null
          },
          "name": "stdout",
          "output_type": "stream",
          "text": [
            "Epoch 92 average loss: 0.0306\n"
          ]
        },
        {
          "metadata": {
            "tags": null
          },
          "name": "stderr",
          "output_type": "stream",
          "text": [
            "Epoch 93, Loss: 0.0301: 100%|█████████████████████████████████████| 169/169 [00:21<00:00,  8.00it/s]\n"
          ]
        },
        {
          "metadata": {
            "tags": null
          },
          "name": "stdout",
          "output_type": "stream",
          "text": [
            "Epoch 93 average loss: 0.0302\n"
          ]
        },
        {
          "metadata": {
            "tags": null
          },
          "name": "stderr",
          "output_type": "stream",
          "text": [
            "Epoch 94, Loss: 0.0301: 100%|█████████████████████████████████████| 169/169 [00:21<00:00,  8.02it/s]\n"
          ]
        },
        {
          "metadata": {
            "tags": null
          },
          "name": "stdout",
          "output_type": "stream",
          "text": [
            "Epoch 94 average loss: 0.0301\n"
          ]
        },
        {
          "metadata": {
            "tags": null
          },
          "name": "stderr",
          "output_type": "stream",
          "text": [
            "Epoch 95, Loss: 0.0296: 100%|█████████████████████████████████████| 169/169 [00:21<00:00,  7.99it/s]\n"
          ]
        },
        {
          "metadata": {
            "tags": null
          },
          "name": "stdout",
          "output_type": "stream",
          "text": [
            "Epoch 95 average loss: 0.0299\n"
          ]
        },
        {
          "metadata": {
            "tags": null
          },
          "name": "stderr",
          "output_type": "stream",
          "text": [
            "Epoch 96, Loss: 0.0315: 100%|█████████████████████████████████████| 169/169 [00:22<00:00,  7.42it/s]\n"
          ]
        },
        {
          "metadata": {
            "tags": null
          },
          "name": "stdout",
          "output_type": "stream",
          "text": [
            "Epoch 96 average loss: 0.0300\n"
          ]
        },
        {
          "metadata": {
            "tags": null
          },
          "name": "stderr",
          "output_type": "stream",
          "text": [
            "Epoch 97, Loss: 0.0282: 100%|█████████████████████████████████████| 169/169 [00:21<00:00,  8.02it/s]\n"
          ]
        },
        {
          "metadata": {
            "tags": null
          },
          "name": "stdout",
          "output_type": "stream",
          "text": [
            "Epoch 97 average loss: 0.0298\n"
          ]
        },
        {
          "metadata": {
            "tags": null
          },
          "name": "stderr",
          "output_type": "stream",
          "text": [
            "Epoch 98, Loss: 0.0302: 100%|█████████████████████████████████████| 169/169 [00:21<00:00,  7.98it/s]\n"
          ]
        },
        {
          "metadata": {
            "tags": null
          },
          "name": "stdout",
          "output_type": "stream",
          "text": [
            "Epoch 98 average loss: 0.0298\n"
          ]
        },
        {
          "metadata": {
            "tags": null
          },
          "name": "stderr",
          "output_type": "stream",
          "text": [
            "Epoch 99, Loss: 0.0286: 100%|█████████████████████████████████████| 169/169 [00:22<00:00,  7.60it/s]\n"
          ]
        },
        {
          "metadata": {
            "tags": null
          },
          "name": "stdout",
          "output_type": "stream",
          "text": [
            "Epoch 99 average loss: 0.0294\n"
          ]
        },
        {
          "metadata": {
            "tags": null
          },
          "name": "stderr",
          "output_type": "stream",
          "text": [
            "Epoch 100, Loss: 0.0295: 100%|████████████████████████████████████| 169/169 [00:22<00:00,  7.41it/s]\n"
          ]
        },
        {
          "metadata": {
            "tags": null
          },
          "name": "stdout",
          "output_type": "stream",
          "text": [
            "Epoch 100 average loss: 0.0296\n"
          ]
        },
        {
          "metadata": {
            "tags": null
          },
          "name": "stderr",
          "output_type": "stream",
          "text": [
            "Epoch 101, Loss: 0.0302: 100%|████████████████████████████████████| 169/169 [00:22<00:00,  7.49it/s]\n"
          ]
        },
        {
          "metadata": {
            "tags": null
          },
          "name": "stdout",
          "output_type": "stream",
          "text": [
            "Epoch 101 average loss: 0.0295\n"
          ]
        },
        {
          "metadata": {
            "tags": null
          },
          "name": "stderr",
          "output_type": "stream",
          "text": [
            "Epoch 102, Loss: 0.0279: 100%|████████████████████████████████████| 169/169 [00:22<00:00,  7.54it/s]\n"
          ]
        },
        {
          "metadata": {
            "tags": null
          },
          "name": "stdout",
          "output_type": "stream",
          "text": [
            "Epoch 102 average loss: 0.0293\n"
          ]
        },
        {
          "metadata": {
            "tags": null
          },
          "name": "stderr",
          "output_type": "stream",
          "text": [
            "Epoch 103, Loss: 0.0287: 100%|████████████████████████████████████| 169/169 [00:21<00:00,  7.99it/s]\n"
          ]
        },
        {
          "metadata": {
            "tags": null
          },
          "name": "stdout",
          "output_type": "stream",
          "text": [
            "Epoch 103 average loss: 0.0293\n"
          ]
        },
        {
          "metadata": {
            "tags": null
          },
          "name": "stderr",
          "output_type": "stream",
          "text": [
            "Epoch 104, Loss: 0.0278: 100%|████████████████████████████████████| 169/169 [00:21<00:00,  8.02it/s]\n"
          ]
        },
        {
          "metadata": {
            "tags": null
          },
          "name": "stdout",
          "output_type": "stream",
          "text": [
            "Epoch 104 average loss: 0.0291\n"
          ]
        },
        {
          "metadata": {
            "tags": null
          },
          "name": "stderr",
          "output_type": "stream",
          "text": [
            "Epoch 105, Loss: 0.0291: 100%|████████████████████████████████████| 169/169 [00:21<00:00,  8.02it/s]\n"
          ]
        },
        {
          "metadata": {
            "tags": null
          },
          "name": "stdout",
          "output_type": "stream",
          "text": [
            "Epoch 105 average loss: 0.0289\n"
          ]
        },
        {
          "metadata": {
            "tags": null
          },
          "name": "stderr",
          "output_type": "stream",
          "text": [
            "Epoch 106, Loss: 0.0291: 100%|████████████████████████████████████| 169/169 [00:21<00:00,  8.01it/s]\n"
          ]
        },
        {
          "metadata": {
            "tags": null
          },
          "name": "stdout",
          "output_type": "stream",
          "text": [
            "Epoch 106 average loss: 0.0288\n"
          ]
        },
        {
          "metadata": {
            "tags": null
          },
          "name": "stderr",
          "output_type": "stream",
          "text": [
            "Epoch 107, Loss: 0.0287: 100%|████████████████████████████████████| 169/169 [00:21<00:00,  7.99it/s]\n"
          ]
        },
        {
          "metadata": {
            "tags": null
          },
          "name": "stdout",
          "output_type": "stream",
          "text": [
            "Epoch 107 average loss: 0.0287\n"
          ]
        },
        {
          "metadata": {
            "tags": null
          },
          "name": "stderr",
          "output_type": "stream",
          "text": [
            "Epoch 108, Loss: 0.0285: 100%|████████████████████████████████████| 169/169 [00:21<00:00,  8.01it/s]\n"
          ]
        },
        {
          "metadata": {
            "tags": null
          },
          "name": "stdout",
          "output_type": "stream",
          "text": [
            "Epoch 108 average loss: 0.0287\n"
          ]
        },
        {
          "metadata": {
            "tags": null
          },
          "name": "stderr",
          "output_type": "stream",
          "text": [
            "Epoch 109, Loss: 0.0292: 100%|████████████████████████████████████| 169/169 [00:21<00:00,  8.02it/s]\n"
          ]
        },
        {
          "metadata": {
            "tags": null
          },
          "name": "stdout",
          "output_type": "stream",
          "text": [
            "Epoch 109 average loss: 0.0285\n"
          ]
        },
        {
          "metadata": {
            "tags": null
          },
          "name": "stderr",
          "output_type": "stream",
          "text": [
            "Epoch 110, Loss: 0.0282: 100%|████████████████████████████████████| 169/169 [00:21<00:00,  8.02it/s]\n"
          ]
        },
        {
          "metadata": {
            "tags": null
          },
          "name": "stdout",
          "output_type": "stream",
          "text": [
            "Epoch 110 average loss: 0.0287\n"
          ]
        },
        {
          "metadata": {
            "tags": null
          },
          "name": "stderr",
          "output_type": "stream",
          "text": [
            "Epoch 111, Loss: 0.0285: 100%|████████████████████████████████████| 169/169 [00:21<00:00,  8.03it/s]\n"
          ]
        },
        {
          "metadata": {
            "tags": null
          },
          "name": "stdout",
          "output_type": "stream",
          "text": [
            "Epoch 111 average loss: 0.0285\n"
          ]
        },
        {
          "metadata": {
            "tags": null
          },
          "name": "stderr",
          "output_type": "stream",
          "text": [
            "Epoch 112, Loss: 0.0292: 100%|████████████████████████████████████| 169/169 [00:21<00:00,  8.03it/s]\n"
          ]
        },
        {
          "metadata": {
            "tags": null
          },
          "name": "stdout",
          "output_type": "stream",
          "text": [
            "Epoch 112 average loss: 0.0285\n"
          ]
        },
        {
          "metadata": {
            "tags": null
          },
          "name": "stderr",
          "output_type": "stream",
          "text": [
            "Epoch 113, Loss: 0.0281: 100%|████████████████████████████████████| 169/169 [00:21<00:00,  8.01it/s]\n"
          ]
        },
        {
          "metadata": {
            "tags": null
          },
          "name": "stdout",
          "output_type": "stream",
          "text": [
            "Epoch 113 average loss: 0.0282\n"
          ]
        },
        {
          "metadata": {
            "tags": null
          },
          "name": "stderr",
          "output_type": "stream",
          "text": [
            "Epoch 114, Loss: 0.0284: 100%|████████████████████████████████████| 169/169 [00:21<00:00,  8.01it/s]\n"
          ]
        },
        {
          "metadata": {
            "tags": null
          },
          "name": "stdout",
          "output_type": "stream",
          "text": [
            "Epoch 114 average loss: 0.0283\n"
          ]
        },
        {
          "metadata": {
            "tags": null
          },
          "name": "stderr",
          "output_type": "stream",
          "text": [
            "Epoch 115, Loss: 0.0284: 100%|████████████████████████████████████| 169/169 [00:21<00:00,  7.83it/s]\n"
          ]
        },
        {
          "metadata": {
            "tags": null
          },
          "name": "stdout",
          "output_type": "stream",
          "text": [
            "Epoch 115 average loss: 0.0283\n"
          ]
        },
        {
          "metadata": {
            "tags": null
          },
          "name": "stderr",
          "output_type": "stream",
          "text": [
            "Epoch 116, Loss: 0.0281: 100%|████████████████████████████████████| 169/169 [00:21<00:00,  8.02it/s]\n"
          ]
        },
        {
          "metadata": {
            "tags": null
          },
          "name": "stdout",
          "output_type": "stream",
          "text": [
            "Epoch 116 average loss: 0.0280\n"
          ]
        },
        {
          "metadata": {
            "tags": null
          },
          "name": "stderr",
          "output_type": "stream",
          "text": [
            "Epoch 117, Loss: 0.0275: 100%|████████████████████████████████████| 169/169 [00:21<00:00,  8.01it/s]\n"
          ]
        },
        {
          "metadata": {
            "tags": null
          },
          "name": "stdout",
          "output_type": "stream",
          "text": [
            "Epoch 117 average loss: 0.0281\n"
          ]
        },
        {
          "metadata": {
            "tags": null
          },
          "name": "stderr",
          "output_type": "stream",
          "text": [
            "Epoch 118, Loss: 0.0285: 100%|████████████████████████████████████| 169/169 [00:21<00:00,  8.00it/s]\n"
          ]
        },
        {
          "metadata": {
            "tags": null
          },
          "name": "stdout",
          "output_type": "stream",
          "text": [
            "Epoch 118 average loss: 0.0280\n"
          ]
        },
        {
          "metadata": {
            "tags": null
          },
          "name": "stderr",
          "output_type": "stream",
          "text": [
            "Epoch 119, Loss: 0.0275: 100%|████████████████████████████████████| 169/169 [00:21<00:00,  7.86it/s]\n"
          ]
        },
        {
          "metadata": {
            "tags": null
          },
          "name": "stdout",
          "output_type": "stream",
          "text": [
            "Epoch 119 average loss: 0.0279\n"
          ]
        },
        {
          "metadata": {
            "tags": null
          },
          "name": "stderr",
          "output_type": "stream",
          "text": [
            "Epoch 120, Loss: 0.0272: 100%|████████████████████████████████████| 169/169 [00:21<00:00,  8.00it/s]\n"
          ]
        },
        {
          "metadata": {
            "tags": null
          },
          "name": "stdout",
          "output_type": "stream",
          "text": [
            "Epoch 120 average loss: 0.0280\n"
          ]
        },
        {
          "metadata": {
            "tags": null
          },
          "name": "stderr",
          "output_type": "stream",
          "text": [
            "Epoch 121, Loss: 0.0290: 100%|████████████████████████████████████| 169/169 [00:21<00:00,  8.02it/s]\n"
          ]
        },
        {
          "metadata": {
            "tags": null
          },
          "name": "stdout",
          "output_type": "stream",
          "text": [
            "Epoch 121 average loss: 0.0278\n"
          ]
        },
        {
          "metadata": {
            "tags": null
          },
          "name": "stderr",
          "output_type": "stream",
          "text": [
            "Epoch 122, Loss: 0.0278: 100%|████████████████████████████████████| 169/169 [00:21<00:00,  7.97it/s]\n"
          ]
        },
        {
          "metadata": {
            "tags": null
          },
          "name": "stdout",
          "output_type": "stream",
          "text": [
            "Epoch 122 average loss: 0.0278\n"
          ]
        },
        {
          "metadata": {
            "tags": null
          },
          "name": "stderr",
          "output_type": "stream",
          "text": [
            "Epoch 123, Loss: 0.0299: 100%|████████████████████████████████████| 169/169 [00:21<00:00,  8.01it/s]\n"
          ]
        },
        {
          "metadata": {
            "tags": null
          },
          "name": "stdout",
          "output_type": "stream",
          "text": [
            "Epoch 123 average loss: 0.0278\n"
          ]
        },
        {
          "metadata": {
            "tags": null
          },
          "name": "stderr",
          "output_type": "stream",
          "text": [
            "Epoch 124, Loss: 0.0276: 100%|████████████████████████████████████| 169/169 [00:21<00:00,  8.00it/s]\n"
          ]
        },
        {
          "metadata": {
            "tags": null
          },
          "name": "stdout",
          "output_type": "stream",
          "text": [
            "Epoch 124 average loss: 0.0277\n"
          ]
        },
        {
          "output_type": "stream",
          "name": "stderr",
          "text": [
            "Epoch 125, Loss: 0.0269: 100%|████████████████████████████████████| 169/169 [00:21<00:00,  8.03it/s]\n"
          ]
        },
        {
          "output_type": "stream",
          "name": "stdout",
          "text": [
            "Epoch 125 average loss: 0.0278\n"
          ]
        },
        {
          "output_type": "stream",
          "name": "stderr",
          "text": [
            "Epoch 126, Loss: 0.0280: 100%|████████████████████████████████████| 169/169 [00:21<00:00,  7.97it/s]\n"
          ]
        },
        {
          "output_type": "stream",
          "name": "stdout",
          "text": [
            "Epoch 126 average loss: 0.0276\n"
          ]
        },
        {
          "output_type": "stream",
          "name": "stderr",
          "text": [
            "Epoch 127, Loss: 0.0271: 100%|████████████████████████████████████| 169/169 [00:21<00:00,  8.02it/s]\n"
          ]
        },
        {
          "output_type": "stream",
          "name": "stdout",
          "text": [
            "Epoch 127 average loss: 0.0275\n"
          ]
        },
        {
          "output_type": "stream",
          "name": "stderr",
          "text": [
            "Epoch 128, Loss: 0.0287: 100%|████████████████████████████████████| 169/169 [00:21<00:00,  8.01it/s]\n"
          ]
        },
        {
          "output_type": "stream",
          "name": "stdout",
          "text": [
            "Epoch 128 average loss: 0.0276\n"
          ]
        },
        {
          "output_type": "stream",
          "name": "stderr",
          "text": [
            "Epoch 129, Loss: 0.0301: 100%|████████████████████████████████████| 169/169 [00:21<00:00,  8.01it/s]\n"
          ]
        },
        {
          "output_type": "stream",
          "name": "stdout",
          "text": [
            "Epoch 129 average loss: 0.0275\n"
          ]
        },
        {
          "output_type": "stream",
          "name": "stderr",
          "text": [
            "Epoch 130, Loss: 0.0268: 100%|████████████████████████████████████| 169/169 [00:21<00:00,  7.93it/s]\n"
          ]
        },
        {
          "output_type": "stream",
          "name": "stdout",
          "text": [
            "Epoch 130 average loss: 0.0275\n"
          ]
        },
        {
          "output_type": "stream",
          "name": "stderr",
          "text": [
            "Epoch 131, Loss: 0.0276: 100%|████████████████████████████████████| 169/169 [00:21<00:00,  8.01it/s]\n"
          ]
        },
        {
          "output_type": "stream",
          "name": "stdout",
          "text": [
            "Epoch 131 average loss: 0.0274\n"
          ]
        },
        {
          "output_type": "stream",
          "name": "stderr",
          "text": [
            "Epoch 132, Loss: 0.0279: 100%|████████████████████████████████████| 169/169 [00:21<00:00,  8.00it/s]\n"
          ]
        },
        {
          "output_type": "stream",
          "name": "stdout",
          "text": [
            "Epoch 132 average loss: 0.0274\n"
          ]
        },
        {
          "output_type": "stream",
          "name": "stderr",
          "text": [
            "Epoch 133, Loss: 0.0277: 100%|████████████████████████████████████| 169/169 [00:21<00:00,  7.99it/s]\n"
          ]
        },
        {
          "output_type": "stream",
          "name": "stdout",
          "text": [
            "Epoch 133 average loss: 0.0273\n"
          ]
        },
        {
          "output_type": "stream",
          "name": "stderr",
          "text": [
            "Epoch 134, Loss: 0.0277: 100%|████████████████████████████████████| 169/169 [00:21<00:00,  7.91it/s]\n"
          ]
        },
        {
          "output_type": "stream",
          "name": "stdout",
          "text": [
            "Epoch 134 average loss: 0.0273\n"
          ]
        },
        {
          "output_type": "stream",
          "name": "stderr",
          "text": [
            "Epoch 135, Loss: 0.0283: 100%|████████████████████████████████████| 169/169 [00:21<00:00,  7.99it/s]\n"
          ]
        },
        {
          "output_type": "stream",
          "name": "stdout",
          "text": [
            "Epoch 135 average loss: 0.0273\n"
          ]
        },
        {
          "output_type": "stream",
          "name": "stderr",
          "text": [
            "Epoch 136, Loss: 0.0278: 100%|████████████████████████████████████| 169/169 [00:21<00:00,  8.01it/s]\n"
          ]
        },
        {
          "output_type": "stream",
          "name": "stdout",
          "text": [
            "Epoch 136 average loss: 0.0273\n"
          ]
        },
        {
          "output_type": "stream",
          "name": "stderr",
          "text": [
            "Epoch 137, Loss: 0.0277: 100%|████████████████████████████████████| 169/169 [00:21<00:00,  8.02it/s]\n"
          ]
        },
        {
          "output_type": "stream",
          "name": "stdout",
          "text": [
            "Epoch 137 average loss: 0.0273\n"
          ]
        },
        {
          "output_type": "stream",
          "name": "stderr",
          "text": [
            "Epoch 138, Loss: 0.0273: 100%|████████████████████████████████████| 169/169 [00:21<00:00,  8.02it/s]\n"
          ]
        },
        {
          "output_type": "stream",
          "name": "stdout",
          "text": [
            "Epoch 138 average loss: 0.0273\n"
          ]
        },
        {
          "output_type": "stream",
          "name": "stderr",
          "text": [
            "Epoch 139, Loss: 0.0274: 100%|████████████████████████████████████| 169/169 [00:21<00:00,  8.01it/s]\n"
          ]
        },
        {
          "output_type": "stream",
          "name": "stdout",
          "text": [
            "Epoch 139 average loss: 0.0273\n"
          ]
        },
        {
          "output_type": "stream",
          "name": "stderr",
          "text": [
            "Epoch 140, Loss: 0.0272: 100%|████████████████████████████████████| 169/169 [00:21<00:00,  8.01it/s]\n"
          ]
        },
        {
          "output_type": "stream",
          "name": "stdout",
          "text": [
            "Epoch 140 average loss: 0.0273\n"
          ]
        },
        {
          "output_type": "stream",
          "name": "stderr",
          "text": [
            "Epoch 141, Loss: 0.0270: 100%|████████████████████████████████████| 169/169 [00:21<00:00,  8.01it/s]\n"
          ]
        },
        {
          "output_type": "stream",
          "name": "stdout",
          "text": [
            "Epoch 141 average loss: 0.0273\n"
          ]
        },
        {
          "output_type": "stream",
          "name": "stderr",
          "text": [
            "Epoch 142, Loss: 0.0265: 100%|████████████████████████████████████| 169/169 [00:21<00:00,  8.01it/s]\n"
          ]
        },
        {
          "output_type": "stream",
          "name": "stdout",
          "text": [
            "Epoch 142 average loss: 0.0272\n"
          ]
        },
        {
          "output_type": "stream",
          "name": "stderr",
          "text": [
            "Epoch 143, Loss: 0.0292: 100%|████████████████████████████████████| 169/169 [00:21<00:00,  8.02it/s]\n"
          ]
        },
        {
          "output_type": "stream",
          "name": "stdout",
          "text": [
            "Epoch 143 average loss: 0.0272\n"
          ]
        },
        {
          "output_type": "stream",
          "name": "stderr",
          "text": [
            "Epoch 144, Loss: 0.0265: 100%|████████████████████████████████████| 169/169 [00:21<00:00,  8.01it/s]\n"
          ]
        },
        {
          "output_type": "stream",
          "name": "stdout",
          "text": [
            "Epoch 144 average loss: 0.0272\n"
          ]
        },
        {
          "output_type": "stream",
          "name": "stderr",
          "text": [
            "Epoch 145, Loss: 0.0272: 100%|████████████████████████████████████| 169/169 [00:21<00:00,  8.00it/s]\n"
          ]
        },
        {
          "output_type": "stream",
          "name": "stdout",
          "text": [
            "Epoch 145 average loss: 0.0272\n"
          ]
        },
        {
          "output_type": "stream",
          "name": "stderr",
          "text": [
            "Epoch 146, Loss: 0.0273: 100%|████████████████████████████████████| 169/169 [00:21<00:00,  8.01it/s]\n"
          ]
        },
        {
          "output_type": "stream",
          "name": "stdout",
          "text": [
            "Epoch 146 average loss: 0.0272\n"
          ]
        },
        {
          "output_type": "stream",
          "name": "stderr",
          "text": [
            "Epoch 147, Loss: 0.0283: 100%|████████████████████████████████████| 169/169 [00:21<00:00,  8.02it/s]\n"
          ]
        },
        {
          "output_type": "stream",
          "name": "stdout",
          "text": [
            "Epoch 147 average loss: 0.0271\n"
          ]
        },
        {
          "output_type": "stream",
          "name": "stderr",
          "text": [
            "Epoch 148, Loss: 0.0275: 100%|████████████████████████████████████| 169/169 [00:21<00:00,  8.02it/s]\n"
          ]
        },
        {
          "output_type": "stream",
          "name": "stdout",
          "text": [
            "Epoch 148 average loss: 0.0273\n"
          ]
        },
        {
          "output_type": "stream",
          "name": "stderr",
          "text": [
            "Epoch 149, Loss: 0.0271: 100%|████████████████████████████████████| 169/169 [00:21<00:00,  8.02it/s]\n"
          ]
        },
        {
          "output_type": "stream",
          "name": "stdout",
          "text": [
            "Epoch 149 average loss: 0.0271\n"
          ]
        },
        {
          "output_type": "stream",
          "name": "stderr",
          "text": [
            "Epoch 150, Loss: 0.0290: 100%|████████████████████████████████████| 169/169 [00:21<00:00,  8.01it/s]\n"
          ]
        },
        {
          "output_type": "stream",
          "name": "stdout",
          "text": [
            "Epoch 150 average loss: 0.0273\n",
            "Training completed.\n"
          ]
        },
        {
          "output_type": "display_data",
          "data": {
            "text/plain": [
              "<Figure size 800x500 with 1 Axes>"
            ],
            "image/png": "[encoded data removed]"
          },
          "metadata": {}
        },
        {
          "output_type": "stream",
          "name": "stdout",
          "text": [
            "Evaluation started...\n",
            "Evaluation PR AUC: 0.8064998091006401\n"
          ]
        }
      ],
      "source": [
        " if __name__ == \"__main__\":\n",
        "    args = get_args()\n",
        "    os.environ[\"CUDA_VISIBLE_DEVICES\"] = str(args.gpu)\n",
        "    set_seed(2025)\n",
        "    train_and_evaluate(args)"
      ]
    },
    {
      "cell_type": "code",
      "source": [
        "\n",
        "import torch\n",
        "import pandas as pd\n",
        "import os\n",
        "import torch.nn.functional as F\n",
        "from torch.utils.data import DataLoader\n",
        "from sklearn import metrics\n",
        "\n",
        "# 장치 설정\n",
        "device = torch.device(\"cuda\" if torch.cuda.is_available() else \"cpu\")\n",
        "\n",
        "# 모델 로드\n",
        "model = DenoisingAutoencoder(input_channels=1, dropout=0.2).to(device)\n",
        "model.load_state_dict(torch.load(os.path.join(args.model_dir, args.model_path), map_location=device))\n",
        "model.eval()\n",
        "\n",
        "# 데이터 로더 준비\n",
        "eval_loader, file_list = get_eval_loader(args)\n",
        "criterion = torch.nn.MSELoss()\n",
        "\n",
        "# 결과 저장 리스트\n",
        "results = []\n",
        "y_true, y_pred = [], []\n",
        "\n",
        "for idx, data in enumerate(eval_loader):\n",
        "    spec, anomaly_label = data[0].to(device), data[1].item()\n",
        "\n",
        "    with torch.no_grad():\n",
        "        recon_spec = model(spec)\n",
        "        loss = criterion(recon_spec, spec).item()\n",
        "\n",
        "    # 파일 이름이 존재하는지 확인 후 저장\n",
        "    file_name = file_list[idx] if idx < len(file_list) else f\"unknown_{idx}\"\n",
        "    results.append([file_name, anomaly_label, loss])\n",
        "    y_true.append(1 if anomaly_label > 0 else 0)\n",
        "    y_pred.append(loss)\n",
        "\n",
        "# CSV 저장\n",
        "df_results = pd.DataFrame(results, columns=[\"File Name\", \"Anomaly Label\", \"Loss\"])\n",
        "csv_file_path = os.path.join(args.result_dir, \"test_results_dae_10.csv\")\n",
        "df_results.to_csv(csv_file_path, index=False)\n",
        "print(f\"테스트가 완료되었습니다. 결과는 {csv_file_path}에 저장되었습니다.\")\n",
        "\n",
        "# AUC 평가\n",
        "auc = metrics.roc_auc_score(y_true, y_pred)\n",
        "print(f\"Evaluation AUC: {auc:.4f}\")"
      ],
      "metadata": {
        "id": "aF1b11aofWq9"
      },
      "execution_count": null,
      "outputs": []
    },
    {
      "cell_type": "markdown",
      "metadata": {
        "id": "gA8-fOjQPRUV"
      },
      "source": [
        "## 평가 데이터 바꿔서 모델 가중치 불러오기"
      ]
    },
    {
      "cell_type": "code",
      "source": [
        "import os\n",
        "import torch\n",
        "import torch.nn as nn\n",
        "from torch.utils.data import DataLoader, Dataset\n",
        "from sklearn.metrics import roc_auc_score\n",
        "import torchaudio\n",
        "\n",
        "# 디바이스 설정\n",
        "device = torch.device(\"cuda\" if torch.cuda.is_available() else \"cpu\")\n",
        "\n",
        "# 평가 데이터 경로 설정\n",
        "eval_dir = \"/content/ICSV31AIChallengeDataset/eval\"\n",
        "\n",
        "# 모델 생성 및 가중치 불러오기\n",
        "dropout = 0.05  # args 없이 직접 설정\n",
        "model = DAEModel(dropout=dropout).to(device)\n",
        "\n",
        "checkpoint_path = \"/content/drive/MyDrive/model_dae_b.pth\"\n",
        "model.load_state_dict(torch.load(checkpoint_path, map_location=device))\n",
        "model.eval()\n",
        "print(\"모델 가중치 로드 완료\")\n",
        "\n",
        "#######################\n",
        "# 데이터 로드 함수 (디렉토리 문제 해결)\n",
        "#######################\n",
        "def get_eval_loader(eval_dir: str) -> tuple:\n",
        "    \"\"\" 새로운 평가 데이터 로드 (오디오 파일만 포함) \"\"\"\n",
        "    file_list = sorted(os.listdir(eval_dir))\n",
        "\n",
        "    # 오직 \".wav\" 파일만 포함 (디렉토리 제외)\n",
        "    file_list = [os.path.join(eval_dir, f) for f in file_list if f.endswith(\".wav\")]\n",
        "\n",
        "    if not file_list:\n",
        "        raise ValueError(f\"{eval_dir}에 유효한 .wav 파일이 없습니다.\")\n",
        "\n",
        "    dataset = EvalDataset(file_list)\n",
        "    return DataLoader(dataset, batch_size=1, shuffle=False, num_workers=0), file_list\n",
        "\n",
        "#######################\n",
        "# Dataset 클래스 (STFT 변환 포함)\n",
        "#######################\n",
        "class EvalDataset(Dataset):\n",
        "    def __init__(self, file_list):\n",
        "        self.file_list = file_list\n",
        "\n",
        "    def __len__(self):\n",
        "        return len(self.file_list)\n",
        "\n",
        "    def __getitem__(self, idx):\n",
        "        wav_path = self.file_list[idx]\n",
        "        spec = self.wav_to_log_stft(wav_path, sr=16000, n_fft=2048, win_length=512, hop_length=512, power=2.0)\n",
        "\n",
        "        # 정답 라벨 추출 (파일명 기반)\n",
        "        anomaly_label = 1 if \"anomaly\" in wav_path else 0\n",
        "\n",
        "        return spec, anomaly_label\n",
        "\n",
        "    @staticmethod\n",
        "    def wav_to_log_stft(wav_path: str, sr: int, n_fft: int, win_length: int, hop_length: int, power: float) -> torch.Tensor:\n",
        "        \"\"\" 오디오 파일을 로그 STFT 변환 \"\"\"\n",
        "        stft_transform = torchaudio.transforms.Spectrogram(\n",
        "            n_fft=n_fft, win_length=win_length, hop_length=hop_length, power=power\n",
        "        )\n",
        "        wav_data, _ = torchaudio.load(wav_path)\n",
        "        spec = stft_transform(wav_data)\n",
        "        amp_to_db = torchaudio.transforms.AmplitudeToDB()\n",
        "        log_spec = amp_to_db(spec)\n",
        "        log_spec = (log_spec - log_spec.mean()) / (log_spec.std() + 1e-9)  # 정규화\n",
        "        return log_spec\n",
        "\n",
        "#######################\n",
        "# 평가 데이터 로드\n",
        "#######################\n",
        "eval_loader, file_list = get_eval_loader(eval_dir)\n",
        "\n",
        "# 손실 함수 설정\n",
        "criterion = nn.MSELoss()\n",
        "\n",
        "# AUC 계산을 위한 리스트 초기화\n",
        "y_true, y_pred = [], []\n",
        "\n",
        "print(\"새로운 평가 데이터셋을 사용하여 AUC 계산 중...\")\n",
        "with torch.no_grad():\n",
        "    for idx, data in enumerate(eval_loader):\n",
        "        spec = data[0].to(device)  # 입력 데이터 (로그 STFT)\n",
        "        anomaly_label = data[1]  # 정답 라벨 (정상=0, 이상=1)\n",
        "\n",
        "        decoded = model(spec)\n",
        "        loss = criterion(decoded, spec)  # MSE 기반 이상 탐지 점수\n",
        "\n",
        "        # 수정된 부분: `.item()` 대신 `.tolist()` 사용\n",
        "        y_true.extend(anomaly_label.view(-1).tolist())  # 개별적으로 저장\n",
        "        y_pred.extend(loss.view(-1).tolist())  # 개별적으로 저장\n",
        "\n",
        "# AUC 점수 계산\n",
        "auc_score = roc_auc_score(y_true, y_pred)\n",
        "print(f\"새로운 평가 데이터 ({eval_dir})에서 AUC Score: {auc_score:.4f}\")\n"
      ],
      "metadata": {
        "colab": {
          "base_uri": "https://localhost:8080/",
          "height": 763
        },
        "id": "N9J6v7Qd_6DB",
        "outputId": "09c9f708-608e-4085-c11d-ef88e05f1ac9"
      },
      "execution_count": null,
      "outputs": [
        {
          "output_type": "error",
          "ename": "RuntimeError",
          "evalue": "Error(s) in loading state_dict for DenoisingAutoencoder:\n\tMissing key(s) in state_dict: \"enc1.resblock.conv1.weight\", \"enc1.resblock.conv1.bias\", \"enc1.resblock.bn1.weight\", \"enc1.resblock.bn1.bias\", \"enc1.resblock.bn1.running_mean\", \"enc1.resblock.bn1.running_var\", \"enc1.resblock.conv2.weight\", \"enc1.resblock.conv2.bias\", \"enc1.resblock.bn2.weight\", \"enc1.resblock.bn2.bias\", \"enc1.resblock.bn2.running_mean\", \"enc1.resblock.bn2.running_var\", \"enc1.resblock.downsample.0.weight\", \"enc1.resblock.downsample.0.bias\", \"enc1.resblock.downsample.1.weight\", \"enc1.resblock.downsample.1.bias\", \"enc1.resblock.downsample.1.running_mean\", \"enc1.resblock.downsample.1.running_var\", \"enc2.resblock.conv1.weight\", \"enc2.resblock.conv1.bias\", \"enc2.resblock.bn1.weight\", \"enc2.resblock.bn1.bias\", \"enc2.resblock.bn1.running_mean\", \"enc2.resblock.bn1.running_var\", \"enc2.resblock.conv2.weight\", \"enc2.resblock.conv2.bias\", \"enc2.resblock.bn2.weight\", \"enc2.resblock.bn2.bias\", \"enc2.resblock.bn2.running_mean\", \"enc2.resblock.bn2.running_var\", \"enc2.resblock.downsample.0.weight\", \"enc2.resblock.downsample.0.bias\", \"enc2.resblock.downsample.1.weight\", \"enc2.resblock.downsample.1.bias\", \"enc2.resblock.downsample.1.running_mean\", \"enc2.resblock.downsample.1.running_var\", \"enc3.resblock.conv1.weight\", \"enc3.resblock.conv1.bias\", \"enc3.resblock.bn1.weight\", \"enc3.resblock.bn1.bias\", \"enc3.resblock.bn1.running_mean\", \"enc3.resblock.bn1.running_var\", \"enc3.resblock.conv2.weight\", \"enc3.resblock.conv2.bias\", \"enc3.resblock.bn2.weight\", \"enc3.resblock.bn2.bias\", \"enc3.resblock.bn2.running_mean\", \"enc3.resblock.bn2.running_var\", \"enc3.resblock.downsample.0.weight\", \"enc3.resblock.downsample.0.bias\", \"enc3.resblock.downsample.1.weight\", \"enc3.resblock.downsample.1.bias\", \"enc3.resblock.downsample.1.running_mean\", \"enc3.resblock.downsample.1.running_var\", \"enc4.resblock.conv1.weight\", \"enc4.resblock.conv1.bias\", \"enc4.resblock.bn1.weight\", \"enc4.resblock.bn1.bias\", \"enc4.resblock.bn1.running_mean\", \"enc4.resblock.bn1.running_var\", \"enc4.resblock.conv2.weight\", \"enc4.resblock.conv2.bias\", \"enc4.resblock.bn2.weight\", \"enc4.resblock.bn2.bias\", \"enc4.resblock.bn2.running_mean\", \"enc4.resblock.bn2.running_var\", \"enc4.resblock.downsample.0.weight\", \"enc4.resblock.downsample.0.bias\", \"enc4.resblock.downsample.1.weight\", \"enc4.resblock.downsample.1.bias\", \"enc4.resblock.downsample.1.running_mean\", \"enc4.resblock.downsample.1.running_var\", \"enc5.resblock.conv1.weight\", \"enc5.resblock.conv1.bias\", \"enc5.resblock.bn1.weight\", \"enc5.resblock.bn1.bias\", \"enc5.resblock.bn1.running_mean\", \"enc5.resblock.bn1.running_var\", \"enc5.resblock.conv2.weight\", \"enc5.resblock.conv2.bias\", \"enc5.resblock.bn2.weight\", \"enc5.resblock.bn2.bias\", \"enc5.resblock.bn2.running_mean\", \"enc5.resblock.bn2.running_var\", \"enc5.resblock.downsample.0.weight\", \"enc5.resblock.downsample.0.bias\", \"enc5.resblock.downsample.1.weight\", \"enc5.resblock.downsample.1.bias\", \"enc5.resblock.downsample.1.running_mean\", \"enc5.resblock.downsample.1.running_var\", \"dec5.deconv.weight\", \"dec5.deconv.bias\", \"dec5.bn.weight\", \"dec5.bn.bias\", \"dec5.bn.running_mean\", \"dec5.bn.running_var\", \"dec5.resblock.conv1.weight\", \"dec5.resblock.conv1.bias\", \"dec5.resblock.bn1.weight\", \"dec5.resblock.bn1.bias\", \"dec5.resblock.bn1.running_mean\", \"dec5.resblock.bn1.running_var\", \"dec5.resblock.conv2.weight\", \"dec5.resblock.conv2.bias\", \"dec5.resblock.bn2.weight\", \"dec5.resblock.bn2.bias\", \"dec5.resblock.bn2.running_mean\", \"dec5.resblock.bn2.running_var\", \"dec5.resblock.downsample.0.weight\", \"dec5.resblock.downsample.0.bias\", \"dec5.resblock.downsample.1.weight\", \"dec5.resblock.downsample.1.bias\", \"dec5.resblock.downsample.1.running_mean\", \"dec5.resblock.downsample.1.running_var\", \"dec4.deconv.weight\", \"dec4.deconv.bias\", \"dec4.bn.weight\", \"dec4.bn.bias\", \"dec4.bn.running_mean\", \"dec4.bn.running_var\", \"dec4.resblock.conv1.weight\", \"dec4.resblock.conv1.bias\", \"dec4.resblock.bn1.weight\", \"dec4.resblock.bn1.bias\", \"dec4.resblock.bn1.running_mean\", \"dec4.resblock.bn1.running_var\", \"dec4.resblock.conv2.weight\", \"dec4.resblock.conv2.bias\", \"dec4.resblock.bn2.weight\", \"dec4.resblock.bn2.bias\", \"dec4.resblock.bn2.running_mean\", \"dec4.resblock.bn2.running_var\", \"dec4.resblock.downsample.0.weight\", \"dec4.resblock.downsample.0.bias\", \"dec4.resblock.downsample.1.weight\", \"dec4.resblock.downsample.1.bias\", \"dec4.resblock.downsample.1.running_mean\", \"dec4.resblock.downsample.1.running_var\", \"dec3.deconv.weight\", \"dec3.deconv.bias\", \"dec3.bn.weight\", \"dec3.bn.bias\", \"dec3.bn.running_mean\", \"dec3.bn.running_var\", \"dec3.resblock.conv1.weight\", \"dec3.resblock.conv1.bias\", \"dec3.resblock.bn1.weight\", \"dec3.resblock.bn1.bias\", \"dec3.resblock.bn1.running_mean\", \"dec3.resblock.bn1.running_var\", \"dec3.resblock.conv2.weight\", \"dec3.resblock.conv2.bias\", \"dec3.resblock.bn2.weight\", \"dec3.resblock.bn2.bias\", \"dec3.resblock.bn2.running_mean\", \"dec3.resblock.bn2.running_var\", \"dec3.resblock.downsample.0.weight\", \"dec3.resblock.downsample.0.bias\", \"dec3.resblock.downsample.1.weight\", \"dec3.resblock.downsample.1.bias\", \"dec3.resblock.downsample.1.running_mean\", \"dec3.resblock.downsample.1.running_var\", \"dec2.deconv.weight\", \"dec2.deconv.bias\", \"dec2.bn.weight\", \"dec2.bn.bias\", \"dec2.bn.running_mean\", \"dec2.bn.running_var\", \"dec2.resblock.conv1.weight\", \"dec2.resblock.conv1.bias\", \"dec2.resblock.bn1.weight\", \"dec2.resblock.bn1.bias\", \"dec2.resblock.bn1.running_mean\", \"dec2.resblock.bn1.running_var\", \"dec2.resblock.conv2.weight\", \"dec2.resblock.conv2.bias\", \"dec2.resblock.bn2.weight\", \"dec2.resblock.bn2.bias\", \"dec2.resblock.bn2.running_mean\", \"dec2.resblock.bn2.running_var\", \"dec2.resblock.downsample.0.weight\", \"dec2.resblock.downsample.0.bias\", \"dec2.resblock.downsample.1.weight\", \"dec2.resblock.downsample.1.bias\", \"dec2.resblock.downsample.1.running_mean\", \"dec2.resblock.downsample.1.running_var\", \"dec1.weight\", \"dec1.bias\". \n\tUnexpected key(s) in state_dict: \"_orig_mod.enc1.resblock.conv1.weight\", \"_orig_mod.enc1.resblock.conv1.bias\", \"_orig_mod.enc1.resblock.bn1.weight\", \"_orig_mod.enc1.resblock.bn1.bias\", \"_orig_mod.enc1.resblock.bn1.running_mean\", \"_orig_mod.enc1.resblock.bn1.running_var\", \"_orig_mod.enc1.resblock.bn1.num_batches_tracked\", \"_orig_mod.enc1.resblock.conv2.weight\", \"_orig_mod.enc1.resblock.conv2.bias\", \"_orig_mod.enc1.resblock.bn2.weight\", \"_orig_mod.enc1.resblock.bn2.bias\", \"_orig_mod.enc1.resblock.bn2.running_mean\", \"_orig_mod.enc1.resblock.bn2.running_var\", \"_orig_mod.enc1.resblock.bn2.num_batches_tracked\", \"_orig_mod.enc1.resblock.downsample.0.weight\", \"_orig_mod.enc1.resblock.downsample.0.bias\", \"_orig_mod.enc1.resblock.downsample.1.weight\", \"_orig_mod.enc1.resblock.downsample.1.bias\", \"_orig_mod.enc1.resblock.downsample.1.running_mean\", \"_orig_mod.enc1.resblock.downsample.1.running_var\", \"_orig_mod.enc1.resblock.downsample.1.num_batches_tracked\", \"_orig_mod.enc2.resblock.conv1.weight\", \"_orig_mod.enc2.resblock.conv1.bias\", \"_orig_mod.enc2.resblock.bn1.weight\", \"_orig_mod.enc2.resblock.bn1.bias\", \"_orig_mod.enc2.resblock.bn1.running_mean\", \"_orig_mod.enc2.resblock.bn1.running_var\", \"_orig_mod.enc2.resblock.bn1.num_batches_tracked\", \"_orig_mod.enc2.resblock.conv2.weight\", \"_orig_mod.enc2.resblock.conv2.bias\", \"_orig_mod.enc2.resblock.bn2.weight\", \"_orig_mod.enc2.resblock.bn2.bias\", \"_orig_mod.enc2.resblock.bn2.running_mean\", \"_orig_mod.enc2.resblock.bn2.running_var\", \"_orig_mod.enc2.resblock.bn2.num_batches_tracked\", \"_orig_mod.enc2.resblock.downsample.0.weight\", \"_orig_mod.enc2.resblock.downsample.0.bias\", \"_orig_mod.enc2.resblock.downsample.1.weight\", \"_orig_mod.enc2.resblock.downsample.1.bias\", \"_orig_mod.enc2.resblock.downsample.1.running_mean\", \"_orig_mod.enc2.resblock.downsample.1.running_var\", \"_orig_mod.enc2.resblock.downsample.1.num_batches_tracked\", \"_orig_mod.enc3.resblock.conv1.weight\", \"_orig_mod.enc3.resblock.conv1.bias\", \"_orig_mod.enc3.resblock.bn1.weight\", \"_orig_mod.enc3.resblock.bn1.bias\", \"_orig_mod.enc3.resblock.bn1.running_mean\", \"_orig_mod.enc3.resblock.bn1.running_var\", \"_orig_mod.enc3.resblock.bn1.num_batches_tracked\", \"_orig_mod.enc3.resblock.conv2.weight\", \"_orig_mod.enc3.resblock.conv2.bias\", \"_orig_mod.enc3.resblock.bn2.weight\", \"_orig_mod.enc3.resblock.bn2.bias\", \"_orig_mod.enc3.resblock.bn2.running_mean\", \"_orig_mod.enc3.resblock.bn2.running_var\", \"_orig_mod.enc3.resblock.bn2.num_batches_tracked\", \"_orig_mod.enc3.resblock.downsample.0.weight\", \"_orig_mod.enc3.resblock.downsample.0.bias\", \"_orig_mod.enc3.resblock.downsample.1.weight\", \"_orig_mod.enc3.resblock.downsample.1.bias\", \"_orig_mod.enc3.resblock.downsample.1.running_mean\", \"_orig_mod.enc3.resblock.downsample.1.running_var\", \"_orig_mod.enc3.resblock.downsample.1.num_batches_tracked\", \"_orig_mod.enc4.resblock.conv1.weight\", \"_orig_mod.enc4.resblock.conv1.bias\", \"_orig_mod.enc4.resblock.bn1.weight\", \"_orig_mod.enc4.resblock.bn1.bias\", \"_orig_mod.enc4.resblock.bn1.running_mean\", \"_orig_mod.enc4.resblock.bn1.running_var\", \"_orig_mod.enc4.resblock.bn1.num_batches_tracked\", \"_orig_mod.enc4.resblock.conv2.weight\", \"_orig_mod.enc4.resblock.conv2.bias\", \"_orig_mod.enc4.resblock.bn2.weight\", \"_orig_mod.enc4.resblock.bn2.bias\", \"_orig_mod.enc4.resblock.bn2.running_mean\", \"_orig_mod.enc4.resblock.bn2.running_var\", \"_orig_mod.enc4.resblock.bn2.num_batches_tracked\", \"_orig_mod.enc4.resblock.downsample.0.weight\", \"_orig_mod.enc4.resblock.downsample.0.bias\", \"_orig_mod.enc4.resblock.downsample.1.weight\", \"_orig_mod.enc4.resblock.downsample.1.bias\", \"_orig_mod.enc4.resblock.downsample.1.running_mean\", \"_orig_mod.enc4.resblock.downsample.1.running_var\", \"_orig_mod.enc4.resblock.downsample.1.num_batches_tracked\", \"_orig_mod.enc5.resblock.conv1.weight\", \"_orig_mod.enc5.resblock.conv1.bias\", \"_orig_mod.enc5.resblock.bn1.weight\", \"_orig_mod.enc5.resblock.bn1.bias\", \"_orig_mod.enc5.resblock.bn1.running_mean\", \"_orig_mod.enc5.resblock.bn1.running_var\", \"_orig_mod.enc5.resblock.bn1.num_batches_tracked\", \"_orig_mod.enc5.resblock.conv2.weight\", \"_orig_mod.enc5.resblock.conv2.bias\", \"_orig_mod.enc5.resblock.bn2.weight\", \"_orig_mod.enc5.resblock.bn2.bias\", \"_orig_mod.enc5.resblock.bn2.running_mean\", \"_orig_mod.enc5.resblock.bn2.running_var\", \"_orig_mod.enc5.resblock.bn2.num_batches_tracked\", \"_orig_mod.enc5.resblock.downsample.0.weight\", \"_orig_mod.enc5.resblock.downsample.0.bias\", \"_orig_mod.enc5.resblock.downsample.1.weight\", \"_orig_mod.enc5.resblock.downsample.1.bias\", \"_orig_mod.enc5.resblock.downsample.1.running_mean\", \"_orig_mod.enc5.resblock.downsample.1.running_var\", \"_orig_mod.enc5.resblock.downsample.1.num_batches_tracked\", \"_orig_mod.dec5.deconv.weight\", \"_orig_mod.dec5.deconv.bias\", \"_orig_mod.dec5.bn.weight\", \"_orig_mod.dec5.bn.bias\", \"_orig_mod.dec5.bn.running_mean\", \"_orig_mod.dec5.bn.running_var\", \"_orig_mod.dec5.bn.num_batches_tracked\", \"_orig_mod.dec5.resblock.conv1.weight\", \"_orig_mod.dec5.resblock.conv1.bias\", \"_orig_mod.dec5.resblock.bn1.weight\", \"_orig_mod.dec5.resblock.bn1.bias\", \"_orig_mod.dec5.resblock.bn1.running_mean\", \"_orig_mod.dec5.resblock.bn1.running_var\", \"_orig_mod.dec5.resblock.bn1.num_batches_tracked\", \"_orig_mod.dec5.resblock.conv2.weight\", \"_orig_mod.dec5.resblock.conv2.bias\", \"_orig_mod.dec5.resblock.bn2.weight\", \"_orig_mod.dec5.resblock.bn2.bias\", \"_orig_mod.dec5.resblock.bn2.running_mean\", \"_orig_mod.dec5.resblock.bn2.running_var\", \"_orig_mod.dec5.resblock.bn2.num_batches_tracked\", \"_orig_mod.dec5.resblock.downsample.0.weight\", \"_orig_mod.dec5.resblock.downsample.0.bias\", \"_orig_mod.dec5.resblock.downsample.1.weight\", \"_orig_mod.dec5.resblock.downsample.1.bias\", \"_orig_mod.dec5.resblock.downsample.1.running_mean\", \"_orig_mod.dec5.resblock.downsample.1.running_var\", \"_orig_mod.dec5.resblock.downsample.1.num_batches_tracked\", \"_orig_mod.dec4.deconv.weight\", \"_orig_mod.dec4.deconv.bias\", \"_orig_mod.dec4.bn.weight\", \"_orig_mod.dec4.bn.bias\", \"_orig_mod.dec4.bn.running_mean\", \"_orig_mod.dec4.bn.running_var\", \"_orig_mod.dec4.bn.num_batches_tracked\", \"_orig_mod.dec4.resblock.conv1.weight\", \"_orig_mod.dec4.resblock.conv1.bias\", \"_orig_mod.dec4.resblock.bn1.weight\", \"_orig_mod.dec4.resblock.bn1.bias\", \"_orig_mod.dec4.resblock.bn1.running_mean\", \"_orig_mod.dec4.resblock.bn1.running_var\", \"_orig_mod.dec4.resblock.bn1.num_batches_tracked\", \"_orig_mod.dec4.resblock.conv2.weight\", \"_orig_mod.dec4.resblock.conv2.bias\", \"_orig_mod.dec4.resblock.bn2.weight\", \"_orig_mod.dec4.resblock.bn2.bias\", \"_orig_mod.dec4.resblock.bn2.running_mean\", \"_orig_mod.dec4.resblock.bn2.running_var\", \"_orig_mod.dec4.resblock.bn2.num_batches_tracked\", \"_orig_mod.dec4.resblock.downsample.0.weight\", \"_orig_mod.dec4.resblock.downsample.0.bias\", \"_orig_mod.dec4.resblock.downsample.1.weight\", \"_orig_mod.dec4.resblock.downsample.1.bias\", \"_orig_mod.dec4.resblock.downsample.1.running_mean\", \"_orig_mod.dec4.resblock.downsample.1.running_var\", \"_orig_mod.dec4.resblock.downsample.1.num_batches_tracked\", \"_orig_mod.dec3.deconv.weight\", \"_orig_mod.dec3.deconv.bias\", \"_orig_mod.dec3.bn.weight\", \"_orig_mod.dec3.bn.bias\", \"_orig_mod.dec3.bn.running_mean\", \"_orig_mod.dec3.bn.running_var\", \"_orig_mod.dec3.bn.num_batches_tracked\", \"_orig_mod.dec3.resblock.conv1.weight\", \"_orig_mod.dec3.resblock.conv1.bias\", \"_orig_mod.dec3.resblock.bn1.weight\", \"_orig_mod.dec3.resblock.bn1.bias\", \"_orig_mod.dec3.resblock.bn1.running_mean\", \"_orig_mod.dec3.resblock.bn1.running_var\", \"_orig_mod.dec3.resblock.bn1.num_batches_tracked\", \"_orig_mod.dec3.resblock.conv2.weight\", \"_orig_mod.dec3.resblock.conv2.bias\", \"_orig_mod.dec3.resblock.bn2.weight\", \"_orig_mod.dec3.resblock.bn2.bias\", \"_orig_mod.dec3.resblock.bn2.running_mean\", \"_orig_mod.dec3.resblock.bn2.running_var\", \"_orig_mod.dec3.resblock.bn2.num_batches_tracked\", \"_orig_mod.dec3.resblock.downsample.0.weight\", \"_orig_mod.dec3.resblock.downsample.0.bias\", \"_orig_mod.dec3.resblock.downsample.1.weight\", \"_orig_mod.dec3.resblock.downsample.1.bias\", \"_orig_mod.dec3.resblock.downsample.1.running_mean\", \"_orig_mod.dec3.resblock.downsample.1.running_var\", \"_orig_mod.dec3.resblock.downsample.1.num_batches_tracked\", \"_orig_mod.dec2.deconv.weight\", \"_orig_mod.dec2.deconv.bias\", \"_orig_mod.dec2.bn.weight\", \"_orig_mod.dec2.bn.bias\", \"_orig_mod.dec2.bn.running_mean\", \"_orig_mod.dec2.bn.running_var\", \"_orig_mod.dec2.bn.num_batches_tracked\", \"_orig_mod.dec2.resblock.conv1.weight\", \"_orig_mod.dec2.resblock.conv1.bias\", \"_orig_mod.dec2.resblock.bn1.weight\", \"_orig_mod.dec2.resblock.bn1.bias\", \"_orig_mod.dec2.resblock.bn1.running_mean\", \"_orig_mod.dec2.resblock.bn1.running_var\", \"_orig_mod.dec2.resblock.bn1.num_batches_tracked\", \"_orig_mod.dec2.resblock.conv2.weight\", \"_orig_mod.dec2.resblock.conv2.bias\", \"_orig_mod.dec2.resblock.bn2.weight\", \"_orig_mod.dec2.resblock.bn2.bias\", \"_orig_mod.dec2.resblock.bn2.running_mean\", \"_orig_mod.dec2.resblock.bn2.running_var\", \"_orig_mod.dec2.resblock.bn2.num_batches_tracked\", \"_orig_mod.dec2.resblock.downsample.0.weight\", \"_orig_mod.dec2.resblock.downsample.0.bias\", \"_orig_mod.dec2.resblock.downsample.1.weight\", \"_orig_mod.dec2.resblock.downsample.1.bias\", \"_orig_mod.dec2.resblock.downsample.1.running_mean\", \"_orig_mod.dec2.resblock.downsample.1.running_var\", \"_orig_mod.dec2.resblock.downsample.1.num_batches_tracked\", \"_orig_mod.dec1.weight\", \"_orig_mod.dec1.bias\". ",
          "traceback": [
            "\u001b[0;31m---------------------------------------------------------------------------\u001b[0m",
            "\u001b[0;31mRuntimeError\u001b[0m                              Traceback (most recent call last)",
            "\u001b[0;32m<ipython-input-13-1652ad9eda5c>\u001b[0m in \u001b[0;36m<cell line: 0>\u001b[0;34m()\u001b[0m\n\u001b[1;32m     17\u001b[0m \u001b[0;34m\u001b[0m\u001b[0m\n\u001b[1;32m     18\u001b[0m \u001b[0mcheckpoint_path\u001b[0m \u001b[0;34m=\u001b[0m \u001b[0;34m\"/content/drive/MyDrive/model_dae_b.pth\"\u001b[0m\u001b[0;34m\u001b[0m\u001b[0;34m\u001b[0m\u001b[0m\n\u001b[0;32m---> 19\u001b[0;31m \u001b[0mmodel\u001b[0m\u001b[0;34m.\u001b[0m\u001b[0mload_state_dict\u001b[0m\u001b[0;34m(\u001b[0m\u001b[0mtorch\u001b[0m\u001b[0;34m.\u001b[0m\u001b[0mload\u001b[0m\u001b[0;34m(\u001b[0m\u001b[0mcheckpoint_path\u001b[0m\u001b[0;34m,\u001b[0m \u001b[0mmap_location\u001b[0m\u001b[0;34m=\u001b[0m\u001b[0mdevice\u001b[0m\u001b[0;34m)\u001b[0m\u001b[0;34m)\u001b[0m\u001b[0;34m\u001b[0m\u001b[0;34m\u001b[0m\u001b[0m\n\u001b[0m\u001b[1;32m     20\u001b[0m \u001b[0mmodel\u001b[0m\u001b[0;34m.\u001b[0m\u001b[0meval\u001b[0m\u001b[0;34m(\u001b[0m\u001b[0;34m)\u001b[0m\u001b[0;34m\u001b[0m\u001b[0;34m\u001b[0m\u001b[0m\n\u001b[1;32m     21\u001b[0m \u001b[0mprint\u001b[0m\u001b[0;34m(\u001b[0m\u001b[0;34m\"모델 가중치 로드 완료\"\u001b[0m\u001b[0;34m)\u001b[0m\u001b[0;34m\u001b[0m\u001b[0;34m\u001b[0m\u001b[0m\n",
            "\u001b[0;32m/usr/local/lib/python3.11/dist-packages/torch/nn/modules/module.py\u001b[0m in \u001b[0;36mload_state_dict\u001b[0;34m(self, state_dict, strict, assign)\u001b[0m\n\u001b[1;32m   2579\u001b[0m \u001b[0;34m\u001b[0m\u001b[0m\n\u001b[1;32m   2580\u001b[0m         \u001b[0;32mif\u001b[0m \u001b[0mlen\u001b[0m\u001b[0;34m(\u001b[0m\u001b[0merror_msgs\u001b[0m\u001b[0;34m)\u001b[0m \u001b[0;34m>\u001b[0m \u001b[0;36m0\u001b[0m\u001b[0;34m:\u001b[0m\u001b[0;34m\u001b[0m\u001b[0;34m\u001b[0m\u001b[0m\n\u001b[0;32m-> 2581\u001b[0;31m             raise RuntimeError(\n\u001b[0m\u001b[1;32m   2582\u001b[0m                 \"Error(s) in loading state_dict for {}:\\n\\t{}\".format(\n\u001b[1;32m   2583\u001b[0m                     \u001b[0mself\u001b[0m\u001b[0;34m.\u001b[0m\u001b[0m__class__\u001b[0m\u001b[0;34m.\u001b[0m\u001b[0m__name__\u001b[0m\u001b[0;34m,\u001b[0m \u001b[0;34m\"\\n\\t\"\u001b[0m\u001b[0;34m.\u001b[0m\u001b[0mjoin\u001b[0m\u001b[0;34m(\u001b[0m\u001b[0merror_msgs\u001b[0m\u001b[0;34m)\u001b[0m\u001b[0;34m\u001b[0m\u001b[0;34m\u001b[0m\u001b[0m\n",
            "\u001b[0;31mRuntimeError\u001b[0m: Error(s) in loading state_dict for DenoisingAutoencoder:\n\tMissing key(s) in state_dict: \"enc1.resblock.conv1.weight\", \"enc1.resblock.conv1.bias\", \"enc1.resblock.bn1.weight\", \"enc1.resblock.bn1.bias\", \"enc1.resblock.bn1.running_mean\", \"enc1.resblock.bn1.running_var\", \"enc1.resblock.conv2.weight\", \"enc1.resblock.conv2.bias\", \"enc1.resblock.bn2.weight\", \"enc1.resblock.bn2.bias\", \"enc1.resblock.bn2.running_mean\", \"enc1.resblock.bn2.running_var\", \"enc1.resblock.downsample.0.weight\", \"enc1.resblock.downsample.0.bias\", \"enc1.resblock.downsample.1.weight\", \"enc1.resblock.downsample.1.bias\", \"enc1.resblock.downsample.1.running_mean\", \"enc1.resblock.downsample.1.running_var\", \"enc2.resblock.conv1.weight\", \"enc2.resblock.conv1.bias\", \"enc2.resblock.bn1.weight\", \"enc2.resblock.bn1.bias\", \"enc2.resblock.bn1.running_mean\", \"enc2.resblock.bn1.running_var\", \"enc2.resblock.conv2.weight\", \"enc2.resblock.conv2.bias\", \"enc2.resblock.bn2.weight\", \"enc2.resblock.bn2.bias\", \"enc2.resblock.bn2.running_mean\", \"enc2.resblock.bn2.running_var\", \"enc2.resblock.downsample.0.weight\", \"enc2.resblock.downsample.0.bias\", \"enc2.resblock.downsample.1.weight\", \"enc2.resblock.downsample.1.bias\", \"enc2.resblock.downsample.1.running_mean\", \"enc2.resblock.downsample.1.running_var\", \"enc3.resblock.conv1.weight\", \"enc3.resblock.conv1.bias\", \"enc3.resblock.bn1.weight\", \"enc3.resblock.bn1.bias\", \"enc3.resblock.bn1.running_mean\", \"enc3.resblock.bn1.running_var\", \"enc3.resblock.conv2.weight\", \"enc3.resblock.conv2.bias\", \"enc3.resblock.bn2.weight\", \"enc3.resblock.bn2.bias\", \"...\n\tUnexpected key(s) in state_dict: \"_orig_mod.enc1.resblock.conv1.weight\", \"_orig_mod.enc1.resblock.conv1.bias\", \"_orig_mod.enc1.resblock.bn1.weight\", \"_orig_mod.enc1.resblock.bn1.bias\", \"_orig_mod.enc1.resblock.bn1.running_mean\", \"_orig_mod.enc1.resblock.bn1.running_var\", \"_orig_mod.enc1.resblock.bn1.num_batches_tracked\", \"_orig_mod.enc1.resblock.conv2.weight\", \"_orig_mod.enc1.resblock.conv2.bias\", \"_orig_mod.enc1.resblock.bn2.weight\", \"_orig_mod.enc1.resblock.bn2.bias\", \"_orig_mod.enc1.resblock.bn2.running_mean\", \"_orig_mod.enc1.resblock.bn2.running_var\", \"_orig_mod.enc1.resblock.bn2.num_batches_tracked\", \"_orig_mod.enc1.resblock.downsample.0.weight\", \"_orig_mod.enc1.resblock.downsample.0.bias\", \"_orig_mod.enc1.resblock.downsample.1.weight\", \"_orig_mod.enc1.resblock.downsample.1.bias\", \"_orig_mod.enc1.resblock.downsample.1.running_mean\", \"_orig_mod.enc1.resblock.downsample.1.running_var\", \"_orig_mod.enc1.resblock.downsample.1.num_batches_tracked\", \"_orig_mod.enc2.resblock.conv1.weight\", \"_orig_mod.enc2.resblock.conv1.bias\", \"_orig_mod.enc2.resblock.bn1.weight\", \"_orig_mod.enc2.resblock.bn1.bias\", \"_orig_mod.enc2.resblock.bn1.running_mean\", \"_orig_mod.enc2.resblock.bn1.running_var\", \"_orig_mod.enc2.resblock.bn1.num_batches_tracked\", \"_orig_mod.enc2.resblock.conv2.weight\", \"_orig_mod.enc2.resblock.conv2.bias\", \"_orig_mod.enc2.resblock.bn2.weight\", \"_orig_mod.enc2.resblock.bn2.bias\", \"_orig_mod.enc2.resblock.bn2.running_mean\", \"_orig_mod.enc2.resblock.bn2.running_var\", \"_ori..."
          ]
        }
      ]
    },
    {
      "cell_type": "code",
      "execution_count": null,
      "metadata": {
        "colab": {
          "base_uri": "https://localhost:8080/"
        },
        "id": "RHAscWQSkqFy",
        "outputId": "296bf293-e48f-40cc-c96d-c0da27b45eca"
      },
      "outputs": [
        {
          "output_type": "stream",
          "name": "stdout",
          "text": [
            "모델 가중치 로드 완료\n",
            "새로운 평가 데이터셋을 사용하여 AUC 계산 중...\n",
            "새로운 평가 데이터셋을 사용하여 AUC 계산 중...\n",
            "평가 데이터 (/content/ICSV31AIChallengeDataset/eval)에서 AUC Score: 0.4974\n"
          ]
        }
      ],
      "source": [
        "import os\n",
        "import torch\n",
        "import torch.nn as nn\n",
        "from torch.utils.data import DataLoader, Dataset\n",
        "from sklearn.metrics import roc_auc_score, average_precision_score, precision_recall_fscore_support, confusion_matrix, roc_curve\n",
        "import torchaudio\n",
        "from scipy.optimize import brentq\n",
        "from scipy.interpolate import interp1d\n",
        "\n",
        "# 디바이스 설정\n",
        "device = torch.device(\"cuda\" if torch.cuda.is_available() else \"cpu\")\n",
        "\n",
        "# 평가 데이터 경로 설정\n",
        "eval_dir = \"/content/ICSV31AIChallengeDataset/eval\"\n",
        "\n",
        "# 모델 생성 및 가중치 불러오기\n",
        "dropout = 0.05  # args 없이 직접 설정\n",
        "model = DAEModel(dropout=dropout).to(device)\n",
        "\n",
        "checkpoint_path = \"/content/drive/MyDrive/model_dae_b0319.pth\"\n",
        "model.load_state_dict(torch.load(checkpoint_path, map_location=device), strict=False)\n",
        "model.eval()\n",
        "print(\"모델 가중치 로드 완료\")\n",
        "\n",
        "#######################\n",
        "# 데이터 로드 함수\n",
        "#######################\n",
        "def get_eval_loader(eval_dir: str) -> tuple:\n",
        "    \"\"\" 평가 데이터 로드 (오디오 파일만 포함) \"\"\"\n",
        "    file_list = sorted(os.listdir(eval_dir))\n",
        "    file_list = [os.path.join(eval_dir, f) for f in file_list if f.endswith(\".wav\")]\n",
        "\n",
        "    if not file_list:\n",
        "        raise ValueError(f\"{eval_dir}에 유효한 .wav 파일이 없습니다.\")\n",
        "\n",
        "    dataset = EvalDataset(file_list)\n",
        "    return DataLoader(dataset, batch_size=1, shuffle=False, num_workers=0), file_list\n",
        "\n",
        "#######################\n",
        "# Dataset 클래스 (STFT 변환 포함)\n",
        "#######################\n",
        "class EvalDataset(Dataset):\n",
        "    def __init__(self, file_list):\n",
        "        self.file_list = file_list\n",
        "\n",
        "    def __len__(self):\n",
        "        return len(self.file_list)\n",
        "\n",
        "    def __getitem__(self, idx):\n",
        "        wav_path = self.file_list[idx]\n",
        "        spec = self.wav_to_log_stft(wav_path, sr=16000, n_fft=2048, win_length=512, hop_length=256, power=2.0)\n",
        "\n",
        "        # 정답 라벨 추출 (파일명 기반)\n",
        "        anomaly_label = 1 if \"anomaly\" in wav_path else 0\n",
        "\n",
        "        return spec, anomaly_label\n",
        "\n",
        "    @staticmethod\n",
        "    def wav_to_log_stft(wav_path: str, sr: int, n_fft: int, win_length: int, hop_length: int, power: float) -> torch.Tensor:\n",
        "        \"\"\" 오디오 파일을 로그 STFT 변환 \"\"\"\n",
        "        stft_transform = torchaudio.transforms.Spectrogram(\n",
        "            n_fft=n_fft, win_length=win_length, hop_length=hop_length, power=power\n",
        "        )\n",
        "        wav_data, _ = torchaudio.load(wav_path)\n",
        "        spec = stft_transform(wav_data)\n",
        "        amp_to_db = torchaudio.transforms.AmplitudeToDB()\n",
        "        log_spec = amp_to_db(spec)\n",
        "        log_spec = (log_spec - log_spec.mean()) / (log_spec.std() + 1e-9)  # 정규화\n",
        "        return log_spec\n",
        "\n",
        "#######################\n",
        "# 평가 데이터 로드\n",
        "#######################\n",
        "eval_loader, file_list = get_eval_loader(eval_dir)\n",
        "\n",
        "# 손실 함수 설정\n",
        "criterion = nn.MSELoss()\n",
        "\n",
        "# AUC 계산을 위한 리스트 초기화\n",
        "y_true, y_pred = [], []\n",
        "\n",
        "print(\"새로운 평가 데이터셋을 사용하여 AUC 계산 중...\")\n",
        "with torch.no_grad():\n",
        "    for idx, data in enumerate(eval_loader):\n",
        "        spec = data[0].to(device)  # 입력 데이터 (로그 STFT)\n",
        "        anomaly_label = data[1]  # 정답 라벨 (정상=0, 이상=1)\n",
        "\n",
        "        decoded = model(spec)\n",
        "        loss = criterion(decoded, spec)  # MSE 기반 이상 탐지 점수\n",
        "\n",
        "        y_true.append(anomaly_label.item())  # 정상: 0, 이상: 1\n",
        "        y_pred.append(loss.item())\n",
        "\n",
        "#######################\n",
        "# 평가 지표 계산\n",
        "#######################\n",
        "eval_loader, file_list = get_eval_loader(eval_dir)\n",
        "\n",
        "# 손실 함수 설정\n",
        "criterion = nn.MSELoss()\n",
        "\n",
        "# AUC 계산을 위한 리스트 초기화\n",
        "y_true, y_pred = [], []\n",
        "\n",
        "print(\"새로운 평가 데이터셋을 사용하여 AUC 계산 중...\")\n",
        "with torch.no_grad():\n",
        "    for idx, data in enumerate(eval_loader):\n",
        "        spec = data[0].to(device)  # 입력 데이터 (로그 STFT)\n",
        "        anomaly_label = data[1]  # 정답 라벨 (정상=0, 이상=1)\n",
        "\n",
        "        decoded = model(spec)\n",
        "        loss = criterion(decoded, spec)  # MSE 기반 이상 탐지 점수\n",
        "\n",
        "        y_true.append(anomaly_label.item())  # 정상: 0, 이상: 1\n",
        "        y_pred.append(loss.item())\n",
        "\n",
        "# AUC 점수 계산\n",
        "auc_score = roc_auc_score(y_true, y_pred)\n",
        "print(f\"평가 데이터 ({eval_dir})에서 AUC Score: {auc_score:.4f}\")\n"
      ]
    }
  ],
  "metadata": {
    "colab": {
      "provenance": [],
      "machine_shape": "hm",
      "gpuType": "T4",
      "include_colab_link": true
    },
    "kernelspec": {
      "display_name": "Python 3",
      "name": "python3"
    },
    "language_info": {
      "name": "python"
    },
    "accelerator": "GPU"
  },
  "nbformat": 4,
  "nbformat_minor": 0
}